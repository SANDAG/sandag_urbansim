{
 "metadata": {
  "name": "",
  "signature": "sha256:c4c711b6a4bf394bab937900c5989389ca67ced3740966ca1d7ca654a8aa9a54"
 },
 "nbformat": 3,
 "nbformat_minor": 0,
 "worksheets": [
  {
   "cells": [
    {
     "cell_type": "code",
     "collapsed": false,
     "input": [
      "%load_ext autoreload\n",
      "%autoreload 2\n",
      "if 'sim' not in globals():\n",
      "    import os; os.chdir('..')\n",
      "import models\n",
      "import urbansim.sim.simulation as sim"
     ],
     "language": "python",
     "metadata": {},
     "outputs": [],
     "prompt_number": 1
    },
    {
     "cell_type": "code",
     "collapsed": false,
     "input": [
      "%%capture\n",
      "sim.run([\"build_networks\", \"neighborhood_vars\"])"
     ],
     "language": "python",
     "metadata": {},
     "outputs": [],
     "prompt_number": 2
    },
    {
     "cell_type": "heading",
     "level": 2,
     "metadata": {},
     "source": [
      "Residential Price Hedonice Estimation"
     ]
    },
    {
     "cell_type": "code",
     "collapsed": false,
     "input": [
      "sim.run([\"rsh_estimate\"])"
     ],
     "language": "python",
     "metadata": {},
     "outputs": [
      {
       "output_type": "stream",
       "stream": "stdout",
       "text": [
        "Running model 'rsh_estimate'\n",
        "REGRESSION RESULTS FOR SEGMENT 19\n"
       ]
      },
      {
       "output_type": "stream",
       "stream": "stdout",
       "text": [
        "\n",
        "                                 OLS Regression Results                                 \n",
        "========================================================================================\n",
        "Dep. Variable:     np.log1p(res_price_per_sqft)   R-squared:                       0.212\n",
        "Model:                                      OLS   Adj. R-squared:                  0.212\n",
        "Method:                           Least Squares   F-statistic:                     683.7\n",
        "Date:                          Thu, 02 Apr 2015   Prob (F-statistic):               0.00\n",
        "Time:                                  12:51:49   Log-Likelihood:                -52937.\n",
        "No. Observations:                         45749   AIC:                         1.059e+05\n",
        "Df Residuals:                             45730   BIC:                         1.061e+05\n",
        "Df Model:                                    18                                         \n",
        "Covariance Type:                      nonrobust                                         \n",
        "===========================================================================================================================\n",
        "                                                              coef    std err          t      P>|t|      [95.0% Conf. Int.]\n",
        "---------------------------------------------------------------------------------------------------------------------------\n",
        "Intercept                                                 -61.7756      1.822    -33.903      0.000       -65.347   -58.204\n",
        "I(year_built < 1940)[T.True]                                0.8480      0.041     20.549      0.000         0.767     0.929\n",
        "I(distance_to_coast < 10000)[T.True]                        0.3572      0.019     19.143      0.000         0.321     0.394\n",
        "I(distance_to_park < 400)[T.True]                           0.0032      0.016      0.197      0.844        -0.028     0.035\n",
        "I(distance_to_school < 800)[T.True]                         0.0867      0.013      6.684      0.000         0.061     0.112\n",
        "I(distance_to_freeway < 400)[T.True]                       -0.0097      0.026     -0.375      0.708        -0.060     0.041\n",
        "I(pecas_price > np.percentile(pecas_price, 85))[T.True]     0.0727      0.011      6.681      0.000         0.051     0.094\n",
        "year_built_1940to1950[T.True]                               0.6433      0.033     19.614      0.000         0.579     0.708\n",
        "year_built_1950to1960[T.True]                               0.5286      0.024     21.663      0.000         0.481     0.576\n",
        "year_built_1960to1970[T.True]                               0.2991      0.021     14.476      0.000         0.259     0.340\n",
        "year_built_1970to1980[T.True]                               0.2077      0.015     13.609      0.000         0.178     0.238\n",
        "I(ave_age_of_head_1500m < 35)[T.True]                     -61.7756      1.822    -33.903      0.000       -65.347   -58.204\n",
        "ave_income                                                  0.2597      0.011     24.587      0.000         0.239     0.280\n",
        "jobs_400m                                                  -0.1004      0.003    -37.522      0.000        -0.106    -0.095\n",
        "res_occupancy_3000m                                         2.7347      0.048     56.437      0.000         2.640     2.830\n",
        "np.log1p(distance_to_coast)                                -0.1055      0.007    -15.197      0.000        -0.119    -0.092\n",
        "residential_units_1500m                                  3.017e-05   2.46e-06     12.266      0.000      2.54e-05   3.5e-05\n",
        "ave_children_1500m                                         -0.5159      0.014    -36.149      0.000        -0.544    -0.488\n",
        "year_built                                                  0.0044      0.001      8.203      0.000         0.003     0.005\n",
        "ave_year_built_1500m                                       15.2969      0.496     30.851      0.000        14.325    16.269\n",
        "==============================================================================\n",
        "Omnibus:                    24734.160   Durbin-Watson:                   0.614\n",
        "Prob(Omnibus):                  0.000   Jarque-Bera (JB):           283638.300\n",
        "Skew:                          -2.372   Prob(JB):                         0.00\n",
        "Kurtosis:                      14.238   Cond. No.                     2.21e+19\n",
        "==============================================================================\n",
        "\n",
        "Warnings:\n",
        "[1] Standard Errors assume that the covariance matrix of the errors is correctly specified.\n",
        "[2] The smallest eigenvalue is 9.93e-28. This might indicate that there are\n",
        "strong multicollinearity problems or that the design matrix is singular."
       ]
      },
      {
       "output_type": "stream",
       "stream": "stdout",
       "text": [
        "\n",
        "REGRESSION RESULTS FOR SEGMENT 20\n",
        "\n",
        "                                 OLS Regression Results                                 \n",
        "========================================================================================\n",
        "Dep. Variable:     np.log1p(res_price_per_sqft)   R-squared:                       0.250\n",
        "Model:                                      OLS   Adj. R-squared:                  0.248\n",
        "Method:                           Least Squares   F-statistic:                     110.7\n",
        "Date:                          Thu, 02 Apr 2015   Prob (F-statistic):               0.00\n",
        "Time:                                  12:51:49   Log-Likelihood:                -11758.\n",
        "No. Observations:                          6980   AIC:                         2.356e+04\n",
        "Df Residuals:                              6958   BIC:                         2.371e+04\n",
        "Df Model:                                    21                                         \n",
        "Covariance Type:                      nonrobust                                         \n",
        "=========================================================================================================\n",
        "                                            coef    std err          t      P>|t|      [95.0% Conf. Int.]\n",
        "---------------------------------------------------------------------------------------------------------\n",
        "Intercept                              -116.7711     31.397     -3.719      0.000      -178.320   -55.223\n",
        "I(year_built < 1940)[T.True]              1.2469      0.307      4.057      0.000         0.644     1.849\n",
        "I(distance_to_coast < 10000)[T.True]      0.2366      0.063      3.767      0.000         0.113     0.360\n",
        "I(distance_to_park < 400)[T.True]         0.2550      0.064      3.986      0.000         0.130     0.380\n",
        "I(distance_to_school < 800)[T.True]       0.0507      0.051      0.992      0.321        -0.049     0.151\n",
        "year_built_1940to1950[T.True]             1.3131      0.239      5.488      0.000         0.844     1.782\n",
        "year_built_1950to1960[T.True]             1.1929      0.195      6.124      0.000         0.811     1.575\n",
        "year_built_1960to1970[T.True]             0.8851      0.164      5.383      0.000         0.563     1.207\n",
        "year_built_1970to1980[T.True]             0.5008      0.113      4.445      0.000         0.280     0.722\n",
        "year_built_1980to1990[T.True]             0.2459      0.078      3.164      0.002         0.094     0.398\n",
        "I(ave_age_of_head_1500m < 35)[T.True]  -116.7711     31.397     -3.719      0.000      -178.320   -55.223\n",
        "I(distance_to_freeway < 800)[T.True]     -0.2730      0.066     -4.150      0.000        -0.402    -0.144\n",
        "ave_income                                0.1287      0.079      1.634      0.102        -0.026     0.283\n",
        "jobs_400m                                -0.1089      0.010    -11.379      0.000        -0.128    -0.090\n",
        "res_occupancy_3000m                       2.6608      0.248     10.746      0.000         2.175     3.146\n",
        "np.log1p(distance_to_coast)              -0.3511      0.025    -14.022      0.000        -0.400    -0.302\n",
        "residential_units_1500m                9.322e-05   7.72e-06     12.069      0.000      7.81e-05     0.000\n",
        "ave_children_1500m                       -0.1114      0.070     -1.594      0.111        -0.248     0.026\n",
        "pecas_price                               0.0174      0.004      4.844      0.000         0.010     0.024\n",
        "np.log1p(year_built)                     18.6363      7.956      2.343      0.019         3.041    34.232\n",
        "ave_year_built_1500m                     12.9703      1.249     10.385      0.000        10.522    15.419\n",
        "np.log1p(distance_to_onramp)             -0.0916      0.022     -4.200      0.000        -0.134    -0.049\n",
        "np.log1p(distance_to_transit)            -0.2429      0.029     -8.423      0.000        -0.299    -0.186\n",
        "==============================================================================\n",
        "Omnibus:                      458.478   Durbin-Watson:                   0.719\n",
        "Prob(Omnibus):                  0.000   Jarque-Bera (JB):              554.430\n",
        "Skew:                          -0.690   Prob(JB):                    4.05e-121\n",
        "Kurtosis:                       2.969   Cond. No.                     3.28e+19\n",
        "==============================================================================\n",
        "\n",
        "Warnings:\n",
        "[1] Standard Errors assume that the covariance matrix of the errors is correctly specified.\n",
        "[2] The smallest eigenvalue is 1.17e-28. This might indicate that there are\n",
        "strong multicollinearity problems or that the design matrix is singular."
       ]
      },
      {
       "output_type": "stream",
       "stream": "stdout",
       "text": [
        "\n",
        "REGRESSION RESULTS FOR SEGMENT 21\n",
        "\n",
        "                                 OLS Regression Results                                 \n",
        "========================================================================================\n",
        "Dep. Variable:     np.log1p(res_price_per_sqft)   R-squared:                       0.264\n",
        "Model:                                      OLS   Adj. R-squared:                  0.262\n",
        "Method:                           Least Squares   F-statistic:                     153.6\n",
        "Date:                          Thu, 02 Apr 2015   Prob (F-statistic):               0.00\n",
        "Time:                                  12:51:49   Log-Likelihood:                -11435.\n",
        "No. Observations:                          6443   AIC:                         2.290e+04\n",
        "Df Residuals:                              6427   BIC:                         2.301e+04\n",
        "Df Model:                                    15                                         \n",
        "Covariance Type:                      nonrobust                                         \n",
        "===========================================================================================================================\n",
        "                                                              coef    std err          t      P>|t|      [95.0% Conf. Int.]\n",
        "---------------------------------------------------------------------------------------------------------------------------\n",
        "Intercept                                                -187.1257     13.922    -13.441      0.000      -214.418  -159.834\n",
        "I(year_built < 1940)[T.True]                                3.1584      0.194     16.277      0.000         2.778     3.539\n",
        "I(distance_to_school < 800)[T.True]                        -0.4358      0.078     -5.565      0.000        -0.589    -0.282\n",
        "I(pecas_price < np.percentile(pecas_price, 15))[T.True]    -0.1975      0.058     -3.410      0.001        -0.311    -0.084\n",
        "year_built_1940to1950[T.True]                               3.2728      0.216     15.160      0.000         2.850     3.696\n",
        "year_built_1950to1960[T.True]                               2.1029      0.131     16.104      0.000         1.847     2.359\n",
        "year_built_1960to1970[T.True]                               1.7048      0.087     19.632      0.000         1.535     1.875\n",
        "I(ave_age_of_head_1500m < 35)[T.True]                    -187.1257     13.922    -13.441      0.000      -214.418  -159.834\n",
        "ave_income                                                  0.4558      0.084      5.455      0.000         0.292     0.620\n",
        "jobs_3000m                                              -2.763e-05   2.32e-06    -11.929      0.000     -3.22e-05 -2.31e-05\n",
        "res_occupancy_3000m                                         1.1977      0.170      7.062      0.000         0.865     1.530\n",
        "residential_units_1500m                                  7.619e-05   6.45e-06     11.807      0.000      6.35e-05  8.88e-05\n",
        "np.log1p(year_built)                                       49.9830      3.673     13.609      0.000        42.783    57.183\n",
        "np.log1p(distance_to_onramp)                               -0.0961      0.019     -4.997      0.000        -0.134    -0.058\n",
        "np.log1p(distance_to_transit)                              -0.2999      0.028    -10.650      0.000        -0.355    -0.245\n",
        "np.log1p(distance_to_school)                               -0.3181      0.047     -6.744      0.000        -0.411    -0.226\n",
        "np.log1p(distance_to_coast)                                -0.3045      0.014    -21.464      0.000        -0.332    -0.277\n",
        "==============================================================================\n",
        "Omnibus:                      362.839   Durbin-Watson:                   0.855\n",
        "Prob(Omnibus):                  0.000   Jarque-Bera (JB):              445.842\n",
        "Skew:                           0.567   Prob(JB):                     1.54e-97\n",
        "Kurtosis:                       3.611   Cond. No.                     4.37e+20\n",
        "==============================================================================\n",
        "\n",
        "Warnings:\n",
        "[1] Standard Errors assume that the covariance matrix of the errors is correctly specified.\n",
        "[2] The smallest eigenvalue is 6.94e-30. This might indicate that there are\n",
        "strong multicollinearity problems or that the design matrix is singular.\n",
        "Time to execute model 'rsh_estimate': 4.55s"
       ]
      },
      {
       "output_type": "stream",
       "stream": "stdout",
       "text": [
        "\n",
        "Total time to execute: 4.55s\n"
       ]
      }
     ],
     "prompt_number": 48
    },
    {
     "cell_type": "code",
     "collapsed": false,
     "input": [
      "sim.run([\"rsh_simulate\"])"
     ],
     "language": "python",
     "metadata": {},
     "outputs": [
      {
       "output_type": "stream",
       "stream": "stdout",
       "text": [
        "Running model 'rsh_simulate'\n",
        ".\\configs\\rsh.yaml\n",
        "count    632386.000000\n",
        "mean        191.323310\n",
        "std          91.979666\n",
        "min           1.114383\n",
        "25%         138.965181\n",
        "50%         184.604899\n",
        "75%         232.274867\n",
        "max        1094.662189\n",
        "dtype: float64"
       ]
      },
      {
       "output_type": "stream",
       "stream": "stdout",
       "text": [
        "\n",
        "Time to execute model 'rsh_simulate': 8.67s"
       ]
      },
      {
       "output_type": "stream",
       "stream": "stdout",
       "text": [
        "\n",
        "Total time to execute: 8.67s\n"
       ]
      }
     ],
     "prompt_number": 3
    },
    {
     "cell_type": "heading",
     "level": 2,
     "metadata": {},
     "source": [
      "Non-residential Rent Hedonic Estimation"
     ]
    },
    {
     "cell_type": "code",
     "collapsed": false,
     "input": [
      "sim.run([\"nrh_estimate\"])"
     ],
     "language": "python",
     "metadata": {},
     "outputs": [
      {
       "output_type": "stream",
       "stream": "stdout",
       "text": [
        "Running model 'nrh_estimate'\n",
        "REGRESSION RESULTS FOR SEGMENT 2\n"
       ]
      },
      {
       "output_type": "stream",
       "stream": "stdout",
       "text": [
        "\n",
        "                                  OLS Regression Results                                  \n",
        "==========================================================================================\n",
        "Dep. Variable:     np.log1p(nonres_rent_per_sqft)   R-squared:                       0.250\n",
        "Model:                                        OLS   Adj. R-squared:                  0.246\n",
        "Method:                             Least Squares   F-statistic:                     66.99\n",
        "Date:                            Tue, 31 Mar 2015   Prob (F-statistic):          1.47e-106\n",
        "Time:                                    15:48:48   Log-Likelihood:                -204.95\n",
        "No. Observations:                            1822   AIC:                             429.9\n",
        "Df Residuals:                                1812   BIC:                             485.0\n",
        "Df Model:                                       9                                         \n",
        "Covariance Type:                        nonrobust                                         \n",
        "================================================================================================\n",
        "                                   coef    std err          t      P>|t|      [95.0% Conf. Int.]\n",
        "------------------------------------------------------------------------------------------------\n",
        "Intercept                       -2.2727      1.384     -1.642      0.101        -4.987     0.442\n",
        "I(year_built < 1940)[T.True]     0.7246      0.276      2.629      0.009         0.184     1.265\n",
        "I(year_built > 2005)[T.True]     0.0991      0.031      3.220      0.001         0.039     0.159\n",
        "np.log1p(stories)                0.4069      0.040     10.124      0.000         0.328     0.486\n",
        "jobs_400m                        0.0109      0.007      1.590      0.112        -0.003     0.024\n",
        "year_built                       0.0022      0.001      3.158      0.002         0.001     0.004\n",
        "distance_to_coast            -5.002e-06   4.25e-07    -11.760      0.000     -5.84e-06 -4.17e-06\n",
        "distance_to_freeway          -5.863e-06   1.87e-06     -3.143      0.002     -9.52e-06  -2.2e-06\n",
        "pecas_price                      0.0069      0.002      4.185      0.000         0.004     0.010\n",
        "nonres_occupancy_3000m           0.7436      0.065     11.386      0.000         0.616     0.872\n",
        "==============================================================================\n",
        "Omnibus:                      433.068   Durbin-Watson:                   1.182\n",
        "Prob(Omnibus):                  0.000   Jarque-Bera (JB):             2171.287\n",
        "Skew:                           1.030   Prob(JB):                         0.00\n",
        "Kurtosis:                       7.935   Cond. No.                     7.27e+06\n",
        "==============================================================================\n",
        "\n",
        "Warnings:\n",
        "[1] Standard Errors assume that the covariance matrix of the errors is correctly specified.\n",
        "[2] The condition number is large, 7.27e+06. This might indicate that there are\n",
        "strong multicollinearity or other numerical problems.\n",
        "REGRESSION RESULTS FOR SEGMENT 4\n",
        "\n",
        "                                  OLS Regression Results                                  \n",
        "==========================================================================================\n",
        "Dep. Variable:     np.log1p(nonres_rent_per_sqft)   R-squared:                       0.227\n",
        "Model:                                        OLS   Adj. R-squared:                  0.220\n",
        "Method:                             Least Squares   F-statistic:                     33.48\n",
        "Date:                            Tue, 31 Mar 2015   Prob (F-statistic):           6.44e-52\n",
        "Time:                                    15:48:48   Log-Likelihood:                -243.08\n",
        "No. Observations:                            1038   AIC:                             506.2\n",
        "Df Residuals:                                1028   BIC:                             555.6\n",
        "Df Model:                                       9                                         \n",
        "Covariance Type:                        nonrobust                                         \n",
        "================================================================================================\n",
        "                                   coef    std err          t      P>|t|      [95.0% Conf. Int.]\n",
        "------------------------------------------------------------------------------------------------\n",
        "Intercept                      -13.0020      1.775     -7.325      0.000       -16.485    -9.519\n",
        "I(year_built < 1940)[T.True]     0.2074      0.136      1.523      0.128        -0.060     0.475\n",
        "I(year_built > 2005)[T.True]     0.1357      0.049      2.764      0.006         0.039     0.232\n",
        "np.log1p(stories)                0.0990      0.023      4.374      0.000         0.055     0.143\n",
        "ave_income                       0.0075      0.003      2.231      0.026         0.001     0.014\n",
        "jobs_400m                        0.0113      0.008      1.427      0.154        -0.004     0.027\n",
        "year_built                       0.0080      0.001      8.968      0.000         0.006     0.010\n",
        "distance_to_coast            -6.094e-06   5.83e-07    -10.453      0.000     -7.24e-06 -4.95e-06\n",
        "pecas_price                      0.0074      0.004      1.840      0.066        -0.000     0.015\n",
        "nonres_occupancy_3000m           0.1360      0.091      1.502      0.133        -0.042     0.314\n",
        "==============================================================================\n",
        "Omnibus:                       41.950   Durbin-Watson:                   1.390\n",
        "Prob(Omnibus):                  0.000   Jarque-Bera (JB):               84.851\n",
        "Skew:                          -0.255   Prob(JB):                     3.76e-19\n",
        "Kurtosis:                       4.305   Cond. No.                     5.19e+06\n",
        "==============================================================================\n",
        "\n",
        "Warnings:\n",
        "[1] Standard Errors assume that the covariance matrix of the errors is correctly specified.\n",
        "[2] The condition number is large, 5.19e+06. This might indicate that there are\n",
        "strong multicollinearity or other numerical problems.\n",
        "REGRESSION RESULTS FOR SEGMENT 5\n",
        "\n",
        "                                  OLS Regression Results                                  \n",
        "==========================================================================================\n",
        "Dep. Variable:     np.log1p(nonres_rent_per_sqft)   R-squared:                       0.169\n",
        "Model:                                        OLS   Adj. R-squared:                  0.164\n",
        "Method:                             Least Squares   F-statistic:                     34.32\n",
        "Date:                            Tue, 31 Mar 2015   Prob (F-statistic):           1.37e-49\n",
        "Time:                                    15:48:48   Log-Likelihood:                -537.57\n",
        "No. Observations:                            1359   AIC:                             1093.\n",
        "Df Residuals:                                1350   BIC:                             1140.\n",
        "Df Model:                                       8                                         \n",
        "Covariance Type:                        nonrobust                                         \n",
        "================================================================================================\n",
        "                                   coef    std err          t      P>|t|      [95.0% Conf. Int.]\n",
        "------------------------------------------------------------------------------------------------\n",
        "Intercept                       -4.0735      1.484     -2.744      0.006        -6.985    -1.162\n",
        "I(year_built < 1940)[T.True]     0.1105      0.071      1.553      0.121        -0.029     0.250\n",
        "I(year_built > 2005)[T.True]     0.2149      0.064      3.352      0.001         0.089     0.341\n",
        "ave_income                       0.0488      0.006      7.732      0.000         0.036     0.061\n",
        "jobs_1500m                       0.0381      0.010      3.789      0.000         0.018     0.058\n",
        "year_built                       0.0032      0.001      4.225      0.000         0.002     0.005\n",
        "distance_to_coast            -4.983e-06   5.63e-07     -8.845      0.000     -6.09e-06 -3.88e-06\n",
        "pecas_price                      0.0056      0.001      4.068      0.000         0.003     0.008\n",
        "nonres_occupancy_3000m           0.4030      0.093      4.333      0.000         0.221     0.585\n",
        "==============================================================================\n",
        "Omnibus:                        9.013   Durbin-Watson:                   1.178\n",
        "Prob(Omnibus):                  0.011   Jarque-Bera (JB):                9.689\n",
        "Skew:                          -0.146   Prob(JB):                      0.00787\n",
        "Kurtosis:                       3.293   Cond. No.                     4.92e+06\n",
        "==============================================================================\n",
        "\n",
        "Warnings:\n",
        "[1] Standard Errors assume that the covariance matrix of the errors is correctly specified.\n",
        "[2] The condition number is large, 4.92e+06. This might indicate that there are\n",
        "strong multicollinearity or other numerical problems.\n",
        "Time to execute model 'nrh_estimate': 2.24s"
       ]
      },
      {
       "output_type": "stream",
       "stream": "stdout",
       "text": [
        "\n",
        "Total time to execute: 2.25s\n"
       ]
      }
     ],
     "prompt_number": 3
    },
    {
     "cell_type": "code",
     "collapsed": false,
     "input": [
      "sim.run([\"nrh_simulate\"])"
     ],
     "language": "python",
     "metadata": {},
     "outputs": [
      {
       "output_type": "stream",
       "stream": "stdout",
       "text": [
        "Running model 'nrh_simulate'\n",
        "count    27077.000000\n",
        "mean        17.663977\n",
        "std          5.063488\n",
        "min          0.336794\n",
        "25%         12.965722\n",
        "50%         18.223133\n",
        "75%         21.314975\n",
        "max         60.229358\n",
        "dtype: float64"
       ]
      },
      {
       "output_type": "stream",
       "stream": "stdout",
       "text": [
        "\n",
        "Time to execute model 'nrh_simulate': 5.15s\n",
        "Total time to execute: 5.15s\n"
       ]
      }
     ],
     "prompt_number": 9
    },
    {
     "cell_type": "code",
     "collapsed": false,
     "input": [
      "sim.run([\"nrh_estimate2\"])"
     ],
     "language": "python",
     "metadata": {},
     "outputs": [
      {
       "output_type": "stream",
       "stream": "stdout",
       "text": [
        "Running model 'nrh_estimate2'\n",
        "                                  OLS Regression Results                                  \n",
        "==========================================================================================\n",
        "Dep. Variable:     np.log1p(nonres_rent_per_sqft)   R-squared:                       0.259\n",
        "Model:                                        OLS   Adj. R-squared:                  0.257\n",
        "Method:                             Least Squares   F-statistic:                     146.8\n",
        "Date:                            Wed, 01 Apr 2015   Prob (F-statistic):          1.43e-264\n",
        "Time:                                    19:47:05   Log-Likelihood:                -1898.2\n",
        "No. Observations:                            4219   AIC:                             3818.\n",
        "Df Residuals:                                4208   BIC:                             3888.\n",
        "Df Model:                                      10                                         \n",
        "Covariance Type:                        nonrobust                                         \n",
        "================================================================================================\n",
        "                                   coef    std err          t      P>|t|      [95.0% Conf. Int.]\n",
        "------------------------------------------------------------------------------------------------\n",
        "Intercept                       -1.2957      1.039     -1.247      0.212        -3.333     0.742\n",
        "I(year_built < 1940)[T.True]     0.1340      0.063      2.116      0.034         0.010     0.258\n",
        "I(year_built > 2005)[T.True]     0.0853      0.030      2.858      0.004         0.027     0.144\n",
        "np.log1p(stories)                0.3180      0.020     15.850      0.000         0.279     0.357\n",
        "ave_income                       0.0177      0.002     10.290      0.000         0.014     0.021\n",
        "jobs_400m                        0.0073      0.005      1.331      0.183        -0.003     0.018\n",
        "year_built                       0.0018      0.001      3.484      0.000         0.001     0.003\n",
        "distance_to_coast            -6.281e-06   3.58e-07    -17.535      0.000     -6.98e-06 -5.58e-06\n",
        "distance_to_freeway          -7.707e-06   1.69e-06     -4.568      0.000      -1.1e-05  -4.4e-06\n",
        "pecas_price                      0.0194      0.001     18.269      0.000         0.017     0.021\n",
        "nonres_occupancy_3000m           0.4786      0.056      8.484      0.000         0.368     0.589\n",
        "==============================================================================\n",
        "Omnibus:                       48.068   Durbin-Watson:                   0.992\n",
        "Prob(Omnibus):                  0.000   Jarque-Bera (JB):               53.536\n",
        "Skew:                           0.217   Prob(JB):                     2.37e-12\n",
        "Kurtosis:                       3.340   Cond. No.                     5.67e+06\n",
        "==============================================================================\n",
        "\n",
        "Warnings:\n",
        "[1] Standard Errors assume that the covariance matrix of the errors is correctly specified.\n",
        "[2] The condition number is large, 5.67e+06. This might indicate that there are\n",
        "strong multicollinearity or other numerical problems."
       ]
      },
      {
       "output_type": "stream",
       "stream": "stdout",
       "text": [
        "\n",
        "Time to execute model 'nrh_estimate2': 1.92s\n",
        "Total time to execute: 1.92s\n"
       ]
      }
     ],
     "prompt_number": 10
    },
    {
     "cell_type": "code",
     "collapsed": false,
     "input": [
      "sim.run([\"nrh_simulate2\"])"
     ],
     "language": "python",
     "metadata": {},
     "outputs": [
      {
       "output_type": "stream",
       "stream": "stdout",
       "text": [
        "Running model 'nrh_simulate2'\n",
        "count    75064.000000\n",
        "mean        18.284670\n",
        "std          5.677731\n",
        "min          0.329341\n",
        "25%         15.164339\n",
        "50%         18.447622\n",
        "75%         20.996442\n",
        "max        161.275875\n",
        "dtype: float64"
       ]
      },
      {
       "output_type": "stream",
       "stream": "stdout",
       "text": [
        "\n",
        "Time to execute model 'nrh_simulate2': 3.63s\n",
        "Total time to execute: 3.63s\n"
       ]
      }
     ],
     "prompt_number": 12
    },
    {
     "cell_type": "heading",
     "level": 2,
     "metadata": {},
     "source": [
      "ELCM Estimation"
     ]
    },
    {
     "cell_type": "code",
     "collapsed": false,
     "input": [
      "sim.run([\"elcm_estimate\"])"
     ],
     "language": "python",
     "metadata": {},
     "outputs": [
      {
       "output_type": "stream",
       "stream": "stdout",
       "text": [
        "Running model 'elcm_estimate'\n",
        "LCM RESULTS FOR SEGMENT 1\n"
       ]
      },
      {
       "output_type": "stream",
       "stream": "stdout",
       "text": [
        "\n",
        "Null Log-liklihood: -4605.170\n",
        "Log-liklihood at convergence: -1169.432\n",
        "Log-liklihood Ratio: 0.746\n",
        "\n",
        "+-----------------+-------------+------------+---------+\n",
        "| Component       | Coefficient | Std. Error | T-Score |\n",
        "+-----------------+-------------+------------+---------+\n",
        "| jobs_800m       |    0.122    |   0.025    |  4.928  |\n",
        "| ave_parcel_size |    1.323    |   0.038    |  34.686 |\n",
        "| is_office       |    1.935    |   0.275    |  7.047  |\n",
        "| is_retail       |    1.093    |   0.166    |  6.568  |\n",
        "| jobs1           |    1.794    |   0.036    |  49.652 |\n",
        "+-----------------+-------------+------------+---------+\n",
        "LCM RESULTS FOR SEGMENT 2\n",
        "\n",
        "Null Log-liklihood: -1257.211\n",
        "Log-liklihood at convergence: -73.472\n",
        "Log-liklihood Ratio: 0.942\n",
        "\n",
        "+-----------------+-------------+------------+---------+\n",
        "| Component       | Coefficient | Std. Error | T-Score |\n",
        "+-----------------+-------------+------------+---------+\n",
        "| jobs_800m       |    0.651    |   0.064    |  10.110 |\n",
        "| ave_parcel_size |    1.007    |   0.129    |  7.794  |\n",
        "| is_office       |    1.860    |   0.538    |  3.455  |\n",
        "| is_retail       |    1.797    |   0.474    |  3.789  |\n",
        "| jobs2           |    3.000    |   0.155    |  19.294 |\n",
        "+-----------------+-------------+------------+---------+\n",
        "LCM RESULTS FOR SEGMENT 3\n",
        "\n",
        "Null Log-liklihood: -4605.170\n",
        "Log-liklihood at convergence: -469.918\n",
        "Log-liklihood Ratio: 0.898\n",
        "\n",
        "+-----------------+-------------+------------+---------+\n",
        "| Component       | Coefficient | Std. Error | T-Score |\n",
        "+-----------------+-------------+------------+---------+\n",
        "| jobs_800m       |    0.140    |   0.033    |  4.206  |\n",
        "| ave_parcel_size |    1.203    |   0.068    |  17.608 |\n",
        "| is_office       |    1.224    |   0.260    |  4.700  |\n",
        "| is_retail       |    0.675    |   0.194    |  3.482  |\n",
        "| jobs3           |    1.625    |   0.049    |  33.303 |\n",
        "+-----------------+-------------+------------+---------+\n",
        "LCM RESULTS FOR SEGMENT 4\n",
        "\n",
        "Null Log-liklihood: -4605.170\n",
        "Log-liklihood at convergence: -1885.234\n",
        "Log-liklihood Ratio: 0.591\n",
        "\n",
        "+-----------------+-------------+------------+---------+\n",
        "| Component       | Coefficient | Std. Error | T-Score |\n",
        "+-----------------+-------------+------------+---------+\n",
        "| jobs_800m       |    0.210    |   0.029    |  7.229  |\n",
        "| ave_parcel_size |    1.251    |   0.041    |  30.857 |\n",
        "| is_office       |    0.578    |   0.153    |  3.769  |\n",
        "| is_retail       |    0.752    |   0.094    |  7.993  |\n",
        "| jobs4           |    1.223    |   0.037    |  33.492 |\n",
        "+-----------------+-------------+------------+---------+\n",
        "LCM RESULTS FOR SEGMENT 5\n",
        "\n",
        "Null Log-liklihood: -4605.170\n",
        "Log-liklihood at convergence: -1181.430\n",
        "Log-liklihood Ratio: 0.743\n",
        "\n",
        "+-----------------+-------------+------------+---------+\n",
        "| Component       | Coefficient | Std. Error | T-Score |\n",
        "+-----------------+-------------+------------+---------+\n",
        "| jobs_800m       |    0.253    |   0.039    |  6.470  |\n",
        "| ave_parcel_size |    1.017    |   0.068    |  14.985 |\n",
        "| is_office       |    0.584    |   0.165    |  3.537  |\n",
        "| is_retail       |    0.385    |   0.152    |  2.534  |\n",
        "| jobs5           |    1.166    |   0.043    |  26.984 |\n",
        "+-----------------+-------------+------------+---------+\n",
        "LCM RESULTS FOR SEGMENT 6\n",
        "\n",
        "Null Log-liklihood: -4605.170\n",
        "Log-liklihood at convergence: -1663.056\n",
        "Log-liklihood Ratio: 0.639\n",
        "\n",
        "+-----------------+-------------+------------+---------+\n",
        "| Component       | Coefficient | Std. Error | T-Score |\n",
        "+-----------------+-------------+------------+---------+\n",
        "| jobs_800m       |    0.170    |   0.031    |  5.478  |\n",
        "| ave_parcel_size |    1.087    |   0.054    |  20.253 |\n",
        "| is_office       |    0.671    |   0.138    |  4.843  |\n",
        "| is_retail       |    0.777    |   0.103    |  7.519  |\n",
        "| jobs6           |    1.230    |   0.041    |  30.090 |\n",
        "+-----------------+-------------+------------+---------+\n",
        "LCM RESULTS FOR SEGMENT 7\n",
        "\n",
        "Null Log-liklihood: -4605.170\n",
        "Log-liklihood at convergence: -1968.415\n",
        "Log-liklihood Ratio: 0.573\n",
        "\n",
        "+-----------------+-------------+------------+---------+\n",
        "| Component       | Coefficient | Std. Error | T-Score |\n",
        "+-----------------+-------------+------------+---------+\n",
        "| jobs_800m       |    0.256    |   0.039    |  6.638  |\n",
        "| ave_parcel_size |    1.315    |   0.053    |  24.936 |\n",
        "| is_office       |    1.180    |   0.167    |  7.073  |\n",
        "| is_retail       |    2.447    |   0.081    |  30.204 |\n",
        "| jobs7           |    0.824    |   0.046    |  17.790 |\n",
        "+-----------------+-------------+------------+---------+\n",
        "LCM RESULTS FOR SEGMENT 8\n",
        "\n",
        "Null Log-liklihood: -4605.170\n",
        "Log-liklihood at convergence: -1498.531\n",
        "Log-liklihood Ratio: 0.675\n",
        "\n",
        "+-----------------+-------------+------------+---------+\n",
        "| Component       | Coefficient | Std. Error | T-Score |\n",
        "+-----------------+-------------+------------+---------+\n",
        "| jobs_800m       |    0.175    |   0.026    |  6.728  |\n",
        "| ave_parcel_size |    1.222    |   0.034    |  35.611 |\n",
        "| is_office       |    0.294    |   0.188    |  1.568  |\n",
        "| is_retail       |    0.477    |   0.104    |  4.590  |\n",
        "| jobs8           |    1.302    |   0.038    |  34.305 |\n",
        "+-----------------+-------------+------------+---------+\n",
        "LCM RESULTS FOR SEGMENT 9\n",
        "\n",
        "Null Log-liklihood: -4605.170\n",
        "Log-liklihood at convergence: -1172.199\n",
        "Log-liklihood Ratio: 0.745\n",
        "\n",
        "+-----------------+-------------+------------+---------+\n",
        "| Component       | Coefficient | Std. Error | T-Score |\n",
        "+-----------------+-------------+------------+---------+\n",
        "| jobs_800m       |    0.305    |   0.029    |  10.436 |\n",
        "| ave_parcel_size |    1.145    |   0.042    |  27.234 |\n",
        "| is_office       |    1.484    |   0.127    |  11.724 |\n",
        "| is_retail       |    0.988    |   0.115    |  8.605  |\n",
        "| jobs9           |    1.097    |   0.040    |  27.187 |\n",
        "+-----------------+-------------+------------+---------+\n",
        "LCM RESULTS FOR SEGMENT 10\n",
        "\n",
        "Null Log-liklihood: -4605.170\n",
        "Log-liklihood at convergence: -1546.935\n",
        "Log-liklihood Ratio: 0.664\n",
        "\n",
        "+-----------------+-------------+------------+---------+\n",
        "| Component       | Coefficient | Std. Error | T-Score |\n",
        "+-----------------+-------------+------------+---------+\n",
        "| jobs_800m       |    0.234    |   0.030    |  7.700  |\n",
        "| ave_parcel_size |    1.130    |   0.042    |  27.199 |\n",
        "| is_office       |    1.988    |   0.112    |  17.710 |\n",
        "| is_retail       |    1.719    |   0.093    |  18.553 |\n",
        "| jobs10          |    0.978    |   0.043    |  22.530 |\n",
        "+-----------------+-------------+------------+---------+\n",
        "LCM RESULTS FOR SEGMENT 11\n",
        "\n",
        "Null Log-liklihood: -4605.170\n",
        "Log-liklihood at convergence: -2051.165\n",
        "Log-liklihood Ratio: 0.555\n",
        "\n",
        "+-----------------+-------------+------------+---------+\n",
        "| Component       | Coefficient | Std. Error | T-Score |\n",
        "+-----------------+-------------+------------+---------+\n",
        "| jobs_800m       |    0.176    |   0.029    |  6.022  |\n",
        "| ave_parcel_size |    1.235    |   0.044    |  28.242 |\n",
        "| is_office       |    1.629    |   0.110    |  14.764 |\n",
        "| is_retail       |    1.324    |   0.085    |  15.494 |\n",
        "| jobs11          |    1.143    |   0.045    |  25.479 |\n",
        "+-----------------+-------------+------------+---------+\n",
        "LCM RESULTS FOR SEGMENT 12\n",
        "\n",
        "Null Log-liklihood: -4605.170\n",
        "Log-liklihood at convergence: -1449.620\n",
        "Log-liklihood Ratio: 0.685\n",
        "\n",
        "+-----------------+-------------+------------+---------+\n",
        "| Component       | Coefficient | Std. Error | T-Score |\n",
        "+-----------------+-------------+------------+---------+\n",
        "| jobs_800m       |    0.243    |   0.038    |  6.465  |\n",
        "| ave_parcel_size |    1.396    |   0.049    |  28.305 |\n",
        "| is_office       |    1.545    |   0.112    |  13.758 |\n",
        "| is_retail       |    0.811    |   0.115    |  7.030  |\n",
        "| jobs12          |    0.919    |   0.044    |  20.914 |\n",
        "+-----------------+-------------+------------+---------+\n",
        "LCM RESULTS FOR SEGMENT 13\n",
        "\n",
        "Null Log-liklihood: -4605.170\n",
        "Log-liklihood at convergence: -800.641\n",
        "Log-liklihood Ratio: 0.826\n",
        "\n",
        "+-----------------+-------------+------------+---------+\n",
        "| Component       | Coefficient | Std. Error | T-Score |\n",
        "+-----------------+-------------+------------+---------+\n",
        "| jobs_800m       |    0.171    |   0.030    |  5.641  |\n",
        "| ave_parcel_size |    0.934    |   0.050    |  18.655 |\n",
        "| is_office       |    1.343    |   0.159    |  8.435  |\n",
        "| is_retail       |    0.553    |   0.158    |  3.507  |\n",
        "| jobs13          |    1.255    |   0.045    |  28.121 |\n",
        "+-----------------+-------------+------------+---------+\n",
        "LCM RESULTS FOR SEGMENT 14\n",
        "\n",
        "Null Log-liklihood: -4605.170\n",
        "Log-liklihood at convergence: -1872.138\n",
        "Log-liklihood Ratio: 0.593\n",
        "\n",
        "+-----------------+-------------+------------+---------+\n",
        "| Component       | Coefficient | Std. Error | T-Score |\n",
        "+-----------------+-------------+------------+---------+\n",
        "| jobs_800m       |    0.276    |   0.030    |  9.108  |\n",
        "| ave_parcel_size |    1.235    |   0.045    |  27.169 |\n",
        "| is_office       |    1.302    |   0.112    |  11.662 |\n",
        "| is_retail       |    0.798    |   0.095    |  8.391  |\n",
        "| jobs14          |    0.943    |   0.039    |  24.063 |\n",
        "+-----------------+-------------+------------+---------+\n",
        "LCM RESULTS FOR SEGMENT 15\n",
        "\n",
        "Null Log-liklihood: -4605.170\n",
        "Log-liklihood at convergence: -2056.604\n",
        "Log-liklihood Ratio: 0.553\n",
        "\n",
        "+-----------------+-------------+------------+---------+\n",
        "| Component       | Coefficient | Std. Error | T-Score |\n",
        "+-----------------+-------------+------------+---------+\n",
        "| jobs_800m       |    0.310    |   0.033    |  9.489  |\n",
        "| ave_parcel_size |    1.214    |   0.041    |  29.795 |\n",
        "| is_office       |    0.620    |   0.153    |  4.046  |\n",
        "| is_retail       |    0.240    |   0.128    |  1.873  |\n",
        "| jobs15          |    1.116    |   0.036    |  31.067 |\n",
        "+-----------------+-------------+------------+---------+\n",
        "LCM RESULTS FOR SEGMENT 16\n",
        "\n",
        "Null Log-liklihood: -4605.170\n",
        "Log-liklihood at convergence: -2103.199\n",
        "Log-liklihood Ratio: 0.543\n",
        "\n",
        "+-----------------+-------------+------------+---------+\n",
        "| Component       | Coefficient | Std. Error | T-Score |\n",
        "+-----------------+-------------+------------+---------+\n",
        "| jobs_800m       |    0.245    |   0.036    |  6.860  |\n",
        "| ave_parcel_size |    1.219    |   0.042    |  29.285 |\n",
        "| is_office       |    1.584    |   0.104    |  15.281 |\n",
        "| is_retail       |    0.883    |   0.099    |  8.930  |\n",
        "| jobs16          |    0.994    |   0.039    |  25.348 |\n",
        "+-----------------+-------------+------------+---------+\n",
        "LCM RESULTS FOR SEGMENT 17\n",
        "\n",
        "Null Log-liklihood: -4605.170\n",
        "Log-liklihood at convergence: -1409.378\n",
        "Log-liklihood Ratio: 0.694\n",
        "\n",
        "+-----------------+-------------+------------+---------+\n",
        "| Component       | Coefficient | Std. Error | T-Score |\n",
        "+-----------------+-------------+------------+---------+\n",
        "| jobs_800m       |    0.037    |   0.028    |  1.336  |\n",
        "| ave_parcel_size |    1.113    |   0.052    |  21.423 |\n",
        "| is_office       |    1.292    |   0.155    |  8.363  |\n",
        "| is_retail       |    1.310    |   0.106    |  12.396 |\n",
        "| jobs17          |    1.394    |   0.040    |  35.170 |\n",
        "+-----------------+-------------+------------+---------+\n",
        "LCM RESULTS FOR SEGMENT 18\n",
        "\n",
        "Null Log-liklihood: -4605.170\n",
        "Log-liklihood at convergence: -2070.466\n",
        "Log-liklihood Ratio: 0.550\n",
        "\n",
        "+-----------------+-------------+------------+---------+\n",
        "| Component       | Coefficient | Std. Error | T-Score |\n",
        "+-----------------+-------------+------------+---------+\n",
        "| jobs_800m       |    0.218    |   0.040    |  5.387  |\n",
        "| ave_parcel_size |    1.399    |   0.042    |  33.478 |\n",
        "| is_office       |    1.519    |   0.131    |  11.596 |\n",
        "| is_retail       |    1.977    |   0.077    |  25.581 |\n",
        "| jobs18          |    0.884    |   0.045    |  19.637 |\n",
        "+-----------------+-------------+------------+---------+\n",
        "LCM RESULTS FOR SEGMENT 19\n",
        "\n",
        "Null Log-liklihood: -4605.170\n",
        "Log-liklihood at convergence: -2840.468\n",
        "Log-liklihood Ratio: 0.383\n",
        "\n",
        "+-----------------+-------------+------------+---------+\n",
        "| Component       | Coefficient | Std. Error | T-Score |\n",
        "+-----------------+-------------+------------+---------+\n",
        "| jobs_800m       |    0.190    |   0.032    |  5.999  |\n",
        "| ave_parcel_size |    1.047    |   0.039    |  26.769 |\n",
        "| is_office       |    1.660    |   0.119    |  13.924 |\n",
        "| is_retail       |    1.781    |   0.077    |  23.058 |\n",
        "| jobs19          |    0.830    |   0.043    |  19.208 |\n",
        "+-----------------+-------------+------------+---------+\n",
        "LCM RESULTS FOR SEGMENT 20\n",
        "\n",
        "Null Log-liklihood: -4605.170\n",
        "Log-liklihood at convergence: -1316.733\n",
        "Log-liklihood Ratio: 0.714\n",
        "\n",
        "+-----------------+-------------+------------+---------+\n",
        "| Component       | Coefficient | Std. Error | T-Score |\n",
        "+-----------------+-------------+------------+---------+\n",
        "| jobs_800m       |    0.368    |   0.022    |  16.364 |\n",
        "| ave_parcel_size |    1.046    |   0.053    |  19.873 |\n",
        "| is_office       |    0.959    |   0.153    |  6.284  |\n",
        "| is_retail       |    0.394    |   0.124    |  3.171  |\n",
        "| jobs20          |    0.943    |   0.029    |  32.711 |\n",
        "+-----------------+-------------+------------+---------+\n",
        "Time to execute model 'elcm_estimate': 18.81s"
       ]
      },
      {
       "output_type": "stream",
       "stream": "stdout",
       "text": [
        "\n",
        "Total time to execute: 18.81s\n"
       ]
      }
     ],
     "prompt_number": 8
    },
    {
     "cell_type": "code",
     "collapsed": false,
     "input": [
      "jobs = sim.get_table('jobs').to_frame(sim.get_table('jobs').local_columns)\n",
      "print len(jobs)\n",
      "print len(jobs[jobs.building_id > 0])"
     ],
     "language": "python",
     "metadata": {},
     "outputs": [
      {
       "output_type": "stream",
       "stream": "stdout",
       "text": [
        "958906\n",
        "958906\n"
       ]
      }
     ],
     "prompt_number": 9
    },
    {
     "cell_type": "code",
     "collapsed": false,
     "input": [
      "sim.run([\"jobs_transition\", \"elcm_simulate\"])"
     ],
     "language": "python",
     "metadata": {},
     "outputs": [
      {
       "output_type": "stream",
       "stream": "stdout",
       "text": [
        "Running model 'jobs_transition'\n",
        "958906 agents before transition\n",
        "1006851 agents after transition"
       ]
      },
      {
       "output_type": "stream",
       "stream": "stdout",
       "text": [
        "\n",
        "Time to execute model 'jobs_transition': 0.42s"
       ]
      },
      {
       "output_type": "stream",
       "stream": "stdout",
       "text": [
        "\n",
        "Running model 'elcm_simulate'\n",
        "There are 24050376 total available units"
       ]
      },
      {
       "output_type": "stream",
       "stream": "stdout",
       "text": [
        "\n",
        "    and 1006851 total choosers\n",
        "    but there are 1 overfull buildings\n",
        "    for a total of 23091470 temporarily empty units"
       ]
      },
      {
       "output_type": "stream",
       "stream": "stdout",
       "text": [
        "\n",
        "    in 99394 buildings total in the region\n",
        "There are 47945 total movers for this LCM\n",
        "Assigned 47945 choosers to new units"
       ]
      },
      {
       "output_type": "stream",
       "stream": "stdout",
       "text": [
        "\n",
        "Total currently unplaced: 0"
       ]
      },
      {
       "output_type": "stream",
       "stream": "stdout",
       "text": [
        "\n",
        "    and there are now 23043525 empty units"
       ]
      },
      {
       "output_type": "stream",
       "stream": "stdout",
       "text": [
        "\n",
        "    and 0 overfull buildings\n",
        "Time to execute model 'elcm_simulate': 378.40s\n",
        "Total time to execute: 378.82s\n"
       ]
      }
     ],
     "prompt_number": 10
    },
    {
     "cell_type": "code",
     "collapsed": false,
     "input": [
      "jobs = sim.get_table('jobs').to_frame(sim.get_table('jobs').local_columns)\n",
      "print len(jobs)\n",
      "print len(jobs[jobs.building_id > 0])"
     ],
     "language": "python",
     "metadata": {},
     "outputs": [
      {
       "output_type": "stream",
       "stream": "stdout",
       "text": [
        "1006851\n",
        "1006851\n"
       ]
      }
     ],
     "prompt_number": 11
    },
    {
     "cell_type": "heading",
     "level": 2,
     "metadata": {},
     "source": [
      "HLCM Estimation"
     ]
    },
    {
     "cell_type": "code",
     "collapsed": false,
     "input": [
      "sim.run([\"hlcm_luz_estimate\"])"
     ],
     "language": "python",
     "metadata": {},
     "outputs": [
      {
       "output_type": "stream",
       "stream": "stdout",
       "text": [
        "Running model 'hlcm_luz_estimate'\n",
        "LCM RESULTS FOR SEGMENT 1\n"
       ]
      },
      {
       "output_type": "stream",
       "stream": "stdout",
       "text": [
        "\n",
        "Null Log-liklihood: -58680.345\n",
        "Log-liklihood at convergence: -42698.865\n",
        "Log-liklihood Ratio: 0.272\n",
        "\n",
        "+-----------------------------+-------------+------------+---------+\n",
        "| Component                   | Coefficient | Std. Error | T-Score |\n",
        "+-----------------------------+-------------+------------+---------+\n",
        "| np.log1p(sqft_per_unit)     |    0.031    |   0.006    |  4.882  |\n",
        "| year_built                  |    -0.001   |   0.000    | -31.263 |\n",
        "| np.log1p(residential_units) |    1.266    |   0.007    | 181.338 |\n",
        "+-----------------------------+-------------+------------+---------+\n",
        "LCM RESULTS FOR SEGMENT 2\n",
        "\n",
        "Null Log-liklihood: -58680.345\n",
        "Log-liklihood at convergence: -45774.627\n",
        "Log-liklihood Ratio: 0.220\n",
        "\n",
        "+-----------------------------+-------------+------------+---------+\n",
        "| Component                   | Coefficient | Std. Error | T-Score |\n",
        "+-----------------------------+-------------+------------+---------+\n",
        "| np.log1p(sqft_per_unit)     |    0.069    |   0.006    |  11.049 |\n",
        "| year_built                  |    0.004    |   0.000    | 149.121 |\n",
        "| np.log1p(residential_units) |    1.161    |   0.007    | 162.952 |\n",
        "+-----------------------------+-------------+------------+---------+\n",
        "Time to execute model 'hlcm_luz_estimate': 14.37s\n",
        "Total time to execute: 14.37s\n"
       ]
      }
     ],
     "prompt_number": 4
    },
    {
     "cell_type": "code",
     "collapsed": false,
     "input": [
      "sim.run([\"households_transition\"], years = [2015])"
     ],
     "language": "python",
     "metadata": {},
     "outputs": [
      {
       "output_type": "stream",
       "stream": "stdout",
       "text": [
        "Running year 2015\n",
        "Running model 'households_transition'\n",
        "Time to execute model 'households_transition': 15.20s"
       ]
      },
      {
       "output_type": "stream",
       "stream": "stdout",
       "text": [
        "\n",
        "Total time to execute year 2015: 15.20s\n"
       ]
      },
      {
       "output_type": "stream",
       "stream": "stderr",
       "text": [
        "c:\\Anaconda\\lib\\site-packages\\pandas\\util\\decorators.py:13: FutureWarning: diff is deprecated. Use difference instead\n",
        "  FutureWarning)\n"
       ]
      }
     ],
     "prompt_number": 3
    },
    {
     "cell_type": "code",
     "collapsed": false,
     "input": [
      "sim.run([\"hlcm_simulate\"])"
     ],
     "language": "python",
     "metadata": {},
     "outputs": [
      {
       "output_type": "stream",
       "stream": "stdout",
       "text": [
        "Running model 'hlcm_simulate'\n",
        "There are 1161992 total available units"
       ]
      },
      {
       "output_type": "stream",
       "stream": "stdout",
       "text": [
        "\n",
        "    and 1044510 total choosers\n",
        "    but there are 1 overfull buildings\n",
        "    for a total of 300307 temporarily empty units"
       ]
      },
      {
       "output_type": "stream",
       "stream": "stdout",
       "text": [
        "\n",
        "    in 180785 buildings total in the region\n",
        "There are 182825 total movers for this LCM\n",
        "Assigned 182825 choosers to new units"
       ]
      },
      {
       "output_type": "stream",
       "stream": "stdout",
       "text": [
        "\n",
        "Total currently unplaced: 0"
       ]
      },
      {
       "output_type": "stream",
       "stream": "stdout",
       "text": [
        "\n",
        "    and there are now 117482 empty units"
       ]
      },
      {
       "output_type": "stream",
       "stream": "stdout",
       "text": [
        "\n",
        "    and 0 overfull buildings\n",
        "Time to execute model 'hlcm_simulate': 9.90s\n",
        "Total time to execute: 9.90s\n"
       ]
      }
     ],
     "prompt_number": 4
    },
    {
     "cell_type": "code",
     "collapsed": false,
     "input": [
      "households = sim.get_table('households').to_frame(sim.get_table('households').local_columns + ['activity_id', 'base_luz'])"
     ],
     "language": "python",
     "metadata": {},
     "outputs": [],
     "prompt_number": 5
    },
    {
     "cell_type": "code",
     "collapsed": false,
     "input": [
      "buildings = sim.get_table('buildings').to_frame(sim.get_table('buildings').local_columns + ['luz_id_buildings'])"
     ],
     "language": "python",
     "metadata": {},
     "outputs": [],
     "prompt_number": 6
    },
    {
     "cell_type": "code",
     "collapsed": false,
     "input": [
      "hh_luz = households.groupby('base_luz').size()"
     ],
     "language": "python",
     "metadata": {},
     "outputs": [],
     "prompt_number": 7
    },
    {
     "cell_type": "code",
     "collapsed": false,
     "input": [
      "du_luz = buildings.groupby('luz_id_buildings').residential_units.sum()"
     ],
     "language": "python",
     "metadata": {},
     "outputs": [],
     "prompt_number": 8
    },
    {
     "cell_type": "code",
     "collapsed": false,
     "input": [
      "import pandas as pd\n",
      "luz_df = pd.DataFrame({'hh':hh_luz, 'du':du_luz})"
     ],
     "language": "python",
     "metadata": {},
     "outputs": [],
     "prompt_number": 9
    },
    {
     "cell_type": "code",
     "collapsed": false,
     "input": [
      "luz_df['occupancy'] = luz_df.hh/luz_df.du"
     ],
     "language": "python",
     "metadata": {},
     "outputs": [],
     "prompt_number": 10
    },
    {
     "cell_type": "code",
     "collapsed": false,
     "input": [
      "luz_df.occupancy.describe()"
     ],
     "language": "python",
     "metadata": {},
     "outputs": [
      {
       "metadata": {},
       "output_type": "pyout",
       "prompt_number": 11,
       "text": [
        "count    214.000000\n",
        "mean       0.454985\n",
        "std        0.060294\n",
        "min        0.193277\n",
        "25%        0.433483\n",
        "50%        0.461033\n",
        "75%        0.487664\n",
        "max        0.621311\n",
        "Name: occupancy, dtype: float64"
       ]
      }
     ],
     "prompt_number": 11
    },
    {
     "cell_type": "code",
     "collapsed": false,
     "input": [
      "luz_df.sum()"
     ],
     "language": "python",
     "metadata": {},
     "outputs": [
      {
       "metadata": {},
       "output_type": "pyout",
       "prompt_number": 12,
       "text": [
        "du           2323984.000000\n",
        "hh           1044510.000000\n",
        "occupancy         97.366882\n",
        "dtype: float64"
       ]
      }
     ],
     "prompt_number": 12
    },
    {
     "cell_type": "code",
     "collapsed": false,
     "input": [
      "luz_df[luz_df.du == 6]"
     ],
     "language": "python",
     "metadata": {},
     "outputs": [
      {
       "html": [
        "<div style=\"max-height:1000px;max-width:1500px;overflow:auto;\">\n",
        "<table border=\"1\" class=\"dataframe\">\n",
        "  <thead>\n",
        "    <tr style=\"text-align: right;\">\n",
        "      <th></th>\n",
        "      <th>du</th>\n",
        "      <th>hh</th>\n",
        "      <th>occupancy</th>\n",
        "    </tr>\n",
        "  </thead>\n",
        "  <tbody>\n",
        "    <tr>\n",
        "      <th>204</th>\n",
        "      <td> 6</td>\n",
        "      <td>NaN</td>\n",
        "      <td>NaN</td>\n",
        "    </tr>\n",
        "  </tbody>\n",
        "</table>\n",
        "</div>"
       ],
       "metadata": {},
       "output_type": "pyout",
       "prompt_number": 24,
       "text": [
        "     du  hh  occupancy\n",
        "204   6 NaN        NaN"
       ]
      }
     ],
     "prompt_number": 24
    },
    {
     "cell_type": "code",
     "collapsed": false,
     "input": [
      "households.activity_id.value_counts()"
     ],
     "language": "python",
     "metadata": {},
     "outputs": [
      {
       "metadata": {},
       "output_type": "pyout",
       "prompt_number": 21,
       "text": [
        "40    344453\n",
        "41    320724\n",
        "38    127590\n",
        "42    103117\n",
        "43     98771\n",
        "39     40491\n",
        "dtype: int64"
       ]
      }
     ],
     "prompt_number": 21
    },
    {
     "cell_type": "code",
     "collapsed": false,
     "input": [
      "households.base_luz.value_counts()"
     ],
     "language": "python",
     "metadata": {},
     "outputs": [
      {
       "metadata": {},
       "output_type": "pyout",
       "prompt_number": 26,
       "text": [
        "88     21089\n",
        "93     19777\n",
        "3      18889\n",
        "70     17610\n",
        "103    17426\n",
        "45     14414\n",
        "185    13424\n",
        "26     13349\n",
        "151    12840\n",
        "87     12325\n",
        "121    12105\n",
        "137    12100\n",
        "50     12078\n",
        "84     11729\n",
        "118    11306\n",
        "...\n",
        "218    222\n",
        "213    190\n",
        "183    188\n",
        "210    157\n",
        "194    153\n",
        "226    140\n",
        "227    126\n",
        "211     93\n",
        "207     92\n",
        "193     90\n",
        "208     75\n",
        "228     25\n",
        "205     17\n",
        "126     12\n",
        "191      6\n",
        "Length: 214, dtype: int64"
       ]
      }
     ],
     "prompt_number": 26
    },
    {
     "cell_type": "code",
     "collapsed": false,
     "input": [
      "sim.run([\"households_transition\"], years = [2013])"
     ],
     "language": "python",
     "metadata": {},
     "outputs": [
      {
       "output_type": "stream",
       "stream": "stdout",
       "text": [
        "Running year 2013\n",
        "Running model 'households_transition'\n",
        "Time to execute model 'households_transition': 15.47s"
       ]
      },
      {
       "output_type": "stream",
       "stream": "stdout",
       "text": [
        "\n",
        "Total time to execute year 2013: 15.47s\n"
       ]
      }
     ],
     "prompt_number": 22
    },
    {
     "cell_type": "code",
     "collapsed": false,
     "input": [
      "households = sim.get_table('households').to_frame(sim.get_table('households').local_columns + ['activity_id', 'base_luz'])\n",
      "hh_luz2 = households.groupby('base_luz').size()"
     ],
     "language": "python",
     "metadata": {},
     "outputs": [],
     "prompt_number": 24
    },
    {
     "cell_type": "code",
     "collapsed": false,
     "input": [
      "print hh_luz.sum()\n",
      "print hh_luz2.sum()"
     ],
     "language": "python",
     "metadata": {},
     "outputs": [
      {
       "output_type": "stream",
       "stream": "stdout",
       "text": [
        "1035146\n",
        "1024349\n"
       ]
      }
     ],
     "prompt_number": 26
    },
    {
     "cell_type": "code",
     "collapsed": false,
     "input": [
      "luz_df['hh13'] = hh_luz2\n",
      "luz_df['occ13'] = luz_df.hh13/luz_df.du"
     ],
     "language": "python",
     "metadata": {},
     "outputs": [],
     "prompt_number": 28
    },
    {
     "cell_type": "code",
     "collapsed": false,
     "input": [
      "print luz_df.occupancy.describe()\n",
      "print luz_df.occ13.describe()"
     ],
     "language": "python",
     "metadata": {},
     "outputs": [
      {
       "output_type": "stream",
       "stream": "stdout",
       "text": [
        "count    214.000000\n",
        "mean       0.897740\n",
        "std        0.117620\n",
        "min        0.373950\n",
        "25%        0.857610\n",
        "50%        0.914089\n",
        "75%        0.961265\n",
        "max        1.200000\n",
        "Name: occupancy, dtype: float64\n",
        "count    214.000000\n",
        "mean       0.883816\n",
        "std        0.116610\n",
        "min        0.352941\n",
        "25%        0.833359\n",
        "50%        0.905921\n",
        "75%        0.944200\n",
        "max        1.200000\n",
        "Name: occ13, dtype: float64\n"
       ]
      }
     ],
     "prompt_number": 30
    },
    {
     "cell_type": "code",
     "collapsed": false,
     "input": [
      "sim.run([\"households_transition\"], years = [2014])\n",
      "households = sim.get_table('households').to_frame(sim.get_table('households').local_columns + ['activity_id', 'base_luz'])\n",
      "hh_luz3 = households.groupby('base_luz').size()\n",
      "luz_df['hh14'] = hh_luz3\n",
      "luz_df['occ14'] = luz_df.hh14/luz_df.du"
     ],
     "language": "python",
     "metadata": {},
     "outputs": [
      {
       "output_type": "stream",
       "stream": "stdout",
       "text": [
        "Running year 2014\n",
        "Running model 'households_transition'\n",
        "Time to execute model 'households_transition': 13.94s"
       ]
      },
      {
       "output_type": "stream",
       "stream": "stdout",
       "text": [
        "\n",
        "Total time to execute year 2014: 13.94s\n"
       ]
      }
     ],
     "prompt_number": 31
    },
    {
     "cell_type": "code",
     "collapsed": false,
     "input": [
      "print luz_df.occupancy.describe()\n",
      "print luz_df.occ13.describe()\n",
      "print luz_df.occ14.describe()"
     ],
     "language": "python",
     "metadata": {},
     "outputs": [
      {
       "output_type": "stream",
       "stream": "stdout",
       "text": [
        "count    214.000000\n",
        "mean       0.897740\n",
        "std        0.117620\n",
        "min        0.373950\n",
        "25%        0.857610\n",
        "50%        0.914089\n",
        "75%        0.961265\n",
        "max        1.200000\n",
        "Name: occupancy, dtype: float64\n",
        "count    214.000000\n",
        "mean       0.883816\n",
        "std        0.116610\n",
        "min        0.352941\n",
        "25%        0.833359\n",
        "50%        0.905921\n",
        "75%        0.944200\n",
        "max        1.200000\n",
        "Name: occ13, dtype: float64\n",
        "count    214.000000\n",
        "mean       0.897740\n",
        "std        0.117620\n",
        "min        0.373950\n",
        "25%        0.857610\n",
        "50%        0.914089\n",
        "75%        0.961265\n",
        "max        1.200000\n",
        "Name: occ14, dtype: float64\n"
       ]
      }
     ],
     "prompt_number": 32
    },
    {
     "cell_type": "code",
     "collapsed": false,
     "input": [
      "sim.run([\"households_transition\"], years = [2015])\n",
      "households = sim.get_table('households').to_frame(sim.get_table('households').local_columns + ['activity_id', 'base_luz'])\n",
      "hh_luz4 = households.groupby('base_luz').size()\n",
      "luz_df['hh15'] = hh_luz4\n",
      "luz_df['occ15'] = luz_df.hh15/luz_df.du"
     ],
     "language": "python",
     "metadata": {},
     "outputs": [
      {
       "output_type": "stream",
       "stream": "stdout",
       "text": [
        "Running year 2015\n",
        "Running model 'households_transition'\n",
        "Time to execute model 'households_transition': 14.72s"
       ]
      },
      {
       "output_type": "stream",
       "stream": "stdout",
       "text": [
        "\n",
        "Total time to execute year 2015: 14.72s\n"
       ]
      }
     ],
     "prompt_number": 33
    },
    {
     "cell_type": "code",
     "collapsed": false,
     "input": [
      "print luz_df.occupancy.describe()\n",
      "print luz_df.occ13.describe()\n",
      "print luz_df.occ14.describe()\n",
      "print luz_df.occ15.describe()"
     ],
     "language": "python",
     "metadata": {},
     "outputs": [
      {
       "output_type": "stream",
       "stream": "stdout",
       "text": [
        "count    214.000000\n",
        "mean       0.897740\n",
        "std        0.117620\n",
        "min        0.373950\n",
        "25%        0.857610\n",
        "50%        0.914089\n",
        "75%        0.961265\n",
        "max        1.200000\n",
        "Name: occupancy, dtype: float64\n",
        "count    214.000000\n",
        "mean       0.883816\n",
        "std        0.116610\n",
        "min        0.352941\n",
        "25%        0.833359\n",
        "50%        0.905921\n",
        "75%        0.944200\n",
        "max        1.200000\n",
        "Name: occ13, dtype: float64\n",
        "count    214.000000\n",
        "mean       0.897740\n",
        "std        0.117620\n",
        "min        0.373950\n",
        "25%        0.857610\n",
        "50%        0.914089\n",
        "75%        0.961265\n",
        "max        1.200000\n",
        "Name: occ14, dtype: float64\n",
        "count    214.000000\n",
        "mean       0.909971\n",
        "std        0.120589\n",
        "min        0.386555\n",
        "25%        0.866967\n",
        "50%        0.922066\n",
        "75%        0.975328\n",
        "max        1.242623\n",
        "Name: occ15, dtype: float64\n"
       ]
      }
     ],
     "prompt_number": 34
    }
   ],
   "metadata": {}
  }
 ]
}