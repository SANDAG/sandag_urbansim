{
 "metadata": {
  "name": "",
  "signature": "sha256:b12a4d9cc5f9f9de874adb7354162d2681d5f7ab4b3efd634fa51778b63403bf"
 },
 "nbformat": 3,
 "nbformat_minor": 0,
 "worksheets": [
  {
   "cells": [
    {
     "cell_type": "code",
     "collapsed": false,
     "input": [
      "%load_ext autoreload\n",
      "%autoreload 2\n",
      "if 'sim' not in globals():\n",
      "    import os; os.chdir('..')\n",
      "import models\n",
      "import urbansim.sim.simulation as sim"
     ],
     "language": "python",
     "metadata": {},
     "outputs": [
      {
       "output_type": "stream",
       "stream": "stdout",
       "text": [
        "The autoreload extension is already loaded. To reload it, use:\n",
        "  %reload_ext autoreload\n"
       ]
      }
     ],
     "prompt_number": 4
    },
    {
     "cell_type": "code",
     "collapsed": false,
     "input": [
      "%%capture\n",
      "sim.run([\"build_networks\", \"neighborhood_vars\"])"
     ],
     "language": "python",
     "metadata": {},
     "outputs": []
    },
    {
     "cell_type": "heading",
     "level": 2,
     "metadata": {},
     "source": [
      "Non-residential Rent Hedonic Estimation"
     ]
    },
    {
     "cell_type": "code",
     "collapsed": false,
     "input": [
      "df = sim.get_table('nodes')\n",
      "df.nonres_occupancy.describe()"
     ],
     "language": "python",
     "metadata": {},
     "outputs": []
    },
    {
     "cell_type": "code",
     "collapsed": false,
     "input": [
      "sim.run([\"nrh_estimate\"])"
     ],
     "language": "python",
     "metadata": {},
     "outputs": [
      {
       "output_type": "stream",
       "stream": "stdout",
       "text": [
        "Running model 'nrh_estimate'\n",
        "REGRESSION RESULTS FOR SEGMENT 2\n"
       ]
      },
      {
       "output_type": "stream",
       "stream": "stdout",
       "text": [
        "\n",
        "                                  OLS Regression Results                                  \n",
        "==========================================================================================\n",
        "Dep. Variable:     np.log1p(nonres_rent_per_sqft)   R-squared:                       0.193\n",
        "Model:                                        OLS   Adj. R-squared:                  0.190\n",
        "Method:                             Least Squares   F-statistic:                     54.25\n",
        "Date:                            Thu, 12 Mar 2015   Prob (F-statistic):           2.92e-79\n",
        "Time:                                    12:17:43   Log-Likelihood:                -271.10\n",
        "No. Observations:                            1822   AIC:                             560.2\n",
        "Df Residuals:                                1813   BIC:                             609.8\n",
        "Df Model:                                       8                                         \n",
        "Covariance Type:                        nonrobust                                         \n",
        "================================================================================================\n",
        "                                   coef    std err          t      P>|t|      [95.0% Conf. Int.]\n",
        "------------------------------------------------------------------------------------------------\n",
        "Intercept                       -2.0844      1.448     -1.439      0.150        -4.925     0.756\n",
        "I(year_built < 1940)[T.True]     0.5729      0.286      2.006      0.045         0.013     1.133\n",
        "I(year_built > 2005)[T.True]     0.0981      0.030      3.267      0.001         0.039     0.157\n",
        "np.log1p(stories)                0.4550      0.041     10.978      0.000         0.374     0.536\n",
        "ave_income                      -0.0015      0.001     -0.996      0.319        -0.004     0.001\n",
        "jobs                             0.0658      0.008      8.543      0.000         0.051     0.081\n",
        "year_built                       0.0019      0.001      2.664      0.008         0.001     0.003\n",
        "distance_to_coast            -4.264e-06   4.39e-07     -9.721      0.000     -5.12e-06  -3.4e-06\n",
        "distance_to_freeway          -1.089e-05   1.86e-06     -5.858      0.000     -1.45e-05 -7.25e-06\n",
        "==============================================================================\n",
        "Omnibus:                      449.200   Durbin-Watson:                   1.156\n",
        "Prob(Omnibus):                  0.000   Jarque-Bera (JB):             2273.478\n",
        "Skew:                           1.069   Prob(JB):                         0.00\n",
        "Kurtosis:                       8.038   Cond. No.                     7.33e+06\n",
        "==============================================================================\n",
        "\n",
        "Warnings:\n",
        "[1] Standard Errors assume that the covariance matrix of the errors is correctly specified.\n",
        "[2] The condition number is large, 7.33e+06. This might indicate that there are\n",
        "strong multicollinearity or other numerical problems.\n",
        "REGRESSION RESULTS FOR SEGMENT 4\n",
        "\n",
        "                                  OLS Regression Results                                  \n",
        "==========================================================================================\n",
        "Dep. Variable:     np.log1p(nonres_rent_per_sqft)   R-squared:                       0.227\n",
        "Model:                                        OLS   Adj. R-squared:                  0.222\n",
        "Method:                             Least Squares   F-statistic:                     43.26\n",
        "Date:                            Thu, 12 Mar 2015   Prob (F-statistic):           1.02e-53\n",
        "Time:                                    12:17:43   Log-Likelihood:                -242.70\n",
        "No. Observations:                            1038   AIC:                             501.4\n",
        "Df Residuals:                                1030   BIC:                             541.0\n",
        "Df Model:                                       7                                         \n",
        "Covariance Type:                        nonrobust                                         \n",
        "================================================================================================\n",
        "                                   coef    std err          t      P>|t|      [95.0% Conf. Int.]\n",
        "------------------------------------------------------------------------------------------------\n",
        "Intercept                      -11.6109      1.792     -6.478      0.000       -15.128    -8.094\n",
        "I(year_built < 1940)[T.True]     0.2123      0.136      1.563      0.118        -0.054     0.479\n",
        "I(year_built > 2005)[T.True]     0.0982      0.048      2.029      0.043         0.003     0.193\n",
        "np.log1p(stories)                0.1323      0.023      5.698      0.000         0.087     0.178\n",
        "ave_income                       0.0055      0.003      1.661      0.097        -0.001     0.012\n",
        "jobs                            -0.0375      0.012     -3.113      0.002        -0.061    -0.014\n",
        "year_built                       0.0075      0.001      8.405      0.000         0.006     0.009\n",
        "distance_to_coast            -6.251e-06   5.74e-07    -10.899      0.000     -7.38e-06 -5.13e-06\n",
        "==============================================================================\n",
        "Omnibus:                       42.979   Durbin-Watson:                   1.391\n",
        "Prob(Omnibus):                  0.000   Jarque-Bera (JB):               92.559\n",
        "Skew:                          -0.238   Prob(JB):                     7.96e-21\n",
        "Kurtosis:                       4.383   Cond. No.                     5.25e+06\n",
        "==============================================================================\n",
        "\n",
        "Warnings:\n",
        "[1] Standard Errors assume that the covariance matrix of the errors is correctly specified.\n",
        "[2] The condition number is large, 5.25e+06. This might indicate that there are\n",
        "strong multicollinearity or other numerical problems.\n",
        "REGRESSION RESULTS FOR SEGMENT 5\n",
        "\n",
        "                                  OLS Regression Results                                  \n",
        "==========================================================================================\n",
        "Dep. Variable:     np.log1p(nonres_rent_per_sqft)   R-squared:                       0.134\n",
        "Model:                                        OLS   Adj. R-squared:                  0.130\n",
        "Method:                             Least Squares   F-statistic:                     29.87\n",
        "Date:                            Thu, 12 Mar 2015   Prob (F-statistic):           1.49e-38\n",
        "Time:                                    12:17:43   Log-Likelihood:                -565.60\n",
        "No. Observations:                            1359   AIC:                             1147.\n",
        "Df Residuals:                                1351   BIC:                             1189.\n",
        "Df Model:                                       7                                         \n",
        "Covariance Type:                        nonrobust                                         \n",
        "================================================================================================\n",
        "                                   coef    std err          t      P>|t|      [95.0% Conf. Int.]\n",
        "------------------------------------------------------------------------------------------------\n",
        "Intercept                       -3.6704      1.503     -2.442      0.015        -6.618    -0.722\n",
        "I(year_built < 1940)[T.True]     0.1295      0.072      1.790      0.074        -0.012     0.271\n",
        "I(year_built > 2005)[T.True]     0.2144      0.065      3.294      0.001         0.087     0.342\n",
        "np.log1p(stories)                0.0450      0.047      0.952      0.341        -0.048     0.138\n",
        "ave_income                       0.0499      0.006      7.736      0.000         0.037     0.063\n",
        "jobs                             0.0262      0.010      2.559      0.011         0.006     0.046\n",
        "year_built                       0.0030      0.001      4.001      0.000         0.002     0.004\n",
        "distance_to_coast             -4.85e-06   5.44e-07     -8.914      0.000     -5.92e-06 -3.78e-06\n",
        "==============================================================================\n",
        "Omnibus:                       10.131   Durbin-Watson:                   1.161\n",
        "Prob(Omnibus):                  0.006   Jarque-Bera (JB):               11.682\n",
        "Skew:                          -0.133   Prob(JB):                      0.00291\n",
        "Kurtosis:                       3.368   Cond. No.                     4.88e+06\n",
        "==============================================================================\n",
        "\n",
        "Warnings:\n",
        "[1] Standard Errors assume that the covariance matrix of the errors is correctly specified.\n",
        "[2] The condition number is large, 4.88e+06. This might indicate that there are\n",
        "strong multicollinearity or other numerical problems.\n",
        "Time to execute model 'nrh_estimate': 1.57s\n",
        "Total time to execute: 1.57s\n"
       ]
      }
     ],
     "prompt_number": 5
    },
    {
     "cell_type": "heading",
     "level": 2,
     "metadata": {},
     "source": [
      "ELCM Estimation"
     ]
    },
    {
     "cell_type": "code",
     "collapsed": false,
     "input": [
      "sim.run([\"elcm_estimate\"])"
     ],
     "language": "python",
     "metadata": {},
     "outputs": []
    }
   ],
   "metadata": {}
  }
 ]
}