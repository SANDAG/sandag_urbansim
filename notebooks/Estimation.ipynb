{
 "metadata": {
  "name": "",
  "signature": "sha256:cafb9efed2142ef5ab0a57d9373853ba80e2e0ffe0b14e835e64b9c26cef466b"
 },
 "nbformat": 3,
 "nbformat_minor": 0,
 "worksheets": [
  {
   "cells": [
    {
     "cell_type": "code",
     "collapsed": false,
     "input": [
      "%load_ext autoreload\n",
      "%autoreload 2\n",
      "if 'sim' not in globals():\n",
      "    import os; os.chdir('..')\n",
      "import models\n",
      "import urbansim.sim.simulation as sim"
     ],
     "language": "python",
     "metadata": {},
     "outputs": [],
     "prompt_number": 1
    },
    {
     "cell_type": "code",
     "collapsed": false,
     "input": [
      "%%capture\n",
      "sim.run([\"build_networks\", \"neighborhood_vars\"])"
     ],
     "language": "python",
     "metadata": {},
     "outputs": [],
     "prompt_number": 2
    },
    {
     "cell_type": "heading",
     "level": 2,
     "metadata": {},
     "source": [
      "Non-residential Rent Hedonic Estimation"
     ]
    },
    {
     "cell_type": "code",
     "collapsed": false,
     "input": [
      "sim.run([\"nrh_estimate\"])"
     ],
     "language": "python",
     "metadata": {},
     "outputs": [
      {
       "output_type": "stream",
       "stream": "stdout",
       "text": [
        "Running model 'nrh_estimate'\n",
        "REGRESSION RESULTS FOR SEGMENT 2\n"
       ]
      },
      {
       "output_type": "stream",
       "stream": "stdout",
       "text": [
        "\n",
        "                                  OLS Regression Results                                  \n",
        "==========================================================================================\n",
        "Dep. Variable:     np.log1p(nonres_rent_per_sqft)   R-squared:                       0.250\n",
        "Model:                                        OLS   Adj. R-squared:                  0.246\n",
        "Method:                             Least Squares   F-statistic:                     66.99\n",
        "Date:                            Wed, 25 Mar 2015   Prob (F-statistic):          1.47e-106\n",
        "Time:                                    23:01:29   Log-Likelihood:                -204.95\n",
        "No. Observations:                            1822   AIC:                             429.9\n",
        "Df Residuals:                                1812   BIC:                             485.0\n",
        "Df Model:                                       9                                         \n",
        "Covariance Type:                        nonrobust                                         \n",
        "================================================================================================\n",
        "                                   coef    std err          t      P>|t|      [95.0% Conf. Int.]\n",
        "------------------------------------------------------------------------------------------------\n",
        "Intercept                       -2.2727      1.384     -1.642      0.101        -4.987     0.442\n",
        "I(year_built < 1940)[T.True]     0.7246      0.276      2.629      0.009         0.184     1.265\n",
        "I(year_built > 2005)[T.True]     0.0991      0.031      3.220      0.001         0.039     0.159\n",
        "np.log1p(stories)                0.4069      0.040     10.124      0.000         0.328     0.486\n",
        "jobs_400m                        0.0109      0.007      1.590      0.112        -0.003     0.024\n",
        "year_built                       0.0022      0.001      3.158      0.002         0.001     0.004\n",
        "distance_to_coast            -5.002e-06   4.25e-07    -11.760      0.000     -5.84e-06 -4.17e-06\n",
        "distance_to_freeway          -5.863e-06   1.87e-06     -3.143      0.002     -9.52e-06  -2.2e-06\n",
        "pecas_price                      0.0069      0.002      4.185      0.000         0.004     0.010\n",
        "nonres_occupancy_3000m           0.7436      0.065     11.386      0.000         0.616     0.872\n",
        "==============================================================================\n",
        "Omnibus:                      433.068   Durbin-Watson:                   1.182\n",
        "Prob(Omnibus):                  0.000   Jarque-Bera (JB):             2171.287\n",
        "Skew:                           1.030   Prob(JB):                         0.00\n",
        "Kurtosis:                       7.935   Cond. No.                     7.27e+06\n",
        "==============================================================================\n",
        "\n",
        "Warnings:\n",
        "[1] Standard Errors assume that the covariance matrix of the errors is correctly specified.\n",
        "[2] The condition number is large, 7.27e+06. This might indicate that there are\n",
        "strong multicollinearity or other numerical problems.\n",
        "REGRESSION RESULTS FOR SEGMENT 4\n",
        "\n",
        "                                  OLS Regression Results                                  \n",
        "==========================================================================================\n",
        "Dep. Variable:     np.log1p(nonres_rent_per_sqft)   R-squared:                       0.227\n",
        "Model:                                        OLS   Adj. R-squared:                  0.220\n",
        "Method:                             Least Squares   F-statistic:                     33.48\n",
        "Date:                            Wed, 25 Mar 2015   Prob (F-statistic):           6.44e-52\n",
        "Time:                                    23:01:29   Log-Likelihood:                -243.08\n",
        "No. Observations:                            1038   AIC:                             506.2\n",
        "Df Residuals:                                1028   BIC:                             555.6\n",
        "Df Model:                                       9                                         \n",
        "Covariance Type:                        nonrobust                                         \n",
        "================================================================================================\n",
        "                                   coef    std err          t      P>|t|      [95.0% Conf. Int.]\n",
        "------------------------------------------------------------------------------------------------\n",
        "Intercept                      -13.0020      1.775     -7.325      0.000       -16.485    -9.519\n",
        "I(year_built < 1940)[T.True]     0.2074      0.136      1.523      0.128        -0.060     0.475\n",
        "I(year_built > 2005)[T.True]     0.1357      0.049      2.764      0.006         0.039     0.232\n",
        "np.log1p(stories)                0.0990      0.023      4.374      0.000         0.055     0.143\n",
        "ave_income                       0.0075      0.003      2.231      0.026         0.001     0.014\n",
        "jobs_400m                        0.0113      0.008      1.427      0.154        -0.004     0.027\n",
        "year_built                       0.0080      0.001      8.968      0.000         0.006     0.010\n",
        "distance_to_coast            -6.094e-06   5.83e-07    -10.453      0.000     -7.24e-06 -4.95e-06\n",
        "pecas_price                      0.0074      0.004      1.840      0.066        -0.000     0.015\n",
        "nonres_occupancy_3000m           0.1360      0.091      1.502      0.133        -0.042     0.314\n",
        "==============================================================================\n",
        "Omnibus:                       41.950   Durbin-Watson:                   1.390\n",
        "Prob(Omnibus):                  0.000   Jarque-Bera (JB):               84.851\n",
        "Skew:                          -0.255   Prob(JB):                     3.76e-19\n",
        "Kurtosis:                       4.305   Cond. No.                     5.19e+06\n",
        "==============================================================================\n",
        "\n",
        "Warnings:\n",
        "[1] Standard Errors assume that the covariance matrix of the errors is correctly specified.\n",
        "[2] The condition number is large, 5.19e+06. This might indicate that there are\n",
        "strong multicollinearity or other numerical problems.\n",
        "REGRESSION RESULTS FOR SEGMENT 5\n",
        "\n",
        "                                  OLS Regression Results                                  \n",
        "==========================================================================================\n",
        "Dep. Variable:     np.log1p(nonres_rent_per_sqft)   R-squared:                       0.169\n",
        "Model:                                        OLS   Adj. R-squared:                  0.164\n",
        "Method:                             Least Squares   F-statistic:                     34.32\n",
        "Date:                            Wed, 25 Mar 2015   Prob (F-statistic):           1.37e-49\n",
        "Time:                                    23:01:29   Log-Likelihood:                -537.57\n",
        "No. Observations:                            1359   AIC:                             1093.\n",
        "Df Residuals:                                1350   BIC:                             1140.\n",
        "Df Model:                                       8                                         \n",
        "Covariance Type:                        nonrobust                                         \n",
        "================================================================================================\n",
        "                                   coef    std err          t      P>|t|      [95.0% Conf. Int.]\n",
        "------------------------------------------------------------------------------------------------\n",
        "Intercept                       -4.0735      1.484     -2.744      0.006        -6.985    -1.162\n",
        "I(year_built < 1940)[T.True]     0.1105      0.071      1.553      0.121        -0.029     0.250\n",
        "I(year_built > 2005)[T.True]     0.2149      0.064      3.352      0.001         0.089     0.341\n",
        "ave_income                       0.0488      0.006      7.732      0.000         0.036     0.061\n",
        "jobs_1500m                       0.0381      0.010      3.789      0.000         0.018     0.058\n",
        "year_built                       0.0032      0.001      4.225      0.000         0.002     0.005\n",
        "distance_to_coast            -4.983e-06   5.63e-07     -8.845      0.000     -6.09e-06 -3.88e-06\n",
        "pecas_price                      0.0056      0.001      4.068      0.000         0.003     0.008\n",
        "nonres_occupancy_3000m           0.4030      0.093      4.333      0.000         0.221     0.585\n",
        "==============================================================================\n",
        "Omnibus:                        9.013   Durbin-Watson:                   1.178\n",
        "Prob(Omnibus):                  0.011   Jarque-Bera (JB):                9.689\n",
        "Skew:                          -0.146   Prob(JB):                      0.00787\n",
        "Kurtosis:                       3.293   Cond. No.                     4.92e+06\n",
        "==============================================================================\n",
        "\n",
        "Warnings:\n",
        "[1] Standard Errors assume that the covariance matrix of the errors is correctly specified.\n",
        "[2] The condition number is large, 4.92e+06. This might indicate that there are\n",
        "strong multicollinearity or other numerical problems.\n",
        "Time to execute model 'nrh_estimate': 1.82s"
       ]
      },
      {
       "output_type": "stream",
       "stream": "stdout",
       "text": [
        "\n",
        "Total time to execute: 1.82s\n"
       ]
      }
     ],
     "prompt_number": 13
    },
    {
     "cell_type": "code",
     "collapsed": false,
     "input": [
      "sim.run([\"nrh_estimate2\"])"
     ],
     "language": "python",
     "metadata": {},
     "outputs": [
      {
       "output_type": "stream",
       "stream": "stdout",
       "text": [
        "Running model 'nrh_estimate2'\n",
        "                                  OLS Regression Results                                  \n",
        "==========================================================================================\n",
        "Dep. Variable:     np.log1p(nonres_rent_per_sqft)   R-squared:                       0.259\n",
        "Model:                                        OLS   Adj. R-squared:                  0.257\n",
        "Method:                             Least Squares   F-statistic:                     146.8\n",
        "Date:                            Thu, 26 Mar 2015   Prob (F-statistic):          1.43e-264\n",
        "Time:                                    09:04:03   Log-Likelihood:                -1898.2\n",
        "No. Observations:                            4219   AIC:                             3818.\n",
        "Df Residuals:                                4208   BIC:                             3888.\n",
        "Df Model:                                      10                                         \n",
        "Covariance Type:                        nonrobust                                         \n",
        "================================================================================================\n",
        "                                   coef    std err          t      P>|t|      [95.0% Conf. Int.]\n",
        "------------------------------------------------------------------------------------------------\n",
        "Intercept                       -1.2957      1.039     -1.247      0.212        -3.333     0.742\n",
        "I(year_built < 1940)[T.True]     0.1340      0.063      2.116      0.034         0.010     0.258\n",
        "I(year_built > 2005)[T.True]     0.0853      0.030      2.858      0.004         0.027     0.144\n",
        "np.log1p(stories)                0.3180      0.020     15.850      0.000         0.279     0.357\n",
        "ave_income                       0.0177      0.002     10.290      0.000         0.014     0.021\n",
        "jobs_400m                        0.0073      0.005      1.331      0.183        -0.003     0.018\n",
        "year_built                       0.0018      0.001      3.484      0.000         0.001     0.003\n",
        "distance_to_coast            -6.281e-06   3.58e-07    -17.535      0.000     -6.98e-06 -5.58e-06\n",
        "distance_to_freeway          -7.707e-06   1.69e-06     -4.568      0.000      -1.1e-05  -4.4e-06\n",
        "pecas_price                      0.0194      0.001     18.269      0.000         0.017     0.021\n",
        "nonres_occupancy_3000m           0.4786      0.056      8.484      0.000         0.368     0.589\n",
        "==============================================================================\n",
        "Omnibus:                       48.068   Durbin-Watson:                   0.992\n",
        "Prob(Omnibus):                  0.000   Jarque-Bera (JB):               53.536\n",
        "Skew:                           0.217   Prob(JB):                     2.37e-12\n",
        "Kurtosis:                       3.340   Cond. No.                     5.67e+06\n",
        "==============================================================================\n",
        "\n",
        "Warnings:\n",
        "[1] Standard Errors assume that the covariance matrix of the errors is correctly specified.\n",
        "[2] The condition number is large, 5.67e+06. This might indicate that there are\n",
        "strong multicollinearity or other numerical problems."
       ]
      },
      {
       "output_type": "stream",
       "stream": "stdout",
       "text": [
        "\n",
        "Time to execute model 'nrh_estimate2': 1.29s\n",
        "Total time to execute: 1.29s\n"
       ]
      }
     ],
     "prompt_number": 28
    },
    {
     "cell_type": "heading",
     "level": 2,
     "metadata": {},
     "source": [
      "ELCM Estimation"
     ]
    },
    {
     "cell_type": "code",
     "collapsed": false,
     "input": [
      "sim.run([\"elcm_estimate\"])"
     ],
     "language": "python",
     "metadata": {},
     "outputs": []
    }
   ],
   "metadata": {}
  }
 ]
}