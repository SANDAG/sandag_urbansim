{
 "metadata": {
  "name": "",
  "signature": "sha256:b5b44f352f485f858eaf6a1ba96acc70bab082be839bed83650a2a1c0b174701"
 },
 "nbformat": 3,
 "nbformat_minor": 0,
 "worksheets": [
  {
   "cells": [
    {
     "cell_type": "code",
     "collapsed": false,
     "input": [
      "%load_ext autoreload\n",
      "%autoreload 2\n",
      "import pandas as pd, numpy as np\n",
      "if 'sim' not in globals():\n",
      "    import os; os.chdir('..')\n",
      "import models\n",
      "import urbansim.sim.simulation as sim\n",
      "from spandex import TableLoader\n",
      "\n",
      "loader = TableLoader()"
     ],
     "language": "python",
     "metadata": {},
     "outputs": [
      {
       "output_type": "stream",
       "stream": "stderr",
       "text": [
        "WARNING:spandex.database:Unable to map table to class: Mapper Mapper|loading.building|building could not assemble any primary key columns for mapped table 'building'\n"
       ]
      },
      {
       "output_type": "stream",
       "stream": "stderr",
       "text": [
        "WARNING:spandex.database:Unable to map table to class: Mapper Mapper|loading.parcel|parcel could not assemble any primary key columns for mapped table 'parcel'\n"
       ]
      },
      {
       "output_type": "stream",
       "stream": "stderr",
       "text": [
        "WARNING:spandex.database:Unable to map table to class: Mapper Mapper|loading.zoning|zoning could not assemble any primary key columns for mapped table 'zoning'\n"
       ]
      },
      {
       "output_type": "stream",
       "stream": "stderr",
       "text": [
        "WARNING:spandex.database:Unable to map table to class: Mapper Mapper|public.parcels|parcels could not assemble any primary key columns for mapped table 'parcels'\n"
       ]
      },
      {
       "output_type": "stream",
       "stream": "stderr",
       "text": [
        "WARNING:spandex.database:Unable to map table to class: Mapper Mapper|staging.scheduled_development|scheduled_development could not assemble any primary key columns for mapped table 'scheduled_development'\n"
       ]
      },
      {
       "output_type": "stream",
       "stream": "stderr",
       "text": [
        "WARNING:spandex.database:Unable to map table to class: Mapper Mapper|loading.zoning_allowed_uses|zoning_allowed_uses could not assemble any primary key columns for mapped table 'zoning_allowed_uses'\n"
       ]
      }
     ],
     "prompt_number": 1
    },
    {
     "cell_type": "heading",
     "level": 3,
     "metadata": {},
     "source": [
      "Predict prices and summarize/export at the LUZ level"
     ]
    },
    {
     "cell_type": "code",
     "collapsed": false,
     "input": [
      "%%capture\n",
      "## Accessibility engine\n",
      "sim.run([\"build_networks\", \"neighborhood_vars\"])\n",
      "\n",
      "# Predict prices\n",
      "sim.run([\"rsh_simulate\", \"nrh_simulate\", \"nrh_simulate2\"])\n",
      "\n",
      "##Export LUZ mean prices to csv for visual checking\n",
      "buildings = sim.get_table('buildings').to_frame()\n",
      "luz_res_price = buildings[buildings.residential_units > 0].groupby('luz_id').res_price_per_sqft.mean()\n",
      "luz_nonres_price = buildings[buildings.non_residential_sqft > 0].groupby('luz_id').nonres_rent_per_sqft.mean()\n",
      "df = pd.DataFrame({'res_price':luz_res_price, 'nonres_price':luz_nonres_price})\n",
      "df.fillna(0).to_csv(loader.get_path('out/sim/sd_prices.csv'))\n",
      "\n",
      "# Summarize prices using network queries\n",
      "sim.run(['price_vars'])"
     ],
     "language": "python",
     "metadata": {},
     "outputs": [],
     "prompt_number": 2
    },
    {
     "cell_type": "heading",
     "level": 3,
     "metadata": {},
     "source": [
      "Proforma"
     ]
    },
    {
     "cell_type": "code",
     "collapsed": false,
     "input": [
      "# from urbansim.developer import sqftproforma\n",
      "# # Step 1:  feasibility\n",
      "sim.run(['feasibility'])"
     ],
     "language": "python",
     "metadata": {},
     "outputs": [
      {
       "output_type": "stream",
       "stream": "stdout",
       "text": [
        "Running model 'feasibility'\n",
        "sf_detached\n",
        "Describe of the yearly rent by use"
       ]
      },
      {
       "output_type": "stream",
       "stream": "stdout",
       "text": [
        "\n",
        "count    812735.000000\n",
        "mean          8.651110\n",
        "std           3.396017\n",
        "min          -1.135000\n",
        "25%           6.812989\n",
        "50%           8.287378\n",
        "75%          10.215643\n",
        "max          22.243704\n",
        "Name: residential, dtype: float64"
       ]
      },
      {
       "output_type": "stream",
       "stream": "stdout",
       "text": [
        "\n",
        "9838"
       ]
      },
      {
       "output_type": "stream",
       "stream": "stdout",
       "text": [
        "\n",
        "sf_attached"
       ]
      },
      {
       "output_type": "stream",
       "stream": "stdout",
       "text": [
        "\n",
        "Describe of the yearly rent by use"
       ]
      },
      {
       "output_type": "stream",
       "stream": "stdout",
       "text": [
        "\n",
        "count    812735.000000\n",
        "mean          8.651110\n",
        "std           3.396017\n",
        "min          -1.135000\n",
        "25%           6.812989\n",
        "50%           8.287378\n",
        "75%          10.215643\n",
        "max          22.243704\n",
        "Name: residential, dtype: float64"
       ]
      },
      {
       "output_type": "stream",
       "stream": "stdout",
       "text": [
        "\n",
        "10052"
       ]
      },
      {
       "output_type": "stream",
       "stream": "stdout",
       "text": [
        "\n",
        "mf_residential"
       ]
      },
      {
       "output_type": "stream",
       "stream": "stdout",
       "text": [
        "\n",
        "Describe of the yearly rent by use"
       ]
      },
      {
       "output_type": "stream",
       "stream": "stdout",
       "text": [
        "\n",
        "count    812735.000000\n",
        "mean          8.343549\n",
        "std           3.341259\n",
        "min          -1.654500\n",
        "25%           6.496179\n",
        "50%           8.036130\n",
        "75%           9.845856\n",
        "max          21.864704\n",
        "Name: residential, dtype: float64"
       ]
      },
      {
       "output_type": "stream",
       "stream": "stdout",
       "text": [
        "\n",
        "9063"
       ]
      },
      {
       "output_type": "stream",
       "stream": "stdout",
       "text": [
        "\n",
        "office"
       ]
      },
      {
       "output_type": "stream",
       "stream": "stdout",
       "text": [
        "\n",
        "Describe of the yearly rent by use"
       ]
      },
      {
       "output_type": "stream",
       "stream": "stdout",
       "text": [
        "\n",
        "count    812735.000000\n",
        "mean         12.707102\n",
        "std          10.409045\n",
        "min          -0.479000\n",
        "25%          -0.270000\n",
        "50%          17.414673\n",
        "75%          20.988558\n",
        "max          59.732610\n",
        "Name: office, dtype: float64"
       ]
      },
      {
       "output_type": "stream",
       "stream": "stdout",
       "text": [
        "\n",
        "82934"
       ]
      },
      {
       "output_type": "stream",
       "stream": "stdout",
       "text": [
        "\n",
        "retail"
       ]
      },
      {
       "output_type": "stream",
       "stream": "stdout",
       "text": [
        "\n",
        "Describe of the yearly rent by use"
       ]
      },
      {
       "output_type": "stream",
       "stream": "stdout",
       "text": [
        "\n",
        "count    812735.000000\n",
        "mean         15.577172\n",
        "std           8.036829\n",
        "min          -0.961500\n",
        "25%          15.813921\n",
        "50%          18.059099\n",
        "75%          20.089662\n",
        "max          49.983006\n",
        "Name: retail, dtype: float64"
       ]
      },
      {
       "output_type": "stream",
       "stream": "stdout",
       "text": [
        "\n",
        "115301"
       ]
      },
      {
       "output_type": "stream",
       "stream": "stdout",
       "text": [
        "\n",
        "light_industrial"
       ]
      },
      {
       "output_type": "stream",
       "stream": "stdout",
       "text": [
        "\n",
        "Describe of the yearly rent by use"
       ]
      },
      {
       "output_type": "stream",
       "stream": "stdout",
       "text": [
        "\n",
        "count    812735.000000\n",
        "mean          6.461634\n",
        "std           6.105882\n",
        "min          -0.423000\n",
        "25%          -0.222000\n",
        "50%           9.684079\n",
        "75%          11.404929\n",
        "max          22.849265\n",
        "Name: industrial, dtype: float64"
       ]
      },
      {
       "output_type": "stream",
       "stream": "stdout",
       "text": [
        "\n",
        "15901"
       ]
      },
      {
       "output_type": "stream",
       "stream": "stdout",
       "text": [
        "\n",
        "heavy_industrial"
       ]
      },
      {
       "output_type": "stream",
       "stream": "stdout",
       "text": [
        "\n",
        "Describe of the yearly rent by use"
       ]
      },
      {
       "output_type": "stream",
       "stream": "stdout",
       "text": [
        "\n",
        "count    812735.000000\n",
        "mean          6.461634\n",
        "std           6.105882\n",
        "min          -0.423000\n",
        "25%          -0.222000\n",
        "50%           9.684079\n",
        "75%          11.404929\n",
        "max          22.849265\n",
        "Name: industrial, dtype: float64"
       ]
      },
      {
       "output_type": "stream",
       "stream": "stdout",
       "text": [
        "\n",
        "0"
       ]
      },
      {
       "output_type": "stream",
       "stream": "stdout",
       "text": [
        "\n",
        "Time to execute model 'feasibility': 52.24s"
       ]
      },
      {
       "output_type": "stream",
       "stream": "stdout",
       "text": [
        "\n",
        "Total time to execute: 52.24s\n"
       ]
      }
     ],
     "prompt_number": 3
    },
    {
     "cell_type": "code",
     "collapsed": false,
     "input": [
      "sim.run([\"residential_developer\"])"
     ],
     "language": "python",
     "metadata": {},
     "outputs": [
      {
       "output_type": "stream",
       "stream": "stdout",
       "text": [
        "Running model 'residential_developer'\n",
        "126,381 feasible buildings before running developer"
       ]
      },
      {
       "output_type": "stream",
       "stream": "stdout",
       "text": [
        "\n",
        "sf_detached"
       ]
      },
      {
       "output_type": "stream",
       "stream": "stdout",
       "text": [
        "\n",
        "Sum of net units that are profitable: 59,010"
       ]
      },
      {
       "output_type": "stream",
       "stream": "stdout",
       "text": [
        "\n",
        "11929.0"
       ]
      },
      {
       "output_type": "stream",
       "stream": "stdout",
       "text": [
        "\n",
        "mf_residential"
       ]
      },
      {
       "output_type": "stream",
       "stream": "stdout",
       "text": [
        "\n",
        "Sum of net units that are profitable: 45,447"
       ]
      },
      {
       "output_type": "stream",
       "stream": "stdout",
       "text": [
        "\n",
        "22551.0"
       ]
      },
      {
       "output_type": "stream",
       "stream": "stdout",
       "text": [
        "\n",
        "Time to execute model 'residential_developer': 2.31s"
       ]
      },
      {
       "output_type": "stream",
       "stream": "stdout",
       "text": [
        "\n",
        "Total time to execute: 2.31s\n"
       ]
      }
     ],
     "prompt_number": 4
    },
    {
     "cell_type": "code",
     "collapsed": false,
     "input": [],
     "language": "python",
     "metadata": {},
     "outputs": []
    }
   ],
   "metadata": {}
  }
 ]
}