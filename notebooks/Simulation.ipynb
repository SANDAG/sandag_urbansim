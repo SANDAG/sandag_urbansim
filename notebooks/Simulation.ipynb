{
 "metadata": {
  "name": "",
  "signature": "sha256:32dae5da2b0853713290ae72988f98b05095b6280bf235095b0d230b87ea58d0"
 },
 "nbformat": 3,
 "nbformat_minor": 0,
 "worksheets": [
  {
   "cells": [
    {
     "cell_type": "code",
     "collapsed": false,
     "input": [
      "%load_ext autoreload\n",
      "%autoreload 2\n",
      "import pandas as pd, numpy as np\n",
      "if 'sim' not in globals():\n",
      "    import os; os.chdir('..')\n",
      "import models\n",
      "import urbansim.sim.simulation as sim\n",
      "from spandex import TableLoader\n",
      "\n",
      "loader = TableLoader()"
     ],
     "language": "python",
     "metadata": {},
     "outputs": [
      {
       "output_type": "stream",
       "stream": "stderr",
       "text": [
        "WARNING:spandex.database:Unable to map table to class: Mapper Mapper|loading.building|building could not assemble any primary key columns for mapped table 'building'\n"
       ]
      },
      {
       "output_type": "stream",
       "stream": "stderr",
       "text": [
        "WARNING:spandex.database:Unable to map table to class: Mapper Mapper|loading.parcel|parcel could not assemble any primary key columns for mapped table 'parcel'\n"
       ]
      },
      {
       "output_type": "stream",
       "stream": "stderr",
       "text": [
        "WARNING:spandex.database:Unable to map table to class: Mapper Mapper|loading.zoning|zoning could not assemble any primary key columns for mapped table 'zoning'\n"
       ]
      },
      {
       "output_type": "stream",
       "stream": "stderr",
       "text": [
        "WARNING:spandex.database:Unable to map table to class: Mapper Mapper|public.parcels|parcels could not assemble any primary key columns for mapped table 'parcels'\n"
       ]
      },
      {
       "output_type": "stream",
       "stream": "stderr",
       "text": [
        "WARNING:spandex.database:Unable to map table to class: Mapper Mapper|staging.scheduled_development|scheduled_development could not assemble any primary key columns for mapped table 'scheduled_development'\n"
       ]
      },
      {
       "output_type": "stream",
       "stream": "stderr",
       "text": [
        "WARNING:spandex.database:Unable to map table to class: Mapper Mapper|loading.zoning_allowed_uses|zoning_allowed_uses could not assemble any primary key columns for mapped table 'zoning_allowed_uses'\n"
       ]
      }
     ],
     "prompt_number": 1
    },
    {
     "cell_type": "heading",
     "level": 3,
     "metadata": {},
     "source": [
      "Run all models"
     ]
    },
    {
     "cell_type": "code",
     "collapsed": false,
     "input": [
      "sim.run([\"build_networks\"]) #initialize network accessibility engine\n",
      "sim.run([\"neighborhood_vars\", \"rsh_simulate\", \"nrh_simulate\", \"nrh_simulate2\",  #accessibility variable and price models\n",
      "         \"jobs_transition\", \"elcm_simulate\", \"households_transition\", \"hlcm_simulate\", #demand/location models\n",
      "         \"price_vars\", \"feasibility\", \"residential_developer\", \"non_residential_developer\" #supply/proforma models\n",
      "         ], years=[2015, 2016])"
     ],
     "language": "python",
     "metadata": {},
     "outputs": [
      {
       "output_type": "stream",
       "stream": "stdout",
       "text": [
        "Running model 'build_networks'\n",
        "Time to execute model 'build_networks': 12.80s"
       ]
      },
      {
       "output_type": "stream",
       "stream": "stdout",
       "text": [
        "\n",
        "Total time to execute: 12.80s\n",
        "Running year 2015\n",
        "Running model 'neighborhood_vars'\n",
        "Computing accessibility variables\n",
        "Computing households_1500m\n",
        "Computing jobs_3000m"
       ]
      },
      {
       "output_type": "stream",
       "stream": "stdout",
       "text": [
        "\n",
        "Computing jobs_1500m"
       ]
      },
      {
       "output_type": "stream",
       "stream": "stdout",
       "text": [
        "\n",
        "Computing jobs_800m"
       ]
      },
      {
       "output_type": "stream",
       "stream": "stdout",
       "text": [
        "\n",
        "Computing jobs_400m"
       ]
      },
      {
       "output_type": "stream",
       "stream": "stdout",
       "text": [
        "\n",
        "Computing jobs1"
       ]
      },
      {
       "output_type": "stream",
       "stream": "stdout",
       "text": [
        "\n",
        "Computing jobs2"
       ]
      },
      {
       "output_type": "stream",
       "stream": "stdout",
       "text": [
        "\n",
        "Computing jobs3"
       ]
      },
      {
       "output_type": "stream",
       "stream": "stdout",
       "text": [
        "\n",
        "Computing jobs4"
       ]
      },
      {
       "output_type": "stream",
       "stream": "stdout",
       "text": [
        "\n",
        "Computing jobs5"
       ]
      },
      {
       "output_type": "stream",
       "stream": "stdout",
       "text": [
        "\n",
        "Computing jobs6"
       ]
      },
      {
       "output_type": "stream",
       "stream": "stdout",
       "text": [
        "\n",
        "Computing jobs7"
       ]
      },
      {
       "output_type": "stream",
       "stream": "stdout",
       "text": [
        "\n",
        "Computing jobs8"
       ]
      },
      {
       "output_type": "stream",
       "stream": "stdout",
       "text": [
        "\n",
        "Computing jobs9"
       ]
      },
      {
       "output_type": "stream",
       "stream": "stdout",
       "text": [
        "\n",
        "Computing jobs10"
       ]
      },
      {
       "output_type": "stream",
       "stream": "stdout",
       "text": [
        "\n",
        "Computing jobs11"
       ]
      },
      {
       "output_type": "stream",
       "stream": "stdout",
       "text": [
        "\n",
        "Computing jobs12"
       ]
      },
      {
       "output_type": "stream",
       "stream": "stdout",
       "text": [
        "\n",
        "Computing jobs13"
       ]
      },
      {
       "output_type": "stream",
       "stream": "stdout",
       "text": [
        "\n",
        "Computing jobs14"
       ]
      },
      {
       "output_type": "stream",
       "stream": "stdout",
       "text": [
        "\n",
        "Computing jobs15"
       ]
      },
      {
       "output_type": "stream",
       "stream": "stdout",
       "text": [
        "\n",
        "Computing jobs16"
       ]
      },
      {
       "output_type": "stream",
       "stream": "stdout",
       "text": [
        "\n",
        "Computing jobs17"
       ]
      },
      {
       "output_type": "stream",
       "stream": "stdout",
       "text": [
        "\n",
        "Computing jobs18"
       ]
      },
      {
       "output_type": "stream",
       "stream": "stdout",
       "text": [
        "\n",
        "Computing jobs19"
       ]
      },
      {
       "output_type": "stream",
       "stream": "stdout",
       "text": [
        "\n",
        "Computing jobs20"
       ]
      },
      {
       "output_type": "stream",
       "stream": "stdout",
       "text": [
        "\n",
        "Computing ave_parcel_size"
       ]
      },
      {
       "output_type": "stream",
       "stream": "stdout",
       "text": [
        "\n",
        "Computing ave_income"
       ]
      },
      {
       "output_type": "stream",
       "stream": "stdout",
       "text": [
        "\n",
        "Computing ave_age_of_head_1500m"
       ]
      },
      {
       "output_type": "stream",
       "stream": "stdout",
       "text": [
        "\n",
        "Computing ave_cars_1500m"
       ]
      },
      {
       "output_type": "stream",
       "stream": "stdout",
       "text": [
        "\n",
        "Computing ave_children_1500m"
       ]
      },
      {
       "output_type": "stream",
       "stream": "stdout",
       "text": [
        "\n",
        "Computing ave_year_built_1500m"
       ]
      },
      {
       "output_type": "stream",
       "stream": "stdout",
       "text": [
        "\n",
        "Computing ave_sqft_per_unit_1500m"
       ]
      },
      {
       "output_type": "stream",
       "stream": "stdout",
       "text": [
        "\n",
        "Computing population_400m"
       ]
      },
      {
       "output_type": "stream",
       "stream": "stdout",
       "text": [
        "\n",
        "Computing population_800m"
       ]
      },
      {
       "output_type": "stream",
       "stream": "stdout",
       "text": [
        "\n",
        "Computing population_1500m"
       ]
      },
      {
       "output_type": "stream",
       "stream": "stdout",
       "text": [
        "\n",
        "Computing population_3000m"
       ]
      },
      {
       "output_type": "stream",
       "stream": "stdout",
       "text": [
        "\n",
        "Computing job_spaces_3000m"
       ]
      },
      {
       "output_type": "stream",
       "stream": "stdout",
       "text": [
        "\n",
        "Computing jobs_3000m"
       ]
      },
      {
       "output_type": "stream",
       "stream": "stdout",
       "text": [
        "\n",
        "Computing households_3000m"
       ]
      },
      {
       "output_type": "stream",
       "stream": "stdout",
       "text": [
        "\n",
        "Computing residential_units_3000m"
       ]
      },
      {
       "output_type": "stream",
       "stream": "stdout",
       "text": [
        "\n",
        "Computing residential_units_1500m"
       ]
      },
      {
       "output_type": "stream",
       "stream": "stdout",
       "text": [
        "\n",
        "       households_1500m     jobs_3000m     jobs_1500m      jobs_800m  \\\n",
        "count     104108.000000  104108.000000  104108.000000  104108.000000   \n",
        "mean           4.690738    4914.716746       3.606265       2.266259   \n",
        "std            2.468192    7682.208031       2.708616       2.361109   \n",
        "min            0.000000       0.000000       0.000000       0.000000   \n",
        "25%            3.339522      94.000000       0.214703       0.000000   \n",
        "50%            5.672022    2321.000000       4.045302       1.659738   \n",
        "75%            6.491964    6602.000000       5.949385       4.302172   \n",
        "max            8.592523   63394.000000      10.075518       9.454349   \n",
        "\n",
        "           jobs_400m          jobs1          jobs2          jobs3  \\\n",
        "count  104108.000000  104108.000000  104108.000000  104108.000000   \n",
        "mean        1.267381       0.132250       0.022911       0.132260   \n",
        "std         1.909787       0.472381       0.194986       0.538138   \n",
        "min         0.000000       0.000000       0.000000       0.000000   \n",
        "25%         0.000000       0.000000       0.000000       0.000000   \n",
        "50%         0.000000       0.000000       0.000000       0.000000   \n",
        "75%         2.368596       0.000000       0.000000       0.000000   \n",
        "max         8.413846       5.554225       4.060443       6.757449   \n",
        "\n",
        "               jobs4          jobs5           ...             \\\n",
        "count  104108.000000  104108.000000           ...              \n",
        "mean        0.960796       0.754371           ...              \n",
        "std         1.363279       1.378974           ...              \n",
        "min         0.000000       0.000000           ...              \n",
        "25%         0.000000       0.000000           ...              \n",
        "50%         0.071547       0.000000           ...              \n",
        "75%         1.656728       0.944516           ...              \n",
        "max         6.657378       8.028625           ...              \n",
        "\n",
        "       ave_year_built_1500m  ave_sqft_per_unit_1500m  population_400m  \\\n",
        "count         104108.000000            104108.000000    104108.000000   \n",
        "mean               6.622486                 6.517986         4.104822   \n",
        "std                2.530437                 2.810659         2.515868   \n",
        "min                0.000000                 0.000000         0.000000   \n",
        "25%                7.581806                 7.007087         1.945910   \n",
        "50%                7.587930                 7.368492         5.081404   \n",
        "75%                7.593663                 7.731911         6.063785   \n",
        "max                7.607381                12.676925         9.287580   \n",
        "\n",
        "       population_800m  population_1500m  population_3000m  job_spaces_3000m  \\\n",
        "count    104108.000000     104108.000000     104108.000000     104108.000000   \n",
        "mean          5.222158          6.407621          7.778853     117921.786539   \n",
        "std           2.835985          3.105467          3.390086     364588.034251   \n",
        "min           0.000000          0.000000          0.000000          0.000000   \n",
        "25%           3.737670          5.327876          6.965080        816.000000   \n",
        "50%           6.395262          7.741099          9.301826      16374.500000   \n",
        "75%           7.310550          8.553911          9.944533      54095.500000   \n",
        "max           9.467305         10.374147         11.405497    4553114.000000   \n",
        "\n",
        "       households_3000m  residential_units_3000m  residential_units_1500m  \n",
        "count     104108.000000            104108.000000            104108.000000  \n",
        "mean        5391.699600              6751.103854              1728.826027  \n",
        "std         5821.717135              7191.627055              2254.720089  \n",
        "min            0.000000                 0.000000                 0.000000  \n",
        "25%          394.000000               523.000000               111.000000  \n",
        "50%         4222.000000              5304.000000              1096.000000  \n",
        "75%         7831.000000              9995.250000              2428.000000  \n",
        "max        40312.000000             48219.000000             19885.000000  \n",
        "\n",
        "[8 rows x 40 columns]"
       ]
      },
      {
       "output_type": "stream",
       "stream": "stdout",
       "text": [
        "\n",
        "Time to execute model 'neighborhood_vars': 36.26s\n",
        "Running model 'rsh_simulate'\n",
        ".\\configs\\rsh.yaml\n",
        "count    632386.000000\n",
        "mean        191.082287\n",
        "std          92.089008\n",
        "min           1.114383\n",
        "25%         138.773796\n",
        "50%         184.399269\n",
        "75%         232.299040\n",
        "max        1064.985535\n",
        "dtype: float64"
       ]
      },
      {
       "output_type": "stream",
       "stream": "stdout",
       "text": [
        "\n",
        "Time to execute model 'rsh_simulate': 7.69s\n",
        "Running model 'nrh_simulate'\n",
        ".\\configs\\nrh.yaml\n",
        "count    27077.000000\n",
        "mean        17.682643\n",
        "std          5.080732\n",
        "min          0.336972\n",
        "25%         12.968558\n",
        "50%         18.238000\n",
        "75%         21.338765\n",
        "max         62.056699\n",
        "dtype: float64"
       ]
      },
      {
       "output_type": "stream",
       "stream": "stdout",
       "text": [
        "\n",
        "Time to execute model 'nrh_simulate': 5.07s\n",
        "Running model 'nrh_simulate2'\n",
        ".\\configs\\nrh2.yaml\n",
        "count    75064.000000\n",
        "mean        17.820426\n",
        "std          5.375792\n",
        "min          0.329341\n",
        "25%         15.089396\n",
        "50%         17.874431\n",
        "75%         20.295179\n",
        "max        258.461612\n",
        "dtype: float64"
       ]
      },
      {
       "output_type": "stream",
       "stream": "stdout",
       "text": [
        "\n",
        "Time to execute model 'nrh_simulate2': 3.57s\n",
        "Running model 'jobs_transition'\n",
        "913244 agents before transition\n",
        "958906 agents after transition"
       ]
      },
      {
       "output_type": "stream",
       "stream": "stdout",
       "text": [
        "\n",
        "Time to execute model 'jobs_transition': 0.46s"
       ]
      },
      {
       "output_type": "stream",
       "stream": "stdout",
       "text": [
        "\n",
        "Running model 'elcm_simulate'\n",
        "There are 24050376 total available units"
       ]
      },
      {
       "output_type": "stream",
       "stream": "stdout",
       "text": [
        "\n",
        "    and 958906 total choosers\n",
        "    but there are 1 overfull buildings\n",
        "    for a total of 23137132 temporarily empty units"
       ]
      },
      {
       "output_type": "stream",
       "stream": "stdout",
       "text": [
        "\n",
        "    in 99401 buildings total in the region\n",
        "There are 45662 total movers for this LCM\n",
        "Assigned 45662 choosers to new units"
       ]
      },
      {
       "output_type": "stream",
       "stream": "stdout",
       "text": [
        "\n",
        "Total currently unplaced: 0"
       ]
      },
      {
       "output_type": "stream",
       "stream": "stdout",
       "text": [
        "\n",
        "    and there are now 23091470 empty units"
       ]
      },
      {
       "output_type": "stream",
       "stream": "stdout",
       "text": [
        "\n",
        "    and 0 overfull buildings\n",
        "Time to execute model 'elcm_simulate': 353.52s"
       ]
      },
      {
       "output_type": "stream",
       "stream": "stdout",
       "text": [
        "\n",
        "Running model 'households_transition'\n",
        "Time to execute model 'households_transition': 15.84s"
       ]
      },
      {
       "output_type": "stream",
       "stream": "stdout",
       "text": [
        "\n",
        "Running model 'hlcm_simulate'\n",
        "There are 1161992 total available units"
       ]
      },
      {
       "output_type": "stream",
       "stream": "stdout",
       "text": [
        "\n",
        "    and 1044510 total choosers\n",
        "    but there are 1 overfull buildings\n",
        "    for a total of 300307 temporarily empty units"
       ]
      },
      {
       "output_type": "stream",
       "stream": "stdout",
       "text": [
        "\n",
        "    in 180775 buildings total in the region\n",
        "There are 182825 total movers for this LCM\n",
        "Assigned 182825 choosers to new units"
       ]
      },
      {
       "output_type": "stream",
       "stream": "stdout",
       "text": [
        "\n",
        "Total currently unplaced: 0"
       ]
      },
      {
       "output_type": "stream",
       "stream": "stdout",
       "text": [
        "\n",
        "    and there are now 117482 empty units"
       ]
      },
      {
       "output_type": "stream",
       "stream": "stdout",
       "text": [
        "\n",
        "    and 0 overfull buildings\n",
        "Time to execute model 'hlcm_simulate': 9.93s\n",
        "Running model 'price_vars'\n",
        "Computing accessibility variables\n",
        "Computing residential"
       ]
      },
      {
       "output_type": "stream",
       "stream": "stdout",
       "text": [
        "\n",
        "Computing retail"
       ]
      },
      {
       "output_type": "stream",
       "stream": "stdout",
       "text": [
        "\n",
        "Computing office"
       ]
      },
      {
       "output_type": "stream",
       "stream": "stdout",
       "text": [
        "\n",
        "Computing industrial"
       ]
      },
      {
       "output_type": "stream",
       "stream": "stdout",
       "text": [
        "\n",
        "Computing ave_sqft_per_unit"
       ]
      },
      {
       "output_type": "stream",
       "stream": "stdout",
       "text": [
        "\n",
        "         residential         retail         office     industrial  \\\n",
        "count  104108.000000  104108.000000  104108.000000  104108.000000   \n",
        "mean      158.592237      13.447167      10.716401       5.721355   \n",
        "std        88.279529       9.499840      10.785185       6.122301   \n",
        "min         0.000000       0.000000       0.000000       0.000000   \n",
        "25%       119.869467       0.000000       0.000000       0.000000   \n",
        "50%       168.417641      17.793665      15.914911       0.000000   \n",
        "75%       207.474785      20.168653      20.765211      11.172815   \n",
        "max       546.346558      50.465096      61.885406      23.067339   \n",
        "\n",
        "       ave_sqft_per_unit  \n",
        "count      104108.000000  \n",
        "mean         4318.583330  \n",
        "std         16165.884366  \n",
        "min             0.000000  \n",
        "25%          1249.044861  \n",
        "50%          1680.645813  \n",
        "75%          2357.531067  \n",
        "max        320270.531250  "
       ]
      },
      {
       "output_type": "stream",
       "stream": "stdout",
       "text": [
        "\n",
        "Time to execute model 'price_vars': 6.27s"
       ]
      },
      {
       "output_type": "stream",
       "stream": "stdout",
       "text": [
        "\n",
        "Running model 'feasibility'\n",
        "sf_detached"
       ]
      },
      {
       "output_type": "stream",
       "stream": "stdout",
       "text": [
        "\n",
        "Describe of the yearly rent by use"
       ]
      },
      {
       "output_type": "stream",
       "stream": "stdout",
       "text": [
        "\n",
        "count    812735.000000\n",
        "mean          8.637589\n",
        "std           3.396375\n",
        "min          -1.135000\n",
        "25%           6.770836\n",
        "50%           8.267172\n",
        "75%          10.213510\n",
        "max          22.243581\n",
        "Name: residential, dtype: float64"
       ]
      },
      {
       "output_type": "stream",
       "stream": "stdout",
       "text": [
        "\n",
        "9792"
       ]
      },
      {
       "output_type": "stream",
       "stream": "stdout",
       "text": [
        "\n",
        "sf_attached"
       ]
      },
      {
       "output_type": "stream",
       "stream": "stdout",
       "text": [
        "\n",
        "Describe of the yearly rent by use"
       ]
      },
      {
       "output_type": "stream",
       "stream": "stdout",
       "text": [
        "\n",
        "count    812735.000000\n",
        "mean          8.637589\n",
        "std           3.396375\n",
        "min          -1.135000\n",
        "25%           6.770836\n",
        "50%           8.267172\n",
        "75%          10.213510\n",
        "max          22.243581\n",
        "Name: residential, dtype: float64"
       ]
      },
      {
       "output_type": "stream",
       "stream": "stdout",
       "text": [
        "\n",
        "10010"
       ]
      },
      {
       "output_type": "stream",
       "stream": "stdout",
       "text": [
        "\n",
        "mf_residential"
       ]
      },
      {
       "output_type": "stream",
       "stream": "stdout",
       "text": [
        "\n",
        "Describe of the yearly rent by use"
       ]
      },
      {
       "output_type": "stream",
       "stream": "stdout",
       "text": [
        "\n",
        "count    812735.000000\n",
        "mean          8.330027\n",
        "std           3.341699\n",
        "min          -1.654500\n",
        "25%           6.459229\n",
        "50%           8.022317\n",
        "75%           9.839369\n",
        "max          21.864581\n",
        "Name: residential, dtype: float64"
       ]
      },
      {
       "output_type": "stream",
       "stream": "stdout",
       "text": [
        "\n",
        "8973"
       ]
      },
      {
       "output_type": "stream",
       "stream": "stdout",
       "text": [
        "\n",
        "office"
       ]
      },
      {
       "output_type": "stream",
       "stream": "stdout",
       "text": [
        "\n",
        "Describe of the yearly rent by use"
       ]
      },
      {
       "output_type": "stream",
       "stream": "stdout",
       "text": [
        "\n",
        "count    812735.000000\n",
        "mean         12.707052\n",
        "std          10.415118\n",
        "min          -0.479000\n",
        "25%          -0.270000\n",
        "50%          17.415790\n",
        "75%          20.980483\n",
        "max          61.554906\n",
        "Name: office, dtype: float64"
       ]
      },
      {
       "output_type": "stream",
       "stream": "stdout",
       "text": [
        "\n",
        "83136"
       ]
      },
      {
       "output_type": "stream",
       "stream": "stdout",
       "text": [
        "\n",
        "retail"
       ]
      },
      {
       "output_type": "stream",
       "stream": "stdout",
       "text": [
        "\n",
        "Describe of the yearly rent by use"
       ]
      },
      {
       "output_type": "stream",
       "stream": "stdout",
       "text": [
        "\n",
        "count    812735.000000\n",
        "mean         15.605596\n",
        "std           8.056728\n",
        "min          -0.961500\n",
        "25%          15.839221\n",
        "50%          18.079161\n",
        "75%          20.117736\n",
        "max          50.090096\n",
        "Name: retail, dtype: float64"
       ]
      },
      {
       "output_type": "stream",
       "stream": "stdout",
       "text": [
        "\n",
        "115899"
       ]
      },
      {
       "output_type": "stream",
       "stream": "stdout",
       "text": [
        "\n",
        "light_industrial"
       ]
      },
      {
       "output_type": "stream",
       "stream": "stdout",
       "text": [
        "\n",
        "Describe of the yearly rent by use"
       ]
      },
      {
       "output_type": "stream",
       "stream": "stdout",
       "text": [
        "\n",
        "count    812735.000000\n",
        "mean          6.465398\n",
        "std           6.109809\n",
        "min          -0.423000\n",
        "25%          -0.222000\n",
        "50%           9.708050\n",
        "75%          11.408490\n",
        "max          22.869014\n",
        "Name: industrial, dtype: float64"
       ]
      },
      {
       "output_type": "stream",
       "stream": "stdout",
       "text": [
        "\n",
        "15927"
       ]
      },
      {
       "output_type": "stream",
       "stream": "stdout",
       "text": [
        "\n",
        "heavy_industrial"
       ]
      },
      {
       "output_type": "stream",
       "stream": "stdout",
       "text": [
        "\n",
        "Describe of the yearly rent by use"
       ]
      },
      {
       "output_type": "stream",
       "stream": "stdout",
       "text": [
        "\n",
        "count    812735.000000\n",
        "mean          6.465398\n",
        "std           6.109809\n",
        "min          -0.423000\n",
        "25%          -0.222000\n",
        "50%           9.708050\n",
        "75%          11.408490\n",
        "max          22.869014\n",
        "Name: industrial, dtype: float64"
       ]
      },
      {
       "output_type": "stream",
       "stream": "stdout",
       "text": [
        "\n",
        "0"
       ]
      },
      {
       "output_type": "stream",
       "stream": "stdout",
       "text": [
        "\n",
        "Time to execute model 'feasibility': 53.75s"
       ]
      },
      {
       "output_type": "stream",
       "stream": "stdout",
       "text": [
        "\n",
        "Running model 'residential_developer'\n",
        "126,860 feasible buildings before running developer"
       ]
      },
      {
       "output_type": "stream",
       "stream": "stdout",
       "text": [
        "\n",
        "Residential unit target for sf_detached is 22001."
       ]
      },
      {
       "output_type": "stream",
       "stream": "stdout",
       "text": [
        "\n",
        "sf_detached\n",
        "Sum of net units that are profitable: 58,814"
       ]
      },
      {
       "output_type": "stream",
       "stream": "stdout",
       "text": [
        "\n",
        "Constructed 902 sf_detached buildings, totaling 22447.0 new residential_units"
       ]
      },
      {
       "output_type": "stream",
       "stream": "stdout",
       "text": [
        "\n",
        "Residential unit target for mf_residential is 42586."
       ]
      },
      {
       "output_type": "stream",
       "stream": "stdout",
       "text": [
        "\n",
        "mf_residential\n",
        "Sum of net units that are profitable: 35,794"
       ]
      },
      {
       "output_type": "stream",
       "stream": "stdout",
       "text": [
        "\n",
        "WARNING THERE WERE NOT ENOUGH PROFITABLE UNITS TO MATCH DEMAND\n",
        "Constructed 7404 mf_residential buildings, totaling 36701.0 new residential_units"
       ]
      },
      {
       "output_type": "stream",
       "stream": "stdout",
       "text": [
        "\n",
        "Time to execute model 'residential_developer': 2.49s"
       ]
      },
      {
       "output_type": "stream",
       "stream": "stdout",
       "text": [
        "\n",
        "Running model 'non_residential_developer'\n",
        "126,860 feasible buildings before running developer"
       ]
      },
      {
       "output_type": "stream",
       "stream": "stdout",
       "text": [
        "\n",
        "Job space target for heavy_industrial is -28982.602796."
       ]
      },
      {
       "output_type": "stream",
       "stream": "stdout",
       "text": [
        "\n",
        "Job space target for light_industrial is -132513.3381."
       ]
      },
      {
       "output_type": "stream",
       "stream": "stdout",
       "text": [
        "\n",
        "Job space target for retail is 121130.492525."
       ]
      },
      {
       "output_type": "stream",
       "stream": "stdout",
       "text": [
        "\n",
        "Sum of net units that are profitable: 2,970,471"
       ]
      },
      {
       "output_type": "stream",
       "stream": "stdout",
       "text": [
        "\n",
        "Constructed 227 retail buildings, totaling 127403.532337 new job spaces."
       ]
      },
      {
       "output_type": "stream",
       "stream": "stdout",
       "text": [
        "\n",
        "Job space target for office is 16064.87816."
       ]
      },
      {
       "output_type": "stream",
       "stream": "stdout",
       "text": [
        "\n",
        "Sum of net units that are profitable: 2,305,109"
       ]
      },
      {
       "output_type": "stream",
       "stream": "stdout",
       "text": [
        "\n",
        "Constructed 13 office buildings, totaling 17497.4351332 new job spaces."
       ]
      },
      {
       "output_type": "stream",
       "stream": "stdout",
       "text": [
        "\n",
        "Time to execute model 'non_residential_developer': 2.71s"
       ]
      },
      {
       "output_type": "stream",
       "stream": "stdout",
       "text": [
        "\n",
        "Total time to execute year 2015: 497.56s\n",
        "Running year 2016\n",
        "Running model 'neighborhood_vars'\n",
        "Computing accessibility variables\n",
        "Computing households_1500m\n",
        "Computing jobs_3000m"
       ]
      },
      {
       "output_type": "stream",
       "stream": "stdout",
       "text": [
        "\n",
        "Computing jobs_1500m"
       ]
      },
      {
       "output_type": "stream",
       "stream": "stdout",
       "text": [
        "\n",
        "Computing jobs_800m"
       ]
      },
      {
       "output_type": "stream",
       "stream": "stdout",
       "text": [
        "\n",
        "Computing jobs_400m"
       ]
      },
      {
       "output_type": "stream",
       "stream": "stdout",
       "text": [
        "\n",
        "Computing jobs1"
       ]
      },
      {
       "output_type": "stream",
       "stream": "stdout",
       "text": [
        "\n",
        "Computing jobs2"
       ]
      },
      {
       "output_type": "stream",
       "stream": "stdout",
       "text": [
        "\n",
        "Computing jobs3"
       ]
      },
      {
       "output_type": "stream",
       "stream": "stdout",
       "text": [
        "\n",
        "Computing jobs4"
       ]
      },
      {
       "output_type": "stream",
       "stream": "stdout",
       "text": [
        "\n",
        "Computing jobs5"
       ]
      },
      {
       "output_type": "stream",
       "stream": "stdout",
       "text": [
        "\n",
        "Computing jobs6"
       ]
      },
      {
       "output_type": "stream",
       "stream": "stdout",
       "text": [
        "\n",
        "Computing jobs7"
       ]
      },
      {
       "output_type": "stream",
       "stream": "stdout",
       "text": [
        "\n",
        "Computing jobs8"
       ]
      },
      {
       "output_type": "stream",
       "stream": "stdout",
       "text": [
        "\n",
        "Computing jobs9"
       ]
      },
      {
       "output_type": "stream",
       "stream": "stdout",
       "text": [
        "\n",
        "Computing jobs10"
       ]
      },
      {
       "output_type": "stream",
       "stream": "stdout",
       "text": [
        "\n",
        "Computing jobs11"
       ]
      },
      {
       "output_type": "stream",
       "stream": "stdout",
       "text": [
        "\n",
        "Computing jobs12"
       ]
      },
      {
       "output_type": "stream",
       "stream": "stdout",
       "text": [
        "\n",
        "Computing jobs13"
       ]
      },
      {
       "output_type": "stream",
       "stream": "stdout",
       "text": [
        "\n",
        "Computing jobs14"
       ]
      },
      {
       "output_type": "stream",
       "stream": "stdout",
       "text": [
        "\n",
        "Computing jobs15"
       ]
      },
      {
       "output_type": "stream",
       "stream": "stdout",
       "text": [
        "\n",
        "Computing jobs16"
       ]
      },
      {
       "output_type": "stream",
       "stream": "stdout",
       "text": [
        "\n",
        "Computing jobs17"
       ]
      },
      {
       "output_type": "stream",
       "stream": "stdout",
       "text": [
        "\n",
        "Computing jobs18"
       ]
      },
      {
       "output_type": "stream",
       "stream": "stdout",
       "text": [
        "\n",
        "Computing jobs19"
       ]
      },
      {
       "output_type": "stream",
       "stream": "stdout",
       "text": [
        "\n",
        "Computing jobs20"
       ]
      },
      {
       "output_type": "stream",
       "stream": "stdout",
       "text": [
        "\n",
        "Computing ave_parcel_size"
       ]
      },
      {
       "output_type": "stream",
       "stream": "stdout",
       "text": [
        "\n",
        "Computing ave_income"
       ]
      },
      {
       "output_type": "stream",
       "stream": "stdout",
       "text": [
        "\n",
        "Computing ave_age_of_head_1500m"
       ]
      },
      {
       "output_type": "stream",
       "stream": "stdout",
       "text": [
        "\n",
        "Computing ave_cars_1500m"
       ]
      },
      {
       "output_type": "stream",
       "stream": "stdout",
       "text": [
        "\n",
        "Computing ave_children_1500m"
       ]
      },
      {
       "output_type": "stream",
       "stream": "stdout",
       "text": [
        "\n",
        "Computing ave_year_built_1500m"
       ]
      },
      {
       "output_type": "stream",
       "stream": "stdout",
       "text": [
        "\n",
        "Computing ave_sqft_per_unit_1500m"
       ]
      },
      {
       "output_type": "stream",
       "stream": "stdout",
       "text": [
        "\n",
        "Computing population_400m"
       ]
      },
      {
       "output_type": "stream",
       "stream": "stdout",
       "text": [
        "\n",
        "Computing population_800m"
       ]
      },
      {
       "output_type": "stream",
       "stream": "stdout",
       "text": [
        "\n",
        "Computing population_1500m"
       ]
      },
      {
       "output_type": "stream",
       "stream": "stdout",
       "text": [
        "\n",
        "Computing population_3000m"
       ]
      },
      {
       "output_type": "stream",
       "stream": "stdout",
       "text": [
        "\n",
        "Computing job_spaces_3000m"
       ]
      },
      {
       "output_type": "stream",
       "stream": "stdout",
       "text": [
        "\n",
        "Computing jobs_3000m"
       ]
      },
      {
       "output_type": "stream",
       "stream": "stdout",
       "text": [
        "\n",
        "Computing households_3000m"
       ]
      },
      {
       "output_type": "stream",
       "stream": "stdout",
       "text": [
        "\n",
        "Computing residential_units_3000m"
       ]
      },
      {
       "output_type": "stream",
       "stream": "stdout",
       "text": [
        "\n",
        "Computing residential_units_1500m"
       ]
      },
      {
       "output_type": "stream",
       "stream": "stdout",
       "text": [
        "\n",
        "       households_1500m     jobs_3000m     jobs_1500m      jobs_800m  \\\n",
        "count     104108.000000  104108.000000  104108.000000  104108.000000   \n",
        "mean           4.794366    5160.496465       3.675951       2.343811   \n",
        "std            2.495234    7834.580269       2.732674       2.391833   \n",
        "min            0.000000       0.000000       0.000000       0.000000   \n",
        "25%            3.505489      96.000000       0.311203       0.000000   \n",
        "50%            5.783135    2571.000000       4.196890       1.791759   \n",
        "75%            6.598840    7088.000000       6.042426       4.447506   \n",
        "max            8.948938   64179.000000      10.086021       9.461500   \n",
        "\n",
        "           jobs_400m          jobs1          jobs2          jobs3  \\\n",
        "count  104108.000000  104108.000000  104108.000000  104108.000000   \n",
        "mean        1.339147       0.134253       0.023289       0.135277   \n",
        "std         1.949236       0.475702       0.197486       0.547657   \n",
        "min         0.000000       0.000000       0.000000       0.000000   \n",
        "25%         0.000000       0.000000       0.000000       0.000000   \n",
        "50%         0.000000       0.000000       0.000000       0.000000   \n",
        "75%         2.633409       0.000000       0.000000       0.000000   \n",
        "max         8.424037       5.658872       4.181386       6.800624   \n",
        "\n",
        "               jobs4          jobs5           ...             \\\n",
        "count  104108.000000  104108.000000           ...              \n",
        "mean        0.980050       0.793104           ...              \n",
        "std         1.379911       1.405364           ...              \n",
        "min         0.000000       0.000000           ...              \n",
        "25%         0.000000       0.000000           ...              \n",
        "50%         0.101091       0.000000           ...              \n",
        "75%         1.691161       1.046505           ...              \n",
        "max         6.687135       8.044877           ...              \n",
        "\n",
        "       ave_year_built_1500m  ave_sqft_per_unit_1500m  population_400m  \\\n",
        "count         104108.000000            104108.000000    104108.000000   \n",
        "mean               6.622788                 6.523824         4.216128   \n",
        "std                2.530443                 2.805879         2.549260   \n",
        "min                0.000000                 0.000000         0.000000   \n",
        "25%                7.582168                 7.009662         2.197225   \n",
        "50%                7.588384                 7.369925         5.192957   \n",
        "75%                7.593716                 7.731565         6.173786   \n",
        "max                7.608871                12.676925         9.887155   \n",
        "\n",
        "       population_800m  population_1500m  population_3000m  job_spaces_3000m  \\\n",
        "count    104108.000000     104108.000000     104108.000000     104108.000000   \n",
        "mean          5.342919          6.534774          7.914229     119471.065749   \n",
        "std           2.866176          3.133582          3.417343     364635.124356   \n",
        "min           0.000000          0.000000          0.000000          0.000000   \n",
        "25%           3.951244          5.501258          7.069874        821.000000   \n",
        "50%           6.522093          7.880805          9.458098      17687.000000   \n",
        "75%           7.433667          8.681690         10.095409      58121.000000   \n",
        "max           9.997979         10.485200         11.488366    4555715.000000   \n",
        "\n",
        "       households_3000m  residential_units_3000m  residential_units_1500m  \n",
        "count     104108.000000            104108.000000            104108.000000  \n",
        "mean        6110.318448              7149.221712              1838.553483  \n",
        "std         6609.200109              7803.850569              2460.052439  \n",
        "min            0.000000                 0.000000                 0.000000  \n",
        "25%          436.000000               523.000000               114.000000  \n",
        "50%         4777.000000              5399.000000              1130.000000  \n",
        "75%         8948.250000             10636.000000              2515.000000  \n",
        "max        43807.000000             48219.000000             20132.000000  \n",
        "\n",
        "[8 rows x 40 columns]"
       ]
      },
      {
       "output_type": "stream",
       "stream": "stdout",
       "text": [
        "\n",
        "Time to execute model 'neighborhood_vars': 29.29s\n",
        "Running model 'rsh_simulate'\n",
        ".\\configs\\rsh.yaml\n",
        "count    640692.000000\n",
        "mean        229.283049\n",
        "std         103.757923\n",
        "min           1.114383\n",
        "25%         170.435627\n",
        "50%         226.317406\n",
        "75%         281.778134\n",
        "max        1411.314307\n",
        "dtype: float64"
       ]
      },
      {
       "output_type": "stream",
       "stream": "stdout",
       "text": [
        "\n",
        "Time to execute model 'rsh_simulate': 7.54s"
       ]
      },
      {
       "output_type": "stream",
       "stream": "stdout",
       "text": [
        "\n",
        "Running model 'nrh_simulate'\n",
        ".\\configs\\nrh.yaml\n",
        "count    27317.000000\n",
        "mean        17.817456\n",
        "std          5.190127\n",
        "min          0.337593\n",
        "25%         12.939438\n",
        "50%         18.423279\n",
        "75%         21.474237\n",
        "max         59.101498\n",
        "dtype: float64"
       ]
      },
      {
       "output_type": "stream",
       "stream": "stdout",
       "text": [
        "\n",
        "Time to execute model 'nrh_simulate': 5.01s\n",
        "Running model 'nrh_simulate2'\n",
        ".\\configs\\nrh2.yaml\n",
        "count    75064.000000\n",
        "mean        18.047899\n",
        "std          5.397512\n",
        "min          0.331463\n",
        "25%         15.226894\n",
        "50%         18.131500\n",
        "75%         20.576524\n",
        "max        275.730899\n",
        "dtype: float64"
       ]
      },
      {
       "output_type": "stream",
       "stream": "stdout",
       "text": [
        "\n",
        "Time to execute model 'nrh_simulate2': 3.62s\n",
        "Running model 'jobs_transition'\n",
        "958906 agents before transition\n",
        "1006851 agents after transition"
       ]
      },
      {
       "output_type": "stream",
       "stream": "stdout",
       "text": [
        "\n",
        "Time to execute model 'jobs_transition': 0.49s"
       ]
      },
      {
       "output_type": "stream",
       "stream": "stdout",
       "text": [
        "\n",
        "Running model 'elcm_simulate'\n",
        "There are 24340180 total available units"
       ]
      },
      {
       "output_type": "stream",
       "stream": "stdout",
       "text": [
        "\n",
        "    and 1006851 total choosers\n",
        "    but there are 1 overfull buildings\n",
        "    for a total of 23381274 temporarily empty units"
       ]
      },
      {
       "output_type": "stream",
       "stream": "stdout",
       "text": [
        "\n",
        "    in 99641 buildings total in the region\n",
        "There are 47945 total movers for this LCM\n",
        "Assigned 47945 choosers to new units"
       ]
      },
      {
       "output_type": "stream",
       "stream": "stdout",
       "text": [
        "\n",
        "Total currently unplaced: 0"
       ]
      },
      {
       "output_type": "stream",
       "stream": "stdout",
       "text": [
        "\n",
        "    and there are now 23333329 empty units"
       ]
      },
      {
       "output_type": "stream",
       "stream": "stdout",
       "text": [
        "\n",
        "    and 0 overfull buildings\n",
        "Time to execute model 'elcm_simulate': 366.87s"
       ]
      },
      {
       "output_type": "stream",
       "stream": "stdout",
       "text": [
        "\n",
        "Running model 'households_transition'\n",
        "Time to execute model 'households_transition': 15.27s"
       ]
      },
      {
       "output_type": "stream",
       "stream": "stdout",
       "text": [
        "\n",
        "Running model 'hlcm_simulate'\n",
        "There are 1221140 total available units"
       ]
      },
      {
       "output_type": "stream",
       "stream": "stdout",
       "text": [
        "\n",
        "    and 1056314 total choosers\n",
        "    but there are 1 overfull buildings\n",
        "    for a total of 185422 temporarily empty units"
       ]
      },
      {
       "output_type": "stream",
       "stream": "stdout",
       "text": [
        "\n",
        "    in 128623 buildings total in the region\n",
        "There are 20596 total movers for this LCM\n",
        "Assigned 20596 choosers to new units"
       ]
      },
      {
       "output_type": "stream",
       "stream": "stdout",
       "text": [
        "\n",
        "Total currently unplaced: 0"
       ]
      },
      {
       "output_type": "stream",
       "stream": "stdout",
       "text": [
        "\n",
        "    and there are now 164826 empty units"
       ]
      },
      {
       "output_type": "stream",
       "stream": "stdout",
       "text": [
        "\n",
        "    and 0 overfull buildings\n",
        "Time to execute model 'hlcm_simulate': 8.46s\n",
        "Running model 'price_vars'\n",
        "Computing accessibility variables\n",
        "Computing residential\n",
        "Computing retail"
       ]
      },
      {
       "output_type": "stream",
       "stream": "stdout",
       "text": [
        "\n",
        "Computing office"
       ]
      },
      {
       "output_type": "stream",
       "stream": "stdout",
       "text": [
        "\n",
        "Computing industrial"
       ]
      },
      {
       "output_type": "stream",
       "stream": "stdout",
       "text": [
        "\n",
        "Computing ave_sqft_per_unit"
       ]
      },
      {
       "output_type": "stream",
       "stream": "stdout",
       "text": [
        "\n",
        "         residential         retail         office     industrial  \\\n",
        "count  104108.000000  104108.000000  104108.000000  104108.000000   \n",
        "mean      192.112430      13.708865      10.780399       5.694673   \n",
        "std        99.376247       9.626071      10.821430       6.083061   \n",
        "min         0.000000       0.000000       0.000000       0.000000   \n",
        "25%       155.553085       0.000000       0.000000       0.000000   \n",
        "50%       208.840240      17.994852      16.024931       0.000000   \n",
        "75%       251.173893      20.474486      20.841578      11.188922   \n",
        "max       637.355042      46.781544      58.939854      23.088589   \n",
        "\n",
        "       ave_sqft_per_unit  \n",
        "count      104108.000000  \n",
        "mean         4319.927939  \n",
        "std         16165.511163  \n",
        "min             0.000000  \n",
        "25%          1252.164612  \n",
        "50%          1681.637634  \n",
        "75%          2357.565125  \n",
        "max        320270.531250  "
       ]
      },
      {
       "output_type": "stream",
       "stream": "stdout",
       "text": [
        "\n",
        "Time to execute model 'price_vars': 5.20s\n",
        "Running model 'feasibility'\n",
        "sf_detached\n",
        "Describe of the yearly rent by use"
       ]
      },
      {
       "output_type": "stream",
       "stream": "stdout",
       "text": [
        "\n",
        "count    812735.000000\n",
        "mean         10.522775\n",
        "std           3.424704\n",
        "min          -1.135000\n",
        "25%           8.538328\n",
        "50%          10.302166\n",
        "75%          12.477691\n",
        "max          29.822737\n",
        "Name: residential, dtype: float64"
       ]
      },
      {
       "output_type": "stream",
       "stream": "stdout",
       "text": [
        "\n",
        "9962"
       ]
      },
      {
       "output_type": "stream",
       "stream": "stdout",
       "text": [
        "\n",
        "sf_attached"
       ]
      },
      {
       "output_type": "stream",
       "stream": "stdout",
       "text": [
        "\n",
        "Describe of the yearly rent by use"
       ]
      },
      {
       "output_type": "stream",
       "stream": "stdout",
       "text": [
        "\n",
        "count    812735.000000\n",
        "mean         10.522775\n",
        "std           3.424704\n",
        "min          -1.135000\n",
        "25%           8.538328\n",
        "50%          10.302166\n",
        "75%          12.477691\n",
        "max          29.822737\n",
        "Name: residential, dtype: float64"
       ]
      },
      {
       "output_type": "stream",
       "stream": "stdout",
       "text": [
        "\n",
        "9939"
       ]
      },
      {
       "output_type": "stream",
       "stream": "stdout",
       "text": [
        "\n",
        "mf_residential"
       ]
      },
      {
       "output_type": "stream",
       "stream": "stdout",
       "text": [
        "\n",
        "Describe of the yearly rent by use"
       ]
      },
      {
       "output_type": "stream",
       "stream": "stdout",
       "text": [
        "\n",
        "count    812735.000000\n",
        "mean         10.215213\n",
        "std           3.375760\n",
        "min          -1.654500\n",
        "25%           8.210451\n",
        "50%          10.004401\n",
        "75%          12.178200\n",
        "max          29.547737\n",
        "Name: residential, dtype: float64"
       ]
      },
      {
       "output_type": "stream",
       "stream": "stdout",
       "text": [
        "\n",
        "8757"
       ]
      },
      {
       "output_type": "stream",
       "stream": "stdout",
       "text": [
        "\n",
        "office"
       ]
      },
      {
       "output_type": "stream",
       "stream": "stdout",
       "text": [
        "\n",
        "Describe of the yearly rent by use"
       ]
      },
      {
       "output_type": "stream",
       "stream": "stdout",
       "text": [
        "\n",
        "count    812735.000000\n",
        "mean         12.779720\n",
        "std          10.438659\n",
        "min          -0.479000\n",
        "25%          -0.267500\n",
        "50%          17.496513\n",
        "75%          21.039219\n",
        "max          58.609354\n",
        "Name: office, dtype: float64"
       ]
      },
      {
       "output_type": "stream",
       "stream": "stdout",
       "text": [
        "\n",
        "79153"
       ]
      },
      {
       "output_type": "stream",
       "stream": "stdout",
       "text": [
        "\n",
        "retail"
       ]
      },
      {
       "output_type": "stream",
       "stream": "stdout",
       "text": [
        "\n",
        "Describe of the yearly rent by use"
       ]
      },
      {
       "output_type": "stream",
       "stream": "stdout",
       "text": [
        "\n",
        "count    812735.000000\n",
        "mean         15.916824\n",
        "std           8.120125\n",
        "min          -0.961500\n",
        "25%          16.128481\n",
        "50%          18.377987\n",
        "75%          20.451036\n",
        "max          46.406544\n",
        "Name: retail, dtype: float64"
       ]
      },
      {
       "output_type": "stream",
       "stream": "stdout",
       "text": [
        "\n",
        "107406"
       ]
      },
      {
       "output_type": "stream",
       "stream": "stdout",
       "text": [
        "\n",
        "light_industrial"
       ]
      },
      {
       "output_type": "stream",
       "stream": "stdout",
       "text": [
        "\n",
        "Describe of the yearly rent by use"
       ]
      },
      {
       "output_type": "stream",
       "stream": "stdout",
       "text": [
        "\n",
        "count    812735.000000\n",
        "mean          6.430148\n",
        "std           6.064203\n",
        "min          -0.423000\n",
        "25%          -0.222000\n",
        "50%           9.743191\n",
        "75%          11.357092\n",
        "max          22.890263\n",
        "Name: industrial, dtype: float64"
       ]
      },
      {
       "output_type": "stream",
       "stream": "stdout",
       "text": [
        "\n",
        "14458"
       ]
      },
      {
       "output_type": "stream",
       "stream": "stdout",
       "text": [
        "\n",
        "heavy_industrial"
       ]
      },
      {
       "output_type": "stream",
       "stream": "stdout",
       "text": [
        "\n",
        "Describe of the yearly rent by use"
       ]
      },
      {
       "output_type": "stream",
       "stream": "stdout",
       "text": [
        "\n",
        "count    812735.000000\n",
        "mean          6.430148\n",
        "std           6.064203\n",
        "min          -0.423000\n",
        "25%          -0.222000\n",
        "50%           9.743191\n",
        "75%          11.357092\n",
        "max          22.890263\n",
        "Name: industrial, dtype: float64"
       ]
      },
      {
       "output_type": "stream",
       "stream": "stdout",
       "text": [
        "\n",
        "0"
       ]
      },
      {
       "output_type": "stream",
       "stream": "stdout",
       "text": [
        "\n",
        "Time to execute model 'feasibility': 33.29s"
       ]
      },
      {
       "output_type": "stream",
       "stream": "stdout",
       "text": [
        "\n",
        "Running model 'residential_developer'\n",
        "116,585 feasible buildings before running developer"
       ]
      },
      {
       "output_type": "stream",
       "stream": "stdout",
       "text": [
        "\n",
        "Residential unit target for sf_detached is 4181.0."
       ]
      },
      {
       "output_type": "stream",
       "stream": "stdout",
       "text": [
        "\n",
        "sf_detached\n",
        "Sum of net units that are profitable: 65,614"
       ]
      },
      {
       "output_type": "stream",
       "stream": "stdout",
       "text": [
        "\n",
        "Constructed 81 sf_detached buildings, totaling 4706.0 new residential_units\n",
        "Residential unit target for mf_residential is 13874.0."
       ]
      },
      {
       "output_type": "stream",
       "stream": "stdout",
       "text": [
        "\n",
        "mf_residential\n",
        "Sum of net units that are profitable: 59,160"
       ]
      },
      {
       "output_type": "stream",
       "stream": "stdout",
       "text": [
        "\n",
        "Constructed 404 mf_residential buildings, totaling 14129.0 new residential_units\n",
        "Time to execute model 'residential_developer': 2.06s"
       ]
      },
      {
       "output_type": "stream",
       "stream": "stdout",
       "text": [
        "\n",
        "Running model 'non_residential_developer'\n",
        "116,585 feasible buildings before running developer"
       ]
      },
      {
       "output_type": "stream",
       "stream": "stdout",
       "text": [
        "\n",
        "Job space target for heavy_industrial is -28958.8183791."
       ]
      },
      {
       "output_type": "stream",
       "stream": "stdout",
       "text": [
        "\n",
        "Job space target for light_industrial is -120655.0918."
       ]
      },
      {
       "output_type": "stream",
       "stream": "stdout",
       "text": [
        "\n",
        "Job space target for retail is 5244.42448803."
       ]
      },
      {
       "output_type": "stream",
       "stream": "stdout",
       "text": [
        "\n",
        "Sum of net units that are profitable: 2,793,773"
       ]
      },
      {
       "output_type": "stream",
       "stream": "stdout",
       "text": [
        "\n",
        "Constructed 22 retail buildings, totaling 6714.05643764 new job spaces."
       ]
      },
      {
       "output_type": "stream",
       "stream": "stdout",
       "text": [
        "\n",
        "Job space target for office is 3518.30848677."
       ]
      },
      {
       "output_type": "stream",
       "stream": "stdout",
       "text": [
        "\n",
        "Sum of net units that are profitable: 2,249,402"
       ]
      },
      {
       "output_type": "stream",
       "stream": "stdout",
       "text": [
        "\n",
        "Constructed 7 office buildings, totaling 3525.25268715 new job spaces."
       ]
      },
      {
       "output_type": "stream",
       "stream": "stdout",
       "text": [
        "\n",
        "Time to execute model 'non_residential_developer': 2.52s"
       ]
      },
      {
       "output_type": "stream",
       "stream": "stdout",
       "text": [
        "\n",
        "Total time to execute year 2016: 479.63s\n"
       ]
      },
      {
       "output_type": "stream",
       "stream": "stderr",
       "text": [
        "c:\\Anaconda\\lib\\site-packages\\pandas\\util\\decorators.py:13: FutureWarning: diff is deprecated. Use difference instead\n",
        "  FutureWarning)\n"
       ]
      }
     ],
     "prompt_number": 2
    },
    {
     "cell_type": "code",
     "collapsed": false,
     "input": [
      "bsim = sim.get_table('buildings').to_frame()\n",
      "bsim = bsim[bsim.note == 'simulated']\n",
      "luz_simdu = bsim.groupby('luz_id').residential_units.sum()\n",
      "luz_simnr = bsim.groupby('luz_id').non_residential_sqft.sum()\n",
      "luz_res_price = bsim[bsim.residential_units > 0].groupby('luz_id').res_price_per_sqft.mean()\n",
      "luz_nonres_price = bsim[bsim.non_residential_sqft > 0].groupby('luz_id').nonres_rent_per_sqft.mean()\n",
      "luz_df = pd.DataFrame({'du':luz_simdu, 'nrsf':luz_simnr, 'res_price':luz_res_price, 'nonres_price':luz_nonres_price})\n",
      "luz_df.to_csv(loader.get_path('out/luz_sim_indicators.csv'))"
     ],
     "language": "python",
     "metadata": {},
     "outputs": [],
     "prompt_number": 5
    },
    {
     "cell_type": "heading",
     "level": 3,
     "metadata": {},
     "source": [
      "Predict prices and summarize/export at the LUZ level"
     ]
    },
    {
     "cell_type": "code",
     "collapsed": false,
     "input": [
      "%%capture\n",
      "## Accessibility engine\n",
      "sim.run([\"build_networks\", \"neighborhood_vars\"])\n",
      "\n",
      "# Predict prices\n",
      "sim.run([\"rsh_simulate\", \"nrh_simulate\", \"nrh_simulate2\"])\n",
      "\n",
      "##Export LUZ mean prices to csv for visual checking\n",
      "buildings = sim.get_table('buildings').to_frame()\n",
      "luz_res_price = buildings[buildings.residential_units > 0].groupby('luz_id').res_price_per_sqft.mean()\n",
      "luz_nonres_price = buildings[buildings.non_residential_sqft > 0].groupby('luz_id').nonres_rent_per_sqft.mean()\n",
      "df = pd.DataFrame({'res_price':luz_res_price, 'nonres_price':luz_nonres_price})\n",
      "df.fillna(0).to_csv(loader.get_path('out/sim/sd_prices.csv'))\n",
      "\n",
      "# Summarize prices using network queries\n",
      "sim.run(['price_vars'])"
     ],
     "language": "python",
     "metadata": {},
     "outputs": [],
     "prompt_number": 3
    },
    {
     "cell_type": "heading",
     "level": 3,
     "metadata": {},
     "source": [
      "Proforma"
     ]
    },
    {
     "cell_type": "code",
     "collapsed": false,
     "input": [
      "# from urbansim.developer import sqftproforma\n",
      "# # Step 1:  feasibility\n",
      "sim.run(['feasibility'])"
     ],
     "language": "python",
     "metadata": {},
     "outputs": [
      {
       "output_type": "stream",
       "stream": "stdout",
       "text": [
        "Running model 'feasibility'\n",
        "sf_detached"
       ]
      },
      {
       "output_type": "stream",
       "stream": "stdout",
       "text": [
        "\n",
        "Describe of the yearly rent by use"
       ]
      },
      {
       "output_type": "stream",
       "stream": "stdout",
       "text": [
        "\n",
        "count    812735.000000\n",
        "mean          8.651110\n",
        "std           3.396017\n",
        "min          -1.135000\n",
        "25%           6.812989\n",
        "50%           8.287378\n",
        "75%          10.215643\n",
        "max          22.243704\n",
        "Name: residential, dtype: float64"
       ]
      },
      {
       "output_type": "stream",
       "stream": "stdout",
       "text": [
        "\n",
        "9838"
       ]
      },
      {
       "output_type": "stream",
       "stream": "stdout",
       "text": [
        "\n",
        "sf_attached"
       ]
      },
      {
       "output_type": "stream",
       "stream": "stdout",
       "text": [
        "\n",
        "Describe of the yearly rent by use"
       ]
      },
      {
       "output_type": "stream",
       "stream": "stdout",
       "text": [
        "\n",
        "count    812735.000000\n",
        "mean          8.651110\n",
        "std           3.396017\n",
        "min          -1.135000\n",
        "25%           6.812989\n",
        "50%           8.287378\n",
        "75%          10.215643\n",
        "max          22.243704\n",
        "Name: residential, dtype: float64"
       ]
      },
      {
       "output_type": "stream",
       "stream": "stdout",
       "text": [
        "\n",
        "10052"
       ]
      },
      {
       "output_type": "stream",
       "stream": "stdout",
       "text": [
        "\n",
        "mf_residential"
       ]
      },
      {
       "output_type": "stream",
       "stream": "stdout",
       "text": [
        "\n",
        "Describe of the yearly rent by use"
       ]
      },
      {
       "output_type": "stream",
       "stream": "stdout",
       "text": [
        "\n",
        "count    812735.000000\n",
        "mean          8.343549\n",
        "std           3.341259\n",
        "min          -1.654500\n",
        "25%           6.496179\n",
        "50%           8.036130\n",
        "75%           9.845856\n",
        "max          21.864704\n",
        "Name: residential, dtype: float64"
       ]
      },
      {
       "output_type": "stream",
       "stream": "stdout",
       "text": [
        "\n",
        "9063"
       ]
      },
      {
       "output_type": "stream",
       "stream": "stdout",
       "text": [
        "\n",
        "office"
       ]
      },
      {
       "output_type": "stream",
       "stream": "stdout",
       "text": [
        "\n",
        "Describe of the yearly rent by use"
       ]
      },
      {
       "output_type": "stream",
       "stream": "stdout",
       "text": [
        "\n",
        "count    812735.000000\n",
        "mean         12.707102\n",
        "std          10.409045\n",
        "min          -0.479000\n",
        "25%          -0.270000\n",
        "50%          17.414673\n",
        "75%          20.988558\n",
        "max          59.732610\n",
        "Name: office, dtype: float64"
       ]
      },
      {
       "output_type": "stream",
       "stream": "stdout",
       "text": [
        "\n",
        "82934"
       ]
      },
      {
       "output_type": "stream",
       "stream": "stdout",
       "text": [
        "\n",
        "retail"
       ]
      },
      {
       "output_type": "stream",
       "stream": "stdout",
       "text": [
        "\n",
        "Describe of the yearly rent by use"
       ]
      },
      {
       "output_type": "stream",
       "stream": "stdout",
       "text": [
        "\n",
        "count    812735.000000\n",
        "mean         15.577172\n",
        "std           8.036829\n",
        "min          -0.961500\n",
        "25%          15.813921\n",
        "50%          18.059099\n",
        "75%          20.089662\n",
        "max          49.983006\n",
        "Name: retail, dtype: float64"
       ]
      },
      {
       "output_type": "stream",
       "stream": "stdout",
       "text": [
        "\n",
        "115301"
       ]
      },
      {
       "output_type": "stream",
       "stream": "stdout",
       "text": [
        "\n",
        "light_industrial"
       ]
      },
      {
       "output_type": "stream",
       "stream": "stdout",
       "text": [
        "\n",
        "Describe of the yearly rent by use"
       ]
      },
      {
       "output_type": "stream",
       "stream": "stdout",
       "text": [
        "\n",
        "count    812735.000000\n",
        "mean          6.461634\n",
        "std           6.105882\n",
        "min          -0.423000\n",
        "25%          -0.222000\n",
        "50%           9.684079\n",
        "75%          11.404929\n",
        "max          22.849265\n",
        "Name: industrial, dtype: float64"
       ]
      },
      {
       "output_type": "stream",
       "stream": "stdout",
       "text": [
        "\n",
        "15901"
       ]
      },
      {
       "output_type": "stream",
       "stream": "stdout",
       "text": [
        "\n",
        "heavy_industrial"
       ]
      },
      {
       "output_type": "stream",
       "stream": "stdout",
       "text": [
        "\n",
        "Describe of the yearly rent by use"
       ]
      },
      {
       "output_type": "stream",
       "stream": "stdout",
       "text": [
        "\n",
        "count    812735.000000\n",
        "mean          6.461634\n",
        "std           6.105882\n",
        "min          -0.423000\n",
        "25%          -0.222000\n",
        "50%           9.684079\n",
        "75%          11.404929\n",
        "max          22.849265\n",
        "Name: industrial, dtype: float64"
       ]
      },
      {
       "output_type": "stream",
       "stream": "stdout",
       "text": [
        "\n",
        "0"
       ]
      },
      {
       "output_type": "stream",
       "stream": "stdout",
       "text": [
        "\n",
        "Time to execute model 'feasibility': 54.20s"
       ]
      },
      {
       "output_type": "stream",
       "stream": "stdout",
       "text": [
        "\n",
        "Total time to execute: 54.20s\n"
       ]
      }
     ],
     "prompt_number": 4
    },
    {
     "cell_type": "code",
     "collapsed": false,
     "input": [
      "sim.run([\"residential_developer\"])"
     ],
     "language": "python",
     "metadata": {},
     "outputs": [
      {
       "output_type": "stream",
       "stream": "stdout",
       "text": [
        "Running model 'residential_developer'\n",
        "126,381 feasible buildings before running developer"
       ]
      },
      {
       "output_type": "stream",
       "stream": "stdout",
       "text": [
        "\n",
        "Residential unit target for sf_detached is 11593."
       ]
      },
      {
       "output_type": "stream",
       "stream": "stdout",
       "text": [
        "\n",
        "sf_detached\n",
        "Sum of net units that are profitable: 59,010"
       ]
      },
      {
       "output_type": "stream",
       "stream": "stdout",
       "text": [
        "\n",
        "Constructed 362 sf_detached buildings, totaling 11918.0 new residential_units"
       ]
      },
      {
       "output_type": "stream",
       "stream": "stdout",
       "text": [
        "\n",
        "Residential unit target for mf_residential is 22281."
       ]
      },
      {
       "output_type": "stream",
       "stream": "stdout",
       "text": [
        "\n",
        "mf_residential\n",
        "Sum of net units that are profitable: 45,222"
       ]
      },
      {
       "output_type": "stream",
       "stream": "stdout",
       "text": [
        "\n",
        "Constructed 1786 mf_residential buildings, totaling 22473.0 new residential_units"
       ]
      },
      {
       "output_type": "stream",
       "stream": "stdout",
       "text": [
        "\n",
        "Time to execute model 'residential_developer': 2.34s"
       ]
      },
      {
       "output_type": "stream",
       "stream": "stdout",
       "text": [
        "\n",
        "Total time to execute: 2.34s\n"
       ]
      }
     ],
     "prompt_number": 9
    },
    {
     "cell_type": "code",
     "collapsed": false,
     "input": [
      "sim.run([\"non_residential_developer\"])"
     ],
     "language": "python",
     "metadata": {},
     "outputs": [
      {
       "output_type": "stream",
       "stream": "stdout",
       "text": [
        "Running model 'non_residential_developer'\n",
        "126,381 feasible buildings before running developer"
       ]
      },
      {
       "output_type": "stream",
       "stream": "stdout",
       "text": [
        "\n",
        "Job space target for heavy_industrial is -29066.2632819."
       ]
      },
      {
       "output_type": "stream",
       "stream": "stdout",
       "text": [
        "\n",
        "Job space target for light_industrial is -161236.61205."
       ]
      },
      {
       "output_type": "stream",
       "stream": "stdout",
       "text": [
        "\n",
        "Job space target for retail is 80943.57245."
       ]
      },
      {
       "output_type": "stream",
       "stream": "stdout",
       "text": [
        "\n",
        "Sum of net units that are profitable: 2,965,943"
       ]
      },
      {
       "output_type": "stream",
       "stream": "stdout",
       "text": [
        "\n",
        "Constructed 165 retail buildings, totaling 88035.3858669 new job spaces."
       ]
      },
      {
       "output_type": "stream",
       "stream": "stdout",
       "text": [
        "\n",
        "Job space target for office is 224.8770275."
       ]
      },
      {
       "output_type": "stream",
       "stream": "stdout",
       "text": [
        "\n",
        "Sum of net units that are profitable: 2,327,585"
       ]
      },
      {
       "output_type": "stream",
       "stream": "stdout",
       "text": [
        "\n",
        "Constructed 4 office buildings, totaling 283.597888617 new job spaces."
       ]
      },
      {
       "output_type": "stream",
       "stream": "stdout",
       "text": [
        "\n",
        "Time to execute model 'non_residential_developer': 2.51s"
       ]
      },
      {
       "output_type": "stream",
       "stream": "stdout",
       "text": [
        "\n",
        "Total time to execute: 2.51s\n"
       ]
      }
     ],
     "prompt_number": 10
    }
   ],
   "metadata": {}
  }
 ]
}