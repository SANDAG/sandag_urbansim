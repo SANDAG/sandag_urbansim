{
 "metadata": {
  "name": "",
  "signature": "sha256:766c018d3b41d979f5de7f5c7f49335f4c758c499d57cba836c939106799419b"
 },
 "nbformat": 3,
 "nbformat_minor": 0,
 "worksheets": [
  {
   "cells": [
    {
     "cell_type": "code",
     "collapsed": false,
     "input": [
      "%load_ext autoreload\n",
      "%autoreload 2\n",
      "import pandas as pd, numpy as np\n",
      "if 'sim' not in globals():\n",
      "    import os; os.chdir('..')\n",
      "import models\n",
      "import urbansim.sim.simulation as sim\n",
      "from spandex import TableLoader\n",
      "\n",
      "loader = TableLoader()"
     ],
     "language": "python",
     "metadata": {},
     "outputs": [
      {
       "output_type": "stream",
       "stream": "stderr",
       "text": [
        "WARNING:spandex.database:Unable to map table to class: Mapper Mapper|loading.building|building could not assemble any primary key columns for mapped table 'building'\n"
       ]
      },
      {
       "output_type": "stream",
       "stream": "stderr",
       "text": [
        "WARNING:spandex.database:Unable to map table to class: Mapper Mapper|loading.parcel|parcel could not assemble any primary key columns for mapped table 'parcel'\n"
       ]
      },
      {
       "output_type": "stream",
       "stream": "stderr",
       "text": [
        "WARNING:spandex.database:Unable to map table to class: Mapper Mapper|loading.zoning|zoning could not assemble any primary key columns for mapped table 'zoning'\n"
       ]
      },
      {
       "output_type": "stream",
       "stream": "stderr",
       "text": [
        "WARNING:spandex.database:Unable to map table to class: Mapper Mapper|public.parcels|parcels could not assemble any primary key columns for mapped table 'parcels'\n"
       ]
      },
      {
       "output_type": "stream",
       "stream": "stderr",
       "text": [
        "WARNING:spandex.database:Unable to map table to class: Mapper Mapper|staging.scheduled_development|scheduled_development could not assemble any primary key columns for mapped table 'scheduled_development'\n"
       ]
      },
      {
       "output_type": "stream",
       "stream": "stderr",
       "text": [
        "WARNING:spandex.database:Unable to map table to class: Mapper Mapper|loading.zoning_allowed_uses|zoning_allowed_uses could not assemble any primary key columns for mapped table 'zoning_allowed_uses'\n"
       ]
      }
     ],
     "prompt_number": 1
    },
    {
     "cell_type": "heading",
     "level": 3,
     "metadata": {},
     "source": [
      "Run all models"
     ]
    },
    {
     "cell_type": "code",
     "collapsed": false,
     "input": [
      "sim.run([\"build_networks\"]) #initialize network accessibility engine\n",
      "sim.run([\"neighborhood_vars\", \"rsh_simulate\", \"nrh_simulate\", \"nrh_simulate2\",  #accessibility variable and price models\n",
      "         \"jobs_transition\", \"elcm_simulate\", \"households_transition\", \"hlcm_simulate\", #demand/location models\n",
      "         \"price_vars\", \"feasibility\", \"residential_developer\", \"non_residential_developer\" #supply/proforma models\n",
      "         ], years=[2015, 2016])"
     ],
     "language": "python",
     "metadata": {},
     "outputs": [
      {
       "output_type": "stream",
       "stream": "stdout",
       "text": [
        "Running model 'build_networks'\n",
        "Time to execute model 'build_networks': 16.00s"
       ]
      },
      {
       "output_type": "stream",
       "stream": "stdout",
       "text": [
        "\n",
        "Total time to execute: 16.02s\n",
        "Running year 2015\n",
        "Running model 'neighborhood_vars'\n",
        "Computing accessibility variables\n",
        "Computing households_1500m\n",
        "Computing jobs_3000m"
       ]
      },
      {
       "output_type": "stream",
       "stream": "stdout",
       "text": [
        "\n",
        "Computing jobs_1500m"
       ]
      },
      {
       "output_type": "stream",
       "stream": "stdout",
       "text": [
        "\n",
        "Computing jobs_800m"
       ]
      },
      {
       "output_type": "stream",
       "stream": "stdout",
       "text": [
        "\n",
        "Computing jobs_400m"
       ]
      },
      {
       "output_type": "stream",
       "stream": "stdout",
       "text": [
        "\n",
        "Computing jobs1"
       ]
      },
      {
       "output_type": "stream",
       "stream": "stdout",
       "text": [
        "\n",
        "Computing jobs2"
       ]
      },
      {
       "output_type": "stream",
       "stream": "stdout",
       "text": [
        "\n",
        "Computing jobs3"
       ]
      },
      {
       "output_type": "stream",
       "stream": "stdout",
       "text": [
        "\n",
        "Computing jobs4"
       ]
      },
      {
       "output_type": "stream",
       "stream": "stdout",
       "text": [
        "\n",
        "Computing jobs5"
       ]
      },
      {
       "output_type": "stream",
       "stream": "stdout",
       "text": [
        "\n",
        "Computing jobs6"
       ]
      },
      {
       "output_type": "stream",
       "stream": "stdout",
       "text": [
        "\n",
        "Computing jobs7"
       ]
      },
      {
       "output_type": "stream",
       "stream": "stdout",
       "text": [
        "\n",
        "Computing jobs8"
       ]
      },
      {
       "output_type": "stream",
       "stream": "stdout",
       "text": [
        "\n",
        "Computing jobs9"
       ]
      },
      {
       "output_type": "stream",
       "stream": "stdout",
       "text": [
        "\n",
        "Computing jobs10"
       ]
      },
      {
       "output_type": "stream",
       "stream": "stdout",
       "text": [
        "\n",
        "Computing jobs11"
       ]
      },
      {
       "output_type": "stream",
       "stream": "stdout",
       "text": [
        "\n",
        "Computing jobs12"
       ]
      },
      {
       "output_type": "stream",
       "stream": "stdout",
       "text": [
        "\n",
        "Computing jobs13"
       ]
      },
      {
       "output_type": "stream",
       "stream": "stdout",
       "text": [
        "\n",
        "Computing jobs14"
       ]
      },
      {
       "output_type": "stream",
       "stream": "stdout",
       "text": [
        "\n",
        "Computing jobs15"
       ]
      },
      {
       "output_type": "stream",
       "stream": "stdout",
       "text": [
        "\n",
        "Computing jobs16"
       ]
      },
      {
       "output_type": "stream",
       "stream": "stdout",
       "text": [
        "\n",
        "Computing jobs17"
       ]
      },
      {
       "output_type": "stream",
       "stream": "stdout",
       "text": [
        "\n",
        "Computing jobs18"
       ]
      },
      {
       "output_type": "stream",
       "stream": "stdout",
       "text": [
        "\n",
        "Computing jobs19"
       ]
      },
      {
       "output_type": "stream",
       "stream": "stdout",
       "text": [
        "\n",
        "Computing jobs20"
       ]
      },
      {
       "output_type": "stream",
       "stream": "stdout",
       "text": [
        "\n",
        "Computing ave_parcel_size"
       ]
      },
      {
       "output_type": "stream",
       "stream": "stdout",
       "text": [
        "\n",
        "Computing ave_income"
       ]
      },
      {
       "output_type": "stream",
       "stream": "stdout",
       "text": [
        "\n",
        "Computing ave_age_of_head_1500m"
       ]
      },
      {
       "output_type": "stream",
       "stream": "stdout",
       "text": [
        "\n",
        "Computing ave_cars_1500m"
       ]
      },
      {
       "output_type": "stream",
       "stream": "stdout",
       "text": [
        "\n",
        "Computing ave_children_1500m"
       ]
      },
      {
       "output_type": "stream",
       "stream": "stdout",
       "text": [
        "\n",
        "Computing ave_year_built_1500m"
       ]
      },
      {
       "output_type": "stream",
       "stream": "stdout",
       "text": [
        "\n",
        "Computing ave_sqft_per_unit_1500m"
       ]
      },
      {
       "output_type": "stream",
       "stream": "stdout",
       "text": [
        "\n",
        "Computing population_400m"
       ]
      },
      {
       "output_type": "stream",
       "stream": "stdout",
       "text": [
        "\n",
        "Computing population_800m"
       ]
      },
      {
       "output_type": "stream",
       "stream": "stdout",
       "text": [
        "\n",
        "Computing population_1500m"
       ]
      },
      {
       "output_type": "stream",
       "stream": "stdout",
       "text": [
        "\n",
        "Computing population_3000m"
       ]
      },
      {
       "output_type": "stream",
       "stream": "stdout",
       "text": [
        "\n",
        "Computing job_spaces_3000m"
       ]
      },
      {
       "output_type": "stream",
       "stream": "stdout",
       "text": [
        "\n",
        "Computing jobs_3000m"
       ]
      },
      {
       "output_type": "stream",
       "stream": "stdout",
       "text": [
        "\n",
        "Computing households_3000m"
       ]
      },
      {
       "output_type": "stream",
       "stream": "stdout",
       "text": [
        "\n",
        "Computing residential_units_3000m"
       ]
      },
      {
       "output_type": "stream",
       "stream": "stdout",
       "text": [
        "\n",
        "Computing residential_units_1500m"
       ]
      },
      {
       "output_type": "stream",
       "stream": "stdout",
       "text": [
        "\n",
        "       households_1500m     jobs_3000m     jobs_1500m      jobs_800m  \\\n",
        "count     104108.000000  104108.000000  104108.000000  104108.000000   \n",
        "mean           4.690738    4914.716746       3.606265       2.266259   \n",
        "std            2.468192    7682.208031       2.708616       2.361109   \n",
        "min            0.000000       0.000000       0.000000       0.000000   \n",
        "25%            3.339522      94.000000       0.214703       0.000000   \n",
        "50%            5.672022    2321.000000       4.045302       1.659738   \n",
        "75%            6.491964    6602.000000       5.949385       4.302172   \n",
        "max            8.592523   63394.000000      10.075518       9.454349   \n",
        "\n",
        "           jobs_400m          jobs1          jobs2          jobs3  \\\n",
        "count  104108.000000  104108.000000  104108.000000  104108.000000   \n",
        "mean        1.267381       0.132250       0.022911       0.132260   \n",
        "std         1.909787       0.472381       0.194986       0.538138   \n",
        "min         0.000000       0.000000       0.000000       0.000000   \n",
        "25%         0.000000       0.000000       0.000000       0.000000   \n",
        "50%         0.000000       0.000000       0.000000       0.000000   \n",
        "75%         2.368596       0.000000       0.000000       0.000000   \n",
        "max         8.413846       5.554225       4.060443       6.757449   \n",
        "\n",
        "               jobs4          jobs5           ...             \\\n",
        "count  104108.000000  104108.000000           ...              \n",
        "mean        0.960796       0.754371           ...              \n",
        "std         1.363279       1.378974           ...              \n",
        "min         0.000000       0.000000           ...              \n",
        "25%         0.000000       0.000000           ...              \n",
        "50%         0.071547       0.000000           ...              \n",
        "75%         1.656728       0.944516           ...              \n",
        "max         6.657378       8.028625           ...              \n",
        "\n",
        "       ave_year_built_1500m  ave_sqft_per_unit_1500m  population_400m  \\\n",
        "count         104108.000000            104108.000000    104108.000000   \n",
        "mean               6.622486                 6.517986         4.104822   \n",
        "std                2.530437                 2.810659         2.515868   \n",
        "min                0.000000                 0.000000         0.000000   \n",
        "25%                7.581806                 7.007087         1.945910   \n",
        "50%                7.587930                 7.368492         5.081404   \n",
        "75%                7.593663                 7.731911         6.063785   \n",
        "max                7.607381                12.676925         9.287580   \n",
        "\n",
        "       population_800m  population_1500m  population_3000m  job_spaces_3000m  \\\n",
        "count    104108.000000     104108.000000     104108.000000     104108.000000   \n",
        "mean          5.222158          6.407621          7.778853     117921.786539   \n",
        "std           2.835985          3.105467          3.390086     364588.034251   \n",
        "min           0.000000          0.000000          0.000000          0.000000   \n",
        "25%           3.737670          5.327876          6.965080        816.000000   \n",
        "50%           6.395262          7.741099          9.301826      16374.500000   \n",
        "75%           7.310550          8.553911          9.944533      54095.500000   \n",
        "max           9.467305         10.374147         11.405497    4553114.000000   \n",
        "\n",
        "       households_3000m  residential_units_3000m  residential_units_1500m  \n",
        "count     104108.000000            104108.000000            104108.000000  \n",
        "mean        5391.699600              6751.103854              1728.826027  \n",
        "std         5821.717135              7191.627055              2254.720089  \n",
        "min            0.000000                 0.000000                 0.000000  \n",
        "25%          394.000000               523.000000               111.000000  \n",
        "50%         4222.000000              5304.000000              1096.000000  \n",
        "75%         7831.000000              9995.250000              2428.000000  \n",
        "max        40312.000000             48219.000000             19885.000000  \n",
        "\n",
        "[8 rows x 40 columns]"
       ]
      },
      {
       "output_type": "stream",
       "stream": "stdout",
       "text": [
        "\n",
        "Time to execute model 'neighborhood_vars': 34.75s\n",
        "Running model 'rsh_simulate'\n",
        ".\\configs\\rsh.yaml\n",
        "count    632386.000000\n",
        "mean        191.082287\n",
        "std          92.089008\n",
        "min           1.114383\n",
        "25%         138.773796\n",
        "50%         184.399269\n",
        "75%         232.299040\n",
        "max        1064.985535\n",
        "dtype: float64"
       ]
      },
      {
       "output_type": "stream",
       "stream": "stdout",
       "text": [
        "\n",
        "Time to execute model 'rsh_simulate': 7.45s\n",
        "Running model 'nrh_simulate'\n",
        ".\\configs\\nrh.yaml\n",
        "count    27077.000000\n",
        "mean        17.682643\n",
        "std          5.080732\n",
        "min          0.336972\n",
        "25%         12.968558\n",
        "50%         18.238000\n",
        "75%         21.338765\n",
        "max         62.056699\n",
        "dtype: float64"
       ]
      },
      {
       "output_type": "stream",
       "stream": "stdout",
       "text": [
        "\n",
        "Time to execute model 'nrh_simulate': 4.94s\n",
        "Running model 'nrh_simulate2'\n",
        ".\\configs\\nrh2.yaml\n",
        "count    75064.000000\n",
        "mean        17.820426\n",
        "std          5.375792\n",
        "min          0.329341\n",
        "25%         15.089396\n",
        "50%         17.874431\n",
        "75%         20.295179\n",
        "max        258.461612\n",
        "dtype: float64"
       ]
      },
      {
       "output_type": "stream",
       "stream": "stdout",
       "text": [
        "\n",
        "Time to execute model 'nrh_simulate2': 3.51s\n",
        "Running model 'jobs_transition'\n",
        "913244 agents before transition\n",
        "958906 agents after transition"
       ]
      },
      {
       "output_type": "stream",
       "stream": "stdout",
       "text": [
        "\n",
        "Time to execute model 'jobs_transition': 0.42s"
       ]
      },
      {
       "output_type": "stream",
       "stream": "stdout",
       "text": [
        "\n",
        "Running model 'elcm_simulate'\n",
        "There are 24050376 total available units"
       ]
      },
      {
       "output_type": "stream",
       "stream": "stdout",
       "text": [
        "\n",
        "    and 958906 total choosers\n",
        "    but there are 1 overfull buildings\n",
        "    for a total of 23137132 temporarily empty units"
       ]
      },
      {
       "output_type": "stream",
       "stream": "stdout",
       "text": [
        "\n",
        "    in 99401 buildings total in the region\n",
        "There are 45662 total movers for this LCM\n",
        "Assigned 45662 choosers to new units"
       ]
      },
      {
       "output_type": "stream",
       "stream": "stdout",
       "text": [
        "\n",
        "Total currently unplaced: 0"
       ]
      },
      {
       "output_type": "stream",
       "stream": "stdout",
       "text": [
        "\n",
        "    and there are now 23091470 empty units"
       ]
      },
      {
       "output_type": "stream",
       "stream": "stdout",
       "text": [
        "\n",
        "    and 0 overfull buildings\n",
        "Time to execute model 'elcm_simulate': 330.70s"
       ]
      },
      {
       "output_type": "stream",
       "stream": "stdout",
       "text": [
        "\n",
        "Running model 'households_transition'\n",
        "Time to execute model 'households_transition': 14.93s"
       ]
      },
      {
       "output_type": "stream",
       "stream": "stdout",
       "text": [
        "\n",
        "Running model 'hlcm_simulate'\n",
        "There are 1161992 total available units"
       ]
      },
      {
       "output_type": "stream",
       "stream": "stdout",
       "text": [
        "\n",
        "    and 1044510 total choosers\n",
        "    but there are 1 overfull buildings\n",
        "    for a total of 300307 temporarily empty units"
       ]
      },
      {
       "output_type": "stream",
       "stream": "stdout",
       "text": [
        "\n",
        "    in 180719 buildings total in the region\n",
        "There are 182825 total movers for this LCM\n",
        "Assigned 182825 choosers to new units"
       ]
      },
      {
       "output_type": "stream",
       "stream": "stdout",
       "text": [
        "\n",
        "Total currently unplaced: 0"
       ]
      },
      {
       "output_type": "stream",
       "stream": "stdout",
       "text": [
        "\n",
        "    and there are now 117482 empty units"
       ]
      },
      {
       "output_type": "stream",
       "stream": "stdout",
       "text": [
        "\n",
        "    and 0 overfull buildings\n",
        "Time to execute model 'hlcm_simulate': 9.66s\n",
        "Running model 'price_vars'\n",
        "Computing accessibility variables\n",
        "Computing residential"
       ]
      },
      {
       "output_type": "stream",
       "stream": "stdout",
       "text": [
        "\n",
        "Computing retail"
       ]
      },
      {
       "output_type": "stream",
       "stream": "stdout",
       "text": [
        "\n",
        "Computing office"
       ]
      },
      {
       "output_type": "stream",
       "stream": "stdout",
       "text": [
        "\n",
        "Computing industrial"
       ]
      },
      {
       "output_type": "stream",
       "stream": "stdout",
       "text": [
        "\n",
        "Computing ave_sqft_per_unit"
       ]
      },
      {
       "output_type": "stream",
       "stream": "stdout",
       "text": [
        "\n",
        "         residential         retail         office     industrial  \\\n",
        "count  104108.000000  104108.000000  104108.000000  104108.000000   \n",
        "mean      158.592237      13.447167      10.716401       5.721355   \n",
        "std        88.279529       9.499840      10.785185       6.122301   \n",
        "min         0.000000       0.000000       0.000000       0.000000   \n",
        "25%       119.869467       0.000000       0.000000       0.000000   \n",
        "50%       168.417641      17.793665      15.914911       0.000000   \n",
        "75%       207.474785      20.168653      20.765211      11.172815   \n",
        "max       546.346558      50.465096      61.885406      23.067339   \n",
        "\n",
        "       ave_sqft_per_unit  \n",
        "count      104108.000000  \n",
        "mean         4318.583330  \n",
        "std         16165.884366  \n",
        "min             0.000000  \n",
        "25%          1249.044861  \n",
        "50%          1680.645813  \n",
        "75%          2357.531067  \n",
        "max        320270.531250  "
       ]
      },
      {
       "output_type": "stream",
       "stream": "stdout",
       "text": [
        "\n",
        "Time to execute model 'price_vars': 5.51s\n",
        "Running model 'feasibility'\n",
        "sf_detached"
       ]
      },
      {
       "output_type": "stream",
       "stream": "stdout",
       "text": [
        "\n",
        "Describe of the yearly rent by use"
       ]
      },
      {
       "output_type": "stream",
       "stream": "stdout",
       "text": [
        "\n",
        "count    812735.000000\n",
        "mean          8.637589\n",
        "std           3.396375\n",
        "min          -1.135000\n",
        "25%           6.770836\n",
        "50%           8.267172\n",
        "75%          10.213510\n",
        "max          22.243581\n",
        "Name: residential, dtype: float64"
       ]
      },
      {
       "output_type": "stream",
       "stream": "stdout",
       "text": [
        "\n",
        "9792"
       ]
      },
      {
       "output_type": "stream",
       "stream": "stdout",
       "text": [
        "\n",
        "sf_attached"
       ]
      },
      {
       "output_type": "stream",
       "stream": "stdout",
       "text": [
        "\n",
        "Describe of the yearly rent by use"
       ]
      },
      {
       "output_type": "stream",
       "stream": "stdout",
       "text": [
        "\n",
        "count    812735.000000\n",
        "mean          8.637589\n",
        "std           3.396375\n",
        "min          -1.135000\n",
        "25%           6.770836\n",
        "50%           8.267172\n",
        "75%          10.213510\n",
        "max          22.243581\n",
        "Name: residential, dtype: float64"
       ]
      },
      {
       "output_type": "stream",
       "stream": "stdout",
       "text": [
        "\n",
        "10010"
       ]
      },
      {
       "output_type": "stream",
       "stream": "stdout",
       "text": [
        "\n",
        "mf_residential"
       ]
      },
      {
       "output_type": "stream",
       "stream": "stdout",
       "text": [
        "\n",
        "Describe of the yearly rent by use"
       ]
      },
      {
       "output_type": "stream",
       "stream": "stdout",
       "text": [
        "\n",
        "count    812735.000000\n",
        "mean          8.330027\n",
        "std           3.341699\n",
        "min          -1.654500\n",
        "25%           6.459229\n",
        "50%           8.022317\n",
        "75%           9.839369\n",
        "max          21.864581\n",
        "Name: residential, dtype: float64"
       ]
      },
      {
       "output_type": "stream",
       "stream": "stdout",
       "text": [
        "\n",
        "8973"
       ]
      },
      {
       "output_type": "stream",
       "stream": "stdout",
       "text": [
        "\n",
        "office"
       ]
      },
      {
       "output_type": "stream",
       "stream": "stdout",
       "text": [
        "\n",
        "Describe of the yearly rent by use"
       ]
      },
      {
       "output_type": "stream",
       "stream": "stdout",
       "text": [
        "\n",
        "count    812735.000000\n",
        "mean         12.707052\n",
        "std          10.415118\n",
        "min          -0.479000\n",
        "25%          -0.270000\n",
        "50%          17.415790\n",
        "75%          20.980483\n",
        "max          61.554906\n",
        "Name: office, dtype: float64"
       ]
      },
      {
       "output_type": "stream",
       "stream": "stdout",
       "text": [
        "\n",
        "83136"
       ]
      },
      {
       "output_type": "stream",
       "stream": "stdout",
       "text": [
        "\n",
        "retail"
       ]
      },
      {
       "output_type": "stream",
       "stream": "stdout",
       "text": [
        "\n",
        "Describe of the yearly rent by use"
       ]
      },
      {
       "output_type": "stream",
       "stream": "stdout",
       "text": [
        "\n",
        "count    812735.000000\n",
        "mean         15.605596\n",
        "std           8.056728\n",
        "min          -0.961500\n",
        "25%          15.839221\n",
        "50%          18.079161\n",
        "75%          20.117736\n",
        "max          50.090096\n",
        "Name: retail, dtype: float64"
       ]
      },
      {
       "output_type": "stream",
       "stream": "stdout",
       "text": [
        "\n",
        "115899"
       ]
      },
      {
       "output_type": "stream",
       "stream": "stdout",
       "text": [
        "\n",
        "light_industrial"
       ]
      },
      {
       "output_type": "stream",
       "stream": "stdout",
       "text": [
        "\n",
        "Describe of the yearly rent by use"
       ]
      },
      {
       "output_type": "stream",
       "stream": "stdout",
       "text": [
        "\n",
        "count    812735.000000\n",
        "mean          6.465398\n",
        "std           6.109809\n",
        "min          -0.423000\n",
        "25%          -0.222000\n",
        "50%           9.708050\n",
        "75%          11.408490\n",
        "max          22.869014\n",
        "Name: industrial, dtype: float64"
       ]
      },
      {
       "output_type": "stream",
       "stream": "stdout",
       "text": [
        "\n",
        "15927"
       ]
      },
      {
       "output_type": "stream",
       "stream": "stdout",
       "text": [
        "\n",
        "heavy_industrial"
       ]
      },
      {
       "output_type": "stream",
       "stream": "stdout",
       "text": [
        "\n",
        "Describe of the yearly rent by use"
       ]
      },
      {
       "output_type": "stream",
       "stream": "stdout",
       "text": [
        "\n",
        "count    812735.000000\n",
        "mean          6.465398\n",
        "std           6.109809\n",
        "min          -0.423000\n",
        "25%          -0.222000\n",
        "50%           9.708050\n",
        "75%          11.408490\n",
        "max          22.869014\n",
        "Name: industrial, dtype: float64"
       ]
      },
      {
       "output_type": "stream",
       "stream": "stdout",
       "text": [
        "\n",
        "0"
       ]
      },
      {
       "output_type": "stream",
       "stream": "stdout",
       "text": [
        "\n",
        "Time to execute model 'feasibility': 51.52s"
       ]
      },
      {
       "output_type": "stream",
       "stream": "stdout",
       "text": [
        "\n",
        "Running model 'residential_developer'\n",
        "126,860 feasible buildings before running developer"
       ]
      },
      {
       "output_type": "stream",
       "stream": "stdout",
       "text": [
        "\n",
        "Residential unit target for sf_detached is 22001."
       ]
      },
      {
       "output_type": "stream",
       "stream": "stdout",
       "text": [
        "\n",
        "sf_detached\n",
        "Sum of net units that are profitable: 58,814"
       ]
      },
      {
       "output_type": "stream",
       "stream": "stdout",
       "text": [
        "\n",
        "Constructed 902 sf_detached buildings, totaling 22449.0 new residential_units"
       ]
      },
      {
       "output_type": "stream",
       "stream": "stdout",
       "text": [
        "\n",
        "Residential unit target for mf_residential is 42586."
       ]
      },
      {
       "output_type": "stream",
       "stream": "stdout",
       "text": [
        "\n",
        "mf_residential\n",
        "Sum of net units that are profitable: 35,691"
       ]
      },
      {
       "output_type": "stream",
       "stream": "stdout",
       "text": [
        "\n",
        "WARNING THERE WERE NOT ENOUGH PROFITABLE UNITS TO MATCH DEMAND\n",
        "Constructed 7400 mf_residential buildings, totaling 36649.0 new residential_units"
       ]
      },
      {
       "output_type": "stream",
       "stream": "stdout",
       "text": [
        "\n",
        "Time to execute model 'residential_developer': 2.29s"
       ]
      },
      {
       "output_type": "stream",
       "stream": "stdout",
       "text": [
        "\n",
        "Running model 'non_residential_developer'\n",
        "118,558 feasible buildings before running developer\n",
        "Job space target for heavy_industrial is -28982.602796."
       ]
      },
      {
       "output_type": "stream",
       "stream": "stdout",
       "text": [
        "\n",
        "Job space target for light_industrial is -132513.3381."
       ]
      },
      {
       "output_type": "stream",
       "stream": "stdout",
       "text": [
        "\n",
        "Job space target for retail is 121130.492525."
       ]
      },
      {
       "output_type": "stream",
       "stream": "stdout",
       "text": [
        "\n",
        "Sum of net units that are profitable: 2,661,251"
       ]
      },
      {
       "output_type": "stream",
       "stream": "stdout",
       "text": [
        "\n",
        "Constructed 289 retail buildings, totaling 129018.68906 new job spaces."
       ]
      },
      {
       "output_type": "stream",
       "stream": "stdout",
       "text": [
        "\n",
        "Job space target for office is 16064.87816."
       ]
      },
      {
       "output_type": "stream",
       "stream": "stdout",
       "text": [
        "\n",
        "Sum of net units that are profitable: 1,984,653"
       ]
      },
      {
       "output_type": "stream",
       "stream": "stdout",
       "text": [
        "\n",
        "Constructed 38 office buildings, totaling 16995.851114 new job spaces."
       ]
      },
      {
       "output_type": "stream",
       "stream": "stdout",
       "text": [
        "\n",
        "Time to execute model 'non_residential_developer': 2.48s"
       ]
      },
      {
       "output_type": "stream",
       "stream": "stdout",
       "text": [
        "\n",
        "Total time to execute year 2015: 468.17s\n",
        "Running year 2016\n",
        "Running model 'neighborhood_vars'\n",
        "Computing accessibility variables\n",
        "Computing households_1500m"
       ]
      },
      {
       "output_type": "stream",
       "stream": "stdout",
       "text": [
        "\n",
        "Computing jobs_3000m"
       ]
      },
      {
       "output_type": "stream",
       "stream": "stdout",
       "text": [
        "\n",
        "Computing jobs_1500m"
       ]
      },
      {
       "output_type": "stream",
       "stream": "stdout",
       "text": [
        "\n",
        "Computing jobs_800m"
       ]
      },
      {
       "output_type": "stream",
       "stream": "stdout",
       "text": [
        "\n",
        "Computing jobs_400m"
       ]
      },
      {
       "output_type": "stream",
       "stream": "stdout",
       "text": [
        "\n",
        "Computing jobs1"
       ]
      },
      {
       "output_type": "stream",
       "stream": "stdout",
       "text": [
        "\n",
        "Computing jobs2"
       ]
      },
      {
       "output_type": "stream",
       "stream": "stdout",
       "text": [
        "\n",
        "Computing jobs3"
       ]
      },
      {
       "output_type": "stream",
       "stream": "stdout",
       "text": [
        "\n",
        "Computing jobs4"
       ]
      },
      {
       "output_type": "stream",
       "stream": "stdout",
       "text": [
        "\n",
        "Computing jobs5"
       ]
      },
      {
       "output_type": "stream",
       "stream": "stdout",
       "text": [
        "\n",
        "Computing jobs6"
       ]
      },
      {
       "output_type": "stream",
       "stream": "stdout",
       "text": [
        "\n",
        "Computing jobs7"
       ]
      },
      {
       "output_type": "stream",
       "stream": "stdout",
       "text": [
        "\n",
        "Computing jobs8"
       ]
      },
      {
       "output_type": "stream",
       "stream": "stdout",
       "text": [
        "\n",
        "Computing jobs9"
       ]
      },
      {
       "output_type": "stream",
       "stream": "stdout",
       "text": [
        "\n",
        "Computing jobs10"
       ]
      },
      {
       "output_type": "stream",
       "stream": "stdout",
       "text": [
        "\n",
        "Computing jobs11"
       ]
      },
      {
       "output_type": "stream",
       "stream": "stdout",
       "text": [
        "\n",
        "Computing jobs12"
       ]
      },
      {
       "output_type": "stream",
       "stream": "stdout",
       "text": [
        "\n",
        "Computing jobs13"
       ]
      },
      {
       "output_type": "stream",
       "stream": "stdout",
       "text": [
        "\n",
        "Computing jobs14"
       ]
      },
      {
       "output_type": "stream",
       "stream": "stdout",
       "text": [
        "\n",
        "Computing jobs15"
       ]
      },
      {
       "output_type": "stream",
       "stream": "stdout",
       "text": [
        "\n",
        "Computing jobs16"
       ]
      },
      {
       "output_type": "stream",
       "stream": "stdout",
       "text": [
        "\n",
        "Computing jobs17"
       ]
      },
      {
       "output_type": "stream",
       "stream": "stdout",
       "text": [
        "\n",
        "Computing jobs18"
       ]
      },
      {
       "output_type": "stream",
       "stream": "stdout",
       "text": [
        "\n",
        "Computing jobs19"
       ]
      },
      {
       "output_type": "stream",
       "stream": "stdout",
       "text": [
        "\n",
        "Computing jobs20"
       ]
      },
      {
       "output_type": "stream",
       "stream": "stdout",
       "text": [
        "\n",
        "Computing ave_parcel_size"
       ]
      },
      {
       "output_type": "stream",
       "stream": "stdout",
       "text": [
        "\n",
        "Computing ave_income"
       ]
      },
      {
       "output_type": "stream",
       "stream": "stdout",
       "text": [
        "\n",
        "Computing ave_age_of_head_1500m"
       ]
      },
      {
       "output_type": "stream",
       "stream": "stdout",
       "text": [
        "\n",
        "Computing ave_cars_1500m"
       ]
      },
      {
       "output_type": "stream",
       "stream": "stdout",
       "text": [
        "\n",
        "Computing ave_children_1500m"
       ]
      },
      {
       "output_type": "stream",
       "stream": "stdout",
       "text": [
        "\n",
        "Computing ave_year_built_1500m"
       ]
      },
      {
       "output_type": "stream",
       "stream": "stdout",
       "text": [
        "\n",
        "Computing ave_sqft_per_unit_1500m"
       ]
      },
      {
       "output_type": "stream",
       "stream": "stdout",
       "text": [
        "\n",
        "Computing population_400m"
       ]
      },
      {
       "output_type": "stream",
       "stream": "stdout",
       "text": [
        "\n",
        "Computing population_800m"
       ]
      },
      {
       "output_type": "stream",
       "stream": "stdout",
       "text": [
        "\n",
        "Computing population_1500m"
       ]
      },
      {
       "output_type": "stream",
       "stream": "stdout",
       "text": [
        "\n",
        "Computing population_3000m"
       ]
      },
      {
       "output_type": "stream",
       "stream": "stdout",
       "text": [
        "\n",
        "Computing job_spaces_3000m"
       ]
      },
      {
       "output_type": "stream",
       "stream": "stdout",
       "text": [
        "\n",
        "Computing jobs_3000m"
       ]
      },
      {
       "output_type": "stream",
       "stream": "stdout",
       "text": [
        "\n",
        "Computing households_3000m"
       ]
      },
      {
       "output_type": "stream",
       "stream": "stdout",
       "text": [
        "\n",
        "Computing residential_units_3000m"
       ]
      },
      {
       "output_type": "stream",
       "stream": "stdout",
       "text": [
        "\n",
        "Computing residential_units_1500m"
       ]
      },
      {
       "output_type": "stream",
       "stream": "stdout",
       "text": [
        "\n",
        "       households_1500m     jobs_3000m     jobs_1500m      jobs_800m  \\\n",
        "count     104108.000000  104108.000000  104108.000000  104108.000000   \n",
        "mean           4.794323    5159.817103       3.676874       2.344394   \n",
        "std            2.495926    7832.068985       2.731960       2.391774   \n",
        "min            0.000000       0.000000       0.000000       0.000000   \n",
        "25%            3.511466      96.000000       0.334162       0.000000   \n",
        "50%            5.782109    2566.500000       4.197849       1.791759   \n",
        "75%            6.599848    7088.000000       6.041732       4.447482   \n",
        "max            8.949624   64120.000000      10.085107       9.460731   \n",
        "\n",
        "           jobs_400m          jobs1          jobs2          jobs3  \\\n",
        "count  104108.000000  104108.000000  104108.000000  104108.000000   \n",
        "mean        1.339656       0.133783       0.023140       0.135296   \n",
        "std         1.949162       0.475080       0.197209       0.545410   \n",
        "min         0.000000       0.000000       0.000000       0.000000   \n",
        "25%         0.000000       0.000000       0.000000       0.000000   \n",
        "50%         0.000000       0.000000       0.000000       0.000000   \n",
        "75%         2.633129       0.000000       0.000000       0.000000   \n",
        "max         8.423650       5.652749       4.083103       6.793654   \n",
        "\n",
        "               jobs4          jobs5           ...             \\\n",
        "count  104108.000000  104108.000000           ...              \n",
        "mean        0.982122       0.790149           ...              \n",
        "std         1.379678       1.405496           ...              \n",
        "min         0.000000       0.000000           ...              \n",
        "25%         0.000000       0.000000           ...              \n",
        "50%         0.111353       0.000000           ...              \n",
        "75%         1.693732       1.037511           ...              \n",
        "max         6.689601       8.047517           ...              \n",
        "\n",
        "       ave_year_built_1500m  ave_sqft_per_unit_1500m  population_400m  \\\n",
        "count         104108.000000            104108.000000    104108.000000   \n",
        "mean               6.623158                 6.523600         4.216803   \n",
        "std                2.530037                 2.805829         2.549288   \n",
        "min                0.000000                 0.000000         0.000000   \n",
        "25%                7.582178                 7.009475         2.197225   \n",
        "50%                7.588388                 7.369529         5.198497   \n",
        "75%                7.593719                 7.731631         6.173786   \n",
        "max                7.608871                12.676925         9.877810   \n",
        "\n",
        "       population_800m  population_1500m  population_3000m  job_spaces_3000m  \\\n",
        "count    104108.000000     104108.000000     104108.000000     104108.000000   \n",
        "mean          5.343271          6.534089          7.913427     119391.203395   \n",
        "std           2.866756          3.136149          3.420062     364635.585918   \n",
        "min           0.000000          0.000000          0.000000          0.000000   \n",
        "25%           3.951244          5.501258          7.077498        830.000000   \n",
        "50%           6.520621          7.882692          9.458606      17783.000000   \n",
        "75%           7.433075          8.681563         10.095388      57588.000000   \n",
        "max           9.987001         10.491246         11.485462    4557753.000000   \n",
        "\n",
        "       households_3000m  residential_units_3000m  residential_units_1500m  \n",
        "count     104108.000000            104108.000000            104108.000000  \n",
        "mean        6108.828697              7150.021468              1838.591991  \n",
        "std         6606.367447              7805.110073              2460.213130  \n",
        "min            0.000000                 0.000000                 0.000000  \n",
        "25%          438.000000               523.000000               114.000000  \n",
        "50%         4775.000000              5399.000000              1130.000000  \n",
        "75%         8946.000000             10636.250000              2515.000000  \n",
        "max        43737.000000             48219.000000             20099.000000  \n",
        "\n",
        "[8 rows x 40 columns]"
       ]
      },
      {
       "output_type": "stream",
       "stream": "stdout",
       "text": [
        "\n",
        "Time to execute model 'neighborhood_vars': 27.93s\n",
        "Running model 'rsh_simulate'\n",
        ".\\configs\\rsh.yaml\n",
        "count    640688.000000\n",
        "mean        229.515954\n",
        "std         103.828354\n",
        "min           1.114383\n",
        "25%         170.472321\n",
        "50%         226.787846\n",
        "75%         281.645060\n",
        "max        1384.593767\n",
        "dtype: float64"
       ]
      },
      {
       "output_type": "stream",
       "stream": "stdout",
       "text": [
        "\n",
        "Time to execute model 'rsh_simulate': 7.28s\n",
        "Running model 'nrh_simulate'\n",
        ".\\configs\\nrh.yaml\n",
        "count    27404.000000\n",
        "mean        17.878142\n",
        "std          5.265995\n",
        "min          0.337553\n",
        "25%         12.929782\n",
        "50%         18.436932\n",
        "75%         21.573194\n",
        "max         58.582414\n",
        "dtype: float64"
       ]
      },
      {
       "output_type": "stream",
       "stream": "stdout",
       "text": [
        "\n",
        "Time to execute model 'nrh_simulate': 4.71s\n",
        "Running model 'nrh_simulate2'\n",
        ".\\configs\\nrh2.yaml\n",
        "count    75064.000000\n",
        "mean        18.052968\n",
        "std          5.409893\n",
        "min          0.331537\n",
        "25%         15.228517\n",
        "50%         18.138441\n",
        "75%         20.577789\n",
        "max        276.539063\n",
        "dtype: float64"
       ]
      },
      {
       "output_type": "stream",
       "stream": "stdout",
       "text": [
        "\n",
        "Time to execute model 'nrh_simulate2': 3.44s\n",
        "Running model 'jobs_transition'\n",
        "958906 agents before transition\n",
        "1006851 agents after transition"
       ]
      },
      {
       "output_type": "stream",
       "stream": "stdout",
       "text": [
        "\n",
        "Time to execute model 'jobs_transition': 0.46s"
       ]
      },
      {
       "output_type": "stream",
       "stream": "stdout",
       "text": [
        "\n",
        "Running model 'elcm_simulate'\n",
        "There are 24342409 total available units"
       ]
      },
      {
       "output_type": "stream",
       "stream": "stdout",
       "text": [
        "\n",
        "    and 1006851 total choosers\n",
        "    but there are 1 overfull buildings\n",
        "    for a total of 23383503 temporarily empty units"
       ]
      },
      {
       "output_type": "stream",
       "stream": "stdout",
       "text": [
        "\n",
        "    in 99727 buildings total in the region\n",
        "There are 47945 total movers for this LCM\n",
        "Assigned 47945 choosers to new units"
       ]
      },
      {
       "output_type": "stream",
       "stream": "stdout",
       "text": [
        "\n",
        "Total currently unplaced: 0"
       ]
      },
      {
       "output_type": "stream",
       "stream": "stdout",
       "text": [
        "\n",
        "    and there are now 23335558 empty units"
       ]
      },
      {
       "output_type": "stream",
       "stream": "stdout",
       "text": [
        "\n",
        "    and 0 overfull buildings\n",
        "Time to execute model 'elcm_simulate': 351.96s"
       ]
      },
      {
       "output_type": "stream",
       "stream": "stdout",
       "text": [
        "\n",
        "Running model 'households_transition'\n",
        "Time to execute model 'households_transition': 15.85s"
       ]
      },
      {
       "output_type": "stream",
       "stream": "stdout",
       "text": [
        "\n",
        "Running model 'hlcm_simulate'\n",
        "There are 1221090 total available units"
       ]
      },
      {
       "output_type": "stream",
       "stream": "stdout",
       "text": [
        "\n",
        "    and 1056314 total choosers\n",
        "    but there are 1 overfull buildings\n",
        "    for a total of 185372 temporarily empty units"
       ]
      },
      {
       "output_type": "stream",
       "stream": "stdout",
       "text": [
        "\n",
        "    in 128721 buildings total in the region\n",
        "There are 20596 total movers for this LCM\n",
        "Assigned 20596 choosers to new units"
       ]
      },
      {
       "output_type": "stream",
       "stream": "stdout",
       "text": [
        "\n",
        "Total currently unplaced: 0"
       ]
      },
      {
       "output_type": "stream",
       "stream": "stdout",
       "text": [
        "\n",
        "    and there are now 164776 empty units"
       ]
      },
      {
       "output_type": "stream",
       "stream": "stdout",
       "text": [
        "\n",
        "    and 0 overfull buildings\n",
        "Time to execute model 'hlcm_simulate': 8.12s\n",
        "Running model 'price_vars'\n",
        "Computing accessibility variables\n",
        "Computing residential\n",
        "Computing retail"
       ]
      },
      {
       "output_type": "stream",
       "stream": "stdout",
       "text": [
        "\n",
        "Computing office"
       ]
      },
      {
       "output_type": "stream",
       "stream": "stdout",
       "text": [
        "\n",
        "Computing industrial"
       ]
      },
      {
       "output_type": "stream",
       "stream": "stdout",
       "text": [
        "\n",
        "Computing ave_sqft_per_unit"
       ]
      },
      {
       "output_type": "stream",
       "stream": "stdout",
       "text": [
        "\n",
        "         residential         retail         office     industrial  \\\n",
        "count  104108.000000  104108.000000  104108.000000  104108.000000   \n",
        "mean      192.419440      13.787894      10.979341       5.700677   \n",
        "std        99.658846       9.661722      10.895238       6.090601   \n",
        "min         0.000000       0.000000       0.000000       0.000000   \n",
        "25%       155.217808       0.000000       0.000000       0.000000   \n",
        "50%       208.903717      18.056450      16.225159       0.000000   \n",
        "75%       251.996536      20.570164      20.932091      11.185712   \n",
        "max       644.465271      46.037102      58.421783      23.075565   \n",
        "\n",
        "       ave_sqft_per_unit  \n",
        "count      104108.000000  \n",
        "mean         4319.927846  \n",
        "std         16165.511232  \n",
        "min             0.000000  \n",
        "25%          1252.164612  \n",
        "50%          1681.637634  \n",
        "75%          2357.565125  \n",
        "max        320270.531250  "
       ]
      },
      {
       "output_type": "stream",
       "stream": "stdout",
       "text": [
        "\n",
        "Time to execute model 'price_vars': 5.12s\n",
        "Running model 'feasibility'\n",
        "sf_detached\n",
        "Describe of the yearly rent by use"
       ]
      },
      {
       "output_type": "stream",
       "stream": "stdout",
       "text": [
        "\n",
        "count    812735.000000\n",
        "mean         10.535883\n",
        "std           3.436416\n",
        "min          -1.135000\n",
        "25%           8.539109\n",
        "50%          10.344232\n",
        "75%          12.493394\n",
        "max          29.894011\n",
        "Name: residential, dtype: float64"
       ]
      },
      {
       "output_type": "stream",
       "stream": "stdout",
       "text": [
        "\n",
        "9890"
       ]
      },
      {
       "output_type": "stream",
       "stream": "stdout",
       "text": [
        "\n",
        "sf_attached"
       ]
      },
      {
       "output_type": "stream",
       "stream": "stdout",
       "text": [
        "\n",
        "Describe of the yearly rent by use"
       ]
      },
      {
       "output_type": "stream",
       "stream": "stdout",
       "text": [
        "\n",
        "count    812735.000000\n",
        "mean         10.535883\n",
        "std           3.436416\n",
        "min          -1.135000\n",
        "25%           8.539109\n",
        "50%          10.344232\n",
        "75%          12.493394\n",
        "max          29.894011\n",
        "Name: residential, dtype: float64"
       ]
      },
      {
       "output_type": "stream",
       "stream": "stdout",
       "text": [
        "\n",
        "9892"
       ]
      },
      {
       "output_type": "stream",
       "stream": "stdout",
       "text": [
        "\n",
        "mf_residential"
       ]
      },
      {
       "output_type": "stream",
       "stream": "stdout",
       "text": [
        "\n",
        "Describe of the yearly rent by use"
       ]
      },
      {
       "output_type": "stream",
       "stream": "stdout",
       "text": [
        "\n",
        "count    812735.000000\n",
        "mean         10.228321\n",
        "std           3.387074\n",
        "min          -1.654500\n",
        "25%           8.224625\n",
        "50%          10.041756\n",
        "75%          12.199684\n",
        "max          29.619011\n",
        "Name: residential, dtype: float64"
       ]
      },
      {
       "output_type": "stream",
       "stream": "stdout",
       "text": [
        "\n",
        "8727"
       ]
      },
      {
       "output_type": "stream",
       "stream": "stdout",
       "text": [
        "\n",
        "office"
       ]
      },
      {
       "output_type": "stream",
       "stream": "stdout",
       "text": [
        "\n",
        "Describe of the yearly rent by use"
       ]
      },
      {
       "output_type": "stream",
       "stream": "stdout",
       "text": [
        "\n",
        "count    812735.000000\n",
        "mean         13.039364\n",
        "std          10.471855\n",
        "min          -0.479000\n",
        "25%          -0.250500\n",
        "50%          17.554826\n",
        "75%          21.187359\n",
        "max          58.091283\n",
        "Name: office, dtype: float64"
       ]
      },
      {
       "output_type": "stream",
       "stream": "stdout",
       "text": [
        "\n",
        "83831"
       ]
      },
      {
       "output_type": "stream",
       "stream": "stdout",
       "text": [
        "\n",
        "retail"
       ]
      },
      {
       "output_type": "stream",
       "stream": "stdout",
       "text": [
        "\n",
        "Describe of the yearly rent by use"
       ]
      },
      {
       "output_type": "stream",
       "stream": "stdout",
       "text": [
        "\n",
        "count    812735.000000\n",
        "mean         16.011757\n",
        "std           8.135472\n",
        "min          -0.961500\n",
        "25%          16.204871\n",
        "50%          18.450241\n",
        "75%          20.542719\n",
        "max          45.662102\n",
        "Name: retail, dtype: float64"
       ]
      },
      {
       "output_type": "stream",
       "stream": "stdout",
       "text": [
        "\n",
        "109693"
       ]
      },
      {
       "output_type": "stream",
       "stream": "stdout",
       "text": [
        "\n",
        "light_industrial"
       ]
      },
      {
       "output_type": "stream",
       "stream": "stdout",
       "text": [
        "\n",
        "Describe of the yearly rent by use"
       ]
      },
      {
       "output_type": "stream",
       "stream": "stdout",
       "text": [
        "\n",
        "count    812735.000000\n",
        "mean          6.442366\n",
        "std           6.077116\n",
        "min          -0.423000\n",
        "25%          -0.222000\n",
        "50%           9.727697\n",
        "75%          11.385491\n",
        "max          22.877240\n",
        "Name: industrial, dtype: float64"
       ]
      },
      {
       "output_type": "stream",
       "stream": "stdout",
       "text": [
        "\n",
        "14658"
       ]
      },
      {
       "output_type": "stream",
       "stream": "stdout",
       "text": [
        "\n",
        "heavy_industrial"
       ]
      },
      {
       "output_type": "stream",
       "stream": "stdout",
       "text": [
        "\n",
        "Describe of the yearly rent by use"
       ]
      },
      {
       "output_type": "stream",
       "stream": "stdout",
       "text": [
        "\n",
        "count    812735.000000\n",
        "mean          6.442366\n",
        "std           6.077116\n",
        "min          -0.423000\n",
        "25%          -0.222000\n",
        "50%           9.727697\n",
        "75%          11.385491\n",
        "max          22.877240\n",
        "Name: industrial, dtype: float64"
       ]
      },
      {
       "output_type": "stream",
       "stream": "stdout",
       "text": [
        "\n",
        "0"
       ]
      },
      {
       "output_type": "stream",
       "stream": "stdout",
       "text": [
        "\n",
        "Time to execute model 'feasibility': 33.67s"
       ]
      },
      {
       "output_type": "stream",
       "stream": "stdout",
       "text": [
        "\n",
        "Running model 'residential_developer'\n",
        "121,805 feasible buildings before running developer"
       ]
      },
      {
       "output_type": "stream",
       "stream": "stdout",
       "text": [
        "\n",
        "Residential unit target for sf_detached is 4179.0."
       ]
      },
      {
       "output_type": "stream",
       "stream": "stdout",
       "text": [
        "\n",
        "sf_detached\n",
        "Sum of net units that are profitable: 65,819"
       ]
      },
      {
       "output_type": "stream",
       "stream": "stdout",
       "text": [
        "\n",
        "Constructed 75 sf_detached buildings, totaling 4393.0 new residential_units\n",
        "Residential unit target for mf_residential is 13926.0."
       ]
      },
      {
       "output_type": "stream",
       "stream": "stdout",
       "text": [
        "\n",
        "mf_residential\n",
        "Sum of net units that are profitable: 58,811"
       ]
      },
      {
       "output_type": "stream",
       "stream": "stdout",
       "text": [
        "\n",
        "Constructed 367 mf_residential buildings, totaling 14369.0 new residential_units\n",
        "Time to execute model 'residential_developer': 2.03s"
       ]
      },
      {
       "output_type": "stream",
       "stream": "stdout",
       "text": [
        "\n",
        "Running model 'non_residential_developer'\n",
        "121,363 feasible buildings before running developer\n",
        "Job space target for heavy_industrial is -28958.8183791."
       ]
      },
      {
       "output_type": "stream",
       "stream": "stdout",
       "text": [
        "\n",
        "Job space target for light_industrial is -120655.0918."
       ]
      },
      {
       "output_type": "stream",
       "stream": "stdout",
       "text": [
        "\n",
        "Job space target for retail is 3629.26776499."
       ]
      },
      {
       "output_type": "stream",
       "stream": "stdout",
       "text": [
        "\n",
        "Sum of net units that are profitable: 2,731,385"
       ]
      },
      {
       "output_type": "stream",
       "stream": "stdout",
       "text": [
        "\n",
        "Constructed 18 retail buildings, totaling 4054.98604186 new job spaces."
       ]
      },
      {
       "output_type": "stream",
       "stream": "stdout",
       "text": [
        "\n",
        "Job space target for office is 4019.89250602."
       ]
      },
      {
       "output_type": "stream",
       "stream": "stdout",
       "text": [
        "\n",
        "Sum of net units that are profitable: 2,246,393"
       ]
      },
      {
       "output_type": "stream",
       "stream": "stdout",
       "text": [
        "\n",
        "Constructed 2 office buildings, totaling 4385.79208554 new job spaces."
       ]
      },
      {
       "output_type": "stream",
       "stream": "stdout",
       "text": [
        "\n",
        "Time to execute model 'non_residential_developer': 2.52s"
       ]
      },
      {
       "output_type": "stream",
       "stream": "stdout",
       "text": [
        "\n",
        "Total time to execute year 2016: 463.09s\n"
       ]
      },
      {
       "output_type": "stream",
       "stream": "stderr",
       "text": [
        "c:\\Anaconda\\lib\\site-packages\\pandas\\util\\decorators.py:13: FutureWarning: diff is deprecated. Use difference instead\n",
        "  FutureWarning)\n"
       ]
      }
     ],
     "prompt_number": 2
    },
    {
     "cell_type": "code",
     "collapsed": false,
     "input": [
      "# LUZ prices\n",
      "bsim = sim.get_table('buildings').to_frame()\n",
      "luz_res_price = bsim[bsim.residential_units > 0].groupby('luz_id').res_price_per_sqft.mean()\n",
      "luz_nonres_price = bsim[bsim.non_residential_sqft > 0].groupby('luz_id').nonres_rent_per_sqft.mean()\n",
      "bsim = bsim[bsim.note == 'simulated']\n",
      "luz_simdu = bsim.groupby('luz_id').residential_units.sum()\n",
      "luz_simnr = bsim.groupby('luz_id').non_residential_sqft.sum()\n",
      "luz_df = pd.DataFrame({'du':luz_simdu, 'nrsf':luz_simnr, 'res_price':luz_res_price, 'nonres_price':luz_nonres_price})\n",
      "luz_df.to_csv(loader.get_path('out/luz_sim_indicators.csv'))"
     ],
     "language": "python",
     "metadata": {},
     "outputs": [],
     "prompt_number": 7
    },
    {
     "cell_type": "code",
     "collapsed": false,
     "input": [
      "luz_simdu.sum()"
     ],
     "language": "python",
     "metadata": {},
     "outputs": [
      {
       "metadata": {},
       "output_type": "pyout",
       "prompt_number": 8,
       "text": [
        "36316.0"
       ]
      }
     ],
     "prompt_number": 8
    },
    {
     "cell_type": "code",
     "collapsed": false,
     "input": [
      "# Summarize results at MSA level\n",
      "b = sim.get_table('buildings').to_frame()\n",
      "mgra_msa_xref = pd.read_csv(loader.get_path(\"xref//mgra_msa.csv\"))\n",
      "merged = pd.merge(b, mgra_msa_xref, left_on = 'mgra_id', right_on = 'mgra_id')\n",
      "new_du_by_msa = merged[merged.note  == 'simulated'].groupby('msa_id').residential_units.sum()\n",
      "proportion_by_msa = new_du_by_msa / new_du_by_msa.sum()"
     ],
     "language": "python",
     "metadata": {},
     "outputs": [],
     "prompt_number": 9
    },
    {
     "cell_type": "code",
     "collapsed": false,
     "input": [
      "proportion_by_msa"
     ],
     "language": "python",
     "metadata": {},
     "outputs": [
      {
       "metadata": {},
       "output_type": "pyout",
       "prompt_number": 10,
       "text": [
        "msa_id\n",
        "0         0.226952\n",
        "1         0.235488\n",
        "2         0.211036\n",
        "3         0.029243\n",
        "4         0.175047\n",
        "5         0.122233\n",
        "Name: residential_units, dtype: float64"
       ]
      }
     ],
     "prompt_number": 10
    },
    {
     "cell_type": "heading",
     "level": 3,
     "metadata": {},
     "source": [
      "Predict prices and summarize/export at the LUZ level"
     ]
    },
    {
     "cell_type": "code",
     "collapsed": false,
     "input": [
      "%%capture\n",
      "## Accessibility engine\n",
      "sim.run([\"build_networks\", \"neighborhood_vars\"])\n",
      "\n",
      "# Predict prices\n",
      "sim.run([\"rsh_simulate\", \"nrh_simulate\", \"nrh_simulate2\"])\n",
      "\n",
      "##Export LUZ mean prices to csv for visual checking\n",
      "buildings = sim.get_table('buildings').to_frame()\n",
      "luz_res_price = buildings[buildings.residential_units > 0].groupby('luz_id').res_price_per_sqft.mean()\n",
      "luz_nonres_price = buildings[buildings.non_residential_sqft > 0].groupby('luz_id').nonres_rent_per_sqft.mean()\n",
      "df = pd.DataFrame({'res_price':luz_res_price, 'nonres_price':luz_nonres_price})\n",
      "df.fillna(0).to_csv(loader.get_path('out/sim/sd_prices.csv'))\n",
      "\n",
      "# Summarize prices using network queries\n",
      "sim.run(['price_vars'])"
     ],
     "language": "python",
     "metadata": {},
     "outputs": [],
     "prompt_number": 2
    },
    {
     "cell_type": "heading",
     "level": 3,
     "metadata": {},
     "source": [
      "Proforma"
     ]
    },
    {
     "cell_type": "code",
     "collapsed": false,
     "input": [
      "# from urbansim.developer import sqftproforma\n",
      "# # Step 1:  feasibility\n",
      "sim.run(['feasibility'])\n",
      "sim.run([\"residential_developer\"])\n",
      "# sim.run([\"non_residential_developer\"])"
     ],
     "language": "python",
     "metadata": {},
     "outputs": [
      {
       "output_type": "stream",
       "stream": "stdout",
       "text": [
        "Running model 'feasibility'\n",
        "sf_detached\n",
        "Describe of the yearly rent by use"
       ]
      },
      {
       "output_type": "stream",
       "stream": "stdout",
       "text": [
        "\n",
        "count    812735.000000\n",
        "mean          8.179636\n",
        "std           4.445848\n",
        "min           0.029851\n",
        "25%           4.520800\n",
        "50%           7.589662\n",
        "75%          11.065457\n",
        "max          39.907114\n",
        "Name: residential, dtype: float64"
       ]
      },
      {
       "output_type": "stream",
       "stream": "stdout",
       "text": [
        "\n",
        "Feasibility given current prices/zonining indicates 2158 profitable units and target of 11593"
       ]
      },
      {
       "output_type": "stream",
       "stream": "stdout",
       "text": [
        "\n",
        "Scaling prices up by factor of 1.1\n",
        "Feasibility given current prices/zonining indicates 3874 profitable units and target of 11593"
       ]
      },
      {
       "output_type": "stream",
       "stream": "stdout",
       "text": [
        "\n",
        "Scaling prices up by factor of 1.2\n",
        "Feasibility given current prices/zonining indicates 8319 profitable units and target of 11593"
       ]
      },
      {
       "output_type": "stream",
       "stream": "stdout",
       "text": [
        "\n",
        "Scaling prices up by factor of 1.3\n",
        "Feasibility given current prices/zonining indicates 37701 profitable units and target of 11593"
       ]
      },
      {
       "output_type": "stream",
       "stream": "stdout",
       "text": [
        "\n",
        "20159\n",
        "sf_attached\n",
        "Describe of the yearly rent by use"
       ]
      },
      {
       "output_type": "stream",
       "stream": "stdout",
       "text": [
        "\n",
        "count    812735.000000\n",
        "mean          8.179636\n",
        "std           4.445848\n",
        "min           0.029851\n",
        "25%           4.520800\n",
        "50%           7.589662\n",
        "75%          11.065457\n",
        "max          39.907114\n",
        "Name: residential, dtype: float64"
       ]
      },
      {
       "output_type": "stream",
       "stream": "stdout",
       "text": [
        "\n",
        "681"
       ]
      },
      {
       "output_type": "stream",
       "stream": "stdout",
       "text": [
        "\n",
        "mf_residential"
       ]
      },
      {
       "output_type": "stream",
       "stream": "stdout",
       "text": [
        "\n",
        "Describe of the yearly rent by use"
       ]
      },
      {
       "output_type": "stream",
       "stream": "stdout",
       "text": [
        "\n",
        "count    812735.000000\n",
        "mean          7.887030\n",
        "std           4.343659\n",
        "min           0.002688\n",
        "25%           4.352153\n",
        "50%           7.281955\n",
        "75%          10.649780\n",
        "max          39.671849\n",
        "Name: residential, dtype: float64"
       ]
      },
      {
       "output_type": "stream",
       "stream": "stdout",
       "text": [
        "\n",
        "Feasibility given current prices/zonining indicates 1250 profitable units and target of 22281"
       ]
      },
      {
       "output_type": "stream",
       "stream": "stdout",
       "text": [
        "\n",
        "Scaling prices up by factor of 1.1\n",
        "Feasibility given current prices/zonining indicates 2448 profitable units and target of 22281"
       ]
      },
      {
       "output_type": "stream",
       "stream": "stdout",
       "text": [
        "\n",
        "Scaling prices up by factor of 1.2\n",
        "Feasibility given current prices/zonining indicates 6072 profitable units and target of 22281"
       ]
      },
      {
       "output_type": "stream",
       "stream": "stdout",
       "text": [
        "\n",
        "Scaling prices up by factor of 1.3\n",
        "Feasibility given current prices/zonining indicates 30375 profitable units and target of 22281"
       ]
      },
      {
       "output_type": "stream",
       "stream": "stdout",
       "text": [
        "\n",
        "14391\n",
        "office\n",
        "Describe of the yearly rent by use"
       ]
      },
      {
       "output_type": "stream",
       "stream": "stdout",
       "text": [
        "\n",
        "count    812735.000000\n",
        "mean         11.537526\n",
        "std          11.620645\n",
        "min           0.250000\n",
        "25%           0.250000\n",
        "50%           8.956369\n",
        "75%          22.269012\n",
        "max          79.971433\n",
        "Name: office, dtype: float64"
       ]
      },
      {
       "output_type": "stream",
       "stream": "stdout",
       "text": [
        "\n",
        "17055"
       ]
      },
      {
       "output_type": "stream",
       "stream": "stdout",
       "text": [
        "\n",
        "retail"
       ]
      },
      {
       "output_type": "stream",
       "stream": "stdout",
       "text": [
        "\n",
        "Describe of the yearly rent by use"
       ]
      },
      {
       "output_type": "stream",
       "stream": "stdout",
       "text": [
        "\n",
        "count    812735.000000\n",
        "mean         14.761896\n",
        "std          10.690151\n",
        "min           0.250000\n",
        "25%           8.015261\n",
        "50%          10.275428\n",
        "75%          23.294005\n",
        "max          55.172616\n",
        "Name: retail, dtype: float64"
       ]
      },
      {
       "output_type": "stream",
       "stream": "stdout",
       "text": [
        "\n",
        "31821"
       ]
      },
      {
       "output_type": "stream",
       "stream": "stdout",
       "text": [
        "\n",
        "light_industrial"
       ]
      },
      {
       "output_type": "stream",
       "stream": "stdout",
       "text": [
        "\n",
        "Describe of the yearly rent by use"
       ]
      },
      {
       "output_type": "stream",
       "stream": "stdout",
       "text": [
        "\n",
        "count    812735.000000\n",
        "mean          6.425054\n",
        "std           6.737604\n",
        "min           0.250000\n",
        "25%           0.250000\n",
        "50%           5.119874\n",
        "75%          11.528063\n",
        "max          33.848431\n",
        "Name: industrial, dtype: float64"
       ]
      },
      {
       "output_type": "stream",
       "stream": "stdout",
       "text": [
        "\n",
        "6422"
       ]
      },
      {
       "output_type": "stream",
       "stream": "stdout",
       "text": [
        "\n",
        "heavy_industrial"
       ]
      },
      {
       "output_type": "stream",
       "stream": "stdout",
       "text": [
        "\n",
        "Describe of the yearly rent by use"
       ]
      },
      {
       "output_type": "stream",
       "stream": "stdout",
       "text": [
        "\n",
        "count    812735.000000\n",
        "mean          6.425054\n",
        "std           6.737604\n",
        "min           0.250000\n",
        "25%           0.250000\n",
        "50%           5.119874\n",
        "75%          11.528063\n",
        "max          33.848431\n",
        "Name: industrial, dtype: float64"
       ]
      },
      {
       "output_type": "stream",
       "stream": "stdout",
       "text": [
        "\n",
        "0"
       ]
      },
      {
       "output_type": "stream",
       "stream": "stdout",
       "text": [
        "\n",
        "Time to execute model 'feasibility': 65.09s"
       ]
      },
      {
       "output_type": "stream",
       "stream": "stdout",
       "text": [
        "\n",
        "Total time to execute: 65.09s\n",
        "Running model 'residential_developer'\n",
        "45,515 feasible buildings before running developer\n",
        "Residential unit target for sf_detached is 11593."
       ]
      },
      {
       "output_type": "stream",
       "stream": "stdout",
       "text": [
        "\n",
        "sf_detached\n",
        "Sum of net units that are profitable: 40,297"
       ]
      },
      {
       "output_type": "stream",
       "stream": "stdout",
       "text": [
        "\n",
        "Constructed 1797 sf_detached buildings, totaling 12424.0 new residential_units\n",
        "Overshot target by 831.0 units!\n",
        "Biggest building has 149.0 units\n",
        "Residential unit target for mf_residential is 22281."
       ]
      },
      {
       "output_type": "stream",
       "stream": "stdout",
       "text": [
        "\n",
        "mf_residential\n",
        "Sum of net units that are profitable: 22,093"
       ]
      },
      {
       "output_type": "stream",
       "stream": "stdout",
       "text": [
        "\n",
        "WARNING THERE WERE NOT ENOUGH PROFITABLE UNITS TO MATCH DEMAND\n",
        "Constructed 6665 mf_residential buildings, totaling 23892.0 new residential_units\n",
        "Overshot target by 1611.0 units!\n",
        "Biggest building has 140.0 units\n",
        "Simulated DU: 36316.0"
       ]
      },
      {
       "output_type": "stream",
       "stream": "stdout",
       "text": [
        "\n",
        "Target DU: 33874\n",
        "Time to execute model 'residential_developer': 2.68s\n",
        "Total time to execute: 2.68s\n"
       ]
      },
      {
       "output_type": "stream",
       "stream": "stderr",
       "text": [
        "c:\\Anaconda\\lib\\site-packages\\pandas\\computation\\expressions.py:190: UserWarning: evaluating in Python space because the '*' operator is not supported by numexpr for the bool dtype, use '&' instead\n",
        "  unsupported[op_str]))\n"
       ]
      }
     ],
     "prompt_number": 3
    }
   ],
   "metadata": {}
  }
 ]
}