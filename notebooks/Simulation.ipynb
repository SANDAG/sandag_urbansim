{
 "cells": [
  {
   "cell_type": "markdown",
   "metadata": {},
   "source": [
    "## SANDAG UrbanSim"
   ]
  },
  {
   "cell_type": "code",
   "execution_count": null,
   "metadata": {
    "collapsed": false
   },
   "outputs": [],
   "source": [
    "%load_ext autoreload\n",
    "%autoreload 2\n",
    "import pandas as pd, numpy as np\n",
    "if 'sim' not in globals():\n",
    "    import os; os.chdir('..')\n",
    "import models\n",
    "import urbansim.sim.simulation as sim"
   ]
  },
  {
   "cell_type": "markdown",
   "metadata": {},
   "source": [
    "### Run all models"
   ]
  },
  {
   "cell_type": "code",
   "execution_count": null,
   "metadata": {
    "collapsed": false
   },
   "outputs": [],
   "source": [
    "sim.run([\"build_networks\"]) #initialize network accessibility engine\n",
    "sim.run([\"scheduled_development_events\", \"neighborhood_vars\", #scheduled events and accessibility variables\n",
    "         \"rsh_simulate\", \"nrh_simulate\", \"nrh_simulate2\",   #price models\n",
    "         \"jobs_transition\", \"elcm_simulate\", \"households_transition\", \"hlcm_luz_simulate\", #demand/location models\n",
    "         \"price_vars\", \"feasibility\", \"residential_developer\", \"non_residential_developer\", #supply/proforma models\n",
    "         \"model_integration_indicators\", #indicators for pasef/pecas\n",
    "         \"buildings_to_uc\", #export buildings to urban canvas\n",
    "         ], years=range(2013, 2016))"
   ]
  },
  {
   "cell_type": "markdown",
   "metadata": {},
   "source": [
    "### LUZ Indicators"
   ]
  },
  {
   "cell_type": "code",
   "execution_count": null,
   "metadata": {
    "collapsed": false
   },
   "outputs": [],
   "source": [
    "bsim = sim.get_table('buildings').to_frame(columns = ['luz_id', 'note', 'res_price_per_sqft', 'nonres_rent_per_sqft', 'residential_units', 'non_residential_sqft'])\n",
    "luz_res_price = bsim[bsim.residential_units > 0].groupby('luz_id').res_price_per_sqft.mean()\n",
    "luz_nonres_price = bsim[bsim.non_residential_sqft > 0].groupby('luz_id').nonres_rent_per_sqft.mean()\n",
    "bsim = bsim[(bsim.note == 'simulated') | bsim.note.str.startswith('Sitespec')]\n",
    "luz_simdu = bsim.groupby('luz_id').residential_units.sum()\n",
    "luz_simnr = bsim.groupby('luz_id').non_residential_sqft.sum()\n",
    "luz_df = pd.DataFrame({'du':luz_simdu, 'nrsf':luz_simnr, 'res_price':luz_res_price, 'nonres_price':luz_nonres_price})\n",
    "luz_df = luz_df[luz_df.index.values != 0].fillna(0)\n",
    "luz_df.index = luz_df.index.values.astype('int')\n",
    "luz_df.index.name = 'luz_id'\n",
    "from spandex import TableLoader; loader = TableLoader(); luz_df.to_csv(loader.get_path('out/luz_sim_indicators.csv'))"
   ]
  },
  {
   "cell_type": "markdown",
   "metadata": {},
   "source": [
    "### MSA Indicators"
   ]
  },
  {
   "cell_type": "code",
   "execution_count": null,
   "metadata": {
    "collapsed": false
   },
   "outputs": [],
   "source": [
    "# Summarize results at MSA level\n",
    "b = sim.get_table('buildings').to_frame(columns = ['msa_id', 'mgra_id', 'residential_units', 'non_residential_sqft', 'note'])\n",
    "new_du_by_msa = b[b.note  == 'simulated'].groupby('msa_id').residential_units.sum()\n",
    "new_nrsf_by_msa = b[b.note  == 'simulated'].groupby('msa_id').non_residential_sqft.sum()\n",
    "proportion_du_by_msa = new_du_by_msa / new_du_by_msa.sum()\n",
    "proportion_nrsf_by_msa = new_nrsf_by_msa / new_nrsf_by_msa.sum()\n",
    "print proportion_du_by_msa\n",
    "print proportion_nrsf_by_msa "
   ]
  },
  {
   "cell_type": "markdown",
   "metadata": {},
   "source": [
    "### Predict prices and summarize/export at the LUZ level"
   ]
  },
  {
   "cell_type": "code",
   "execution_count": null,
   "metadata": {
    "collapsed": false
   },
   "outputs": [],
   "source": [
    "%%capture\n",
    "## Accessibility engine\n",
    "sim.run([\"build_networks\", \"neighborhood_vars\"])\n",
    "\n",
    "# Predict prices\n",
    "sim.run([\"rsh_simulate\", \"nrh_simulate\", \"nrh_simulate2\"])\n",
    "\n",
    "##Export LUZ mean prices to csv for visual checking\n",
    "buildings = sim.get_table('buildings').to_frame()\n",
    "luz_res_price = buildings[buildings.residential_units > 0].groupby('luz_id').res_price_per_sqft.mean()\n",
    "luz_nonres_price = buildings[buildings.non_residential_sqft > 0].groupby('luz_id').nonres_rent_per_sqft.mean()\n",
    "df = pd.DataFrame({'res_price':luz_res_price, 'nonres_price':luz_nonres_price})\n",
    "# df.fillna(0).to_csv(loader.get_path('out/sim/sd_prices.csv'))\n",
    "\n",
    "# Summarize prices using network queries\n",
    "sim.run(['price_vars'])"
   ]
  },
  {
   "cell_type": "markdown",
   "metadata": {},
   "source": [
    "### Proforma"
   ]
  },
  {
   "cell_type": "code",
   "execution_count": null,
   "metadata": {
    "collapsed": false
   },
   "outputs": [],
   "source": [
    "# from urbansim.developer import sqftproforma\n",
    "# # Step 1:  feasibility\n",
    "sim.run(['feasibility'])\n",
    "sim.run([\"residential_developer\"])\n",
    "sim.run([\"non_residential_developer\"])"
   ]
  }
 ],
 "metadata": {
  "kernelspec": {
   "display_name": "Python 2",
   "language": "python",
   "name": "python2"
  },
  "language_info": {
   "codemirror_mode": {
    "name": "ipython",
    "version": 2
   },
   "file_extension": ".py",
   "mimetype": "text/x-python",
   "name": "python",
   "nbconvert_exporter": "python",
   "pygments_lexer": "ipython2",
   "version": "2.7.9"
  }
 },
 "nbformat": 4,
 "nbformat_minor": 0
}
