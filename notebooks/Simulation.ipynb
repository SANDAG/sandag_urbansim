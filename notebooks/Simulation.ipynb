{
 "metadata": {
  "name": "",
  "signature": "sha256:dc7251a9d1f2ab1ab88878cda1ecbb293eeaaac66c0a690e7c4a0fee9663696e"
 },
 "nbformat": 3,
 "nbformat_minor": 0,
 "worksheets": [
  {
   "cells": [
    {
     "cell_type": "code",
     "collapsed": false,
     "input": [
      "%load_ext autoreload\n",
      "%autoreload 2\n",
      "import pandas as pd, numpy as np\n",
      "if 'sim' not in globals():\n",
      "    import os; os.chdir('..')\n",
      "import models\n",
      "import urbansim.sim.simulation as sim\n",
      "from spandex import TableLoader\n",
      "\n",
      "loader = TableLoader()"
     ],
     "language": "python",
     "metadata": {},
     "outputs": []
    },
    {
     "cell_type": "heading",
     "level": 3,
     "metadata": {},
     "source": [
      "Run all models"
     ]
    },
    {
     "cell_type": "code",
     "collapsed": false,
     "input": [
      "sim.run([\"build_networks\"]) #initialize network accessibility engine\n",
      "sim.run([\"scheduled_development_events\", \"neighborhood_vars\", #scheduled events and accessibility variables\n",
      "         \"rsh_simulate\", \"nrh_simulate\", \"nrh_simulate2\",   #price models\n",
      "         \"jobs_transition\", \"elcm_simulate\", \"households_transition\", \"hlcm_luz_simulate\", #demand/location models\n",
      "         \"price_vars\", \"feasibility\", \"residential_developer\", \"non_residential_developer\", #supply/proforma models\n",
      "         \"model_integration_indicators\" #indicators for pasef/pecas\n",
      "         ], years=[2012, 2015,])"
     ],
     "language": "python",
     "metadata": {},
     "outputs": [
      {
       "output_type": "stream",
       "stream": "stdout",
       "text": [
        "\n",
        "    and 0 overfull buildings\n",
        "HLCM for LUZ 163.0\n",
        "There are 2519 total available units"
       ]
      },
      {
       "output_type": "stream",
       "stream": "stdout",
       "text": [
        "\n",
        "    and 409 total choosers\n",
        "    but there are 0 overfull buildings\n",
        "    for a total of 569 temporarily empty units\n",
        "    in 522 buildings total in the region\n",
        "Assigned 409 choosers to new units"
       ]
      },
      {
       "output_type": "stream",
       "stream": "stdout",
       "text": [
        "\n",
        "Total currently unplaced: 19053"
       ]
      }
     ]
    },
    {
     "cell_type": "code",
     "collapsed": false,
     "input": [
      "# LUZ prices\n",
      "bsim = sim.get_table('buildings').to_frame(columns = ['luz_id', 'note', 'res_price_per_sqft', 'nonres_rent_per_sqft', 'residential_units', 'non_residential_sqft'])\n",
      "luz_res_price = bsim[bsim.residential_units > 0].groupby('luz_id').res_price_per_sqft.mean()\n",
      "luz_nonres_price = bsim[bsim.non_residential_sqft > 0].groupby('luz_id').nonres_rent_per_sqft.mean()\n",
      "bsim = bsim[bsim.note == 'simulated']\n",
      "luz_simdu = bsim.groupby('luz_id').residential_units.sum()\n",
      "luz_simnr = bsim.groupby('luz_id').non_residential_sqft.sum()\n",
      "luz_df = pd.DataFrame({'du':luz_simdu, 'nrsf':luz_simnr, 'res_price':luz_res_price, 'nonres_price':luz_nonres_price})\n",
      "luz_df.to_csv(loader.get_path('out/luz_sim_indicators.csv'))"
     ],
     "language": "python",
     "metadata": {},
     "outputs": []
    },
    {
     "cell_type": "code",
     "collapsed": false,
     "input": [
      "# Summarize results at MSA level\n",
      "b = sim.get_table('buildings').to_frame(columns = ['mgra_id', 'residential_units', 'non_residential_sqft', 'note'])\n",
      "mgra_msa_xref = pd.read_csv(loader.get_path(\"xref//mgra_msa.csv\"))\n",
      "merged = pd.merge(b, mgra_msa_xref, left_on = 'mgra_id', right_on = 'mgra_id')\n",
      "new_du_by_msa = merged[merged.note  == 'simulated'].groupby('msa_id').residential_units.sum()\n",
      "new_nrsf_by_msa = merged[merged.note  == 'simulated'].groupby('msa_id').non_residential_sqft.sum()\n",
      "proportion_du_by_msa = new_du_by_msa / new_du_by_msa.sum()\n",
      "proportion_nrsf_by_msa = new_nrsf_by_msa / new_nrsf_by_msa.sum()"
     ],
     "language": "python",
     "metadata": {},
     "outputs": []
    },
    {
     "cell_type": "code",
     "collapsed": false,
     "input": [
      "print proportion_du_by_msa\n",
      "print proportion_nrsf_by_msa "
     ],
     "language": "python",
     "metadata": {},
     "outputs": []
    },
    {
     "cell_type": "heading",
     "level": 3,
     "metadata": {},
     "source": [
      "Predict prices and summarize/export at the LUZ level"
     ]
    },
    {
     "cell_type": "code",
     "collapsed": false,
     "input": [
      "%%capture\n",
      "## Accessibility engine\n",
      "sim.run([\"build_networks\", \"neighborhood_vars\"])\n",
      "\n",
      "# Predict prices\n",
      "sim.run([\"rsh_simulate\", \"nrh_simulate\", \"nrh_simulate2\"])\n",
      "\n",
      "##Export LUZ mean prices to csv for visual checking\n",
      "buildings = sim.get_table('buildings').to_frame()\n",
      "luz_res_price = buildings[buildings.residential_units > 0].groupby('luz_id').res_price_per_sqft.mean()\n",
      "luz_nonres_price = buildings[buildings.non_residential_sqft > 0].groupby('luz_id').nonres_rent_per_sqft.mean()\n",
      "df = pd.DataFrame({'res_price':luz_res_price, 'nonres_price':luz_nonres_price})\n",
      "df.fillna(0).to_csv(loader.get_path('out/sim/sd_prices.csv'))\n",
      "\n",
      "# Summarize prices using network queries\n",
      "sim.run(['price_vars'])"
     ],
     "language": "python",
     "metadata": {},
     "outputs": []
    },
    {
     "cell_type": "heading",
     "level": 3,
     "metadata": {},
     "source": [
      "Proforma"
     ]
    },
    {
     "cell_type": "code",
     "collapsed": false,
     "input": [
      "# from urbansim.developer import sqftproforma\n",
      "# # Step 1:  feasibility\n",
      "sim.run(['feasibility'])\n",
      "sim.run([\"residential_developer\"])\n",
      "sim.run([\"non_residential_developer\"])"
     ],
     "language": "python",
     "metadata": {},
     "outputs": []
    }
   ],
   "metadata": {}
  }
 ]
}