{
 "metadata": {
  "name": "",
  "signature": "sha256:fb1bc8033cb201defb48a23160e6ed4ae347530fefa52578068bbc7396cbecbe"
 },
 "nbformat": 3,
 "nbformat_minor": 0,
 "worksheets": [
  {
   "cells": [
    {
     "cell_type": "code",
     "collapsed": false,
     "input": [
      "import os\n",
      "from spandex import TableLoader\n",
      "from spandex.io import exec_sql #spandex localhost exec_sql func\n",
      "from spandex.utils import load_config\n",
      "import psycopg2\n",
      "\n",
      "loader = TableLoader()"
     ],
     "language": "python",
     "metadata": {},
     "outputs": [],
     "prompt_number": 17
    },
    {
     "cell_type": "heading",
     "level": 2,
     "metadata": {},
     "source": [
      "UrbanCanvas"
     ]
    },
    {
     "cell_type": "code",
     "collapsed": false,
     "input": [
      "## spandex localhost db config\n",
      "db_config = dict(load_config().items('database'))  \n",
      "\n",
      "## UrbanCanvas db config\n",
      "urbancanvas_db_config = {'database': 'sandag',\n",
      "                         'host': '67.225.185.54',\n",
      "                         'password': 'Visua1ization',\n",
      "                         'port': '5432',\n",
      "                         'user': 'urbancanvas'}"
     ],
     "language": "python",
     "metadata": {},
     "outputs": [],
     "prompt_number": 42
    },
    {
     "cell_type": "code",
     "collapsed": false,
     "input": [
      "## if 'loading' schema not on localhost db, create.  This schema is for tables to load to UrbanCanvas\n",
      "exec_sql(\"CREATE SCHEMA IF NOT EXISTS loading;\")  "
     ],
     "language": "python",
     "metadata": {},
     "outputs": [],
     "prompt_number": 2
    },
    {
     "cell_type": "code",
     "collapsed": false,
     "input": [
      "#UrbanCanvas exec_sql func, for executing sql on UrbanCanvas database\n",
      "def exec_sql2(query):\n",
      "    print query\n",
      "    conn_string = \"host=67.225.185.54 dbname='sandag' user='urbancanvas' password='Visua1ization' port=5432\"\n",
      "    import psycopg2\n",
      "    conn=psycopg2.connect(conn_string)\n",
      "    cur = conn.cursor()\n",
      "    cur.execute(query)\n",
      "    conn.commit()\n",
      "    cur.close()\n",
      "    conn.close()"
     ],
     "language": "python",
     "metadata": {},
     "outputs": [],
     "prompt_number": 18
    },
    {
     "cell_type": "code",
     "collapsed": false,
     "input": [
      "    \"\"\"\n",
      "    Exports specified tables from localhost database to the UrbanCanvas\n",
      "    database. Assumes the spandex data directory has an 'out' folder.\n",
      "    A 'loading' schema must exist on both localhost and UrbanCanvas.\n",
      "\n",
      "    Parameters\n",
      "    ----------\n",
      "    table_name : str\n",
      "        Name of table to export to UrbanCanvas.\n",
      "    table_schema : str\n",
      "        Name of schema on localhost that the table resides in.\n",
      "    localhost_db_config : dict\n",
      "        Dictionary of localhost database configuration settings.\n",
      "        Should have the following keys:  'database', 'host', 'user',\n",
      "        'pass', 'port'.\n",
      "    urbancanvas_db_config : dict\n",
      "        Dictionary of UrbanCanvas database configuration settings.\n",
      "        Should have the following keys:  'database', 'host', 'user',\n",
      "        'pass', 'port'.\n",
      "    exec_sql_localhost_fn : function\n",
      "        Function that executes sql on localhost db based on sql \n",
      "        string argument.\n",
      "    exec_sql_urbancanvas_fn : function\n",
      "        Function that executes sql on UrbanCanvas db based on sql \n",
      "        string argument.\n",
      "    src_table_name : str, Optional\n",
      "        Name of source table to export to UrbanCanvas db if name of\n",
      "        table is different on localhost than on UrbanCanvas.\n",
      "\n",
      "    Returns\n",
      "    -------\n",
      "    None\n",
      "\n",
      "    \"\"\"\n",
      "def localhost_to_urbancanvas_db(table_name, table_schema, localhost_db_config, urbancanvas_db_config, exec_sql_localhost_fn, exec_sql_urbancanvas_fn, src_table_name = None):\n",
      "    exec_sql_localhost_fn(\"drop table if exists loading.%s;\" % table_name)\n",
      "    \n",
      "    if src_table_name is not None:\n",
      "        exec_sql_localhost_fn(\"SELECT * INTO loading.%s FROM %s.%s;\" % (table_name, table_schema, src_table_name))\n",
      "    else:\n",
      "        exec_sql_localhost_fn(\"SELECT * INTO loading.%s FROM %s.%s;\" % (table_name, table_schema, table_name))\n",
      "\n",
      "    postgres_backup = loader.get_path('out/%s.backup' % table_name)\n",
      "    os.system('pg_dump --host %s --port %s --username \"%s\" --format custom --verbose --file \"%s\" --table \"loading.%s\" \"%s\"' % \n",
      "              (db_config['host'], db_config['port'], db_config['user'], postgres_backup, table_name, db_config['database'])) \n",
      "\n",
      "    exec_sql_urbancanvas_fn(\"drop table if exists loading.%s;\" % table_name)\n",
      "\n",
      "    os.system('pg_restore --host %s --port %s --username \"%s\" --dbname \"%s\" --role \"%s\" --no-password  --verbose \"%s\"' % \n",
      "              (urbancanvas_db_config['host'], urbancanvas_db_config['port'], urbancanvas_db_config['user'], urbancanvas_db_config['database'], urbancanvas_db_config['user'], postgres_backup))\n",
      "    \n",
      "    "
     ],
     "language": "python",
     "metadata": {},
     "outputs": [],
     "prompt_number": 40
    },
    {
     "cell_type": "code",
     "collapsed": false,
     "input": [
      "## Export tables from localhost database to UrbanCanvas database\n",
      "localhost_to_urbancanvas_db('zoning', 'public', db_config, urbancanvas_db_config, exec_sql, exec_sql2)\n",
      "localhost_to_urbancanvas_db('zoning_allowed_uses', 'public', db_config, urbancanvas_db_config, exec_sql, exec_sql2)\n",
      "localhost_to_urbancanvas_db('building', 'public', db_config, urbancanvas_db_config, exec_sql, exec_sql2, src_table_name = 'buildings')\n",
      "localhost_to_urbancanvas_db('parcel', 'public', db_config, urbancanvas_db_config, exec_sql, exec_sql2, src_table_name = 'parcels')"
     ],
     "language": "python",
     "metadata": {},
     "outputs": [],
     "prompt_number": 30
    },
    {
     "cell_type": "heading",
     "level": 2,
     "metadata": {},
     "source": [
      "HDF5"
     ]
    },
    {
     "cell_type": "code",
     "collapsed": false,
     "input": [
      "import pandas as pd, numpy as np\n",
      "import pandas.io.sql as sql\n",
      "from spandex import TableLoader\n",
      "\n",
      "loader = TableLoader()\n",
      "\n",
      "def db_to_df(query):\n",
      "    \"\"\"Executes SQL query and returns DataFrame.\"\"\"\n",
      "    conn = loader.database._connection\n",
      "    return sql.read_frame(query, conn)"
     ],
     "language": "python",
     "metadata": {},
     "outputs": [
      {
       "output_type": "stream",
       "stream": "stderr",
       "text": [
        "WARNING:spandex.database:Unable to map table to class: Mapper Mapper|loading.parcel|parcel could not assemble any primary key columns for mapped table 'parcel'\n"
       ]
      },
      {
       "output_type": "stream",
       "stream": "stderr",
       "text": [
        "WARNING:spandex.database:Unable to map table to class: Mapper Mapper|loading.zoning|zoning could not assemble any primary key columns for mapped table 'zoning'\n"
       ]
      },
      {
       "output_type": "stream",
       "stream": "stderr",
       "text": [
        "WARNING:spandex.database:Unable to map table to class: Mapper Mapper|public.parcels|parcels could not assemble any primary key columns for mapped table 'parcels'\n"
       ]
      },
      {
       "output_type": "stream",
       "stream": "stderr",
       "text": [
        "WARNING:spandex.database:Unable to map table to class: Mapper Mapper|public.zoning_allowed_uses|zoning_allowed_uses could not assemble any primary key columns for mapped table 'zoning_allowed_uses'\n"
       ]
      },
      {
       "output_type": "stream",
       "stream": "stderr",
       "text": [
        "WARNING:spandex.database:Unable to map table to class: Mapper Mapper|loading.building|building could not assemble any primary key columns for mapped table 'building'\n"
       ]
      },
      {
       "output_type": "stream",
       "stream": "stderr",
       "text": [
        "WARNING:spandex.database:Unable to map table to class: Mapper Mapper|staging.scheduled_development|scheduled_development could not assemble any primary key columns for mapped table 'scheduled_development'\n"
       ]
      },
      {
       "output_type": "stream",
       "stream": "stderr",
       "text": [
        "WARNING:spandex.database:Unable to map table to class: Mapper Mapper|loading.zoning_allowed_uses|zoning_allowed_uses could not assemble any primary key columns for mapped table 'zoning_allowed_uses'\n"
       ]
      },
      {
       "output_type": "stream",
       "stream": "stderr",
       "text": [
        "WARNING:spandex.database:Unable to map table to class: Mapper Mapper|public.zoning|zoning could not assemble any primary key columns for mapped table 'zoning'\n"
       ]
      }
     ],
     "prompt_number": 1
    },
    {
     "cell_type": "code",
     "collapsed": false,
     "input": [
      "# Read from database (public schema)\n",
      "parcels = db_to_df('select * from parcels').set_index('parcel_id')\n",
      "jobs = db_to_df('select * from jobs').set_index('job_id')\n",
      "households = db_to_df('select * from households').set_index('household_id')\n",
      "buildings = db_to_df('select * from buildings').set_index('building_id')"
     ],
     "language": "python",
     "metadata": {},
     "outputs": [
      {
       "output_type": "stream",
       "stream": "stderr",
       "text": [
        "c:\\Anaconda\\lib\\site-packages\\pandas\\io\\sql.py:1561: FutureWarning: read_frame is deprecated, use read_sql\n",
        "  warnings.warn(\"read_frame is deprecated, use read_sql\", FutureWarning)\n"
       ]
      }
     ],
     "prompt_number": 2
    },
    {
     "cell_type": "code",
     "collapsed": false,
     "input": [
      "# Remove uneccesary id columns appended by spandex\n",
      "for df in [buildings, jobs, households]:\n",
      "    if 'id' in df.columns:\n",
      "        del df['id']"
     ],
     "language": "python",
     "metadata": {},
     "outputs": [],
     "prompt_number": 4
    },
    {
     "cell_type": "code",
     "collapsed": false,
     "input": [
      "if 'block_id' in jobs.columns:\n",
      "    del jobs['block_id']\n",
      "    \n",
      "if 'mgra_id' in households.columns:\n",
      "    del households['mgra_id']\n",
      "    \n",
      "for df in [jobs, households]:\n",
      "    df.building_id[df.building_id.isnull()] = -1\n",
      "    for col in df.columns:\n",
      "        df[col] = df[col].astype('int')\n",
      "        \n",
      "if 'mgra_id' in buildings.columns:\n",
      "    del buildings['mgra_id']\n",
      "    \n",
      "if 'block_id' in buildings.columns:\n",
      "    del buildings['block_id']\n",
      "    \n",
      "if 'job_spaces' in buildings.columns:\n",
      "    del buildings['job_spaces']"
     ],
     "language": "python",
     "metadata": {},
     "outputs": [
      {
       "output_type": "stream",
       "stream": "stderr",
       "text": [
        "-c:8: SettingWithCopyWarning: \n",
        "A value is trying to be set on a copy of a slice from a DataFrame\n",
        "\n",
        "See the the caveats in the documentation: http://pandas.pydata.org/pandas-docs/stable/indexing.html#indexing-view-versus-copy\n"
       ]
      }
     ],
     "prompt_number": 5
    },
    {
     "cell_type": "code",
     "collapsed": false,
     "input": [
      "# Get OSM nodes and edges for Pandana\n",
      "nodes_path = loader.get_path('travel/nodes.csv')\n",
      "edges_path = loader.get_path('travel/edges.csv')\n",
      "nodes = pd.read_csv(nodes_path).set_index('node_id')\n",
      "edges = pd.read_csv(edges_path)\n",
      "nodes.index.name = 'index'"
     ],
     "language": "python",
     "metadata": {},
     "outputs": []
    },
    {
     "cell_type": "code",
     "collapsed": false,
     "input": [
      "# Put tables in HDF5\n",
      "h5_path = loader.get_path('out/sandag.h5')\n",
      "\n",
      "store = pd.HDFStore(h5_path)\n",
      "store['edges'] = edges\n",
      "store['nodes'] = nodes\n",
      "store['parcels'] = parcels\n",
      "store['buildings'] = buildings\n",
      "store['households'] = households\n",
      "store['jobs'] = jobs\n",
      "\n",
      "store.close()"
     ],
     "language": "python",
     "metadata": {},
     "outputs": [
      {
       "output_type": "stream",
       "stream": "stderr",
       "text": [
        "c:\\Anaconda\\lib\\site-packages\\pandas\\io\\pytables.py:2558: PerformanceWarning: \n",
        "your performance may suffer as PyTables will pickle object types that it cannot\n",
        "map directly to c-types [inferred_type->mixed,key->block2_values] [items->['apn', 'geom', 'block_geoid', 'centroid']]\n",
        "\n",
        "  warnings.warn(ws, PerformanceWarning)\n",
        "c:\\Anaconda\\lib\\site-packages\\pandas\\io\\pytables.py:2558: PerformanceWarning: \n",
        "your performance may suffer as PyTables will pickle object types that it cannot\n",
        "map directly to c-types [inferred_type->unicode,key->block1_values] [items->['note']]\n",
        "\n",
        "  warnings.warn(ws, PerformanceWarning)\n"
       ]
      }
     ],
     "prompt_number": 10
    },
    {
     "cell_type": "code",
     "collapsed": false,
     "input": [
      "import pandas as pd, numpy as np\n",
      "import pandas.io.sql as sql\n",
      "from spandex import TableLoader\n",
      "\n",
      "loader = TableLoader()\n",
      "\n",
      "def db_to_df(query):\n",
      "    \"\"\"Executes SQL query and returns DataFrame.\"\"\"\n",
      "    conn = loader.database._connection\n",
      "    return sql.read_frame(query, conn)"
     ],
     "language": "python",
     "metadata": {},
     "outputs": [
      {
       "output_type": "stream",
       "stream": "stderr",
       "text": [
        "WARNING:spandex.database:Unable to map table to class: Mapper Mapper|loading.parcel|parcel could not assemble any primary key columns for mapped table 'parcel'\n"
       ]
      },
      {
       "output_type": "stream",
       "stream": "stderr",
       "text": [
        "WARNING:spandex.database:Unable to map table to class: Mapper Mapper|loading.zoning|zoning could not assemble any primary key columns for mapped table 'zoning'\n"
       ]
      },
      {
       "output_type": "stream",
       "stream": "stderr",
       "text": [
        "WARNING:spandex.database:Unable to map table to class: Mapper Mapper|public.parcels|parcels could not assemble any primary key columns for mapped table 'parcels'\n"
       ]
      },
      {
       "output_type": "stream",
       "stream": "stderr",
       "text": [
        "WARNING:spandex.database:Unable to map table to class: Mapper Mapper|public.zoning_allowed_uses|zoning_allowed_uses could not assemble any primary key columns for mapped table 'zoning_allowed_uses'\n"
       ]
      },
      {
       "output_type": "stream",
       "stream": "stderr",
       "text": [
        "WARNING:spandex.database:Unable to map table to class: Mapper Mapper|loading.building|building could not assemble any primary key columns for mapped table 'building'\n"
       ]
      },
      {
       "output_type": "stream",
       "stream": "stderr",
       "text": [
        "WARNING:spandex.database:Unable to map table to class: Mapper Mapper|staging.scheduled_development|scheduled_development could not assemble any primary key columns for mapped table 'scheduled_development'\n"
       ]
      },
      {
       "output_type": "stream",
       "stream": "stderr",
       "text": [
        "WARNING:spandex.database:Unable to map table to class: Mapper Mapper|loading.zoning_allowed_uses|zoning_allowed_uses could not assemble any primary key columns for mapped table 'zoning_allowed_uses'\n"
       ]
      },
      {
       "output_type": "stream",
       "stream": "stderr",
       "text": [
        "WARNING:spandex.database:Unable to map table to class: Mapper Mapper|public.zoning|zoning could not assemble any primary key columns for mapped table 'zoning'\n"
       ]
      }
     ],
     "prompt_number": 1
    },
    {
     "cell_type": "code",
     "collapsed": false,
     "input": [
      "h5_path = loader.get_path('out/sandag.h5')\n",
      "\n",
      "store = pd.HDFStore(h5_path)"
     ],
     "language": "python",
     "metadata": {},
     "outputs": [],
     "prompt_number": 2
    },
    {
     "cell_type": "code",
     "collapsed": false,
     "input": [
      "parcels = store.parcels\n",
      "buildings = store.buildings\n",
      "nodes = store.nodes"
     ],
     "language": "python",
     "metadata": {},
     "outputs": [],
     "prompt_number": 3
    },
    {
     "cell_type": "code",
     "collapsed": false,
     "input": [
      "costar = store.costar\n",
      "households = store.households\n",
      "jobs = store.jobs"
     ],
     "language": "python",
     "metadata": {},
     "outputs": [],
     "prompt_number": 4
    },
    {
     "cell_type": "code",
     "collapsed": false,
     "input": [
      "nodes_path = loader.get_path('travel/nodes.csv')\n",
      "edges_path = loader.get_path('travel/edges.csv')\n",
      "nodes = pd.read_csv(nodes_path).set_index('node_id')\n",
      "edges = pd.read_csv(edges_path)\n",
      "nodes.index.name = 'index'\n",
      "store['edges'] = edges\n",
      "store['nodes'] = nodes\n",
      "store.close()"
     ],
     "language": "python",
     "metadata": {},
     "outputs": [],
     "prompt_number": 9
    },
    {
     "cell_type": "code",
     "collapsed": false,
     "input": [
      "nodes = store.nodes\n",
      "edges = store.edges\n",
      "\n",
      "import  pandana as pdna\n",
      "net = pdna.Network(nodes[\"x\"], nodes[\"y\"], edges[\"from\"], edges[\"to\"],\n",
      "                       edges[[\"weight\"]])\n",
      "\n",
      "net.precompute(2000)"
     ],
     "language": "python",
     "metadata": {},
     "outputs": [],
     "prompt_number": 7
    },
    {
     "cell_type": "code",
     "collapsed": false,
     "input": [
      "parcels = store.parcels"
     ],
     "language": "python",
     "metadata": {},
     "outputs": [],
     "prompt_number": 8
    },
    {
     "cell_type": "code",
     "collapsed": false,
     "input": [
      "parcels['_node_id'] = net.get_node_ids(parcels['x'], parcels['y'])\n",
      "parcels.head()"
     ],
     "language": "python",
     "metadata": {},
     "outputs": [
      {
       "html": [
        "<div style=\"max-height:1000px;max-width:1500px;overflow:auto;\">\n",
        "<table border=\"1\" class=\"dataframe\">\n",
        "  <thead>\n",
        "    <tr style=\"text-align: right;\">\n",
        "      <th></th>\n",
        "      <th>development_type_id</th>\n",
        "      <th>land_value</th>\n",
        "      <th>parcel_acres</th>\n",
        "      <th>county_id</th>\n",
        "      <th>mgra_id</th>\n",
        "      <th>zoning_id</th>\n",
        "      <th>luz_id</th>\n",
        "      <th>msa_id</th>\n",
        "      <th>proportion_undevelopable</th>\n",
        "      <th>tax_exempt</th>\n",
        "      <th>...</th>\n",
        "      <th>distance_to_coast</th>\n",
        "      <th>distance_to_freeway</th>\n",
        "      <th>distance_to_onramp</th>\n",
        "      <th>distance_to_park</th>\n",
        "      <th>distance_to_school</th>\n",
        "      <th>distance_to_transit</th>\n",
        "      <th>centroid</th>\n",
        "      <th>x</th>\n",
        "      <th>y</th>\n",
        "      <th>_node_id</th>\n",
        "    </tr>\n",
        "    <tr>\n",
        "      <th>parcel_id</th>\n",
        "      <th></th>\n",
        "      <th></th>\n",
        "      <th></th>\n",
        "      <th></th>\n",
        "      <th></th>\n",
        "      <th></th>\n",
        "      <th></th>\n",
        "      <th></th>\n",
        "      <th></th>\n",
        "      <th></th>\n",
        "      <th></th>\n",
        "      <th></th>\n",
        "      <th></th>\n",
        "      <th></th>\n",
        "      <th></th>\n",
        "      <th></th>\n",
        "      <th></th>\n",
        "      <th></th>\n",
        "      <th></th>\n",
        "      <th></th>\n",
        "      <th></th>\n",
        "    </tr>\n",
        "  </thead>\n",
        "  <tbody>\n",
        "    <tr>\n",
        "      <th>200670</th>\n",
        "      <td> 20</td>\n",
        "      <td> 588070</td>\n",
        "      <td> 0.113637</td>\n",
        "      <td> 1</td>\n",
        "      <td> 2944</td>\n",
        "      <td> 353</td>\n",
        "      <td> 96</td>\n",
        "      <td> 0</td>\n",
        "      <td> 0</td>\n",
        "      <td> 0</td>\n",
        "      <td>...</td>\n",
        "      <td> 3543.239017</td>\n",
        "      <td> 1573.707191</td>\n",
        "      <td> 1688.534424</td>\n",
        "      <td> 1818.501059</td>\n",
        "      <td>  863.769813</td>\n",
        "      <td> 3017.455395</td>\n",
        "      <td> 0101000020B60800009D63FC9F0AF5574175E7ED7FF22F...</td>\n",
        "      <td>-117.165145</td>\n",
        "      <td> 32.731812</td>\n",
        "      <td> 34688</td>\n",
        "    </tr>\n",
        "    <tr>\n",
        "      <th>200674</th>\n",
        "      <td> 21</td>\n",
        "      <td> 187806</td>\n",
        "      <td> 0.118899</td>\n",
        "      <td> 1</td>\n",
        "      <td> 2939</td>\n",
        "      <td> 353</td>\n",
        "      <td> 96</td>\n",
        "      <td> 0</td>\n",
        "      <td> 0</td>\n",
        "      <td> 0</td>\n",
        "      <td>...</td>\n",
        "      <td> 3718.486712</td>\n",
        "      <td> 1749.831336</td>\n",
        "      <td> 1841.992313</td>\n",
        "      <td> 1637.699059</td>\n",
        "      <td>  677.034681</td>\n",
        "      <td> 3184.699269</td>\n",
        "      <td> 0101000020B6080000F9C54CD337F55741B3914C722330...</td>\n",
        "      <td>-117.164558</td>\n",
        "      <td> 32.731951</td>\n",
        "      <td> 34686</td>\n",
        "    </tr>\n",
        "    <tr>\n",
        "      <th>200676</th>\n",
        "      <td> 19</td>\n",
        "      <td> 334505</td>\n",
        "      <td> 0.118251</td>\n",
        "      <td> 1</td>\n",
        "      <td> 2939</td>\n",
        "      <td> 353</td>\n",
        "      <td> 96</td>\n",
        "      <td> 0</td>\n",
        "      <td> 0</td>\n",
        "      <td> 0</td>\n",
        "      <td>...</td>\n",
        "      <td> 3659.301038</td>\n",
        "      <td> 1690.898688</td>\n",
        "      <td> 1754.174022</td>\n",
        "      <td> 1638.501059</td>\n",
        "      <td>  702.527626</td>\n",
        "      <td> 3204.446764</td>\n",
        "      <td> 0101000020B6080000598102A037F55741F9C70780BE2F...</td>\n",
        "      <td>-117.164558</td>\n",
        "      <td> 32.731673</td>\n",
        "      <td> 34688</td>\n",
        "    </tr>\n",
        "    <tr>\n",
        "      <th>200678</th>\n",
        "      <td> 21</td>\n",
        "      <td>  34875</td>\n",
        "      <td> 0.113590</td>\n",
        "      <td> 1</td>\n",
        "      <td> 2792</td>\n",
        "      <td> 353</td>\n",
        "      <td> 96</td>\n",
        "      <td> 0</td>\n",
        "      <td> 0</td>\n",
        "      <td> 0</td>\n",
        "      <td>...</td>\n",
        "      <td> 2705.787506</td>\n",
        "      <td>  439.132300</td>\n",
        "      <td>  295.730323</td>\n",
        "      <td>  932.706432</td>\n",
        "      <td> 1013.063908</td>\n",
        "      <td> 2379.086656</td>\n",
        "      <td> 0101000020B6080000CF97E1A709F5574111054BB88428...</td>\n",
        "      <td>-117.165103</td>\n",
        "      <td> 32.726585</td>\n",
        "      <td> 34702</td>\n",
        "    </tr>\n",
        "    <tr>\n",
        "      <th>200679</th>\n",
        "      <td> 19</td>\n",
        "      <td> 350000</td>\n",
        "      <td> 0.111504</td>\n",
        "      <td> 1</td>\n",
        "      <td> 2792</td>\n",
        "      <td> 353</td>\n",
        "      <td> 96</td>\n",
        "      <td> 0</td>\n",
        "      <td> 0</td>\n",
        "      <td> 0</td>\n",
        "      <td>...</td>\n",
        "      <td> 2718.606160</td>\n",
        "      <td>  468.854161</td>\n",
        "      <td>  322.211359</td>\n",
        "      <td>  981.597002</td>\n",
        "      <td> 1058.129528</td>\n",
        "      <td> 2417.583798</td>\n",
        "      <td> 0101000020B60800009735ADAD09F55741790902F8B528...</td>\n",
        "      <td>-117.165104</td>\n",
        "      <td> 32.726720</td>\n",
        "      <td> 34695</td>\n",
        "    </tr>\n",
        "  </tbody>\n",
        "</table>\n",
        "<p>5 rows \u00d7 23 columns</p>\n",
        "</div>"
       ],
       "metadata": {},
       "output_type": "pyout",
       "prompt_number": 9,
       "text": [
        "           development_type_id  land_value  parcel_acres  county_id  mgra_id  \\\n",
        "parcel_id                                                                      \n",
        "200670                      20      588070      0.113637          1     2944   \n",
        "200674                      21      187806      0.118899          1     2939   \n",
        "200676                      19      334505      0.118251          1     2939   \n",
        "200678                      21       34875      0.113590          1     2792   \n",
        "200679                      19      350000      0.111504          1     2792   \n",
        "\n",
        "           zoning_id  luz_id  msa_id  proportion_undevelopable  tax_exempt  \\\n",
        "parcel_id                                                                    \n",
        "200670           353      96       0                         0           0   \n",
        "200674           353      96       0                         0           0   \n",
        "200676           353      96       0                         0           0   \n",
        "200678           353      96       0                         0           0   \n",
        "200679           353      96       0                         0           0   \n",
        "\n",
        "            ...    distance_to_coast distance_to_freeway distance_to_onramp  \\\n",
        "parcel_id   ...                                                               \n",
        "200670      ...          3543.239017         1573.707191        1688.534424   \n",
        "200674      ...          3718.486712         1749.831336        1841.992313   \n",
        "200676      ...          3659.301038         1690.898688        1754.174022   \n",
        "200678      ...          2705.787506          439.132300         295.730323   \n",
        "200679      ...          2718.606160          468.854161         322.211359   \n",
        "\n",
        "           distance_to_park  distance_to_school  distance_to_transit  \\\n",
        "parcel_id                                                              \n",
        "200670          1818.501059          863.769813          3017.455395   \n",
        "200674          1637.699059          677.034681          3184.699269   \n",
        "200676          1638.501059          702.527626          3204.446764   \n",
        "200678           932.706432         1013.063908          2379.086656   \n",
        "200679           981.597002         1058.129528          2417.583798   \n",
        "\n",
        "                                                    centroid           x  \\\n",
        "parcel_id                                                                  \n",
        "200670     0101000020B60800009D63FC9F0AF5574175E7ED7FF22F... -117.165145   \n",
        "200674     0101000020B6080000F9C54CD337F55741B3914C722330... -117.164558   \n",
        "200676     0101000020B6080000598102A037F55741F9C70780BE2F... -117.164558   \n",
        "200678     0101000020B6080000CF97E1A709F5574111054BB88428... -117.165103   \n",
        "200679     0101000020B60800009735ADAD09F55741790902F8B528... -117.165104   \n",
        "\n",
        "                   y _node_id  \n",
        "parcel_id                      \n",
        "200670     32.731812    34688  \n",
        "200674     32.731951    34686  \n",
        "200676     32.731673    34688  \n",
        "200678     32.726585    34702  \n",
        "200679     32.726720    34695  \n",
        "\n",
        "[5 rows x 23 columns]"
       ]
      }
     ],
     "prompt_number": 9
    },
    {
     "cell_type": "code",
     "collapsed": false,
     "input": [
      "net.set(parcels._node_id, variable = parcels.parcel_acres)"
     ],
     "language": "python",
     "metadata": {},
     "outputs": [],
     "prompt_number": 10
    },
    {
     "cell_type": "code",
     "collapsed": false,
     "input": [
      "results = net.aggregate(500, type='sum', decay='linear')  ##indexed by node_id\n",
      "results.describe()"
     ],
     "language": "python",
     "metadata": {},
     "outputs": [
      {
       "metadata": {},
       "output_type": "pyout",
       "prompt_number": 11,
       "text": [
        "count    104108.000000\n",
        "mean         57.853075\n",
        "std         449.248603\n",
        "min           0.000000\n",
        "25%          16.502507\n",
        "50%          29.020107\n",
        "75%          41.885284\n",
        "max       50421.046875\n",
        "dtype: float64"
       ]
      }
     ],
     "prompt_number": 11
    },
    {
     "cell_type": "code",
     "collapsed": false,
     "input": [
      "from urbansim.utils import misc\n",
      "parcels['node_indicator'] = misc.reindex(results, parcels._node_id)"
     ],
     "language": "python",
     "metadata": {},
     "outputs": [],
     "prompt_number": 12
    }
   ],
   "metadata": {}
  }
 ]
}