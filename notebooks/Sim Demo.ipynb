{
 "cells": [
  {
   "cell_type": "code",
   "execution_count": 1,
   "metadata": {
    "collapsed": false
   },
   "outputs": [],
   "source": [
    "%load_ext autoreload\n",
    "%autoreload 2\n",
    "import pandas as pd, numpy as np\n",
    "if 'sim' not in globals():\n",
    "    import os; os.chdir('..')\n",
    "import models\n",
    "import urbansim.sim.simulation as sim\n",
    "from spandex import TableLoader\n",
    "\n",
    "loader = TableLoader()"
   ]
  },
  {
   "cell_type": "markdown",
   "metadata": {},
   "source": [
    "### Run all models"
   ]
  },
  {
   "cell_type": "code",
   "execution_count": 2,
   "metadata": {
    "collapsed": false
   },
   "outputs": [
    {
     "name": "stdout",
     "output_type": "stream",
     "text": [
      "Running model 'build_networks'\n",
      "Time to execute model 'build_networks': 13.81s\n",
      "Total time to execute: 13.81s\n",
      "Running year 2012\n",
      "Running model 'scheduled_development_events'\n",
      "Time to execute model 'scheduled_development_events': 0.90s\n",
      "Running model 'neighborhood_vars'\n",
      "Computing accessibility variables\n",
      "Computing households_1500m\n",
      "Computing jobs_3000m\n",
      "Computing jobs_1500m\n",
      "Computing jobs_800m\n",
      "Computing jobs_400m\n",
      "Computing jobs1\n",
      "Computing jobs2\n",
      "Computing jobs3\n",
      "Computing jobs4\n",
      "Computing jobs5\n",
      "Computing jobs6\n",
      "Computing jobs7\n",
      "Computing jobs8\n",
      "Computing jobs9\n",
      "Computing jobs10\n",
      "Computing jobs11\n",
      "Computing jobs12\n",
      "Computing jobs13\n",
      "Computing jobs14\n",
      "Computing jobs15\n",
      "Computing jobs16\n",
      "Computing jobs17\n",
      "Computing jobs18\n",
      "Computing jobs19\n",
      "Computing jobs20\n",
      "Computing ave_parcel_size\n",
      "Computing ave_income\n",
      "Computing ave_age_of_head_1500m\n",
      "Computing ave_cars_1500m\n",
      "Computing ave_children_1500m\n",
      "Computing ave_year_built_1500m\n",
      "Computing ave_sqft_per_unit_1500m\n",
      "Computing population_400m\n",
      "Computing population_800m\n",
      "Computing population_1500m\n",
      "Computing population_3000m\n",
      "Computing job_spaces_3000m\n",
      "Computing jobs_3000m\n",
      "Computing households_3000m\n",
      "Computing residential_units_3000m\n",
      "Computing residential_units_1500m\n",
      "       households_1500m     jobs_3000m     jobs_1500m      jobs_800m  \\\n",
      "count     104108.000000  104108.000000  104108.000000  104108.000000   \n",
      "mean           4.690738    4914.716746       3.606265       2.266259   \n",
      "std            2.468192    7682.208690       2.708615       2.361109   \n",
      "min            0.000000       0.000000       0.000000       0.000000   \n",
      "25%            3.339522      94.000000       0.214703       0.000000   \n",
      "50%            5.672022    2321.000000       4.045302       1.659738   \n",
      "75%            6.491964    6602.000000       5.949385       4.302172   \n",
      "max            8.592523   63394.000000      10.075518       9.454349   \n",
      "\n",
      "           jobs_400m          jobs1          jobs2          jobs3  \\\n",
      "count  104108.000000  104108.000000  104108.000000  104108.000000   \n",
      "mean        1.267381       0.132250       0.022911       0.132260   \n",
      "std         1.909787       0.472381       0.194986       0.538138   \n",
      "min         0.000000       0.000000       0.000000       0.000000   \n",
      "25%         0.000000       0.000000       0.000000       0.000000   \n",
      "50%         0.000000       0.000000       0.000000       0.000000   \n",
      "75%         2.368596       0.000000       0.000000       0.000000   \n",
      "max         8.413846       5.554225       4.060443       6.757449   \n",
      "\n",
      "               jobs4          jobs5           ...             \\\n",
      "count  104108.000000  104108.000000           ...              \n",
      "mean        0.960796       0.754371           ...              \n",
      "std         1.363279       1.378974           ...              \n",
      "min         0.000000       0.000000           ...              \n",
      "25%         0.000000       0.000000           ...              \n",
      "50%         0.071547       0.000000           ...              \n",
      "75%         1.656728       0.944516           ...              \n",
      "max         6.657378       8.028625           ...              \n",
      "\n",
      "       ave_year_built_1500m  ave_sqft_per_unit_1500m  population_400m  \\\n",
      "count         104108.000000            104108.000000    104108.000000   \n",
      "mean               6.623532                 6.519763         4.104822   \n",
      "std                2.529306                 2.807566         2.515867   \n",
      "min                0.000000                 0.000000         0.000000   \n",
      "25%                7.581838                 7.006715         1.945910   \n",
      "50%                7.587948                 7.368169         5.081404   \n",
      "75%                7.593692                 7.731351         6.063785   \n",
      "max                7.607381                12.676925         9.287580   \n",
      "\n",
      "       population_800m  population_1500m  population_3000m  job_spaces_3000m  \\\n",
      "count    104108.000000     104108.000000     104108.000000     104108.000000   \n",
      "mean          5.222158          6.407621          7.778853     118492.332597   \n",
      "std           2.835985          3.105467          3.390085     364723.105346   \n",
      "min           0.000000          0.000000          0.000000          0.000000   \n",
      "25%           3.737670          5.327876          6.965080        835.000000   \n",
      "50%           6.395262          7.741099          9.301826      16959.000000   \n",
      "75%           7.310550          8.553911          9.944533      54738.250000   \n",
      "max           9.467305         10.374147         11.405497    4554514.000000   \n",
      "\n",
      "       households_3000m  residential_units_3000m  residential_units_1500m  \n",
      "count     104108.000000            104108.000000            104108.000000  \n",
      "mean        5391.699600              7044.965565              1807.914416  \n",
      "std         5821.717608              7476.774720              2371.686621  \n",
      "min            0.000000                 0.000000                 0.000000  \n",
      "25%          394.000000               536.000000               114.000000  \n",
      "50%         4222.000000              5548.000000              1150.000000  \n",
      "75%         7831.000000             10466.000000              2525.000000  \n",
      "max        40312.000000             48720.000000             22335.000000  \n",
      "\n",
      "[8 rows x 40 columns]\n",
      "Time to execute model 'neighborhood_vars': 37.64s\n",
      "Running model 'rsh_simulate'\n",
      "count    632868.000000\n",
      "mean        180.747196\n",
      "std          91.491514\n",
      "min           0.026405\n",
      "25%         128.000243\n",
      "50%         173.111336\n",
      "75%         218.984194\n",
      "max        1084.953034\n",
      "dtype: float64\n",
      "Time to execute model 'rsh_simulate': 7.88s\n",
      "Running model 'nrh_simulate'\n",
      "count    27159.000000\n",
      "mean        17.648014\n",
      "std          5.092029\n",
      "min          0.336794\n",
      "25%         12.858094\n",
      "50%         18.200581\n",
      "75%         21.309134\n",
      "max         58.329662\n",
      "dtype: float64\n",
      "Time to execute model 'nrh_simulate': 5.21s\n",
      "Running model 'nrh_simulate2'\n",
      "count    75157.000000\n",
      "mean        18.281261\n",
      "std          5.672051\n",
      "min          0.329341\n",
      "25%         15.161346\n",
      "50%         18.446482\n",
      "75%         20.994965\n",
      "max        160.187375\n",
      "dtype: float64\n",
      "Time to execute model 'nrh_simulate2': 3.73s\n",
      "Running model 'jobs_transition'\n",
      "913244 agents before transition\n",
      "958906 agents after transition\n",
      "Time to execute model 'jobs_transition': 0.37s\n",
      "Running model 'elcm_simulate'\n"
     ]
    },
    {
     "ename": "KeyError",
     "evalue": "'segmented_locationchoice'",
     "output_type": "error",
     "traceback": [
      "\u001b[1;31m---------------------------------------------------------------------------\u001b[0m",
      "\u001b[1;31mKeyError\u001b[0m                                  Traceback (most recent call last)",
      "\u001b[1;32m<ipython-input-2-ad5ee4035f97>\u001b[0m in \u001b[0;36m<module>\u001b[1;34m()\u001b[0m\n\u001b[0;32m      5\u001b[0m          \u001b[1;34m\"price_vars\"\u001b[0m\u001b[1;33m,\u001b[0m \u001b[1;34m\"feasibility\"\u001b[0m\u001b[1;33m,\u001b[0m \u001b[1;34m\"residential_developer\"\u001b[0m\u001b[1;33m,\u001b[0m \u001b[1;34m\"non_residential_developer\"\u001b[0m\u001b[1;33m,\u001b[0m \u001b[1;31m#supply/proforma models\u001b[0m\u001b[1;33m\u001b[0m\u001b[0m\n\u001b[0;32m      6\u001b[0m          \u001b[1;34m\"model_integration_indicators\"\u001b[0m \u001b[1;31m#indicators for pasef/pecas\u001b[0m\u001b[1;33m\u001b[0m\u001b[0m\n\u001b[1;32m----> 7\u001b[1;33m          ], years=[2012, 2015,])\n\u001b[0m",
      "\u001b[1;32mc:\\mtc\\urbansim\\urbansim\\sim\\simulation.pyc\u001b[0m in \u001b[0;36mrun\u001b[1;34m(models, years, data_out, out_interval)\u001b[0m\n\u001b[0;32m   1524\u001b[0m                 \u001b[0mmodel\u001b[0m \u001b[1;33m=\u001b[0m \u001b[0mget_model\u001b[0m\u001b[1;33m(\u001b[0m\u001b[0mmodel_name\u001b[0m\u001b[1;33m)\u001b[0m\u001b[1;33m\u001b[0m\u001b[0m\n\u001b[0;32m   1525\u001b[0m                 \u001b[0mt2\u001b[0m \u001b[1;33m=\u001b[0m \u001b[0mtime\u001b[0m\u001b[1;33m.\u001b[0m\u001b[0mtime\u001b[0m\u001b[1;33m(\u001b[0m\u001b[1;33m)\u001b[0m\u001b[1;33m\u001b[0m\u001b[0m\n\u001b[1;32m-> 1526\u001b[1;33m                 \u001b[0mmodel\u001b[0m\u001b[1;33m(\u001b[0m\u001b[1;33m)\u001b[0m\u001b[1;33m\u001b[0m\u001b[0m\n\u001b[0m\u001b[0;32m   1527\u001b[0m                 print(\"Time to execute model '{}': {:.2f}s\".format(\n\u001b[0;32m   1528\u001b[0m                       model_name, time.time()-t2))\n",
      "\u001b[1;32mc:\\mtc\\urbansim\\urbansim\\sim\\simulation.pyc\u001b[0m in \u001b[0;36m__call__\u001b[1;34m(self)\u001b[0m\n\u001b[0;32m    679\u001b[0m             kwargs = _collect_variables(names=self._argspec.args,\n\u001b[0;32m    680\u001b[0m                                         expressions=self._argspec.defaults)\n\u001b[1;32m--> 681\u001b[1;33m             \u001b[1;32mreturn\u001b[0m \u001b[0mself\u001b[0m\u001b[1;33m.\u001b[0m\u001b[0m_func\u001b[0m\u001b[1;33m(\u001b[0m\u001b[1;33m**\u001b[0m\u001b[0mkwargs\u001b[0m\u001b[1;33m)\u001b[0m\u001b[1;33m\u001b[0m\u001b[0m\n\u001b[0m\u001b[0;32m    682\u001b[0m \u001b[1;33m\u001b[0m\u001b[0m\n\u001b[0;32m    683\u001b[0m     \u001b[1;32mdef\u001b[0m \u001b[0m_tables_used\u001b[0m\u001b[1;33m(\u001b[0m\u001b[0mself\u001b[0m\u001b[1;33m)\u001b[0m\u001b[1;33m:\u001b[0m\u001b[1;33m\u001b[0m\u001b[0m\n",
      "\u001b[1;32mc:\\mtc\\urbansim_defaults\\urbansim_defaults\\models.pyc\u001b[0m in \u001b[0;36melcm_simulate\u001b[1;34m(jobs, buildings, aggregations)\u001b[0m\n\u001b[0;32m     59\u001b[0m     return utils.lcm_simulate(\"elcm.yaml\", jobs, buildings, aggregations,\n\u001b[0;32m     60\u001b[0m                               \u001b[1;34m\"building_id\"\u001b[0m\u001b[1;33m,\u001b[0m \u001b[1;34m\"job_spaces\"\u001b[0m\u001b[1;33m,\u001b[0m\u001b[1;33m\u001b[0m\u001b[0m\n\u001b[1;32m---> 61\u001b[1;33m                               \"vacant_job_spaces\")\n\u001b[0m\u001b[0;32m     62\u001b[0m \u001b[1;33m\u001b[0m\u001b[0m\n\u001b[0;32m     63\u001b[0m \u001b[1;33m\u001b[0m\u001b[0m\n",
      "\u001b[1;32mc:\\mtc\\urbansim_defaults\\urbansim_defaults\\utils.pyc\u001b[0m in \u001b[0;36mlcm_simulate\u001b[1;34m(cfg, choosers, buildings, join_tbls, out_fname, supply_fname, vacant_fname, enable_supply_correction)\u001b[0m\n\u001b[0;32m    327\u001b[0m     \u001b[0mcfg\u001b[0m \u001b[1;33m=\u001b[0m \u001b[0mmisc\u001b[0m\u001b[1;33m.\u001b[0m\u001b[0mconfig\u001b[0m\u001b[1;33m(\u001b[0m\u001b[0mcfg\u001b[0m\u001b[1;33m)\u001b[0m\u001b[1;33m\u001b[0m\u001b[0m\n\u001b[0;32m    328\u001b[0m \u001b[1;33m\u001b[0m\u001b[0m\n\u001b[1;32m--> 329\u001b[1;33m     \u001b[0mchoosers_df\u001b[0m \u001b[1;33m=\u001b[0m \u001b[0mto_frame\u001b[0m\u001b[1;33m(\u001b[0m\u001b[0mchoosers\u001b[0m\u001b[1;33m,\u001b[0m \u001b[1;33m[\u001b[0m\u001b[1;33m]\u001b[0m\u001b[1;33m,\u001b[0m \u001b[0mcfg\u001b[0m\u001b[1;33m,\u001b[0m \u001b[0madditional_columns\u001b[0m\u001b[1;33m=\u001b[0m\u001b[1;33m[\u001b[0m\u001b[0mout_fname\u001b[0m\u001b[1;33m]\u001b[0m\u001b[1;33m)\u001b[0m\u001b[1;33m\u001b[0m\u001b[0m\n\u001b[0m\u001b[0;32m    330\u001b[0m \u001b[1;33m\u001b[0m\u001b[0m\n\u001b[0;32m    331\u001b[0m     \u001b[0madditional_columns\u001b[0m \u001b[1;33m=\u001b[0m \u001b[1;33m[\u001b[0m\u001b[0msupply_fname\u001b[0m\u001b[1;33m,\u001b[0m \u001b[0mvacant_fname\u001b[0m\u001b[1;33m]\u001b[0m\u001b[1;33m\u001b[0m\u001b[0m\n",
      "\u001b[1;32mc:\\mtc\\urbansim_defaults\\urbansim_defaults\\utils.pyc\u001b[0m in \u001b[0;36mto_frame\u001b[1;34m(tbl, join_tbls, cfg, additional_columns)\u001b[0m\n\u001b[0;32m    185\u001b[0m     \u001b[0mjoin_tbls\u001b[0m \u001b[1;33m=\u001b[0m \u001b[0mjoin_tbls\u001b[0m \u001b[1;32mif\u001b[0m \u001b[0misinstance\u001b[0m\u001b[1;33m(\u001b[0m\u001b[0mjoin_tbls\u001b[0m\u001b[1;33m,\u001b[0m \u001b[0mlist\u001b[0m\u001b[1;33m)\u001b[0m \u001b[1;32melse\u001b[0m \u001b[1;33m[\u001b[0m\u001b[0mjoin_tbls\u001b[0m\u001b[1;33m]\u001b[0m\u001b[1;33m\u001b[0m\u001b[0m\n\u001b[0;32m    186\u001b[0m     \u001b[0mtables\u001b[0m \u001b[1;33m=\u001b[0m \u001b[1;33m[\u001b[0m\u001b[0mtbl\u001b[0m\u001b[1;33m]\u001b[0m \u001b[1;33m+\u001b[0m \u001b[0mjoin_tbls\u001b[0m\u001b[1;33m\u001b[0m\u001b[0m\n\u001b[1;32m--> 187\u001b[1;33m     \u001b[0mcfg\u001b[0m \u001b[1;33m=\u001b[0m \u001b[0myaml_to_class\u001b[0m\u001b[1;33m(\u001b[0m\u001b[0mcfg\u001b[0m\u001b[1;33m)\u001b[0m\u001b[1;33m.\u001b[0m\u001b[0mfrom_yaml\u001b[0m\u001b[1;33m(\u001b[0m\u001b[0mstr_or_buffer\u001b[0m\u001b[1;33m=\u001b[0m\u001b[0mcfg\u001b[0m\u001b[1;33m)\u001b[0m\u001b[1;33m\u001b[0m\u001b[0m\n\u001b[0m\u001b[0;32m    188\u001b[0m     \u001b[0mtables\u001b[0m \u001b[1;33m=\u001b[0m \u001b[1;33m[\u001b[0m\u001b[0mt\u001b[0m \u001b[1;32mfor\u001b[0m \u001b[0mt\u001b[0m \u001b[1;32min\u001b[0m \u001b[0mtables\u001b[0m \u001b[1;32mif\u001b[0m \u001b[0mt\u001b[0m \u001b[1;32mis\u001b[0m \u001b[1;32mnot\u001b[0m \u001b[0mNone\u001b[0m\u001b[1;33m]\u001b[0m\u001b[1;33m\u001b[0m\u001b[0m\n\u001b[0;32m    189\u001b[0m     \u001b[0mcolumns\u001b[0m \u001b[1;33m=\u001b[0m \u001b[0mmisc\u001b[0m\u001b[1;33m.\u001b[0m\u001b[0mcolumn_list\u001b[0m\u001b[1;33m(\u001b[0m\u001b[0mtables\u001b[0m\u001b[1;33m,\u001b[0m \u001b[0mcfg\u001b[0m\u001b[1;33m.\u001b[0m\u001b[0mcolumns_used\u001b[0m\u001b[1;33m(\u001b[0m\u001b[1;33m)\u001b[0m\u001b[1;33m)\u001b[0m \u001b[1;33m+\u001b[0m \u001b[0madditional_columns\u001b[0m\u001b[1;33m\u001b[0m\u001b[0m\n",
      "\u001b[1;32mc:\\mtc\\urbansim_defaults\\urbansim_defaults\\utils.pyc\u001b[0m in \u001b[0;36myaml_to_class\u001b[1;34m(cfg)\u001b[0m\n\u001b[0;32m    218\u001b[0m         \u001b[1;34m\"discretechoice\"\u001b[0m\u001b[1;33m:\u001b[0m \u001b[0mMNLDiscreteChoiceModel\u001b[0m\u001b[1;33m,\u001b[0m\u001b[1;33m\u001b[0m\u001b[0m\n\u001b[0;32m    219\u001b[0m         \u001b[1;34m\"segmented_discretechoice\"\u001b[0m\u001b[1;33m:\u001b[0m \u001b[0mSegmentedMNLDiscreteChoiceModel\u001b[0m\u001b[1;33m\u001b[0m\u001b[0m\n\u001b[1;32m--> 220\u001b[1;33m     }[model_type]\n\u001b[0m\u001b[0;32m    221\u001b[0m \u001b[1;33m\u001b[0m\u001b[0m\n\u001b[0;32m    222\u001b[0m \u001b[1;33m\u001b[0m\u001b[0m\n",
      "\u001b[1;31mKeyError\u001b[0m: 'segmented_locationchoice'"
     ]
    }
   ],
   "source": [
    "sim.run([\"build_networks\"]) #initialize network accessibility engine\n",
    "sim.run([\"scheduled_development_events\", \"neighborhood_vars\", #scheduled events and accessibility variables\n",
    "         \"rsh_simulate\", \"nrh_simulate\", \"nrh_simulate2\",   #price models\n",
    "         \"jobs_transition\", \"elcm_simulate\", \"households_transition\", \"hlcm_simulate\", #demand/location models\n",
    "         \"price_vars\", \"feasibility\", \"residential_developer\", \"non_residential_developer\", #supply/proforma models\n",
    "         \"model_integration_indicators\" #indicators for pasef/pecas\n",
    "         ], years=[2012, 2015,])"
   ]
  },
  {
   "cell_type": "code",
   "execution_count": null,
   "metadata": {
    "collapsed": false
   },
   "outputs": [],
   "source": [
    "# LUZ prices\n",
    "bsim = sim.get_table('buildings').to_frame(columns = ['luz_id', 'note', 'res_price_per_sqft', 'nonres_rent_per_sqft', 'residential_units', 'non_residential_sqft'])\n",
    "luz_res_price = bsim[bsim.residential_units > 0].groupby('luz_id').res_price_per_sqft.mean()\n",
    "luz_nonres_price = bsim[bsim.non_residential_sqft > 0].groupby('luz_id').nonres_rent_per_sqft.mean()\n",
    "bsim = bsim[bsim.note == 'simulated']\n",
    "luz_simdu = bsim.groupby('luz_id').residential_units.sum()\n",
    "luz_simnr = bsim.groupby('luz_id').non_residential_sqft.sum()\n",
    "luz_df = pd.DataFrame({'du':luz_simdu, 'nrsf':luz_simnr, 'res_price':luz_res_price, 'nonres_price':luz_nonres_price})\n",
    "luz_df.to_csv(loader.get_path('out/luz_sim_indicators.csv'))"
   ]
  },
  {
   "cell_type": "code",
   "execution_count": null,
   "metadata": {
    "collapsed": false
   },
   "outputs": [],
   "source": [
    "# Summarize results at MSA level\n",
    "b = sim.get_table('buildings').to_frame(columns = ['mgra_id', 'residential_units', 'non_residential_sqft', 'note'])\n",
    "mgra_msa_xref = pd.read_csv(loader.get_path(\"xref//mgra_msa.csv\"))\n",
    "merged = pd.merge(b, mgra_msa_xref, left_on = 'mgra_id', right_on = 'mgra_id')\n",
    "new_du_by_msa = merged[merged.note  == 'simulated'].groupby('msa_id').residential_units.sum()\n",
    "new_nrsf_by_msa = merged[merged.note  == 'simulated'].groupby('msa_id').non_residential_sqft.sum()\n",
    "proportion_du_by_msa = new_du_by_msa / new_du_by_msa.sum()\n",
    "proportion_nrsf_by_msa = new_nrsf_by_msa / new_nrsf_by_msa.sum()"
   ]
  },
  {
   "cell_type": "code",
   "execution_count": null,
   "metadata": {
    "collapsed": false
   },
   "outputs": [],
   "source": [
    "print proportion_du_by_msa\n",
    "print proportion_nrsf_by_msa "
   ]
  },
  {
   "cell_type": "markdown",
   "metadata": {},
   "source": [
    "### Predict prices and summarize/export at the LUZ level"
   ]
  },
  {
   "cell_type": "code",
   "execution_count": null,
   "metadata": {
    "collapsed": false
   },
   "outputs": [],
   "source": [
    "%%capture\n",
    "## Accessibility engine\n",
    "sim.run([\"build_networks\", \"neighborhood_vars\"])\n",
    "\n",
    "# Predict prices\n",
    "sim.run([\"rsh_simulate\", \"nrh_simulate\", \"nrh_simulate2\"])\n",
    "\n",
    "##Export LUZ mean prices to csv for visual checking\n",
    "buildings = sim.get_table('buildings').to_frame()\n",
    "luz_res_price = buildings[buildings.residential_units > 0].groupby('luz_id').res_price_per_sqft.mean()\n",
    "luz_nonres_price = buildings[buildings.non_residential_sqft > 0].groupby('luz_id').nonres_rent_per_sqft.mean()\n",
    "df = pd.DataFrame({'res_price':luz_res_price, 'nonres_price':luz_nonres_price})\n",
    "df.fillna(0).to_csv(loader.get_path('out/sim/sd_prices.csv'))\n",
    "\n",
    "# Summarize prices using network queries\n",
    "sim.run(['price_vars'])"
   ]
  },
  {
   "cell_type": "markdown",
   "metadata": {},
   "source": [
    "### Proforma"
   ]
  },
  {
   "cell_type": "code",
   "execution_count": null,
   "metadata": {
    "collapsed": false
   },
   "outputs": [],
   "source": [
    "# from urbansim.developer import sqftproforma\n",
    "# # Step 1:  feasibility\n",
    "sim.run(['feasibility'])\n",
    "sim.run([\"residential_developer\"])\n",
    "sim.run([\"non_residential_developer\"])"
   ]
  }
 ],
 "metadata": {
  "kernelspec": {
   "display_name": "Python 2",
   "language": "python",
   "name": "python2"
  },
  "language_info": {
   "codemirror_mode": {
    "name": "ipython",
    "version": 2
   },
   "file_extension": ".py",
   "mimetype": "text/x-python",
   "name": "python",
   "nbconvert_exporter": "python",
   "pygments_lexer": "ipython2",
   "version": "2.7.9"
  }
 },
 "nbformat": 4,
 "nbformat_minor": 0
}
