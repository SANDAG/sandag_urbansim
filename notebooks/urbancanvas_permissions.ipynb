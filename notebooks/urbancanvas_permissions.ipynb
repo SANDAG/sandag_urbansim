{
 "cells": [
  {
   "cell_type": "code",
   "execution_count": 2,
   "metadata": {
    "collapsed": false
   },
   "outputs": [],
   "source": [
    "import os\n",
    "from spandex import TableLoader\n",
    "from spandex.io import exec_sql #spandex localhost exec_sql func\n",
    "from spandex.utils import load_config\n",
    "import psycopg2\n",
    "\n",
    "loader = TableLoader()\n",
    "\n",
    "\n",
    "### UrbanCanvas\n",
    "\n",
    "## spandex localhost db config\n",
    "db_config = dict(load_config().items('database'))  \n",
    "\n",
    "## UrbanCanvas db config\n",
    "urbancanvas_db_config = {'database': 'sandag',\n",
    "                         'host': 'urbancanvas.cp2xwchuariu.us-west-2.rds.amazonaws.com',\n",
    "                         'password': 'parcel22building',\n",
    "                         'port': '5432',\n",
    "                         'user': 'sandag'}\n",
    "\n",
    "#UrbanCanvas exec_sql func, for executing sql on UrbanCanvas database\n",
    "def exec_sql2(query):\n",
    "    print query\n",
    "    conn_string = \"host=urbancanvas.cp2xwchuariu.us-west-2.rds.amazonaws.com dbname='sandag' user='sandag' password='parcel22building' port=5432\"\n",
    "    import psycopg2\n",
    "    conn=psycopg2.connect(conn_string)\n",
    "    cur = conn.cursor()\n",
    "    cur.execute(query)\n",
    "    conn.commit()\n",
    "    cur.close()\n",
    "    conn.close()"
   ]
  },
  {
   "cell_type": "code",
   "execution_count": 2,
   "metadata": {
    "collapsed": false
   },
   "outputs": [
    {
     "name": "stdout",
     "output_type": "stream",
     "text": [
      "GRANT ALL ON TABLE loading.building TO urbancanvas;\n"
     ]
    }
   ],
   "source": [
    "exec_sql2('''GRANT ALL ON TABLE loading.building TO urbancanvas;''')"
   ]
  },
  {
   "cell_type": "code",
   "execution_count": 4,
   "metadata": {
    "collapsed": false
   },
   "outputs": [
    {
     "name": "stdout",
     "output_type": "stream",
     "text": [
      "GRANT ALL ON TABLE loading.parcel TO urbancanvas;\n",
      "GRANT ALL ON TABLE loading.zoning TO urbancanvas;\n",
      "GRANT ALL ON TABLE loading.zoning_allowed_uses TO urbancanvas;\n"
     ]
    }
   ],
   "source": [
    "exec_sql2('''GRANT ALL ON TABLE loading.parcel TO urbancanvas;''')\n",
    "exec_sql2('''GRANT ALL ON TABLE loading.zoning TO urbancanvas;''')\n",
    "exec_sql2('''GRANT ALL ON TABLE loading.zoning_allowed_uses TO urbancanvas;''')"
   ]
  },
  {
   "cell_type": "code",
   "execution_count": 3,
   "metadata": {
    "collapsed": false
   },
   "outputs": [
    {
     "name": "stdout",
     "output_type": "stream",
     "text": [
      "GRANT ALL ON TABLE loading.scheduled_development_events TO urbancanvas;\n"
     ]
    }
   ],
   "source": [
    "exec_sql2('''GRANT ALL ON TABLE loading.scheduled_development_events TO urbancanvas;''')"
   ]
  },
  {
   "cell_type": "code",
   "execution_count": null,
   "metadata": {
    "collapsed": false
   },
   "outputs": [],
   "source": [
    "'''\n",
    "alter table public.buildings add geom geometry(MultiPolygon); \n",
    "SELECT UpdateGeometrySRID('buildings', 'geom', 2230);\n",
    "update public.buildings set geom = a.geom from staging.buildings a where buildings.building_id = a.bid;\n",
    "'''"
   ]
  }
 ],
 "metadata": {
  "kernelspec": {
   "display_name": "Python 2",
   "language": "python",
   "name": "python2"
  },
  "language_info": {
   "codemirror_mode": {
    "name": "ipython",
    "version": 2
   },
   "file_extension": ".py",
   "mimetype": "text/x-python",
   "name": "python",
   "nbconvert_exporter": "python",
   "pygments_lexer": "ipython2",
   "version": "2.7.9"
  }
 },
 "nbformat": 4,
 "nbformat_minor": 0
}
