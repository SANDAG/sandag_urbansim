{
 "metadata": {
  "name": "",
  "signature": "sha256:a483788d0f3579d128ab2bf467576034753ca6bcb71c706cd5890da42f0ec8fa"
 },
 "nbformat": 3,
 "nbformat_minor": 0,
 "worksheets": [
  {
   "cells": [
    {
     "cell_type": "code",
     "collapsed": false,
     "input": [
      "import os\n",
      "from spandex import TableLoader\n",
      "from spandex.io import exec_sql #spandex localhost exec_sql func\n",
      "from spandex.utils import load_config\n",
      "import psycopg2\n",
      "\n",
      "loader = TableLoader()\n",
      "\n",
      "\n",
      "### UrbanCanvas\n",
      "\n",
      "## spandex localhost db config\n",
      "db_config = dict(load_config().items('database'))  \n",
      "\n",
      "## UrbanCanvas db config\n",
      "urbancanvas_db_config = {'database': 'sandag',\n",
      "                         'host': 'urbancanvas.cp2xwchuariu.us-west-2.rds.amazonaws.com',\n",
      "                         'password': 'parcel22building',\n",
      "                         'port': '5432',\n",
      "                         'user': 'sandag'}\n",
      "\n",
      "#UrbanCanvas exec_sql func, for executing sql on UrbanCanvas database\n",
      "def exec_sql2(query):\n",
      "    print query\n",
      "    conn_string = \"host=urbancanvas.cp2xwchuariu.us-west-2.rds.amazonaws.com dbname='sandag' user='sandag' password='parcel22building' port=5432\"\n",
      "    import psycopg2\n",
      "    conn=psycopg2.connect(conn_string)\n",
      "    cur = conn.cursor()\n",
      "    cur.execute(query)\n",
      "    conn.commit()\n",
      "    cur.close()\n",
      "    conn.close()"
     ],
     "language": "python",
     "metadata": {},
     "outputs": [],
     "prompt_number": 1
    },
    {
     "cell_type": "code",
     "collapsed": false,
     "input": [
      "exec_sql2('''GRANT ALL ON TABLE loading.building TO urbancanvas;''')"
     ],
     "language": "python",
     "metadata": {},
     "outputs": [
      {
       "output_type": "stream",
       "stream": "stdout",
       "text": [
        "GRANT ALL ON TABLE loading.building TO urbancanvas;\n"
       ]
      }
     ],
     "prompt_number": 2
    },
    {
     "cell_type": "code",
     "collapsed": false,
     "input": [
      "exec_sql2('''GRANT ALL ON TABLE loading.parcel TO urbancanvas;''')\n",
      "exec_sql2('''GRANT ALL ON TABLE loading.zoning TO urbancanvas;''')\n",
      "exec_sql2('''GRANT ALL ON TABLE loading.zoning_allowed_uses TO urbancanvas;''')"
     ],
     "language": "python",
     "metadata": {},
     "outputs": [
      {
       "output_type": "stream",
       "stream": "stdout",
       "text": [
        "GRANT ALL ON TABLE loading.parcel TO urbancanvas;\n",
        "GRANT ALL ON TABLE loading.zoning TO urbancanvas;"
       ]
      },
      {
       "output_type": "stream",
       "stream": "stdout",
       "text": [
        "\n",
        "GRANT ALL ON TABLE loading.zoning_allowed_uses TO urbancanvas;"
       ]
      },
      {
       "output_type": "stream",
       "stream": "stdout",
       "text": [
        "\n"
       ]
      }
     ],
     "prompt_number": 4
    },
    {
     "cell_type": "code",
     "collapsed": false,
     "input": [
      "'''\n",
      "alter table public.buildings add geom geometry(MultiPolygon); \n",
      "SELECT UpdateGeometrySRID('buildings', 'geom', 2230);\n",
      "update public.buildings set geom = a.geom from staging.buildings a where buildings.building_id = a.bid;\n",
      "'''"
     ],
     "language": "python",
     "metadata": {},
     "outputs": []
    }
   ],
   "metadata": {}
  }
 ]
}