{
 "metadata": {
  "name": "",
  "signature": "sha256:877680dbb8c6c86385823ce0823fb2dae79fc3bb3d00958746bd0a0547a27ddc"
 },
 "nbformat": 3,
 "nbformat_minor": 0,
 "worksheets": [
  {
   "cells": [
    {
     "cell_type": "code",
     "collapsed": false,
     "input": [
      "import pandas as pd, numpy as np\n",
      "import pandas.io.sql as sql\n",
      "from spandex.io import exec_sql,  df_to_db\n",
      "from spandex import TableLoader\n",
      "from urbansim.models.lcm import unit_choice\n",
      "\n",
      "loader = TableLoader()\n",
      "\n",
      "def db_to_df(query):\n",
      "    \"\"\"Executes SQL query and returns DataFrame.\"\"\"\n",
      "    conn = loader.database._connection\n",
      "    return sql.read_frame(query, conn)"
     ],
     "language": "python",
     "metadata": {},
     "outputs": [
      {
       "output_type": "stream",
       "stream": "stderr",
       "text": [
        "WARNING:spandex.database:Unable to map table to class: Mapper Mapper|loading.parcel|parcel could not assemble any primary key columns for mapped table 'parcel'\n"
       ]
      },
      {
       "output_type": "stream",
       "stream": "stderr",
       "text": [
        "WARNING:spandex.database:Unable to map table to class: Mapper Mapper|loading.zoning|zoning could not assemble any primary key columns for mapped table 'zoning'\n"
       ]
      },
      {
       "output_type": "stream",
       "stream": "stderr",
       "text": [
        "WARNING:spandex.database:Unable to map table to class: Mapper Mapper|public.parcels|parcels could not assemble any primary key columns for mapped table 'parcels'\n"
       ]
      },
      {
       "output_type": "stream",
       "stream": "stderr",
       "text": [
        "WARNING:spandex.database:Unable to map table to class: Mapper Mapper|public.zoning_allowed_uses|zoning_allowed_uses could not assemble any primary key columns for mapped table 'zoning_allowed_uses'\n"
       ]
      },
      {
       "output_type": "stream",
       "stream": "stderr",
       "text": [
        "WARNING:spandex.database:Unable to map table to class: Mapper Mapper|loading.building|building could not assemble any primary key columns for mapped table 'building'\n"
       ]
      },
      {
       "output_type": "stream",
       "stream": "stderr",
       "text": [
        "WARNING:spandex.database:Unable to map table to class: Mapper Mapper|staging.scheduled_development|scheduled_development could not assemble any primary key columns for mapped table 'scheduled_development'\n"
       ]
      },
      {
       "output_type": "stream",
       "stream": "stderr",
       "text": [
        "WARNING:spandex.database:Unable to map table to class: Mapper Mapper|loading.zoning_allowed_uses|zoning_allowed_uses could not assemble any primary key columns for mapped table 'zoning_allowed_uses'\n"
       ]
      },
      {
       "output_type": "stream",
       "stream": "stderr",
       "text": [
        "WARNING:spandex.database:Unable to map table to class: Mapper Mapper|public.zoning|zoning could not assemble any primary key columns for mapped table 'zoning'\n"
       ]
      }
     ],
     "prompt_number": 1
    },
    {
     "cell_type": "code",
     "collapsed": false,
     "input": [
      "##There are some duplicate parcel_id's in local_effect_distances, delete one record from each duplicate pair\n",
      "delete_dup_parcel_id_sql = '''\n",
      "with a as (select parcel_id, count(*) as numparcels from staging.local_effect_distances group by parcel_id)\n",
      ", b as(\n",
      "select parcel_id from a where numparcels > 1 --These are the parcel_id's where one of two of each pair needs to be removed\n",
      ")\n",
      ", c as(\n",
      "select max(ctid) as ctid_max from staging.local_effect_distances where parcel_id in (select parcel_id from b) group by parcel_id  --These are the ctid's to delete\n",
      ")\n",
      "delete from staging.local_effect_distances\n",
      "where ctid in (select ctid_max from c);\n",
      "'''\n",
      "\n",
      "exec_sql(delete_dup_parcel_id_sql)"
     ],
     "language": "python",
     "metadata": {},
     "outputs": [],
     "prompt_number": 2
    },
    {
     "cell_type": "code",
     "collapsed": false,
     "input": [
      "#Join parcels to local_effect_distances\n",
      "parcel_join_sql = '''\n",
      "DROP table if exists public.parcels;\n",
      "SELECT a.*, b.distance_to_coast, b.distance_to_freeway, b.distance_to_onramp,  b.distance_to_park, b.distance_to_school, b.distance_to_transit into public.parcels from staging.parcels a join staging.local_effect_distances b on a.parcel_id = b.parcel_id;\n",
      "ALTER TABLE public.parcels DROP COLUMN gid;\n",
      "ALTER TABLE public.parcels RENAME COLUMN developmen TO development_type_id;\n",
      "ALTER TABLE public.parcels RENAME COLUMN parcel_acr TO parcel_acres;\n",
      "ALTER TABLE public.parcels RENAME COLUMN proportion TO proportion_undevelopable;\n",
      "'''\n",
      "\n",
      "exec_sql(parcel_join_sql)"
     ],
     "language": "python",
     "metadata": {},
     "outputs": [],
     "prompt_number": 3
    },
    {
     "cell_type": "code",
     "collapsed": false,
     "input": [
      "#XY coords\n",
      "exec_sql(\"alter table public.parcels add centroid geometry;\")\n",
      "exec_sql(\"update public.parcels set centroid = ST_centroid(geom);\")\n",
      "exec_sql('ALTER TABLE public.parcels ADD x numeric;')\n",
      "exec_sql('ALTER TABLE public.parcels ADD y numeric;')\n",
      "exec_sql(\"update public.parcels set x = ST_X(ST_Transform(centroid, 4326));\")\n",
      "exec_sql(\"update public.parcels set y = ST_Y(ST_Transform(centroid, 4326));\")"
     ],
     "language": "python",
     "metadata": {},
     "outputs": []
    },
    {
     "cell_type": "code",
     "collapsed": false,
     "input": [
      "#get tables\n",
      "parcels = db_to_df('select * from public.parcels;')\n",
      "parcels = parcels.set_index('parcel_id')\n",
      "\n",
      "buildings = db_to_df('select * from staging.buildings;')\n",
      "#Add mgra_id and block_id to the buildings table for demand agent allocation purposes\n",
      "##We lose 2 buildings in this merge-  2 buildings have invalid parcel_ids\n",
      "buildings = pd.merge(buildings, parcels[['mgra_id', 'block_geoid']], left_on = 'parcel_id', right_index = True)"
     ],
     "language": "python",
     "metadata": {},
     "outputs": []
    },
    {
     "cell_type": "code",
     "collapsed": false,
     "input": [
      "buildings = buildings.rename(columns = {'bid':'building_id', 'dev_typeid':'development_type_id', 'imprvvalue':'improvement_value',\n",
      "                                        'res_unit':'residential_units', 'nonressqft':'non_residential_sqft', 'ressqft':'residential_sqft',\n",
      "                                        'year_build':'year_built', 'block_geoid':'block_id'})\n",
      "buildings = buildings.set_index('building_id')\n",
      "del buildings['gid']\n",
      "del buildings['objectid']\n",
      "del buildings['shape_leng']\n",
      "del buildings['shape_ar_1']\n",
      "del buildings['price_per_']\n",
      "del buildings['geom']\n",
      "\n",
      "buildings.block_id = buildings.block_id.astype('int64')\n",
      "buildings['job_spaces'] = np.round(buildings.non_residential_sqft/200).astype('int')"
     ],
     "language": "python",
     "metadata": {},
     "outputs": []
    },
    {
     "cell_type": "code",
     "collapsed": false,
     "input": [
      "households = db_to_df('select * from staging.households;').set_index('lu_hh_id')\n",
      "del households['index']\n",
      "del households['id']\n",
      "households.index.name = 'household_id'\n",
      "households.building_id = -1"
     ],
     "language": "python",
     "metadata": {},
     "outputs": []
    },
    {
     "cell_type": "code",
     "collapsed": false,
     "input": [
      "households = households.rename(columns = {'mgra13':'mgra_id'})"
     ],
     "language": "python",
     "metadata": {},
     "outputs": []
    },
    {
     "cell_type": "code",
     "collapsed": false,
     "input": [
      "jobs = db_to_df('select * from staging.jobs_lehd;').set_index('job_id')\n",
      "del jobs['index']\n",
      "del jobs['id']\n",
      "jobs.building_id = -1"
     ],
     "language": "python",
     "metadata": {},
     "outputs": []
    },
    {
     "cell_type": "code",
     "collapsed": false,
     "input": [
      "## Capacity-constrained random allocation of agents\n",
      "def random_allocate_agents(agents, buildings, zone_id_col_name, capacity_col_name):\n",
      "\n",
      "    ## Universe of alternatives\n",
      "    empty_units = buildings[buildings[capacity_col_name] > 0][capacity_col_name].order(ascending=False)\n",
      "    alternatives = buildings[['development_type_id', 'parcel_id', zone_id_col_name]]\n",
      "    alternatives = alternatives.ix[np.repeat(empty_units.index.values,empty_units.values.astype('int'))]\n",
      "\n",
      "    ## Agents by zone\n",
      "    taz_agent_counts = agents.groupby(zone_id_col_name).size()\n",
      "\n",
      "    ## Allocate agents for each zone\n",
      "    for taz in np.unique(agents[zone_id_col_name]):\n",
      "        num_agents = taz_agent_counts[taz_agent_counts.index.values == taz].values[0]\n",
      "        chooser_ids = agents.index[agents[zone_id_col_name] == taz].values\n",
      "        print 'There are %s demand agents in TAZ %s' % (num_agents, taz)\n",
      "        alts = alternatives[alternatives[zone_id_col_name] == taz]\n",
      "        alternative_ids = alts.index.values\n",
      "        probabilities = np.ones(len(alternative_ids)) #Each unit has equal probability.  Change if alternative weights desired.\n",
      "        num_units = len(alts)\n",
      "        print 'There are %s supply units in TAZ %s' % (num_units, taz)\n",
      "        choices = unit_choice(chooser_ids,alternative_ids,probabilities)\n",
      "        agents.loc[chooser_ids,'building_id'] = choices\n",
      "        if num_agents > num_units:\n",
      "            print 'Warning:  number of demand agents exceeds number of supply units in TAZ %s' % taz"
     ],
     "language": "python",
     "metadata": {},
     "outputs": []
    },
    {
     "cell_type": "code",
     "collapsed": false,
     "input": [
      "## Note zones are often over-occupied- look into this\n",
      "random_allocate_agents(households, buildings, zone_id_col_name='mgra_id', capacity_col_name='residential_units')"
     ],
     "language": "python",
     "metadata": {},
     "outputs": []
    },
    {
     "cell_type": "code",
     "collapsed": false,
     "input": [
      "random_allocate_agents(jobs, buildings, zone_id_col_name='block_id', capacity_col_name='job_spaces')"
     ],
     "language": "python",
     "metadata": {},
     "outputs": []
    },
    {
     "cell_type": "code",
     "collapsed": false,
     "input": [
      "#EXPORT DEMAND AGENTS TO DB\n",
      "if 'block_id' in jobs.columns:\n",
      "    del jobs['block_id']\n",
      "    \n",
      "if 'mgra_id' in households.columns:\n",
      "    del households['mgra_id']\n",
      "    \n",
      "for df in [jobs, households]:\n",
      "    df.building_id[df.building_id.isnull()] = -1\n",
      "    for col in df.columns:\n",
      "        df[col] = df[col].astype('int')\n",
      "\n",
      "df_to_db(jobs, 'jobs', schema=loader.tables.public)\n",
      "df_to_db(households, 'households', schema=loader.tables.public)"
     ],
     "language": "python",
     "metadata": {},
     "outputs": []
    },
    {
     "cell_type": "code",
     "collapsed": false,
     "input": [
      "#Export formated buildings to db\n",
      "if 'mgra_id' in buildings.columns:\n",
      "    del buildings['mgra_id']\n",
      "    \n",
      "if 'block_id' in buildings.columns:\n",
      "    del buildings['block_id']\n",
      "    \n",
      "if 'job_spaces' in buildings.columns:\n",
      "    del buildings['job_spaces']\n",
      "    \n",
      "df_to_db(buildings, 'buildings', schema=loader.tables.public)"
     ],
     "language": "python",
     "metadata": {},
     "outputs": []
    },
    {
     "cell_type": "code",
     "collapsed": false,
     "input": [],
     "language": "python",
     "metadata": {},
     "outputs": []
    }
   ],
   "metadata": {}
  }
 ]
}