{
 "metadata": {
  "name": "",
  "signature": "sha256:8c970b10438341c53fabd7d78223d42cdff830e72d21f6b5145df55a4de0f4f4"
 },
 "nbformat": 3,
 "nbformat_minor": 0,
 "worksheets": [
  {
   "cells": [
    {
     "cell_type": "code",
     "collapsed": false,
     "input": [
      "import datetime\n",
      "import time\n",
      "import subprocess\n",
      "import sys\n",
      "import pandas as pd, numpy as np\n",
      "import os; os.chdir('..')"
     ],
     "language": "python",
     "metadata": {},
     "outputs": [],
     "prompt_number": 1
    },
    {
     "cell_type": "code",
     "collapsed": false,
     "input": [
      "threshold = .015\n",
      "step_size = .01\n",
      "iterations = 100\n",
      "\n",
      "du_targets = {0 : 0.218251,\n",
      "           1 : 0.221090,\n",
      "           2 : 0.151014,\n",
      "           3 : 0.084200,\n",
      "           4 : 0.162740,\n",
      "           5 : 0.141933,\n",
      "           6 : 0.020772}"
     ],
     "language": "python",
     "metadata": {},
     "outputs": [],
     "prompt_number": 2
    },
    {
     "cell_type": "code",
     "collapsed": false,
     "input": [
      "for i in range(iterations):\n",
      "    print 'ITERATION %s' % (i + 1)\n",
      "    start_time = datetime.datetime.now()\n",
      "    print 'Starting iteration at: %s' % start_time\n",
      "    \n",
      "    # Simulation run\n",
      "    subprocess.check_call([sys.executable, 'c://sandag//sandag_urbansim//calib_simulation.py'])\n",
      "    \n",
      "    # Read MSA results\n",
      "    time.sleep(1)\n",
      "    proportion_by_msa = pd.read_csv('.\\\\data\\\\calibration\\\\msa_simulated.csv').set_index('msa_id').to_dict()['residential_units']\n",
      "\n",
      "    # Compare simulated with target, and adjust MSA shifters as needed\n",
      "    new_shifters = {}\n",
      "    differences = []\n",
      "    num_matching = 0\n",
      "    calibration_shifters = pd.read_csv('.\\\\data\\\\calibration\\\\msa_shifters.csv').set_index('msa_id').to_dict()\n",
      "    shifter_name = 'res_price_shifter'\n",
      "    shifters = calibration_shifters[shifter_name]\n",
      "    for msa_id in shifters.keys():\n",
      "        shift = shifters[msa_id]\n",
      "        print 'MSA %s where current shifter value is %s' % (msa_id, shift)\n",
      "        target = du_targets[msa_id]\n",
      "        print '    Target proportion is %s' % target\n",
      "        simulated = proportion_by_msa[msa_id] if msa_id in proportion_by_msa else 0.0\n",
      "        print '    Simulated proportion is %s' % simulated\n",
      "        difference = target - simulated\n",
      "        differences.append(abs(difference))\n",
      "\n",
      "        if abs(difference) > threshold:\n",
      "            if difference > 0:\n",
      "                print '        Action: shift up'\n",
      "                new_shift = shift + step_size\n",
      "            else:\n",
      "                print '        Action: shift down'\n",
      "                new_shift = shift - step_size\n",
      "            print '        New shift value %s' % new_shift\n",
      "        else:\n",
      "            print '        No action'\n",
      "            new_shift = shift\n",
      "            num_matching += 1\n",
      "\n",
      "        new_shifters[msa_id] = new_shift\n",
      "        \n",
      "    # If all geographies matching within threshold, exit calibration\n",
      "    print 'Number of matching MSAs: %s' % num_matching\n",
      "    print 'Mean difference: %s' % pd.Series(differences).mean()\n",
      "    if num_matching == len(du_targets):\n",
      "        break\n",
      "\n",
      "    new_shifters = pd.Series(new_shifters, name = shifter_name)\n",
      "    new_shifters.index.name = 'msa_id'\n",
      "    new_shifters.to_csv('.\\\\data\\\\calibration\\\\msa_shifters.csv', header = True)\n",
      "    \n",
      "    end_time = datetime.datetime.now()\n",
      "    print 'Iteration elapsed time: %s' % (end_time - start_time)\n",
      "    time.sleep(1)"
     ],
     "language": "python",
     "metadata": {},
     "outputs": []
    }
   ],
   "metadata": {}
  }
 ]
}