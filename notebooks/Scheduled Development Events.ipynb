{
 "cells": [
  {
   "cell_type": "code",
   "execution_count": null,
   "metadata": {
    "collapsed": true
   },
   "outputs": [],
   "source": [
    "# ipython-sql from: https://github.com/catherinedevlin/ipython-sql \n",
    "# downloaded 03/10/2017\n",
    "# setup.py to install (note: latest release w/ pip install was missing features)"
   ]
  },
  {
   "cell_type": "code",
   "execution_count": null,
   "metadata": {
    "collapsed": true
   },
   "outputs": [],
   "source": [
    "import pysandag.database as sdb\n",
    "import pandas as pd"
   ]
  },
  {
   "cell_type": "code",
   "execution_count": null,
   "metadata": {
    "collapsed": false
   },
   "outputs": [],
   "source": [
    "%load_ext sql"
   ]
  },
  {
   "cell_type": "code",
   "execution_count": null,
   "metadata": {
    "collapsed": false
   },
   "outputs": [],
   "source": [
    "# connect to database\n",
    "[postgres,user,password,db] = sdb.get_connection_string(\"../configs/dbconfig.yml\", 'urbansim_database').split(\":\")\n",
    "%sql $postgres:$user:$password:$db"
   ]
  },
  {
   "cell_type": "code",
   "execution_count": null,
   "metadata": {
    "collapsed": false
   },
   "outputs": [],
   "source": [
    "# get all jurisdictions for outer join - since some jurisdictions do not have sch developments\n",
    "jurisdictions = %sql SELECT jurisdiction_id,name as jurisdiction FROM ref.jurisdiction j WHERE jurisdiction_id < 20\n",
    "jurisdictions_df = jurisdictions.DataFrame()"
   ]
  },
  {
   "cell_type": "code",
   "execution_count": null,
   "metadata": {
    "collapsed": false
   },
   "outputs": [],
   "source": [
    "# urbansim output \n",
    "# get all scheduled developemnt events built during the current scenario\n",
    "# output where new buildings are scheduled development events (sch_dev = 1)\n",
    "# using phase-in spreadsheet\n",
    "scenario_id = 250 # from urbansim output"
   ]
  },
  {
   "cell_type": "code",
   "execution_count": null,
   "metadata": {
    "collapsed": false
   },
   "outputs": [],
   "source": [
    "%%sql \n",
    "sch_dev <<\n",
    "SELECT b.jurisdiction_id, new_units,building_type_id \n",
    "FROM urbansim_output.buildings b WHERE scenario_id = :scenario_id AND \n",
    "sch_dev = 1 ORDER BY b.jurisdiction_id"
   ]
  },
  {
   "cell_type": "code",
   "execution_count": null,
   "metadata": {
    "collapsed": true
   },
   "outputs": [],
   "source": [
    "sch_dev_df = sch_dev.DataFrame()"
   ]
  },
  {
   "cell_type": "code",
   "execution_count": null,
   "metadata": {
    "collapsed": false
   },
   "outputs": [],
   "source": [
    "# join with jurisdictions_df to get jurisdiction names \n",
    "sched_dev_by_jurisdiction = pd.merge(sch_dev_df, jurisdictions_df, on='jurisdiction_id', how='outer')"
   ]
  },
  {
   "cell_type": "code",
   "execution_count": null,
   "metadata": {
    "collapsed": true
   },
   "outputs": [],
   "source": [
    "# fill NAs for jurisdictions with no sched developments\n",
    "sched_dev_by_jurisdiction['new_units'].fillna(0, inplace=True) \n",
    "sched_dev_by_jurisdiction['building_type_id'].fillna(19, inplace=True)"
   ]
  },
  {
   "cell_type": "code",
   "execution_count": null,
   "metadata": {
    "collapsed": true
   },
   "outputs": [],
   "source": [
    "# rename building type id\n",
    "sched_dev_by_jurisdiction['building_type_id'].replace(19, 'single-family',inplace=True)\n",
    "sched_dev_by_jurisdiction['building_type_id'].replace(21, 'multi-family',inplace=True)"
   ]
  },
  {
   "cell_type": "code",
   "execution_count": null,
   "metadata": {
    "collapsed": false
   },
   "outputs": [],
   "source": [
    "# sum num of units by jurisdiction and building type \n",
    "schdev_grp1 =sched_dev_by_jurisdiction.groupby(['jurisdiction','building_type_id'])[['new_units']].sum()\n",
    "schdev_grp1.reset_index(drop=False,inplace=True)"
   ]
  },
  {
   "cell_type": "code",
   "execution_count": null,
   "metadata": {
    "collapsed": false
   },
   "outputs": [],
   "source": [
    "# pivot table so that single-family and multi-family are column headers\n",
    "sched_dev_pivot = schdev_grp1.pivot_table(index = ['jurisdiction'],values=['new_units'], columns='building_type_id')"
   ]
  },
  {
   "cell_type": "code",
   "execution_count": null,
   "metadata": {
    "collapsed": false
   },
   "outputs": [],
   "source": [
    "# remove column names (building type id), drop multiindex (new units), reset index\n",
    "sched_dev_pivot.columns.names = (None,None)\n",
    "sched_dev_pivot.columns = sched_dev_pivot.columns.droplevel()\n",
    "sched_dev_pivot.reset_index(inplace=True)"
   ]
  },
  {
   "cell_type": "code",
   "execution_count": null,
   "metadata": {
    "collapsed": false
   },
   "outputs": [],
   "source": [
    "# fill NAs (where no single-family or no multi-family for a jurisdiction)\n",
    "sched_dev_pivot.fillna(0, inplace=True)"
   ]
  },
  {
   "cell_type": "code",
   "execution_count": null,
   "metadata": {
    "collapsed": false
   },
   "outputs": [],
   "source": [
    "# calculate total units\n",
    "sched_dev_pivot['total_units'] = sched_dev_pivot['multi-family'] + sched_dev_pivot['single-family']"
   ]
  },
  {
   "cell_type": "code",
   "execution_count": null,
   "metadata": {
    "collapsed": true
   },
   "outputs": [],
   "source": [
    "# reorder columns for printing\n",
    "sched_dev_pivot = sched_dev_pivot[['jurisdiction','single-family','multi-family','total_units']]"
   ]
  },
  {
   "cell_type": "code",
   "execution_count": null,
   "metadata": {
    "collapsed": true
   },
   "outputs": [],
   "source": [
    "# calculate totals for region and append to dataframe\n",
    "sched_dev_pivot_for_region = pd.DataFrame([['Region',\\\n",
    "                                            sched_dev_pivot['single-family'].sum(),\\\n",
    "                                            sched_dev_pivot['multi-family'].sum(),\\\n",
    "                                            sched_dev_pivot['total_units'].sum()]],\n",
    "                   columns=['jurisdiction','single-family','multi-family','total_units'])\n",
    "sched_dev_pivot = sched_dev_pivot.append(sched_dev_pivot_for_region, ignore_index=True)"
   ]
  },
  {
   "cell_type": "code",
   "execution_count": null,
   "metadata": {
    "collapsed": true
   },
   "outputs": [],
   "source": [
    "# format table for pretty printing\n",
    "sched_dev_table = sched_dev_pivot.copy()\n",
    "sched_dev_table['single-family'] = sched_dev_table['single-family'].map('{:,.0f}'.format)\n",
    "sched_dev_table['multi-family'] = sched_dev_table['multi-family'].map('{:,.0f}'.format)\n",
    "sched_dev_table['total_units'] = sched_dev_table['total_units'].map('{:,.0f}'.format) "
   ]
  },
  {
   "cell_type": "code",
   "execution_count": null,
   "metadata": {
    "collapsed": false
   },
   "outputs": [],
   "source": [
    "from plotly import __version__\n",
    "from plotly.offline import download_plotlyjs, init_notebook_mode, plot, iplot\n",
    "import plotly.figure_factory as FF\n",
    "\n",
    "init_notebook_mode(connected=True)"
   ]
  },
  {
   "cell_type": "code",
   "execution_count": null,
   "metadata": {
    "collapsed": false
   },
   "outputs": [],
   "source": [
    "# create table of scheduled development events\n",
    "figure = FF.create_table(sched_dev_table)\n",
    "figure.layout.update({'title': 'Scheduled Development Events'})\n",
    "figure.layout.margin.update({'t':50, 'b':100})\n",
    "iplot(figure, filename='subplot_table_vertical')"
   ]
  },
  {
   "cell_type": "code",
   "execution_count": null,
   "metadata": {
    "collapsed": false
   },
   "outputs": [],
   "source": [
    "import cufflinks as cf\n",
    "# make stacked bar graph of scheduled development events\n",
    "sched_dev_bar = sched_dev_pivot.copy()\n",
    "sched_dev_bar = sched_dev_bar[sched_dev_bar.jurisdiction != 'Region'] # remove Region from bar chart\n",
    "sched_dev_bar = sched_dev_bar.set_index(['jurisdiction'])\n",
    "del sched_dev_bar['total_units']  \n",
    "iplot(sched_dev_bar.iplot(asFigure=True,kind='bar', barmode='stack',title='Scheduled Development Events by Jurisdiction'))"
   ]
  }
 ],
 "metadata": {
  "kernelspec": {
   "display_name": "Python 2",
   "language": "python",
   "name": "python2"
  },
  "language_info": {
   "codemirror_mode": {
    "name": "ipython",
    "version": 2
   },
   "file_extension": ".py",
   "mimetype": "text/x-python",
   "name": "python",
   "nbconvert_exporter": "python",
   "pygments_lexer": "ipython2",
   "version": "2.7.11"
  }
 },
 "nbformat": 4,
 "nbformat_minor": 2
}
