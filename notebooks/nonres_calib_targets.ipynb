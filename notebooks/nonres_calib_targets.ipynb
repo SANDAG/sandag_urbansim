{
 "metadata": {
  "name": "",
  "signature": "sha256:0d5512fdfa5aed4407c0a3f1cd9dc0d7375605664b755cfc40a3ff881b3c0c02"
 },
 "nbformat": 3,
 "nbformat_minor": 0,
 "worksheets": [
  {
   "cells": [
    {
     "cell_type": "code",
     "collapsed": false,
     "input": [
      "%load_ext autoreload\n",
      "%autoreload 2\n",
      "import pandas as pd, numpy as np\n",
      "if 'sim' not in globals():\n",
      "    import os; os.chdir('..')\n",
      "import models\n",
      "import urbansim.sim.simulation as sim\n",
      "from spandex import TableLoader\n",
      "\n",
      "loader = TableLoader()"
     ],
     "language": "python",
     "metadata": {},
     "outputs": [],
     "prompt_number": 1
    },
    {
     "cell_type": "code",
     "collapsed": false,
     "input": [
      "b = sim.get_table('buildings')\n",
      "msa_id = b.msa_id\n",
      "b = b.to_frame(b.local_columns)\n",
      "b['msa_id'] = msa_id"
     ],
     "language": "python",
     "metadata": {},
     "outputs": [],
     "prompt_number": 9
    },
    {
     "cell_type": "code",
     "collapsed": false,
     "input": [
      "new_nrsf_msa = b[(b.year_built > 2005) & (b.development_type_id.isin([2,3,4,5]))].groupby('msa_id').non_residential_sqft.sum()"
     ],
     "language": "python",
     "metadata": {},
     "outputs": [],
     "prompt_number": 18
    },
    {
     "cell_type": "code",
     "collapsed": false,
     "input": [
      "nonres_targets = new_nrsf_msa/new_nrsf_msa.sum()\n",
      "nonres_targets"
     ],
     "language": "python",
     "metadata": {},
     "outputs": [
      {
       "metadata": {},
       "output_type": "pyout",
       "prompt_number": 20,
       "text": [
        "msa_id\n",
        "0         0.068475\n",
        "1         0.268959\n",
        "2         0.209235\n",
        "3         0.046141\n",
        "4         0.222778\n",
        "5         0.184189\n",
        "6         0.000223\n",
        "Name: non_residential_sqft, dtype: float64"
       ]
      }
     ],
     "prompt_number": 20
    },
    {
     "cell_type": "code",
     "collapsed": false,
     "input": [],
     "language": "python",
     "metadata": {},
     "outputs": []
    },
    {
     "cell_type": "code",
     "collapsed": false,
     "input": [],
     "language": "python",
     "metadata": {},
     "outputs": []
    }
   ],
   "metadata": {}
  }
 ]
}