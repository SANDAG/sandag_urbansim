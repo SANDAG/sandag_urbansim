{
 "metadata": {
  "name": "",
  "signature": "sha256:92393e909d6a44878faf809cfff3448e31d42251f770a125be98ff34644fcd02"
 },
 "nbformat": 3,
 "nbformat_minor": 0,
 "worksheets": [
  {
   "cells": [
    {
     "cell_type": "heading",
     "level": 2,
     "metadata": {},
     "source": [
      "SANDAG Subregional Allocation Model-  Data Loading"
     ]
    },
    {
     "cell_type": "code",
     "collapsed": false,
     "input": [
      "import logging\n",
      "\n",
      "import pandas as pd,  numpy as np\n",
      "from pandas.io.excel import read_excel\n",
      "from spandex import TableLoader\n",
      "from spandex.io import df_to_db, logger\n",
      "from spandex.spatialtoolz import conform_srids, tag\n",
      "\n",
      "\n",
      "logger.setLevel(logging.INFO)"
     ],
     "language": "python",
     "metadata": {},
     "outputs": [],
     "prompt_number": 1
    },
    {
     "cell_type": "code",
     "collapsed": false,
     "input": [
      "shapefiles = {\n",
      "    'staging.parcels':\n",
      "    'space/parcel.shp',\n",
      "\n",
      "    'staging.buildings':\n",
      "    'space/building.shp',\n",
      "\n",
      "    'staging.blocks':\n",
      "    'space/tl_2010_06073_tabblock10.shp',\n",
      "\n",
      "    'staging.sitespec':\n",
      "    'scheduled/site_spec.shp',\n",
      "\n",
      "}"
     ],
     "language": "python",
     "metadata": {},
     "outputs": []
    },
    {
     "cell_type": "code",
     "collapsed": false,
     "input": [
      "# Install PostGIS and create staging schema.\n",
      "loader = TableLoader()\n",
      "with loader.database.cursor() as cur:\n",
      "    cur.execute(\"\"\"\n",
      "        CREATE EXTENSION IF NOT EXISTS postgis;\n",
      "        CREATE SCHEMA IF NOT EXISTS staging;\n",
      "    \"\"\")\n",
      "loader.database.refresh()\n",
      "\n",
      "t = loader.tables\n",
      "staging = loader.tables.staging"
     ],
     "language": "python",
     "metadata": {},
     "outputs": [
      {
       "output_type": "stream",
       "stream": "stderr",
       "text": [
        "WARNING:spandex.database:Unable to map table to class: Mapper Mapper|loading.parcel|parcel could not assemble any primary key columns for mapped table 'parcel'\n"
       ]
      },
      {
       "output_type": "stream",
       "stream": "stderr",
       "text": [
        "WARNING:spandex.database:Unable to map table to class: Mapper Mapper|loading.zoning|zoning could not assemble any primary key columns for mapped table 'zoning'\n"
       ]
      },
      {
       "output_type": "stream",
       "stream": "stderr",
       "text": [
        "WARNING:spandex.database:Unable to map table to class: Mapper Mapper|public.parcels|parcels could not assemble any primary key columns for mapped table 'parcels'\n"
       ]
      },
      {
       "output_type": "stream",
       "stream": "stderr",
       "text": [
        "WARNING:spandex.database:Unable to map table to class: Mapper Mapper|public.zoning_allowed_uses|zoning_allowed_uses could not assemble any primary key columns for mapped table 'zoning_allowed_uses'\n"
       ]
      },
      {
       "output_type": "stream",
       "stream": "stderr",
       "text": [
        "WARNING:spandex.database:Unable to map table to class: Mapper Mapper|loading.building|building could not assemble any primary key columns for mapped table 'building'\n"
       ]
      },
      {
       "output_type": "stream",
       "stream": "stderr",
       "text": [
        "WARNING:spandex.database:Unable to map table to class: Mapper Mapper|staging.scheduled_development|scheduled_development could not assemble any primary key columns for mapped table 'scheduled_development'\n"
       ]
      },
      {
       "output_type": "stream",
       "stream": "stderr",
       "text": [
        "WARNING:spandex.database:Unable to map table to class: Mapper Mapper|loading.zoning_allowed_uses|zoning_allowed_uses could not assemble any primary key columns for mapped table 'zoning_allowed_uses'\n"
       ]
      },
      {
       "output_type": "stream",
       "stream": "stderr",
       "text": [
        "WARNING:spandex.database:Unable to map table to class: Mapper Mapper|public.zoning|zoning could not assemble any primary key columns for mapped table 'zoning'\n"
       ]
      },
      {
       "output_type": "stream",
       "stream": "stderr",
       "text": [
        "WARNING:spandex.database:Unable to map table to class: Mapper Mapper|loading.parcel|parcel could not assemble any primary key columns for mapped table 'parcel'\n"
       ]
      },
      {
       "output_type": "stream",
       "stream": "stderr",
       "text": [
        "WARNING:spandex.database:Unable to map table to class: Mapper Mapper|loading.zoning|zoning could not assemble any primary key columns for mapped table 'zoning'\n"
       ]
      },
      {
       "output_type": "stream",
       "stream": "stderr",
       "text": [
        "WARNING:spandex.database:Unable to map table to class: Mapper Mapper|public.parcels|parcels could not assemble any primary key columns for mapped table 'parcels'\n"
       ]
      },
      {
       "output_type": "stream",
       "stream": "stderr",
       "text": [
        "WARNING:spandex.database:Unable to map table to class: Mapper Mapper|public.zoning_allowed_uses|zoning_allowed_uses could not assemble any primary key columns for mapped table 'zoning_allowed_uses'\n"
       ]
      },
      {
       "output_type": "stream",
       "stream": "stderr",
       "text": [
        "WARNING:spandex.database:Unable to map table to class: Mapper Mapper|loading.building|building could not assemble any primary key columns for mapped table 'building'\n"
       ]
      },
      {
       "output_type": "stream",
       "stream": "stderr",
       "text": [
        "WARNING:spandex.database:Unable to map table to class: Mapper Mapper|staging.scheduled_development|scheduled_development could not assemble any primary key columns for mapped table 'scheduled_development'\n"
       ]
      },
      {
       "output_type": "stream",
       "stream": "stderr",
       "text": [
        "WARNING:spandex.database:Unable to map table to class: Mapper Mapper|loading.zoning_allowed_uses|zoning_allowed_uses could not assemble any primary key columns for mapped table 'zoning_allowed_uses'\n"
       ]
      },
      {
       "output_type": "stream",
       "stream": "stderr",
       "text": [
        "WARNING:spandex.database:Unable to map table to class: Mapper Mapper|public.zoning|zoning could not assemble any primary key columns for mapped table 'zoning'\n"
       ]
      }
     ],
     "prompt_number": 2
    },
    {
     "cell_type": "code",
     "collapsed": false,
     "input": [
      "# Load shapefiles specified above to the project database.\n",
      "loader.load_shp_map(shapefiles)"
     ],
     "language": "python",
     "metadata": {},
     "outputs": []
    },
    {
     "cell_type": "code",
     "collapsed": false,
     "input": [
      "# Fix invalid geometries and reproject.\n",
      "conform_srids(loader.srid, schema=staging, fix=True)"
     ],
     "language": "python",
     "metadata": {},
     "outputs": []
    },
    {
     "cell_type": "code",
     "collapsed": false,
     "input": [
      "# Tag parcels with a block_id\n",
      "tag(t.staging.parcels, 'block_geoid', t.staging.blocks, 'geoid10')"
     ],
     "language": "python",
     "metadata": {},
     "outputs": []
    },
    {
     "cell_type": "code",
     "collapsed": false,
     "input": [
      "# Load csv's\n",
      "csvs = {\n",
      "#     'local_effect_distances':\n",
      "#     'space/local_effect_distances.csv',\n",
      "\n",
      "#     'sqft_per_job_by_devtype':\n",
      "#     'employment/sqftPerEmpByDevType.csv',\n",
      "\n",
      "#     'sqft_per_job_by_activity_by_devtype':\n",
      "#     'employment/sqftPerEmpByActivityByDevType.csv',\n",
      "\n",
      "#     'jobs_lehd':\n",
      "#     'employment/jobs_lehd_raw.csv',\n",
      "\n",
      "#     'households':\n",
      "#     'population/household.csv',\n",
      "\n",
      "#     'assessor_home_transactions':\n",
      "#     'price/priceDataSet.csv',\n",
      "\n",
      "#     'costar2012':\n",
      "#     'price/costar2012.csv',\n",
      "\n",
      "#     'costar_transactions':\n",
      "#     'price/costarTransactionHistory.csv',\n",
      "\n",
      "#     'zoning':\n",
      "#     'zoning/zoning.csv',\n",
      "\n",
      "#     'zoning_allowed_uses':\n",
      "#     'zoning/zoning_allowed_uses.csv',\n",
      "\n",
      "#     'pecas_hh_controls':\n",
      "#     'luz_controls/Pecas_HH_controls.csv',\n",
      "\n",
      "    'xref_space_type_dev_type':\n",
      "    'xref/xref_space_type_and_development_type.csv',\n",
      "\n",
      "    'pecas_price_predictions':\n",
      "    'luz_controls/pecas_PriceAndSpaceQuantity.csv',\n",
      "\n",
      "}\n",
      "\n",
      "for tbl in csvs.iterkeys():\n",
      "    csv = loader.get_path(csvs[tbl])\n",
      "    df = pd.read_csv(csv)\n",
      "    df.index.name = 'index'\n",
      "    if df.isnull().sum().sum() > 0:\n",
      "        for col in df.dtypes.iteritems():\n",
      "            col_name = col[0]\n",
      "            col_type = col[1]\n",
      "            firstval = df[col_name].loc[0]\n",
      "            if firstval in (True, False):\n",
      "                if type(firstval) == bool:\n",
      "                    df[col_name] = df[col_name].fillna(False)\n",
      "            if col_type == np.int64:\n",
      "                df[col_name] = df[col_name].fillna(0)\n",
      "            elif col_type == np.float64:\n",
      "                df[col_name] = df[col_name].fillna(0.0)\n",
      "            elif col_type == np.object:\n",
      "                df[col_name] = df[col_name].fillna(' ')\n",
      "    if 'id' in df.columns:\n",
      "        new_id_colname = tbl + '_id'\n",
      "        df = df.rename(columns = {'id':new_id_colname})\n",
      "    df_to_db(df, tbl, schema = staging)"
     ],
     "language": "python",
     "metadata": {},
     "outputs": [
      {
       "output_type": "stream",
       "stream": "stderr",
       "text": [
        "WARNING:spandex.database:Unable to map table to class: Mapper Mapper|loading.parcel|parcel could not assemble any primary key columns for mapped table 'parcel'\n"
       ]
      },
      {
       "output_type": "stream",
       "stream": "stderr",
       "text": [
        "WARNING:spandex.database:Unable to map table to class: Mapper Mapper|loading.zoning|zoning could not assemble any primary key columns for mapped table 'zoning'\n"
       ]
      },
      {
       "output_type": "stream",
       "stream": "stderr",
       "text": [
        "WARNING:spandex.database:Unable to map table to class: Mapper Mapper|public.parcels|parcels could not assemble any primary key columns for mapped table 'parcels'\n"
       ]
      },
      {
       "output_type": "stream",
       "stream": "stderr",
       "text": [
        "WARNING:spandex.database:Unable to map table to class: Mapper Mapper|public.zoning_allowed_uses|zoning_allowed_uses could not assemble any primary key columns for mapped table 'zoning_allowed_uses'\n"
       ]
      },
      {
       "output_type": "stream",
       "stream": "stderr",
       "text": [
        "WARNING:spandex.database:Unable to map table to class: Mapper Mapper|loading.building|building could not assemble any primary key columns for mapped table 'building'\n"
       ]
      },
      {
       "output_type": "stream",
       "stream": "stderr",
       "text": [
        "WARNING:spandex.database:Unable to map table to class: Mapper Mapper|staging.scheduled_development|scheduled_development could not assemble any primary key columns for mapped table 'scheduled_development'\n"
       ]
      },
      {
       "output_type": "stream",
       "stream": "stderr",
       "text": [
        "WARNING:spandex.database:Unable to map table to class: Mapper Mapper|loading.zoning_allowed_uses|zoning_allowed_uses could not assemble any primary key columns for mapped table 'zoning_allowed_uses'\n"
       ]
      },
      {
       "output_type": "stream",
       "stream": "stderr",
       "text": [
        "WARNING:spandex.database:Unable to map table to class: Mapper Mapper|public.zoning|zoning could not assemble any primary key columns for mapped table 'zoning'\n"
       ]
      },
      {
       "output_type": "stream",
       "stream": "stderr",
       "text": [
        "WARNING:spandex.database:Unable to map table to class: Mapper Mapper|loading.parcel|parcel could not assemble any primary key columns for mapped table 'parcel'\n"
       ]
      },
      {
       "output_type": "stream",
       "stream": "stderr",
       "text": [
        "WARNING:spandex.database:Unable to map table to class: Mapper Mapper|loading.zoning|zoning could not assemble any primary key columns for mapped table 'zoning'\n"
       ]
      },
      {
       "output_type": "stream",
       "stream": "stderr",
       "text": [
        "WARNING:spandex.database:Unable to map table to class: Mapper Mapper|public.parcels|parcels could not assemble any primary key columns for mapped table 'parcels'\n"
       ]
      },
      {
       "output_type": "stream",
       "stream": "stderr",
       "text": [
        "WARNING:spandex.database:Unable to map table to class: Mapper Mapper|public.zoning_allowed_uses|zoning_allowed_uses could not assemble any primary key columns for mapped table 'zoning_allowed_uses'\n"
       ]
      },
      {
       "output_type": "stream",
       "stream": "stderr",
       "text": [
        "WARNING:spandex.database:Unable to map table to class: Mapper Mapper|loading.building|building could not assemble any primary key columns for mapped table 'building'\n"
       ]
      },
      {
       "output_type": "stream",
       "stream": "stderr",
       "text": [
        "WARNING:spandex.database:Unable to map table to class: Mapper Mapper|staging.scheduled_development|scheduled_development could not assemble any primary key columns for mapped table 'scheduled_development'\n"
       ]
      },
      {
       "output_type": "stream",
       "stream": "stderr",
       "text": [
        "WARNING:spandex.database:Unable to map table to class: Mapper Mapper|loading.zoning_allowed_uses|zoning_allowed_uses could not assemble any primary key columns for mapped table 'zoning_allowed_uses'\n"
       ]
      },
      {
       "output_type": "stream",
       "stream": "stderr",
       "text": [
        "WARNING:spandex.database:Unable to map table to class: Mapper Mapper|public.zoning|zoning could not assemble any primary key columns for mapped table 'zoning'\n"
       ]
      }
     ],
     "prompt_number": 6
    },
    {
     "cell_type": "code",
     "collapsed": false,
     "input": [
      "# Load excel\n",
      "\n",
      "# xls_path = loader.get_path('scheduled/scheduled_development.xlsx')\n",
      "# df = pd.read_excel(xls_path)\n",
      "# df_to_db(df, 'scheduled_development', schema = staging)"
     ],
     "language": "python",
     "metadata": {},
     "outputs": [],
     "prompt_number": 7
    }
   ],
   "metadata": {}
  }
 ]
}