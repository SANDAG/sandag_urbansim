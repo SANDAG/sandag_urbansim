{
 "metadata": {
  "name": "",
  "signature": "sha256:c65b12a3f363b54a2e876aefbfb5ebf8092c37c5aa58be2d7f10d862e363c5c5"
 },
 "nbformat": 3,
 "nbformat_minor": 0,
 "worksheets": [
  {
   "cells": [
    {
     "cell_type": "heading",
     "level": 2,
     "metadata": {},
     "source": [
      "SANDAG Subregional Allocation Model-  Data Loading"
     ]
    },
    {
     "cell_type": "code",
     "collapsed": false,
     "input": [
      "import logging\n",
      "\n",
      "import pandas as pd\n",
      "from spandex import TableLoader\n",
      "from spandex.io import df_to_db, logger\n",
      "from spandex.spatialtoolz import conform_srids\n",
      "\n",
      "\n",
      "logger.setLevel(logging.INFO)"
     ],
     "language": "python",
     "metadata": {},
     "outputs": [],
     "prompt_number": 1
    },
    {
     "cell_type": "code",
     "collapsed": false,
     "input": [
      "shapefiles = {\n",
      "    'staging.parcels':\n",
      "    'space/parcel.shp',\n",
      "\n",
      "    'staging.buildings':\n",
      "    'space/building.shp',\n",
      "\n",
      "    'staging.blocks':\n",
      "    'space/tl_2010_06073_tabblock10.shp',\n",
      "\n",
      "#     'staging.sitespec':\n",
      "#     'scheduled_development_events/site_spec.shp',\n",
      "\n",
      "}"
     ],
     "language": "python",
     "metadata": {},
     "outputs": [],
     "prompt_number": 2
    },
    {
     "cell_type": "code",
     "collapsed": false,
     "input": [
      "# Install PostGIS and create staging schema.\n",
      "loader = TableLoader()\n",
      "with loader.database.cursor() as cur:\n",
      "    cur.execute(\"\"\"\n",
      "        CREATE EXTENSION IF NOT EXISTS postgis;\n",
      "        CREATE SCHEMA IF NOT EXISTS staging;\n",
      "    \"\"\")\n",
      "loader.database.refresh()\n",
      "\n",
      "staging = loader.tables.staging"
     ],
     "language": "python",
     "metadata": {},
     "outputs": [],
     "prompt_number": 3
    },
    {
     "cell_type": "code",
     "collapsed": false,
     "input": [
      "# Load shapefiles specified above to the project database.\n",
      "loader.load_shp_map(shapefiles)"
     ],
     "language": "python",
     "metadata": {},
     "outputs": [
      {
       "output_type": "stream",
       "stream": "stderr",
       "text": [
        "INFO:spandex.io:Loading table staging.blocks (SRID: 4269) from file space/tl_2010_06073_tabblock10.shp (encoding: LATIN1).\n"
       ]
      },
      {
       "output_type": "stream",
       "stream": "stderr",
       "text": [
        "INFO:spandex.io:Loading table staging.parcels (SRID: 2230) from file space/parcel.shp (encoding: LATIN1).\n"
       ]
      },
      {
       "output_type": "stream",
       "stream": "stderr",
       "text": [
        "INFO:spandex.io:Loading table staging.buildings (SRID: 2230) from file space/building.shp (encoding: LATIN1).\n"
       ]
      }
     ],
     "prompt_number": 4
    },
    {
     "cell_type": "code",
     "collapsed": false,
     "input": [
      "# Fix invalid geometries and reproject.\n",
      "conform_srids(loader.srid, schema=staging, fix=True)"
     ],
     "language": "python",
     "metadata": {},
     "outputs": []
    },
    {
     "cell_type": "code",
     "collapsed": false,
     "input": [
      "# Tag parcels with a block_id\n",
      "t = loader.tables\n",
      "\n",
      "tag(t.staging.parcels, 'block_geoid', t.staging.blocks, 'geoid10')"
     ],
     "language": "python",
     "metadata": {},
     "outputs": []
    },
    {
     "cell_type": "code",
     "collapsed": false,
     "input": [
      "# Load csv's\n",
      "csvs = {\n",
      "    'local_effect_distances':\n",
      "    'space/local_effect_distances.csv',\n",
      "\n",
      "    'sqft_per_job_by_devtype':\n",
      "    'employment/sqftPerEmpByDevType.csv',\n",
      "\n",
      "    'sqft_per_job_by_activity_by_devtype':\n",
      "    'employment/sqftPerEmpByActivityByDevType.csv',\n",
      "\n",
      "#     'assessor_home_transactions':\n",
      "#     'price/priceDataSet.csv',\n",
      "\n",
      "#     'costar2012':\n",
      "#     'price/costar2012.csv',\n",
      "\n",
      "#     'costar_transactions':\n",
      "#     'price/costarTransactionHistory.csv',\n",
      "\n",
      "#     'zoning':\n",
      "#     'zoning/zoning.csv',\n",
      "\n",
      "#     'zoning_allowed_uses':\n",
      "#     'zoning/zoning_allowed_uses.csv',\n",
      "\n",
      "}\n",
      "\n",
      "for tbl in csvs.iterkeys():\n",
      "    csv = loader.get_path(csvs[tbl])\n",
      "    df = pd.read_csv(csv)\n",
      "    df.index.name = 'index'\n",
      "    df_to_db(df, tbl, schema = staging)"
     ],
     "language": "python",
     "metadata": {},
     "outputs": [],
     "prompt_number": 5
    },
    {
     "cell_type": "code",
     "collapsed": false,
     "input": [
      "\n"
     ],
     "language": "python",
     "metadata": {},
     "outputs": []
    },
    {
     "cell_type": "code",
     "collapsed": false,
     "input": [],
     "language": "python",
     "metadata": {},
     "outputs": []
    }
   ],
   "metadata": {}
  }
 ]
}