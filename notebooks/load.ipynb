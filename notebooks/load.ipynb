{
 "cells": [
  {
   "cell_type": "markdown",
   "metadata": {},
   "source": [
    "## SANDAG Subregional Allocation Model-  Data Loading"
   ]
  },
  {
   "cell_type": "code",
   "execution_count": 1,
   "metadata": {
    "collapsed": false
   },
   "outputs": [],
   "source": [
    "import logging\n",
    "\n",
    "import pandas as pd,  numpy as np\n",
    "from pandas.io.excel import read_excel\n",
    "from spandex import TableLoader\n",
    "from spandex.io import df_to_db, logger\n",
    "from spandex.spatialtoolz import conform_srids, tag\n",
    "\n",
    "\n",
    "logger.setLevel(logging.INFO)"
   ]
  },
  {
   "cell_type": "code",
   "execution_count": 2,
   "metadata": {
    "collapsed": false
   },
   "outputs": [],
   "source": [
    "shapefiles = {\n",
    "    'staging.parcels':\n",
    "    'space/parcel.shp',\n",
    "\n",
    "    'staging.buildings':\n",
    "    'space/building.shp',\n",
    "\n",
    "    'staging.blocks':\n",
    "    'space/tl_2010_06073_tabblock10.shp',\n",
    "\n",
    "    'staging.sitespec':\n",
    "    'scheduled/site_spec.shp',\n",
    "\n",
    "}"
   ]
  },
  {
   "cell_type": "code",
   "execution_count": 3,
   "metadata": {
    "collapsed": false
   },
   "outputs": [],
   "source": [
    "# Install PostGIS and create staging schema.\n",
    "loader = TableLoader()\n",
    "with loader.database.cursor() as cur:\n",
    "    cur.execute(\"\"\"\n",
    "        CREATE EXTENSION IF NOT EXISTS postgis;\n",
    "        CREATE SCHEMA IF NOT EXISTS staging;\n",
    "    \"\"\")\n",
    "loader.database.refresh()\n",
    "\n",
    "t = loader.tables\n",
    "staging = loader.tables.staging"
   ]
  },
  {
   "cell_type": "code",
   "execution_count": 4,
   "metadata": {
    "collapsed": false
   },
   "outputs": [
    {
     "name": "stderr",
     "output_type": "stream",
     "text": [
      "INFO:spandex.io:Loading table staging.blocks (SRID: 4269) from file space/tl_2010_06073_tabblock10.shp (encoding: LATIN1).\n",
      "INFO:spandex.io:Loading table staging.parcels (SRID: 2230) from file space/parcel.shp (encoding: LATIN1).\n",
      "INFO:spandex.io:Loading table staging.sitespec (SRID: 2230) from file scheduled/site_spec.shp (encoding: UTF-8).\n",
      "INFO:spandex.io:Loading table staging.buildings (SRID: 2230) from file space/building.shp (encoding: LATIN1).\n"
     ]
    }
   ],
   "source": [
    "# Load shapefiles specified above to the project database.\n",
    "loader.load_shp_map(shapefiles)"
   ]
  },
  {
   "cell_type": "code",
   "execution_count": null,
   "metadata": {
    "collapsed": false
   },
   "outputs": [],
   "source": [
    "# Fix invalid geometries and reproject.\n",
    "conform_srids(loader.srid, schema=staging, fix=True)"
   ]
  },
  {
   "cell_type": "code",
   "execution_count": null,
   "metadata": {
    "collapsed": false
   },
   "outputs": [],
   "source": [
    "# Tag parcels with a block_id\n",
    "tag(t.staging.parcels, 'block_geoid', t.staging.blocks, 'geoid10')"
   ]
  },
  {
   "cell_type": "code",
   "execution_count": 5,
   "metadata": {
    "collapsed": false
   },
   "outputs": [],
   "source": [
    "# Tag sitespec with a parcel_id\n",
    "tag(t.staging.sitespec, 'parcel_id', t.staging.parcels, 'parcel_id')"
   ]
  },
  {
   "cell_type": "code",
   "execution_count": 5,
   "metadata": {
    "collapsed": false
   },
   "outputs": [
    {
     "name": "stderr",
     "output_type": "stream",
     "text": [
      "c:\\Anaconda\\lib\\site-packages\\pandas\\io\\parsers.py:1150: DtypeWarning: Columns (34) have mixed types. Specify dtype option on import or set low_memory=False.\n",
      "  data = self._reader.read(nrows)\n",
      "c:\\Anaconda\\lib\\site-packages\\pandas\\io\\parsers.py:1150: DtypeWarning: Columns (29,141,151,187) have mixed types. Specify dtype option on import or set low_memory=False.\n",
      "  data = self._reader.read(nrows)\n"
     ]
    }
   ],
   "source": [
    "# Load csv's\n",
    "csvs = {\n",
    "    'local_effect_distances':\n",
    "    'space/local_effect_distances.csv',\n",
    "\n",
    "    'sqft_per_job_by_devtype':\n",
    "    'employment/sqftPerEmpByDevType.csv',\n",
    "\n",
    "    'sqft_per_job_by_activity_by_devtype':\n",
    "    'employment/sqftPerEmpByActivityByDevType.csv',\n",
    "\n",
    "    'jobs_lehd':\n",
    "    'employment/jobs_lehd_raw.csv',\n",
    "\n",
    "    'households':\n",
    "    'population/household.csv',\n",
    "\n",
    "    'assessor_home_transactions':\n",
    "    'price/priceDataSet.csv',\n",
    "\n",
    "    'costar2012':\n",
    "    'price/costar2012.csv',\n",
    "\n",
    "    'costar_transactions':\n",
    "    'price/costarTransactionHistory.csv',\n",
    "\n",
    "    'zoning':\n",
    "    'zoning/zoning.csv',\n",
    "\n",
    "    'zoning_allowed_uses':\n",
    "    'zoning/zoning_allowed_uses.csv',\n",
    "\n",
    "    'pecas_hh_controls':\n",
    "    'luz_controls/Pecas_HH_controls.csv',\n",
    "\n",
    "    'xref_space_type_dev_type':\n",
    "    'xref/xref_space_type_and_development_type.csv',\n",
    "\n",
    "    'pecas_price_predictions':\n",
    "    'luz_controls/pecas_PriceAndSpaceQuantity.csv',\n",
    "\n",
    "    'assessor_transactions':\n",
    "    'price/parcelTransactions.csv',\n",
    "\n",
    "    'fee_schedule':\n",
    "    'proformaInputs/fees/fee_schedule.csv',\n",
    "\n",
    "    'parcel_fee_schedule':\n",
    "    'proformaInputs/fees/parcel_fee_schedule.csv',\n",
    "\n",
    "}\n",
    "\n",
    "for tbl in csvs.iterkeys():\n",
    "    print tbl\n",
    "    csv = loader.get_path(csvs[tbl])\n",
    "    df = pd.read_csv(csv)\n",
    "    df.index.name = 'index'\n",
    "    if df.isnull().sum().sum() > 0:\n",
    "        for col in df.dtypes.iteritems():\n",
    "            col_name = col[0]\n",
    "            col_type = col[1]\n",
    "            firstval = df[col_name].loc[0]\n",
    "            if firstval in (True, False):\n",
    "                if type(firstval) == bool:\n",
    "                    df[col_name] = df[col_name].fillna(False)\n",
    "            if col_type == np.int64:\n",
    "                df[col_name] = df[col_name].fillna(0)\n",
    "            elif col_type == np.float64:\n",
    "                df[col_name] = df[col_name].fillna(0.0)\n",
    "            elif col_type == np.object:\n",
    "                df[col_name] = df[col_name].fillna(' ')\n",
    "    if 'id' in df.columns:\n",
    "        new_id_colname = tbl + '_id'\n",
    "        df = df.rename(columns = {'id':new_id_colname})\n",
    "    df_to_db(df, tbl, schema = staging)"
   ]
  },
  {
   "cell_type": "code",
   "execution_count": 9,
   "metadata": {
    "collapsed": false
   },
   "outputs": [
    {
     "name": "stderr",
     "output_type": "stream",
     "text": [
      "-c:21: SettingWithCopyWarning: \n",
      "A value is trying to be set on a copy of a slice from a DataFrame\n",
      "\n",
      "See the the caveats in the documentation: http://pandas.pydata.org/pandas-docs/stable/indexing.html#indexing-view-versus-copy\n",
      "WARNING:spandex.database:Unable to map table to class: Mapper Mapper|loading.building|building could not assemble any primary key columns for mapped table 'building'\n",
      "WARNING:spandex.database:Unable to map table to class: Mapper Mapper|loading.parcel|parcel could not assemble any primary key columns for mapped table 'parcel'\n",
      "WARNING:spandex.database:Unable to map table to class: Mapper Mapper|loading.zoning|zoning could not assemble any primary key columns for mapped table 'zoning'\n",
      "WARNING:spandex.database:Unable to map table to class: Mapper Mapper|public.parcels|parcels could not assemble any primary key columns for mapped table 'parcels'\n",
      "WARNING:spandex.database:Unable to map table to class: Mapper Mapper|public.zoning_allowed_uses|zoning_allowed_uses could not assemble any primary key columns for mapped table 'zoning_allowed_uses'\n",
      "WARNING:spandex.database:Unable to map table to class: Mapper Mapper|staging.scheduled_development|scheduled_development could not assemble any primary key columns for mapped table 'scheduled_development'\n",
      "WARNING:spandex.database:Unable to map table to class: Mapper Mapper|loading.zoning_allowed_uses|zoning_allowed_uses could not assemble any primary key columns for mapped table 'zoning_allowed_uses'\n",
      "WARNING:spandex.database:Unable to map table to class: Mapper Mapper|public.zoning|zoning could not assemble any primary key columns for mapped table 'zoning'\n"
     ]
    }
   ],
   "source": [
    "# Load excel\n",
    "\n",
    "# xls_path = loader.get_path('scheduled/scheduled_development.xlsx')\n",
    "# df_to_db(df, 'scheduled_development', schema = staging)\n",
    "\n",
    "## MarketPointe multifamily rents (some munging needed to load)\n",
    "xls_path = loader.get_path('price/marketPointe.xlsx')\n",
    "df = pd.read_excel(xls_path)\n",
    "df = df.rename(columns = {'$/Sqft':'price_per_sqft', '#Bldg':'number_of_buildings', '#Stories':'stories', 'ZipCode':'zipcode'})\n",
    "df.index.name = 'idx'\n",
    "df.stories[df.stories == '2-3'] = 3\n",
    "df.stories[df.stories == '2-4'] = 4\n",
    "df.stories[df.stories == '3-4'] = 4\n",
    "df.stories[df.stories == '1-2'] = 2\n",
    "df.stories[df.stories == '4-5'] = 5\n",
    "df.stories[df.stories == '5-6'] = 6\n",
    "df.stories[df.stories == 40942] = 1\n",
    "df.stories[df.stories == 40910] = 1\n",
    "df.stories[df.stories == 40943] = 1\n",
    "df.stories = df.stories.fillna(1).astype('int32')\n",
    "df.zipcode[df.zipcode == '92069-1615'] = 92069\n",
    "df.zipcode = df.zipcode.astype('int32')\n",
    "df_to_db(df, 'marketpointe', schema = staging)\n"
   ]
  }
 ],
 "metadata": {
  "kernelspec": {
   "display_name": "Python 2",
   "language": "python",
   "name": "python2"
  },
  "language_info": {
   "codemirror_mode": {
    "name": "ipython",
    "version": 2
   },
   "file_extension": ".py",
   "mimetype": "text/x-python",
   "name": "python",
   "nbconvert_exporter": "python",
   "pygments_lexer": "ipython2",
   "version": "2.7.9"
  }
 },
 "nbformat": 4,
 "nbformat_minor": 0
}
