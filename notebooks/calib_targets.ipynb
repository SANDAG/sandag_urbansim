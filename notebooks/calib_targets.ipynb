{
 "cells": [
  {
   "cell_type": "code",
   "execution_count": 1,
   "metadata": {
    "collapsed": false
   },
   "outputs": [],
   "source": [
    "%load_ext autoreload\n",
    "%autoreload 2\n",
    "import pandas as pd, numpy as np\n",
    "if 'sim' not in globals():\n",
    "    import os; os.chdir('..')\n",
    "import models\n",
    "import urbansim.sim.simulation as sim\n",
    "from spandex import TableLoader\n",
    "\n",
    "loader = TableLoader()"
   ]
  },
  {
   "cell_type": "code",
   "execution_count": 31,
   "metadata": {
    "collapsed": false
   },
   "outputs": [
    {
     "name": "stdout",
     "output_type": "stream",
     "text": [
      "msa_id\n",
      "0         0.068475\n",
      "1         0.268959\n",
      "2         0.209235\n",
      "3         0.046141\n",
      "4         0.222778\n",
      "5         0.184189\n",
      "6         0.000223\n",
      "Name: non_residential_sqft, dtype: float64\n"
     ]
    }
   ],
   "source": [
    "#Nonres\n",
    "b = sim.get_table('buildings')\n",
    "msa_id = b.msa_id\n",
    "b = b.to_frame(b.local_columns)\n",
    "b['msa_id'] = msa_id\n",
    "new_nrsf_msa = b[(b.year_built > 2005) & (b.development_type_id.isin([2,3,4,5]))].groupby('msa_id').non_residential_sqft.sum()\n",
    "nonres_targets = new_nrsf_msa/new_nrsf_msa.sum()\n",
    "print nonres_targets"
   ]
  },
  {
   "cell_type": "code",
   "execution_count": 56,
   "metadata": {
    "collapsed": false
   },
   "outputs": [
    {
     "name": "stdout",
     "output_type": "stream",
     "text": [
      "0.01\n"
     ]
    }
   ],
   "source": [
    "#RES LUZ target\n",
    "p = sim.get_table('parcels')\n",
    "p = p.to_frame(columns=['luz_id', 'mgra_id', 'msa_id'])\n",
    "target_mgras = np.unique(p[p.luz_id.isin([69, 70, 72])].mgra_id)\n",
    "res_estimates = pd.read_csv(loader.get_path('calibration_data/estimates_du_by_yr_2004_to_2010.csv'))\n",
    "res_estimates['du'] = res_estimates.hs_sf + res_estimates.hs_sfmu + res_estimates.hs_mf\n",
    "res_estimates = res_estimates.query('year in [2004, 2010]')\n",
    "region_units = res_estimates.groupby('year').du.sum()\n",
    "res_estimates = res_estimates[res_estimates.mgra.isin(target_mgras)]\n",
    "target_units = res_estimates.groupby('year').du.sum()\n",
    "target_diff = target_units.loc[2010] - target_units.loc[2004]\n",
    "region_diff = region_units.loc[2010] - region_units.loc[2004]\n",
    "target_proportion = target_diff*1.0/region_diff\n",
    "target_proportion = np.round(target_proportion, decimals = 2)\n",
    "print target_proportion"
   ]
  },
  {
   "cell_type": "code",
   "execution_count": null,
   "metadata": {
    "collapsed": true
   },
   "outputs": [],
   "source": [
    "#Validation\n",
    "p = sim.get_table('parcels')\n",
    "p = p.to_frame(columns=['luz_id', 'mgra_id', 'msa_id'])\n",
    "target_mgras = np.unique(p[p.luz_id.isin([69, 70, 72])].mgra_id)\n",
    "res_estimates = pd.read_csv(loader.get_path('calibration_data/estimates_du_by_yr_2004_to_2010.csv'))\n",
    "res_estimates['du'] = res_estimates.hs_sf + res_estimates.hs_sfmu + res_estimates.hs_mf\n",
    "res_estimates = res_estimates.query('year in [2004, 2010]')\n",
    "region_units = res_estimates.groupby('year').du.sum()\n",
    "res_estimates = res_estimates[res_estimates.mgra.isin(target_mgras)]\n",
    "target_units = res_estimates.groupby('year').du.sum()\n",
    "target_diff = target_units.loc[2010] - target_units.loc[2004]\n",
    "region_diff = region_units.loc[2010] - region_units.loc[2004]\n",
    "target_proportion = target_diff*1.0/region_diff\n",
    "target_proportion = np.round(target_proportion, decimals = 2)\n",
    "print target_proportion"
   ]
  },
  {
   "cell_type": "code",
   "execution_count": 24,
   "metadata": {
    "collapsed": false
   },
   "outputs": [],
   "source": [
    "#Residential validation target\n",
    "p = sim.get_table('parcels')\n",
    "p = p.to_frame(columns=['luz_id', 'mgra_id', 'msa_id'])\n",
    "res_estimates = pd.read_csv(loader.get_path('calibration_data/estimates_residential_units_households.csv'))\n",
    "mgra_msa_xref = p.groupby(['mgra_id', 'msa_id']).size().reset_index()\n",
    "res_estimates10 = res_estimates[res_estimates.estimates_year == 2010]\n",
    "res_estimates14 = res_estimates[res_estimates.estimates_year == 2014]\n",
    "merged10 = pd.merge(res_estimates10, mgra_msa_xref, left_on = 'mgra', right_on = 'mgra_id')\n",
    "merged14 = pd.merge(res_estimates14, mgra_msa_xref, left_on = 'mgra', right_on = 'mgra_id')\n",
    "du_msa_2010 = merged10.groupby('msa_id').Total_residential_units.sum()\n",
    "du_msa_2014 = merged14.groupby('msa_id').Total_residential_units.sum()\n",
    "diffs = du_msa_2014 - du_msa_2010\n",
    "proportion_growth_captured = diffs/diffs.sum()"
   ]
  },
  {
   "cell_type": "code",
   "execution_count": 27,
   "metadata": {
    "collapsed": false
   },
   "outputs": [
    {
     "name": "stdout",
     "output_type": "stream",
     "text": [
      "msa_id\n",
      "0         0.343273\n",
      "1         0.115041\n",
      "2         0.030555\n",
      "3         0.020157\n",
      "4         0.199530\n",
      "5         0.291049\n",
      "6         0.000394\n",
      "Name: non_residential_sqft, dtype: float64\n"
     ]
    }
   ],
   "source": [
    "#Nonres validation\n",
    "\n",
    "b = sim.get_table('buildings')\n",
    "msa_id = b.msa_id\n",
    "b = b.to_frame(b.local_columns)\n",
    "b['msa_id'] = msa_id\n",
    "new_nrsf_msa = b[(b.year_built > 2009) & (b.development_type_id.isin([2,3,4,5]))].groupby('msa_id').non_residential_sqft.sum()\n",
    "nonres_validation = new_nrsf_msa/new_nrsf_msa.sum()\n",
    "print nonres_validation"
   ]
  }
 ],
 "metadata": {
  "kernelspec": {
   "display_name": "Python 2",
   "language": "python",
   "name": "python2"
  },
  "language_info": {
   "codemirror_mode": {
    "name": "ipython",
    "version": 2
   },
   "file_extension": ".py",
   "mimetype": "text/x-python",
   "name": "python",
   "nbconvert_exporter": "python",
   "pygments_lexer": "ipython2",
   "version": "2.7.9"
  }
 },
 "nbformat": 4,
 "nbformat_minor": 0
}
