{
 "metadata": {
  "name": "",
  "signature": "sha256:5c244dc05476e5122a5db5ade5727d9ced679d37953e85ac29f4ca4cc9da6294"
 },
 "nbformat": 3,
 "nbformat_minor": 0,
 "worksheets": [
  {
   "cells": [
    {
     "cell_type": "code",
     "collapsed": false,
     "input": [
      "import pandas as pd, numpy as np\n",
      "from urbansim.models import transition\n",
      "from urbansim.utils import networks\n",
      "from urbansim_defaults import utils"
     ],
     "language": "python",
     "metadata": {},
     "outputs": [],
     "prompt_number": 1
    },
    {
     "cell_type": "heading",
     "level": 4,
     "metadata": {},
     "source": [
      "Import the simulation framework"
     ]
    },
    {
     "cell_type": "code",
     "collapsed": false,
     "input": [
      "import urbansim.sim.simulation as sim"
     ],
     "language": "python",
     "metadata": {},
     "outputs": [],
     "prompt_number": 2
    },
    {
     "cell_type": "heading",
     "level": 4,
     "metadata": {},
     "source": [
      "Connect to data store, register it as an injectable"
     ]
    },
    {
     "cell_type": "code",
     "collapsed": false,
     "input": [
      "hdfstore = pd.HDFStore('../data/sandag.h5', mode=\"r\")\n",
      "sim.add_injectable(\"store\", hdfstore)"
     ],
     "language": "python",
     "metadata": {},
     "outputs": [],
     "prompt_number": 3
    },
    {
     "cell_type": "heading",
     "level": 4,
     "metadata": {},
     "source": [
      "Register data tables that will be used in the simulation"
     ]
    },
    {
     "cell_type": "code",
     "collapsed": false,
     "input": [
      "@sim.table('jobs', cache=True)\n",
      "def jobs(store):\n",
      "    df = store['jobs']\n",
      "    return df\n",
      "\n",
      "@sim.table('buildings', cache=True)\n",
      "def buildings(store):\n",
      "    df = store['buildings']\n",
      "    return df\n",
      "\n",
      "@sim.table('parcels', cache=True)\n",
      "def parcels(store):\n",
      "    df = store['parcels']\n",
      "    return df"
     ],
     "language": "python",
     "metadata": {},
     "outputs": [],
     "prompt_number": 4
    },
    {
     "cell_type": "heading",
     "level": 4,
     "metadata": {},
     "source": [
      "Register your models"
     ]
    },
    {
     "cell_type": "code",
     "collapsed": false,
     "input": [
      "@sim.model('simple_jobs_transition')\n",
      "def jobs_transition(jobs):\n",
      "    rate = .02\n",
      "    return utils.simple_transition(jobs, rate, \"building_id\")\n",
      "    \n",
      "@sim.model('print_year')\n",
      "def print_year(year):\n",
      "    print '*** the year is {} ***'.format(year)"
     ],
     "language": "python",
     "metadata": {},
     "outputs": [],
     "prompt_number": 5
    },
    {
     "cell_type": "heading",
     "level": 4,
     "metadata": {},
     "source": [
      "A demonstration of running the above models"
     ]
    },
    {
     "cell_type": "code",
     "collapsed": false,
     "input": [
      "print len(sim.get_table('jobs'))\n",
      "sim.run([\"print_year\", \"simple_jobs_transition\"], years=range(2012, 2016))\n",
      "print len(sim.get_table('jobs'))"
     ],
     "language": "python",
     "metadata": {},
     "outputs": [
      {
       "output_type": "stream",
       "stream": "stdout",
       "text": [
        "1249215\n",
        "Running year 2012\n",
        "Running model 'print_year'\n",
        "*** the year is 2012 ***\n",
        "Time to execute model 'print_year': 0.00s\n",
        "Running model 'simple_jobs_transition'\n",
        "1249215 agents before transition\n",
        "1274199 agents after transition"
       ]
      },
      {
       "output_type": "stream",
       "stream": "stdout",
       "text": [
        "\n",
        "Time to execute model 'simple_jobs_transition': 0.39s"
       ]
      },
      {
       "output_type": "stream",
       "stream": "stdout",
       "text": [
        "\n",
        "Total time to execute year 2012: 0.39s\n",
        "Running year 2013\n",
        "Running model 'print_year'\n",
        "*** the year is 2013 ***\n",
        "Time to execute model 'print_year': 0.00s\n",
        "Running model 'simple_jobs_transition'\n",
        "1274199 agents before transition\n",
        "1299683 agents after transition"
       ]
      },
      {
       "output_type": "stream",
       "stream": "stdout",
       "text": [
        "\n",
        "Time to execute model 'simple_jobs_transition': 0.34s"
       ]
      },
      {
       "output_type": "stream",
       "stream": "stdout",
       "text": [
        "\n",
        "Total time to execute year 2013: 0.35s\n",
        "Running year 2014\n",
        "Running model 'print_year'\n",
        "*** the year is 2014 ***\n",
        "Time to execute model 'print_year': 0.00s\n",
        "Running model 'simple_jobs_transition'\n",
        "1299683 agents before transition\n",
        "1325677 agents after transition"
       ]
      },
      {
       "output_type": "stream",
       "stream": "stdout",
       "text": [
        "\n",
        "Time to execute model 'simple_jobs_transition': 0.36s"
       ]
      },
      {
       "output_type": "stream",
       "stream": "stdout",
       "text": [
        "\n",
        "Total time to execute year 2014: 0.36s\n",
        "Running year 2015\n",
        "Running model 'print_year'\n",
        "*** the year is 2015 ***\n",
        "Time to execute model 'print_year': 0.00s\n",
        "Running model 'simple_jobs_transition'\n",
        "1325677 agents before transition\n",
        "1352191 agents after transition"
       ]
      },
      {
       "output_type": "stream",
       "stream": "stdout",
       "text": [
        "\n",
        "Time to execute model 'simple_jobs_transition': 0.38s"
       ]
      },
      {
       "output_type": "stream",
       "stream": "stdout",
       "text": [
        "\n",
        "Total time to execute year 2015: 0.38s\n",
        "1352191\n"
       ]
      }
     ],
     "prompt_number": 6
    }
   ],
   "metadata": {}
  }
 ]
}