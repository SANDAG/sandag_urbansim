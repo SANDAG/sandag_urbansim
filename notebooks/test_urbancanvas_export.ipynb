{
 "cells": [
  {
   "cell_type": "code",
   "execution_count": 1,
   "metadata": {
    "collapsed": true
   },
   "outputs": [],
   "source": [
    "%load_ext autoreload\n",
    "%autoreload 2\n",
    "import pandas as pd, numpy as np\n",
    "if 'sim' not in globals():\n",
    "    import os; os.chdir('..')\n",
    "import models\n",
    "import urbansim.sim.simulation as sim"
   ]
  },
  {
   "cell_type": "code",
   "execution_count": 2,
   "metadata": {
    "collapsed": false,
    "scrolled": true
   },
   "outputs": [
    {
     "name": "stdout",
     "output_type": "stream",
     "text": [
      "Running model 'build_networks'\n",
      "Time to execute model 'build_networks': 13.94s\n",
      "Total time to execute: 13.94s\n",
      "Running year 2013\n",
      "Running model 'scheduled_development_events'\n",
      "Time to execute model 'scheduled_development_events': 0.73s\n",
      "Running model 'neighborhood_vars'\n",
      "Computing accessibility variables\n",
      "Computing ave_parcel_size\n",
      "Computing mean_nonres_rent_2000m\n",
      "Computing jobs_1500m\n",
      "Computing jobs_800m\n",
      "Computing jobs_400m\n",
      "Computing jobs1\n",
      "Computing jobs2\n",
      "Computing jobs3\n",
      "Computing jobs4\n",
      "Computing jobs5\n",
      "Computing jobs6\n",
      "Computing jobs7\n",
      "Computing jobs8\n",
      "Computing jobs9\n",
      "Computing jobs10\n",
      "Computing jobs11\n",
      "Computing jobs12\n",
      "Computing jobs13\n",
      "Computing jobs14\n",
      "Computing jobs15\n",
      "Computing jobs16\n",
      "Computing jobs17\n",
      "Computing jobs18\n",
      "Computing jobs19\n",
      "Computing jobs20\n",
      "Computing ave_income\n",
      "Computing ave_age_of_head_1500m\n",
      "Computing ave_children_1500m\n",
      "Computing ave_year_built_1500m\n",
      "Computing population_400m\n",
      "Computing job_spaces_3000m\n",
      "Computing jobs_3000m\n",
      "Computing households_3000m\n",
      "Computing residential_units_3000m\n",
      "Computing residential_units_1500m\n",
      "Computing residential_units_800m\n",
      "       ave_parcel_size  mean_nonres_rent_2000m     jobs_1500m      jobs_800m  \\\n",
      "count    104108.000000                  104108  104108.000000  104108.000000   \n",
      "mean          0.812004                       0       3.492774       2.173507   \n",
      "std           1.073335                       0       2.653531       2.296657   \n",
      "min           0.000000                       0       0.000000       0.000000   \n",
      "25%           0.243773                       0       0.179584       0.000000   \n",
      "50%           0.382722                       0       3.888007       1.494619   \n",
      "75%           0.907693                       0       5.787810       4.144914   \n",
      "max          10.828184                       0       9.723188       9.018867   \n",
      "\n",
      "           jobs_400m          jobs1          jobs2          jobs3  \\\n",
      "count  104108.000000  104108.000000  104108.000000  104108.000000   \n",
      "mean        1.207839       0.127696       0.021390       0.119132   \n",
      "std         1.844213       0.458498       0.188960       0.511464   \n",
      "min         0.000000       0.000000       0.000000       0.000000   \n",
      "25%         0.000000       0.000000       0.000000       0.000000   \n",
      "50%         0.000000       0.000000       0.000000       0.000000   \n",
      "75%         2.197225       0.000000       0.000000       0.000000   \n",
      "max         8.375271       5.529228       3.828641       6.817220   \n",
      "\n",
      "               jobs4          jobs5           ...            \\\n",
      "count  104108.000000  104108.000000           ...             \n",
      "mean        0.905861       0.719996           ...             \n",
      "std         1.307226       1.335572           ...             \n",
      "min         0.000000       0.000000           ...             \n",
      "25%         0.000000       0.000000           ...             \n",
      "50%         0.014723       0.000000           ...             \n",
      "75%         1.557015       0.852415           ...             \n",
      "max         6.585744       7.859040           ...             \n",
      "\n",
      "       ave_age_of_head_1500m  ave_children_1500m  ave_year_built_1500m  \\\n",
      "count          104108.000000       104108.000000         104108.000000   \n",
      "mean                3.371661            0.513799              6.622486   \n",
      "std                 1.380358            0.339139              2.530437   \n",
      "min                 0.000000            0.000000              0.000000   \n",
      "25%                 3.834903            0.290222              7.581806   \n",
      "50%                 3.912459            0.518519              7.587930   \n",
      "75%                 3.978898            0.736181              7.593663   \n",
      "max                 4.543295            5.000000              7.607381   \n",
      "\n",
      "       population_400m  job_spaces_3000m     jobs_3000m  households_3000m  \\\n",
      "count    104108.000000     104108.000000  104108.000000     104108.000000   \n",
      "mean          4.205921      32510.155752    4234.540717       6049.247560   \n",
      "std           2.555071      85435.036448    6462.422940       6467.429824   \n",
      "min           0.000000          0.000000       0.000000          0.000000   \n",
      "25%           2.197225        413.000000      83.000000        439.000000   \n",
      "50%           5.231109       7196.000000    1989.500000       4792.000000   \n",
      "75%           6.177944      21017.500000    5714.000000       8790.250000   \n",
      "max           9.304195     962578.000000   54635.000000      44242.000000   \n",
      "\n",
      "       residential_units_3000m  residential_units_1500m  \\\n",
      "count            104108.000000            104108.000000   \n",
      "mean               6751.593941              1728.922897   \n",
      "std                7191.477913              2254.684184   \n",
      "min                   0.000000                 0.000000   \n",
      "25%                 523.000000               111.000000   \n",
      "50%                5305.000000              1096.000000   \n",
      "75%                9995.250000              2428.000000   \n",
      "max               48219.000000             19885.000000   \n",
      "\n",
      "       residential_units_800m  \n",
      "count           104108.000000  \n",
      "mean               511.657903  \n",
      "std                744.564292  \n",
      "min                  0.000000  \n",
      "25%                 25.000000  \n",
      "50%                286.000000  \n",
      "75%                694.000000  \n",
      "max               9381.000000  \n",
      "\n",
      "[8 rows x 36 columns]\n",
      "Time to execute model 'neighborhood_vars': 29.34s\n",
      "Running model 'rsh_simulate'\n",
      ".\\configs\\rsh.yaml\n",
      "count    632390.000000\n",
      "mean        252.608541\n",
      "std         118.980272\n",
      "min           1.127722\n",
      "25%         187.784687\n",
      "50%         247.334747\n",
      "75%         305.079367\n",
      "max        1369.508669\n",
      "dtype: float64\n",
      "Time to execute model 'rsh_simulate': 7.06s\n",
      "Running model 'nrh_simulate'\n",
      ".\\configs\\nrh.yaml\n",
      "count    27077.000000\n",
      "mean        19.282328\n",
      "std          4.949567\n",
      "min          0.383222\n",
      "25%         15.610622\n",
      "50%         19.575907\n",
      "75%         22.572310\n",
      "max         62.959567\n",
      "dtype: float64\n",
      "Time to execute model 'nrh_simulate': 4.74s\n",
      "Running model 'nrh_simulate2'\n",
      ".\\configs\\nrh2.yaml\n",
      "count    75064.000000\n",
      "mean        18.078723\n",
      "std          5.706591\n",
      "min          0.332857\n",
      "25%         15.621730\n",
      "50%         18.029909\n",
      "75%         20.433057\n",
      "max        169.918912\n",
      "dtype: float64\n",
      "Time to execute model 'nrh_simulate2': 3.60s\n",
      "Running model 'price_vars'\n",
      "Computing accessibility variables\n",
      "Computing residential\n",
      "Computing retail\n",
      "Computing office\n",
      "Computing industrial\n",
      "Computing ave_sqft_per_unit\n",
      "         residential         retail         office     industrial  \\\n",
      "count  104108.000000  104108.000000  104108.000000  104108.000000   \n",
      "mean      208.918080      14.343926      10.962225       6.535119   \n",
      "std       113.895498      10.205741      11.024502       7.048303   \n",
      "min         0.000000       0.000000       0.000000       0.000000   \n",
      "25%       161.355179       0.000000       0.000000       0.000000   \n",
      "50%       226.403992      19.033251      16.204380       0.000000   \n",
      "75%       273.042847      21.432762      21.180105      13.074202   \n",
      "max       828.906860      57.811729      62.782143      27.781328   \n",
      "\n",
      "       ave_sqft_per_unit  \n",
      "count      104108.000000  \n",
      "mean         4318.577809  \n",
      "std         16165.884108  \n",
      "min             0.000000  \n",
      "25%          1249.044861  \n",
      "50%          1680.645813  \n",
      "75%          2357.531067  \n",
      "max        320270.531250  \n",
      "Time to execute model 'price_vars': 5.72s\n",
      "Running model 'feasibility'\n",
      "sf_detached\n",
      "Describe of the yearly rent by use\n",
      "count    812735.000000\n",
      "mean         11.125623\n",
      "std           8.652658\n",
      "min           0.500000\n",
      "25%           3.527140\n",
      "50%           6.624714\n",
      "75%          18.330140\n",
      "max          44.431793\n",
      "Name: residential, dtype: float64\n",
      "Residential unit target for sf_detached is 647.\n",
      "sf_detached\n",
      "Sum of net units that are profitable: 11,633\n",
      "Feasibility given current prices/zonining indicates 877.0 profitable units and target of 647\n",
      "8775\n",
      "sf_attached\n",
      "Describe of the yearly rent by use\n",
      "count    812735.000000\n",
      "mean         11.125623\n",
      "std           8.652658\n",
      "min           0.500000\n",
      "25%           3.527140\n",
      "50%           6.624714\n",
      "75%          18.330140\n",
      "max          44.431793\n",
      "Name: residential, dtype: float64\n",
      "Residential unit target for sf_attached is 17735.\n",
      "sf_attached\n",
      "Sum of net units that are profitable: 10,841\n",
      "WARNING THERE WERE NOT ENOUGH PROFITABLE UNITS TO MATCH DEMAND\n",
      "Feasibility given current prices/zonining indicates 12159.0 profitable units and target of 17735\n",
      "Scaling prices up by factor of 1.1\n",
      "Residential unit target for sf_attached is 17735.\n",
      "sf_attached\n",
      "Sum of net units that are profitable: 11,744\n",
      "WARNING THERE WERE NOT ENOUGH PROFITABLE UNITS TO MATCH DEMAND\n",
      "Feasibility given current prices/zonining indicates 13392.0 profitable units and target of 17735\n",
      "Scaling prices up by factor of 1.2\n",
      "Residential unit target for sf_attached is 17735.\n",
      "sf_attached\n",
      "Sum of net units that are profitable: 13,939\n",
      "WARNING THERE WERE NOT ENOUGH PROFITABLE UNITS TO MATCH DEMAND\n",
      "Feasibility given current prices/zonining indicates 16441.0 profitable units and target of 17735\n",
      "Scaling prices up by factor of 1.3\n",
      "Residential unit target for sf_attached is 17735.\n",
      "sf_attached\n",
      "Sum of net units that are profitable: 15,965\n",
      "WARNING THERE WERE NOT ENOUGH PROFITABLE UNITS TO MATCH DEMAND\n",
      "Feasibility given current prices/zonining indicates 19330.0 profitable units and target of 17735\n",
      "36433\n",
      "mf_residential\n",
      "Describe of the yearly rent by use\n",
      "count    812735.000000\n",
      "mean         10.814950\n",
      "std           8.421182\n",
      "min           0.500000\n",
      "25%           3.436880\n",
      "50%           6.463810\n",
      "75%          17.794458\n",
      "max          44.171643\n",
      "Name: residential, dtype: float64\n",
      "Residential unit target for mf_residential is 27624.\n",
      "mf_residential\n",
      "Sum of net units that are profitable: 10,539\n",
      "WARNING THERE WERE NOT ENOUGH PROFITABLE UNITS TO MATCH DEMAND\n",
      "Feasibility given current prices/zonining indicates 12062.0 profitable units and target of 27624\n",
      "Scaling prices up by factor of 1.1\n",
      "Residential unit target for mf_residential is 27624.\n",
      "mf_residential\n",
      "Sum of net units that are profitable: 11,300\n",
      "WARNING THERE WERE NOT ENOUGH PROFITABLE UNITS TO MATCH DEMAND\n",
      "Feasibility given current prices/zonining indicates 13116.0 profitable units and target of 27624\n",
      "Scaling prices up by factor of 1.2\n",
      "Residential unit target for mf_residential is 27624.\n",
      "mf_residential\n",
      "Sum of net units that are profitable: 13,432\n",
      "WARNING THERE WERE NOT ENOUGH PROFITABLE UNITS TO MATCH DEMAND\n",
      "Feasibility given current prices/zonining indicates 16097.0 profitable units and target of 27624\n",
      "Scaling prices up by factor of 1.3\n",
      "Residential unit target for mf_residential is 27624.\n",
      "mf_residential\n",
      "Sum of net units that are profitable: 15,494\n",
      "WARNING THERE WERE NOT ENOUGH PROFITABLE UNITS TO MATCH DEMAND\n",
      "Feasibility given current prices/zonining indicates 19119.0 profitable units and target of 27624\n",
      "Scaling prices up by factor of 1.4\n",
      "Residential unit target for mf_residential is 27624.\n",
      "mf_residential\n",
      "Sum of net units that are profitable: 47,711\n",
      "Feasibility given current prices/zonining indicates 30345.0 profitable units and target of 27624\n",
      "53657\n",
      "office\n",
      "Describe of the yearly rent by use\n",
      "count    812735.000000\n",
      "mean         13.134365\n",
      "std          14.700068\n",
      "min           0.500000\n",
      "25%           0.500000\n",
      "50%           9.458410\n",
      "75%          19.289741\n",
      "max          87.528010\n",
      "Name: office, dtype: float64\n",
      "Feasibility given current prices/zonining indicates 171027 profitable units and target of 5244.38581\n",
      "9528\n",
      "retail\n",
      "Describe of the yearly rent by use\n",
      "count    812735.000000\n",
      "mean         17.456599\n",
      "std          15.290481\n",
      "min           0.500000\n",
      "25%           8.695586\n",
      "50%          11.242786\n",
      "75%          23.466771\n",
      "max          65.175848\n",
      "Name: retail, dtype: float64\n",
      "Feasibility given current prices/zonining indicates 531892 profitable units and target of 99744.5125\n",
      "27830\n",
      "light_industrial\n",
      "Describe of the yearly rent by use\n",
      "count    812735.000000\n",
      "mean          8.465866\n",
      "std          10.220103\n",
      "min           0.500000\n",
      "25%           0.500000\n",
      "50%           6.045698\n",
      "75%          10.111712\n",
      "max          51.585011\n",
      "Name: industrial, dtype: float64\n",
      "Feasibility given current prices/zonining indicates 70154 profitable units and target of -156197.23065\n",
      "8443\n",
      "heavy_industrial\n",
      "Describe of the yearly rent by use\n",
      "count    812735.000000\n",
      "mean          8.465866\n",
      "std          10.220103\n",
      "min           0.500000\n",
      "25%           0.500000\n",
      "50%           6.045698\n",
      "75%          10.111712\n",
      "max          51.585011\n",
      "Name: industrial, dtype: float64\n",
      "Feasibility given current prices/zonining indicates 0 profitable units and target of -29036.5317706\n",
      "773553\n",
      "Time to execute model 'feasibility': 79.19s\n",
      "Running model 'residential_developer'\n",
      "774,094 feasible buildings before running developer\n",
      "Running Developer for uncontrolled LUZs\n",
      "Residential unit target for mf_residential is 27624.\n",
      "mf_residential\n",
      "Sum of net units that are profitable: 154,695\n",
      "Constructed 1249 mf_residential buildings, totaling 29963.0 new residential_units\n",
      "Overshot target by 2339.0 units\n",
      "Biggest development has 990.0 units\n",
      "Removing 1081.0 units to match target\n",
      "Unplaced households before: 0\n",
      "Unplaced households after: 1958\n",
      "Unplaced jobs before: 0\n",
      "Unplaced jobs after: 1589\n",
      "Residential unit target for sf_attached is 17735.\n",
      "sf_attached\n",
      "Sum of net units that are profitable: 37,779\n",
      "Constructed 3968 sf_attached buildings, totaling 19538.0 new residential_units\n",
      "Overshot target by 1803.0 units\n",
      "Biggest development has 273.0 units\n",
      "Removing 1804.0 units to match target\n",
      "Unplaced households before: 1958\n",
      "Unplaced households after: 3174\n",
      "Unplaced jobs before: 1589\n",
      "Unplaced jobs after: 2930\n",
      "Residential unit target for sf_detached is 647.\n",
      "sf_detached\n",
      "Sum of net units that are profitable: 1,411\n",
      "Constructed 271 sf_detached buildings, totaling 718.0 new residential_units\n",
      "Overshot target by 71.0 units\n",
      "Biggest development has 49.0 units\n",
      "Removing 71.0 units to match target\n",
      "Unplaced households before: 3174\n",
      "Unplaced households after: 3240\n",
      "Unplaced jobs before: 2930"
     ]
    },
    {
     "name": "stderr",
     "output_type": "stream",
     "text": [
      "c:\\Anaconda\\lib\\site-packages\\pandas\\util\\decorators.py:81: FutureWarning: the 'cols' keyword is deprecated, use 'subset' instead\n",
      "  warnings.warn(msg, FutureWarning)\n",
      "c:\\Anaconda\\lib\\site-packages\\pandas\\computation\\expressions.py:190: UserWarning: evaluating in Python space because the '*' operator is not supported by numexpr for the bool dtype, use '&' instead\n",
      "  unsupported[op_str]))\n"
     ]
    },
    {
     "name": "stdout",
     "output_type": "stream",
     "text": [
      "\n",
      "Unplaced jobs after: 2934\n",
      "Simulated DU: 47263.0\n",
      "Target DU: 46006\n",
      "Time to execute model 'residential_developer': 7.45s\n",
      "Running model 'non_residential_developer'\n",
      "768,606 feasible buildings before running developer\n",
      "Job space target for heavy_industrial is -29036.5317706.\n",
      "Job space target for light_industrial is -155958.16065.\n",
      "Job space target for retail is 103824.295.\n",
      "Sum of net units that are profitable: 401,264\n",
      "Constructed 3706 retail buildings, totaling 105957.307715 new job spaces.\n",
      "Unplaced households before: 3240\n",
      "Unplaced households after: 8998\n",
      "Unplaced jobs before: 2934\n",
      "Unplaced jobs after: 3800\n",
      "Job space target for office is 5387.16581.\n",
      "Sum of net units that are profitable: 69,399\n",
      "Constructed 287 office buildings, totaling 5478.59147096 new job spaces.\n",
      "Unplaced households before: 8998\n",
      "Unplaced households after: 9422\n",
      "Unplaced jobs before: 3800\n",
      "Unplaced jobs after: 3846\n",
      "Time to execute model 'non_residential_developer': 5.29s\n",
      "Running model 'buildings_to_uc'\n",
      "Exporting 7618 buildings to Urbancanvas database for project {12} and year 2013.\n",
      "Time to execute model 'buildings_to_uc': 11.44s\n",
      "Total time to execute year 2013: 154.59s\n"
     ]
    },
    {
     "name": "stderr",
     "output_type": "stream",
     "text": [
      "c:\\Anaconda\\lib\\site-packages\\pandas\\io\\sql.py:1511: FutureWarning: read_frame is deprecated, use read_sql\n",
      "  warnings.warn(\"read_frame is deprecated, use read_sql\", FutureWarning)\n"
     ]
    }
   ],
   "source": [
    "sim.run([\"build_networks\"]) #initialize network accessibility engine\n",
    "sim.run([\"scheduled_development_events\", \"neighborhood_vars\", #scheduled events and accessibility variables\n",
    "         \"rsh_simulate\", \"nrh_simulate\", \"nrh_simulate2\",   #price models\n",
    "         \"price_vars\", \"feasibility\", \"residential_developer\", \"non_residential_developer\", #supply/proforma models\n",
    "         \"buildings_to_uc\"\n",
    "         ], years=[2013,])"
   ]
  },
  {
   "cell_type": "code",
   "execution_count": 34,
   "metadata": {
    "collapsed": true
   },
   "outputs": [],
   "source": [
    "import psycopg2\n",
    "import pandas.io.sql as sql\n",
    "import cStringIO"
   ]
  },
  {
   "cell_type": "code",
   "execution_count": 3,
   "metadata": {
    "collapsed": true
   },
   "outputs": [],
   "source": [
    "buildings = sim.get_table('buildings')\n",
    "b = buildings.to_frame(buildings.local_columns)\n",
    "year = sim.get_injectable('year')\n",
    "\n",
    "new_buildings =  b[(b.note=='simulated') | (b.note.str.startswith('Sitespec'))]\n",
    "new_buildings = new_buildings[new_buildings.year_built == year]"
   ]
  },
  {
   "cell_type": "code",
   "execution_count": 9,
   "metadata": {
    "collapsed": false
   },
   "outputs": [
    {
     "data": {
      "text/plain": [
       "count    134.000000\n",
       "mean       3.186567\n",
       "std        0.564194\n",
       "min        3.000000\n",
       "25%        3.000000\n",
       "50%        3.000000\n",
       "75%        3.000000\n",
       "max        5.000000\n",
       "Name: stories, dtype: float64"
      ]
     },
     "execution_count": 9,
     "metadata": {},
     "output_type": "execute_result"
    }
   ],
   "source": [
    "new_buildings[new_buildings.stories>2].stories.describe()"
   ]
  },
  {
   "cell_type": "code",
   "execution_count": 10,
   "metadata": {
    "collapsed": false
   },
   "outputs": [
    {
     "data": {
      "text/plain": [
       "Index([u'parcel_id', u'development_type_id', u'improvement_value', u'residential_units', u'non_residential_sqft', u'stories', u'year_built', u'residential_sqft', u'note', u'res_price_per_sqft', u'nonres_rent_per_sqft'], dtype='object')"
      ]
     },
     "execution_count": 10,
     "metadata": {},
     "output_type": "execute_result"
    }
   ],
   "source": [
    "new_buildings.columns"
   ]
  },
  {
   "cell_type": "code",
   "execution_count": 20,
   "metadata": {
    "collapsed": true
   },
   "outputs": [],
   "source": [
    "new_buildings = new_buildings.reset_index()\n",
    "new_buildings = new_buildings.rename(columns = {'development_type_id':'building_type_id'})\n",
    "new_buildings['building_sqft'] = new_buildings.residential_sqft + new_buildings.non_residential_sqft\n",
    "new_buildings['sqft_per_unit'] =  new_buildings.residential_sqft/new_buildings.residential_units"
   ]
  },
  {
   "cell_type": "code",
   "execution_count": 22,
   "metadata": {
    "collapsed": false
   },
   "outputs": [],
   "source": [
    "del new_buildings['res_price_per_sqft']\n",
    "del new_buildings['nonres_rent_per_sqft']"
   ]
  },
  {
   "cell_type": "code",
   "execution_count": 25,
   "metadata": {
    "collapsed": true
   },
   "outputs": [],
   "source": [
    "# Urban Canvas database connection\n",
    "if 'uc_conn' not in sim._INJECTABLES.keys():\n",
    "    conn_string = \"host='urbancanvas.cp2xwchuariu.us-west-2.rds.amazonaws.com' dbname='sandag_testing' user='sandag' password='parcel22building' port=5432\"\n",
    "    conn=psycopg2.connect(conn_string)\n",
    "    cur = conn.cursor()\n",
    "    \n",
    "    sim.add_injectable('uc_conn', conn)\n",
    "    sim.add_injectable('uc_cur', cur)\n",
    "    \n",
    "else:\n",
    "    conn = sim.get_injectable('uc_conn')\n",
    "    cur = sim.get_injectable('uc_cur')\n",
    "    "
   ]
  },
  {
   "cell_type": "code",
   "execution_count": 26,
   "metadata": {
    "collapsed": false
   },
   "outputs": [
    {
     "name": "stderr",
     "output_type": "stream",
     "text": [
      "c:\\Anaconda\\lib\\site-packages\\pandas\\io\\sql.py:1511: FutureWarning: read_frame is deprecated, use read_sql\n",
      "  warnings.warn(\"read_frame is deprecated, use read_sql\", FutureWarning)\n"
     ]
    }
   ],
   "source": [
    "max_bid = sql.read_frame(\"select max(building_id) FROM building where building_id<100000000;\",conn)  #should this be lowered?\n",
    "max_bid = max_bid.values[0][0]\n",
    "new_buildings.building_id = np.arange(max_bid+1, max_bid+1+len(new_buildings))"
   ]
  },
  {
   "cell_type": "code",
   "execution_count": 31,
   "metadata": {
    "collapsed": false
   },
   "outputs": [],
   "source": [
    "def exec_sql_uc(query):\n",
    "    cur.execute(query)\n",
    "    conn.commit()\n",
    "\n",
    "if 'projects_num' not in sim._INJECTABLES.keys(): \n",
    "    nextval = sql.read_frame(\"SELECT MAX(ID)+1 FROM SCENARIO WHERE ID < 100000;\",conn)\n",
    "    nextval = nextval.values[0][0]\n",
    "    sim.add_injectable('projects_num', nextval)\n",
    "    \n",
    "    id = sql.read_frame(\"select max(id)+1 from scenario_project;\",conn)\n",
    "    id = id.values[0][0]\n",
    "    \n",
    "    exec_sql_uc(\"INSERT INTO scenario(id, name) VALUES(%s, 'Run #%s');\" % (nextval,nextval))\n",
    "    \n",
    "    exec_sql_uc(\"INSERT INTO scenario_project(id, scenario, project) VALUES(%s, %s, 1);\" % (id,nextval))\n",
    "                \n",
    "    id = sql.read_frame(\"select max(id)+1 from scenario_project;\",conn)\n",
    "    id = id.values[0][0]\n",
    "    \n",
    "    exec_sql_uc(\"INSERT INTO scenario_project(id, scenario, project) VALUES(%s, %s, %s);\" % (id,nextval,nextval))\n",
    "    \n",
    "    \n",
    "else:\n",
    "    nextval = sim.get_injectable('projects_num')"
   ]
  },
  {
   "cell_type": "code",
   "execution_count": 44,
   "metadata": {
    "collapsed": false
   },
   "outputs": [],
   "source": [
    "new_buildings.parcel_id = new_buildings.parcel_id.astype('int32')\n",
    "new_buildings.residential_units = new_buildings.residential_units.astype('int32')\n",
    "new_buildings.non_residential_sqft = new_buildings.non_residential_sqft.astype('int32')\n",
    "new_buildings.stories = new_buildings.stories.astype('int32')\n",
    "new_buildings.residential_sqft = new_buildings.residential_sqft.astype('int32')\n",
    "new_buildings.building_sqft = new_buildings.building_sqft.fillna(0).astype('int32')\n",
    "new_buildings.sqft_per_unit = new_buildings.sqft_per_unit.fillna(0).astype('int32')"
   ]
  },
  {
   "cell_type": "code",
   "execution_count": 45,
   "metadata": {
    "collapsed": true
   },
   "outputs": [],
   "source": [
    "conn_string = \"host='urbancanvas.cp2xwchuariu.us-west-2.rds.amazonaws.com' dbname='sandag_testing' user='sandag' password='parcel22building' port=5432\"\n",
    "conn=psycopg2.connect(conn_string)\n",
    "cur = conn.cursor()"
   ]
  },
  {
   "cell_type": "code",
   "execution_count": 46,
   "metadata": {
    "collapsed": false
   },
   "outputs": [
    {
     "data": {
      "text/plain": [
       "building_id              int64\n",
       "parcel_id                int32\n",
       "building_type_id         int64\n",
       "improvement_value        int64\n",
       "residential_units        int32\n",
       "non_residential_sqft     int32\n",
       "stories                  int32\n",
       "year_built               int64\n",
       "residential_sqft         int32\n",
       "note                    object\n",
       "building_sqft            int32\n",
       "sqft_per_unit            int32\n",
       "projects                object\n",
       "valid_from              object\n",
       "dtype: object"
      ]
     },
     "execution_count": 46,
     "metadata": {},
     "output_type": "execute_result"
    }
   ],
   "source": [
    "new_buildings.dtypes"
   ]
  },
  {
   "cell_type": "code",
   "execution_count": 47,
   "metadata": {
    "collapsed": false
   },
   "outputs": [
    {
     "name": "stdout",
     "output_type": "stream",
     "text": [
      "Exporting 7809 buildings to Urbancanvas database for project {{{{11}}}} and year 2013.\n"
     ]
    }
   ],
   "source": [
    "nextval = '{' + str(nextval) + '}'\n",
    "new_buildings['projects'] = nextval\n",
    "\n",
    "valid_from = '{' + str(year) + '-1-1}'\n",
    "new_buildings['valid_from'] = valid_from\n",
    "print 'Exporting %s buildings to Urbancanvas database for project %s and year %s.' % (len(new_buildings),nextval,year)\n",
    "output = cStringIO.StringIO()\n",
    "new_buildings.to_csv(output, sep='\\t', header=False, index=False)\n",
    "output.seek(0)\n",
    "cur.copy_from(output, 'building', columns =tuple(new_buildings.columns.values.tolist()))\n",
    "conn.commit()"
   ]
  }
 ],
 "metadata": {
  "kernelspec": {
   "display_name": "Python 2",
   "language": "python",
   "name": "python2"
  },
  "language_info": {
   "codemirror_mode": {
    "name": "ipython",
    "version": 2
   },
   "file_extension": ".py",
   "mimetype": "text/x-python",
   "name": "python",
   "nbconvert_exporter": "python",
   "pygments_lexer": "ipython2",
   "version": "2.7.9"
  }
 },
 "nbformat": 4,
 "nbformat_minor": 0
}
