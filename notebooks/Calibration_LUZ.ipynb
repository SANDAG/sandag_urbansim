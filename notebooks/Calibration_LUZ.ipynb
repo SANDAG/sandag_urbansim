{
 "cells": [
  {
   "cell_type": "code",
   "execution_count": 1,
   "metadata": {
    "collapsed": false
   },
   "outputs": [],
   "source": [
    "import datetime\n",
    "import time\n",
    "import subprocess\n",
    "import sys\n",
    "import pandas as pd, numpy as np\n",
    "import os; os.chdir('..')"
   ]
  },
  {
   "cell_type": "code",
   "execution_count": 2,
   "metadata": {
    "collapsed": false
   },
   "outputs": [],
   "source": [
    "threshold = .015\n",
    "step_size = .02\n",
    "iterations = 50\n",
    "\n",
    "#LUZ 69, 70, 72\n",
    "target_luz = pd.read_csv('.\\\\data\\\\calibration\\\\target_luz.csv').values.flatten()\n",
    "du_target = 0.01  #Proportion of DU growth over the calibration period captured by these LUZs"
   ]
  },
  {
   "cell_type": "code",
   "execution_count": 3,
   "metadata": {
    "collapsed": false,
    "scrolled": true
   },
   "outputs": [
    {
     "name": "stdout",
     "output_type": "stream",
     "text": [
      "ITERATION 1\n",
      "Starting iteration at: 2015-05-28 11:33:36.821000\n",
      "    Target proportion is 0.01\n",
      "    Simulated proportion is 0.032234058387\n",
      "        Action: shift down\n",
      "        New shift value 0.78\n",
      "Iteration elapsed time: 0:03:09.346000\n",
      "ITERATION 2\n",
      "Starting iteration at: 2015-05-28 11:36:47.168000\n",
      "    Target proportion is 0.01\n",
      "    Simulated proportion is 0.0227596319357\n",
      "        No action.  Done.\n"
     ]
    }
   ],
   "source": [
    "for i in range(iterations):\n",
    "    print 'ITERATION %s' % (i + 1)\n",
    "    start_time = datetime.datetime.now()\n",
    "    print 'Starting iteration at: %s' % start_time\n",
    "    \n",
    "    # Simulation run\n",
    "    subprocess.check_call([sys.executable, 'c://sandag//sandag_urbansim//calib_luz_simulation.py'])\n",
    "    \n",
    "    # Read LUZ result\n",
    "    time.sleep(1)\n",
    "    proportion_du = pd.read_csv('.\\\\data\\\\calibration\\\\luz_du_simulated.csv').values[0][0]\n",
    "    \n",
    "    # Get existing shifter\n",
    "    shift = pd.read_csv('.\\\\data\\\\calibration\\\\luz_du_shifter.csv').values[0][0]\n",
    "    \n",
    "    target = du_target\n",
    "    simulated = proportion_du\n",
    "    print '    Target proportion is %s' % target\n",
    "    print '    Simulated proportion is %s' % simulated\n",
    "            \n",
    "    difference = target - simulated\n",
    "\n",
    "    if abs(difference) > threshold:\n",
    "        if difference > 0:\n",
    "            print '        Action: shift up'\n",
    "            new_shift = shift + step_size\n",
    "        else:\n",
    "            print '        Action: shift down'\n",
    "            new_shift = shift - step_size\n",
    "        print '        New shift value %s' % new_shift\n",
    "    else:\n",
    "        print '        No action.  Done.'\n",
    "        break\n",
    "    \n",
    "    # Write new shifter value out\n",
    "    pd.DataFrame([new_shift]).to_csv('.\\\\data\\\\calibration\\\\luz_du_shifter.csv', index = False)\n",
    "    \n",
    "    end_time = datetime.datetime.now()\n",
    "    print 'Iteration elapsed time: %s' % (end_time - start_time)\n",
    "    time.sleep(1)"
   ]
  }
 ],
 "metadata": {
  "kernelspec": {
   "display_name": "Python 2",
   "language": "python",
   "name": "python2"
  },
  "language_info": {
   "codemirror_mode": {
    "name": "ipython",
    "version": 2
   },
   "file_extension": ".py",
   "mimetype": "text/x-python",
   "name": "python",
   "nbconvert_exporter": "python",
   "pygments_lexer": "ipython2",
   "version": "2.7.9"
  }
 },
 "nbformat": 4,
 "nbformat_minor": 0
}
