{
 "cells": [
  {
   "cell_type": "code",
   "execution_count": 11,
   "metadata": {
    "collapsed": true
   },
   "outputs": [],
   "source": [
    "import numpy as np\n",
    "import pandas as pd\n",
    "import cStringIO\n",
    "import psycopg2\n",
    "import pandas.io.sql as sql\n",
    "from spandex import TableLoader\n",
    "loader = TableLoader()"
   ]
  },
  {
   "cell_type": "code",
   "execution_count": 2,
   "metadata": {
    "collapsed": true
   },
   "outputs": [],
   "source": [
    "conn_string = \"host='urbancanvas.cp2xwchuariu.us-west-2.rds.amazonaws.com' dbname='sandag_testing' user='sandag' password='parcel22building' port=5432\"\n",
    "conn=psycopg2.connect(conn_string)\n",
    "cur = conn.cursor()\n",
    "\n",
    "def uc_db_to_df(query):\n",
    "    return sql.read_frame(query, conn)"
   ]
  },
  {
   "cell_type": "code",
   "execution_count": 8,
   "metadata": {
    "collapsed": false
   },
   "outputs": [],
   "source": [
    "parcels = uc_db_to_df(\"select parcel_id, zoning_id, devtype_id as development_type_id from parcel \"\n",
    "                      \"where projects = '{1}' and valid_from = '{-infinity}';\").set_index('parcel_id')\n",
    "buildings = uc_db_to_df(\"SELECT building_id, parcel_id, building_type_id as development_type_id, improvement_value, \"\n",
    "                        \"residential_units, non_residential_sqft, stories, year_built, residential_sqft, \"\n",
    "                        \"note FROM building where projects = '{1}' and valid_from = '{-infinity}';\").set_index('building_id')"
   ]
  },
  {
   "cell_type": "code",
   "execution_count": 26,
   "metadata": {
    "collapsed": false
   },
   "outputs": [],
   "source": [
    "# Put tables in HDF5\n",
    "h5_path = loader.get_path('out/sandag.h5')\n",
    "store = pd.HDFStore(h5_path)\n",
    "\n",
    "del store['buildings']\n",
    "store['buildings'] = buildings\n",
    "\n",
    "p_prev = store.parcels.copy()\n",
    "p_prev['zoning_id'] = parcels.zoning_id\n",
    "p_prev['development_type_id'] = parcels.development_type_id\n",
    "del store['parcels']\n",
    "store['parcels'] = p_prev\n",
    "\n",
    "store.close()"
   ]
  }
 ],
 "metadata": {
  "kernelspec": {
   "display_name": "Python 2",
   "language": "python",
   "name": "python2"
  },
  "language_info": {
   "codemirror_mode": {
    "name": "ipython",
    "version": 2
   },
   "file_extension": ".py",
   "mimetype": "text/x-python",
   "name": "python",
   "nbconvert_exporter": "python",
   "pygments_lexer": "ipython2",
   "version": "2.7.9"
  }
 },
 "nbformat": 4,
 "nbformat_minor": 0
}
