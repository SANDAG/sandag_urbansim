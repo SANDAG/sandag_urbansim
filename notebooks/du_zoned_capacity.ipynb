{
 "metadata": {
  "name": "",
  "signature": "sha256:22f7a3601df3f9a288852986a9aa9f73481a67aedcb0e470128475fccb8743bf"
 },
 "nbformat": 3,
 "nbformat_minor": 0,
 "worksheets": [
  {
   "cells": [
    {
     "cell_type": "code",
     "collapsed": false,
     "input": [
      "%load_ext autoreload\n",
      "%autoreload 2\n",
      "import pandas as pd, numpy as np\n",
      "if 'sim' not in globals():\n",
      "    import os; os.chdir('..')\n",
      "import models\n",
      "import urbansim.sim.simulation as sim\n",
      "from spandex import TableLoader\n",
      "\n",
      "loader = TableLoader()"
     ],
     "language": "python",
     "metadata": {},
     "outputs": []
    },
    {
     "cell_type": "code",
     "collapsed": false,
     "input": [
      "sim.run([\"build_networks\", \"neighborhood_vars\", \"rsh_simulate\", \"nrh_simulate\", \"nrh_simulate2\", \n",
      "         \"price_vars\", \"feasibility\",])"
     ],
     "language": "python",
     "metadata": {},
     "outputs": []
    },
    {
     "cell_type": "code",
     "collapsed": false,
     "input": [
      "p = sim.get_table('parcels').to_frame()\n",
      "allowed = sim.get_injectable('parcel_is_allowed_func')\n",
      "p['max_far_from_dua'] = p.max_dua * \\\n",
      "    (p.parcel_size / 43560) * \\\n",
      "    p.ave_unit_size / .7 / \\\n",
      "    p.parcel_size\n",
      "p['min_max_fars'] = p[['max_far', 'max_far_from_dua']].min(axis=1)\n",
      "p['building_bulk'] = p.min_max_fars * p.parcel_size\n",
      "p['allowed_du'] = (p.building_bulk / p.ave_unit_size).fillna(0)\n",
      "\n",
      "allows_residential = allowed('sf_detached') | allowed('sf_attached') | allowed('mf_residential')\n",
      "allowed_parcels = p[allows_residential]\n",
      "allowed_du = allowed_parcels.groupby('luz_id').allowed_du.sum()\n",
      "allowed_sfd =  p[allowed('sf_detached')].groupby('luz_id').allowed_du.sum()\n",
      "allowed_sfa =  p[allowed('sf_attached')].groupby('luz_id').allowed_du.sum()\n",
      "allowed_mfr =  p[allowed('mf_residential')].groupby('luz_id').allowed_du.sum()\n",
      "existing_du = p.groupby('luz_id').total_residential_units.sum()\n",
      "existing_sfd_du = p.groupby('luz_id').total_sfd_du.sum()\n",
      "existing_sfa_du = p.groupby('luz_id').total_sfa_du.sum()\n",
      "existing_mfr_du = p.groupby('luz_id').total_mfr_du.sum()\n",
      "\n",
      "df = pd.DataFrame({'existing_du':np.round(existing_du),\n",
      "                   'allowed_du':np.round(allowed_du),\n",
      "                   'allowed_sfd':np.round(allowed_sfd),\n",
      "                   'allowed_sfa':np.round(allowed_sfa),\n",
      "                   'allowed_mfr':np.round(allowed_mfr),\n",
      "                   'existing_sfd':existing_sfd_du,\n",
      "                   'existing_sfa':existing_sfa_du,\n",
      "                   'existing_mfr':existing_mfr_du}).fillna(0)\n",
      "df['remaining_capacity'] = df.allowed_du - df.existing_du"
     ],
     "language": "python",
     "metadata": {},
     "outputs": []
    },
    {
     "cell_type": "code",
     "collapsed": false,
     "input": [
      "df.describe()\n",
      "#Zoning is a major driver...\n",
      "#Lots of negative capacities\n",
      "#Confirm the dua vs far relationship"
     ],
     "language": "python",
     "metadata": {},
     "outputs": []
    },
    {
     "cell_type": "code",
     "collapsed": false,
     "input": [
      "df[df.remaining_capacity > 20000]"
     ],
     "language": "python",
     "metadata": {},
     "outputs": []
    },
    {
     "cell_type": "code",
     "collapsed": false,
     "input": [
      "df.tail()"
     ],
     "language": "python",
     "metadata": {},
     "outputs": []
    }
   ],
   "metadata": {}
  }
 ]
}